{
 "cells": [
  {
   "cell_type": "code",
   "execution_count": 4,
   "metadata": {},
   "outputs": [],
   "source": [
    "import pandas as pd\n",
    "import numpy as np\n",
    "from bs4 import BeautifulSoup as soup\n",
    "import requests\n",
    "\n",
    "# get the urls we need (1 per season)\n",
    "base_url = \"https://www.11v11.com\"\n",
    "main_url = base_url + \"/competitions/premier-league/\"\n",
    "urls = [main_url + str(i+1993) + \"/matches/\" for i in range(26)]\n",
    "\n",
    "# get the page html\n",
    "response = requests.get(urls[0], headers={'User-Agent': 'Custom'})\n",
    "page = soup(response.content, \"html.parser\")"
   ]
  },
  {
   "cell_type": "code",
   "execution_count": 9,
   "metadata": {},
   "outputs": [
    {
     "name": "stdout",
     "output_type": "stream",
     "text": [
      "462\n"
     ]
    }
   ],
   "source": [
    "scores = page.findAll('td',{'class':'score'})\n",
    "print(len(scores)) #462, therefore total page requests around 462 matches per season * 25 seasons ~= 11500"
   ]
  },
  {
   "cell_type": "code",
   "execution_count": 34,
   "metadata": {},
   "outputs": [],
   "source": [
    "month_matches = page.findAll('tbody',{'class':'alternate'})"
   ]
  },
  {
   "cell_type": "code",
   "execution_count": 47,
   "metadata": {},
   "outputs": [],
   "source": [
    "def select_data_and_correct_link(game_block,i,total_tally):\n",
    "    data = game_block.findAll('td')\n",
    "    date = data[0].text\n",
    "    teamA = data[1].text\n",
    "    links = data[2].findAll('a')\n",
    "    link = links[total_tally + i]['href']\n",
    "    score = data[2].text\n",
    "    teamB = data[3].text\n",
    "    return (date, teamA, teamB, score, link)"
   ]
  },
  {
   "cell_type": "code",
   "execution_count": 48,
   "metadata": {},
   "outputs": [],
   "source": [
    "def get_month_data(game_blocks,total_tally):\n",
    "    all_data = []\n",
    "    for i in range(len(game_blocks)):\n",
    "        game_block = game_blocks[i]\n",
    "        next_data = select_data_and_correct_link(game_block,i,total_tally)\n",
    "        all_data.append(next_data)\n",
    "    return all_data"
   ]
  },
  {
   "cell_type": "code",
   "execution_count": 49,
   "metadata": {},
   "outputs": [],
   "source": [
    "def get_year_data(games_by_month):\n",
    "    all_data = []\n",
    "    total_tally = 0\n",
    "    for i in range(len(games_by_month)):\n",
    "        month_blocks = games_by_month[i].findAll('tr')\n",
    "        month_data = get_month_data(month_blocks,total_tally)\n",
    "        all_data.extend(month_data)\n",
    "        total_tally += len(month_blocks)\n",
    "    return all_data"
   ]
  },
  {
   "cell_type": "code",
   "execution_count": 50,
   "metadata": {},
   "outputs": [
    {
     "name": "stdout",
     "output_type": "stream",
     "text": [
      "('25 Aug 1992', 'Leeds United', 'Tottenham Hotspur', '5:0', '/matches/leeds-united-v-tottenham-hotspur-25-august-1992-20824/')\n"
     ]
    }
   ],
   "source": [
    "all_data = get_year_data(month_matches)\n",
    "print(all_data[37])"
   ]
  },
  {
   "cell_type": "code",
   "execution_count": 51,
   "metadata": {},
   "outputs": [
    {
     "name": "stdout",
     "output_type": "stream",
     "text": [
      "('11 May 1993', 'Queens Park Rangers', 'Sheffield Wednesday', '3:1', '/matches/queens-park-rangers-v-sheffield-wednesday-11-may-1993-21248/')\n"
     ]
    }
   ],
   "source": [
    "print(all_data[-1])"
   ]
  },
  {
   "cell_type": "code",
   "execution_count": 53,
   "metadata": {},
   "outputs": [],
   "source": [
    "def get_all_years_data(urls):\n",
    "    all_years_data = []\n",
    "    for i in range(len(urls)):\n",
    "        print(\"Beginning year {}\".format(i + 1993))\n",
    "        url = urls[i]\n",
    "        response = requests.get(url, headers={'User-Agent': 'Custom'})\n",
    "        page = soup(response.content, \"html.parser\")\n",
    "        all_matches_by_month = page.findAll('tbody',{'class':'alternate'})\n",
    "        all_data = get_year_data(all_matches_by_month)\n",
    "        all_years_data.extend(all_data)\n",
    "        print(\"Ending year {}\".format(i + 1993))\n",
    "    return all_years_data"
   ]
  },
  {
   "cell_type": "code",
   "execution_count": 54,
   "metadata": {},
   "outputs": [
    {
     "name": "stdout",
     "output_type": "stream",
     "text": [
      "Beginning year 1993\n",
      "Ending year 1993\n",
      "Beginning year 1994\n",
      "Ending year 1994\n",
      "Beginning year 1995\n",
      "Ending year 1995\n",
      "Beginning year 1996\n",
      "Ending year 1996\n",
      "Beginning year 1997\n",
      "Ending year 1997\n",
      "Beginning year 1998\n",
      "Ending year 1998\n",
      "Beginning year 1999\n",
      "Ending year 1999\n",
      "Beginning year 2000\n",
      "Ending year 2000\n",
      "Beginning year 2001\n",
      "Ending year 2001\n",
      "Beginning year 2002\n",
      "Ending year 2002\n",
      "Beginning year 2003\n",
      "Ending year 2003\n",
      "Beginning year 2004\n",
      "Ending year 2004\n",
      "Beginning year 2005\n",
      "Ending year 2005\n",
      "Beginning year 2006\n",
      "Ending year 2006\n",
      "Beginning year 2007\n",
      "Ending year 2007\n",
      "Beginning year 2008\n",
      "Ending year 2008\n",
      "Beginning year 2009\n",
      "Ending year 2009\n",
      "Beginning year 2010\n",
      "Ending year 2010\n",
      "Beginning year 2011\n",
      "Ending year 2011\n",
      "Beginning year 2012\n",
      "Ending year 2012\n",
      "Beginning year 2013\n",
      "Ending year 2013\n",
      "Beginning year 2014\n",
      "Ending year 2014\n",
      "Beginning year 2015\n",
      "Ending year 2015\n",
      "Beginning year 2016\n",
      "Ending year 2016\n",
      "Beginning year 2017\n",
      "Ending year 2017\n",
      "Beginning year 2018\n",
      "Ending year 2018\n"
     ]
    },
    {
     "data": {
      "text/plain": [
       "10126"
      ]
     },
     "execution_count": 54,
     "metadata": {},
     "output_type": "execute_result"
    }
   ],
   "source": [
    "all_years_data = get_all_years_data(urls)\n",
    "len(all_years_data)"
   ]
  },
  {
   "cell_type": "code",
   "execution_count": 55,
   "metadata": {},
   "outputs": [],
   "source": [
    "df = pd.DataFrame(data=all_years_data,columns=['Date','Home Team','Away Team','Score','Data Link'])"
   ]
  },
  {
   "cell_type": "code",
   "execution_count": 56,
   "metadata": {},
   "outputs": [],
   "source": [
    "df.to_csv(\"all_years_data_links.csv\",index=False)"
   ]
  },
  {
   "cell_type": "code",
   "execution_count": null,
   "metadata": {},
   "outputs": [],
   "source": []
  }
 ],
 "metadata": {
  "kernelspec": {
   "display_name": "Python 3",
   "language": "python",
   "name": "python3"
  },
  "language_info": {
   "codemirror_mode": {
    "name": "ipython",
    "version": 3
   },
   "file_extension": ".py",
   "mimetype": "text/x-python",
   "name": "python",
   "nbconvert_exporter": "python",
   "pygments_lexer": "ipython3",
   "version": "3.6.5"
  }
 },
 "nbformat": 4,
 "nbformat_minor": 2
}
