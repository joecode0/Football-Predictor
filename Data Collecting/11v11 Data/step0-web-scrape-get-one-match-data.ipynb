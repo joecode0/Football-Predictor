{
 "cells": [
  {
   "cell_type": "code",
   "execution_count": 39,
   "metadata": {},
   "outputs": [],
   "source": [
    "import pandas as pd\n",
    "import numpy as np\n",
    "import requests\n",
    "from bs4 import BeautifulSoup as soup"
   ]
  },
  {
   "cell_type": "code",
   "execution_count": 40,
   "metadata": {},
   "outputs": [],
   "source": [
    "import time"
   ]
  },
  {
   "cell_type": "code",
   "execution_count": 41,
   "metadata": {},
   "outputs": [],
   "source": [
    "df_main = pd.read_csv('all_results_data.csv')\n",
    "base_url = \"https://www.11v11.com\""
   ]
  },
  {
   "cell_type": "code",
   "execution_count": 42,
   "metadata": {},
   "outputs": [],
   "source": [
    "example_url = base_url + df_main.iloc[0]['Data Link']\n",
    "response = requests.get(example_url,headers={'User-Agent': 'Custom'})\n",
    "page = soup(response.content, \"html.parser\")"
   ]
  },
  {
   "cell_type": "code",
   "execution_count": 43,
   "metadata": {},
   "outputs": [],
   "source": [
    "def get_basic_data(page):\n",
    "    basicData = page.findAll('div',{'class':'basicData'})\n",
    "    basicDataEntries = basicData[0].findAll('td')\n",
    "    basicDataDict = {'Referee':basicDataEntries[3].text,'Stadium':basicDataEntries[7].text}\n",
    "    return basicDataDict"
   ]
  },
  {
   "cell_type": "code",
   "execution_count": 44,
   "metadata": {},
   "outputs": [
    {
     "data": {
      "text/plain": [
       "{'Referee': 'Alan Gunn', 'Stadium': 'Highbury'}"
      ]
     },
     "execution_count": 44,
     "metadata": {},
     "output_type": "execute_result"
    }
   ],
   "source": [
    "basicDataDict = get_basic_data(page)\n",
    "basicDataDict"
   ]
  },
  {
   "cell_type": "code",
   "execution_count": 45,
   "metadata": {},
   "outputs": [],
   "source": [
    "def get_lineups_data(page):\n",
    "    lineupData = page.findAll('div',{'class':'lineup'})\n",
    "\n",
    "    homeData = lineupData[0].findAll('div',{'class':'home'})\n",
    "    homeLineupBlocks = homeData[0].findAll('div',{'class':'player flagged'})\n",
    "    homePlayers = [x.a['href'].split(\"/\")[2] for x in homeLineupBlocks]\n",
    "\n",
    "    awayData = lineupData[0].findAll('div',{'class':'away'})\n",
    "    awayLineupBlocks = awayData[0].findAll('div',{'class':'player flagged'})\n",
    "    awayPlayers = [x.a['href'].split(\"/\")[2] for x in awayLineupBlocks]\n",
    "    \n",
    "    return {'home':homePlayers,'away':awayPlayers}"
   ]
  },
  {
   "cell_type": "code",
   "execution_count": 46,
   "metadata": {},
   "outputs": [
    {
     "data": {
      "text/plain": [
       "{'home': ['david-seaman-5',\n",
       "  'lee-dixon-14',\n",
       "  'tony-adams-31',\n",
       "  'steve-bould-484',\n",
       "  'nigel-winterburn-20',\n",
       "  'david-hillier-4377',\n",
       "  'john-jensen-7800',\n",
       "  'anders-limpar-37097',\n",
       "  'paul-merson-57',\n",
       "  'kevin-campbell-196',\n",
       "  'alan-smith-25601'],\n",
       " 'away': ['bryan-gunn-38002',\n",
       "  'ian-culverhouse-24730',\n",
       "  'ian-butterworth-26985',\n",
       "  'john-polston-4690',\n",
       "  'rob-newman-8253',\n",
       "  'chris-sutton-98',\n",
       "  'david-phillips-38680',\n",
       "  'mark-bowen-846',\n",
       "  'ruel-fox-511',\n",
       "  'jeremy-goss-27123',\n",
       "  'gary-megson-32983']}"
      ]
     },
     "execution_count": 46,
     "metadata": {},
     "output_type": "execute_result"
    }
   ],
   "source": [
    "lineupsDict = get_lineups_data(page)\n",
    "lineupsDict"
   ]
  },
  {
   "cell_type": "code",
   "execution_count": 64,
   "metadata": {},
   "outputs": [],
   "source": [
    "def get_subs_data(page):\n",
    "    subBlock = page.findAll('div',{'class':'substitutions'})\n",
    "    if len(subBlock) == 0:\n",
    "        return {'home':[],'away':[]}\n",
    "    homeSubsBlock = subBlock[0].findAll('div',{'class':'home'})\n",
    "    homeAllSubBlocks = homeSubsBlock[0].findAll('tr')\n",
    "    all_home_subs = dict()\n",
    "    for i in range(len(homeAllSubBlocks)):\n",
    "        homeSubBlock = homeAllSubBlocks[i]\n",
    "        home_substitution_data = homeSubBlock.findAll('span')\n",
    "        home_substitute = home_substitution_data[0].text.strip()\n",
    "        home_substituted = home_substitution_data[1].text.strip()\n",
    "        time = homeSubBlock.findAll('td',{'class':'time'})[0].text\n",
    "        home_sub = home_substitute + \">\" + home_substituted\n",
    "        all_home_subs[home_sub] = time\n",
    "    \n",
    "    awaySubsBlock = subBlock[0].findAll('div',{'class':'away'})\n",
    "    awayAllSubBlocks = awaySubsBlock[0].findAll('tr')\n",
    "    all_away_subs = dict()\n",
    "    for i in range(len(awayAllSubBlocks)):\n",
    "        awaySubBlock = awayAllSubBlocks[i]\n",
    "        away_substitution_data = awaySubBlock.findAll('span')\n",
    "        away_substitute = away_substitution_data[0].text.strip()\n",
    "        away_substituted = away_substitution_data[1].text.strip()\n",
    "        time = awaySubBlock.findAll('td',{'class':'time'})[0].text\n",
    "        away_sub = away_substitute + \">\" + away_substituted\n",
    "        all_away_subs[away_sub] = time\n",
    "    \n",
    "    all_subs_dict = {'home':all_home_subs,'away':all_away_subs}  \n",
    "\n",
    "    return all_subs_dict"
   ]
  },
  {
   "cell_type": "code",
   "execution_count": 48,
   "metadata": {},
   "outputs": [
    {
     "data": {
      "text/plain": [
       "{'home': {'Ian Wright>Paul Merson': '73'},\n",
       " 'away': {'Mark Robins>Chris Sutton': '58', 'Ian Crook>Gary Megson': '87'}}"
      ]
     },
     "execution_count": 48,
     "metadata": {},
     "output_type": "execute_result"
    }
   ],
   "source": [
    "all_subs_dict = get_subs_data(page)\n",
    "all_subs_dict"
   ]
  },
  {
   "cell_type": "code",
   "execution_count": 2,
   "metadata": {},
   "outputs": [],
   "source": [
    "def get_all_goal_scorers(page):\n",
    "    goalsBlocks = page.findAll('div',{'class':'goals'})\n",
    "    if len(goalsBlocks) == 0:\n",
    "        return {'home':[],'away':[]}\n",
    "    goalsBlock = goalsBlocks[0]\n",
    "    print(goalsBlock)\n",
    "    homeGoalsBlock = goalsBlock.findAll('div',{'class':'home'})[0]\n",
    "    print(homeGoalsBlock)\n",
    "    all_home_goal_blocks = homeGoalsBlock.findAll('tr')\n",
    "    print(all_home_goal_blocks)\n",
    "    all_home_goalscorers = []\n",
    "    for i in range(len(all_home_goal_blocks)):\n",
    "        home_goal_block = all_home_goal_blocks[i]\n",
    "        home_goalscorer = home_goal_block.findAll('td')[0].text\n",
    "        formatted_name = home_goalscorer.lower().replace(\" \",\"-\")\n",
    "        all_home_goalscorers.append(formatted_name)\n",
    "\n",
    "    awayGoalsBlock = goalsBlock.findAll('div',{'class':'away'})[0]\n",
    "    all_away_goal_blocks = awayGoalsBlock.findAll('tr')\n",
    "    all_away_goalscorers = []\n",
    "    for i in range(len(all_away_goal_blocks)):\n",
    "        away_goal_block = all_away_goal_blocks[i]\n",
    "        away_goalscorer = away_goal_block.findAll('td')[0].text\n",
    "        formatted_name = away_goalscorer.lower().replace(\" \",\"-\")\n",
    "        all_away_goalscorers.append(formatted_name)\n",
    "        \n",
    "    all_goalscorers = {'home':all_home_goalscorers,'away':all_away_goalscorers}\n",
    "    return all_goalscorers"
   ]
  },
  {
   "cell_type": "code",
   "execution_count": 50,
   "metadata": {},
   "outputs": [
    {
     "data": {
      "text/plain": [
       "{'home': ['steve-bould', 'kevin-campbell'],\n",
       " 'away': ['mark-robins', 'david-phillips', 'ruel-fox', 'mark-robins']}"
      ]
     },
     "execution_count": 50,
     "metadata": {},
     "output_type": "execute_result"
    }
   ],
   "source": [
    "all_goalscorers = get_all_goal_scorers(page)\n",
    "all_goalscorers"
   ]
  },
  {
   "cell_type": "code",
   "execution_count": 51,
   "metadata": {},
   "outputs": [],
   "source": [
    "# so now can get lineups, subs, goalscorers, referee and stadium\n",
    "# basicDataDict # referee and stadium\n",
    "# lineupsDict # lineups\n",
    "# all_subs_dict # subs\n",
    "# all_goalscorers # goalscorers"
   ]
  },
  {
   "cell_type": "code",
   "execution_count": 65,
   "metadata": {},
   "outputs": [],
   "source": [
    "def get_subs_on_data(page):\n",
    "    subsBroughtOnDataBlocks = page.findAll('div',{'class':'lineup'})\n",
    "    if len(subsBroughtOnDataBlocks) < 2:\n",
    "        return {'home':[],'away':[]}\n",
    "    subsBroughtOnData = subsBroughtOnDataBlocks[1]\n",
    "    homeSubsOnBlocks = subsBroughtOnData.findAll('div',{'class':'home'})[0].findAll('div',{'class':'player flagged'})\n",
    "    homeSubsOn = [x.a['href'].split(\"/\")[2] for x in homeSubsOnBlocks]\n",
    "\n",
    "    awaySubsOnBlocks = subsBroughtOnData.findAll('div',{'class':'away'})[0].findAll('div',{'class':'player flagged'})\n",
    "    awaySubsOn = [x.a['href'].split(\"/\")[2] for x in awaySubsOnBlocks]\n",
    "\n",
    "    subsOnDict = {'home':homeSubsOn,'away':awaySubsOn}\n",
    "\n",
    "    return subsOnDict"
   ]
  },
  {
   "cell_type": "code",
   "execution_count": 66,
   "metadata": {},
   "outputs": [],
   "source": [
    "def compute_minutes_played_dict(teamLineup,teamSubs,subsOnLinks):\n",
    "    mins_played_dict = dict()\n",
    "    for player in teamLineup:\n",
    "        mins_played_dict[player] = str(90)\n",
    "    if len(teamSubs) == 0:\n",
    "        return mins_played_dict\n",
    "    for sub in teamSubs.keys():\n",
    "        [sub_on,sub_off] = sub.split(\">\")\n",
    "        time = teamSubs[sub]\n",
    "        if time == \"\":\n",
    "            print(\"{} -> {} has no time\".format(sub_on,sub_off))\n",
    "            time = 75\n",
    "        \n",
    "        formatted_name_on = sub_on.lower().replace(\" \",\"-\")\n",
    "        formatted_name_off = sub_off.lower().replace(\" \",\"-\")\n",
    "        \n",
    "        for player in teamLineup:\n",
    "            if formatted_name_off in player:\n",
    "                mins_played_dict[player] = time\n",
    "                break\n",
    "        \n",
    "        for subOn in subsOnLinks:\n",
    "            if formatted_name_on in subOn:\n",
    "                mins_played_dict[subOn] = str(90-int(time))\n",
    "                \n",
    "    return mins_played_dict"
   ]
  },
  {
   "cell_type": "code",
   "execution_count": 54,
   "metadata": {},
   "outputs": [],
   "source": [
    "def get_all_minutes_played_data(page):\n",
    "    lineupData = get_lineups_data(page)\n",
    "    allSubsData = get_subs_data(page)\n",
    "    subsOnData = get_subs_on_data(page)\n",
    "    home_mins_played = compute_minutes_played_dict(lineupData['home'],allSubsData['home'],subsOnData['home'])\n",
    "    away_mins_played = compute_minutes_played_dict(lineupData['away'],allSubsData['away'],subsOnData['away'])\n",
    "    all_minutes_played_data = {'home':home_mins_played,'away':away_mins_played}\n",
    "    return all_minutes_played_data"
   ]
  },
  {
   "cell_type": "code",
   "execution_count": 55,
   "metadata": {},
   "outputs": [],
   "source": [
    "t0 = time.time()\n",
    "all_minutes_played_data = get_all_minutes_played_data(page)\n",
    "t1 = time.time()\n",
    "#print(all_minutes_played_data)\n",
    "#print(t1-t0)"
   ]
  },
  {
   "cell_type": "code",
   "execution_count": 56,
   "metadata": {},
   "outputs": [],
   "source": [
    "# get_all_minutes_played_data(page) gives us both full teams, each player with number of minutes played\n",
    "# get_basic_data(page) gives us the referee and stadium\n",
    "# get_all_goal_scorers(page) gives us all the goalscorers\n",
    "# so we need to put this into ['Data Link','Referee','Stadium','HomeLineup','AwayLineup','HomeScorers','AwayScorers']\n",
    "# still also need to reformat goalscorers"
   ]
  },
  {
   "cell_type": "code",
   "execution_count": 57,
   "metadata": {},
   "outputs": [],
   "source": [
    "def reformat_goalscorers(goalscorers,all_minutes_played_data):\n",
    "    home_goalscorers = goalscorers['home']\n",
    "    home_players = all_minutes_played_data['home']\n",
    "    formatted_home_goalscorers = []\n",
    "    for scorer in home_goalscorers:\n",
    "        for player in home_players:\n",
    "            if scorer in player:\n",
    "                formatted_home_goalscorers.append(player)\n",
    "                \n",
    "    away_goalscorers = goalscorers['away']\n",
    "    away_players = all_minutes_played_data['away']\n",
    "    formatted_away_goalscorers = []\n",
    "    for scorer in away_goalscorers:\n",
    "        for player in away_players:\n",
    "            if scorer in player:\n",
    "                formatted_away_goalscorers.append(player)\n",
    "                \n",
    "    formatted_goalscorers = {'home':formatted_home_goalscorers,'away':formatted_away_goalscorers}\n",
    "    return formatted_goalscorers"
   ]
  },
  {
   "cell_type": "code",
   "execution_count": 58,
   "metadata": {},
   "outputs": [],
   "source": [
    "def get_goalscorers_data(page,allMinutesPlayedData):\n",
    "    all_goalscorers = get_all_goal_scorers(page)\n",
    "    goalscorersData = reformat_goalscorers(all_goalscorers,allMinutesPlayedData)\n",
    "    return goalscorersData"
   ]
  },
  {
   "cell_type": "code",
   "execution_count": 1,
   "metadata": {},
   "outputs": [],
   "source": [
    "def get_all_match_data(data_link):\n",
    "    response = requests.get(data_link,headers={'User-Agent': 'Custom'})\n",
    "    page = soup(response.content, \"html.parser\")\n",
    "    basicData = get_basic_data(page)\n",
    "    allMinutesPlayedData = get_all_minutes_played_data(page)\n",
    "    goalscorersData = get_goalscorers_data(page,allMinutesPlayedData)\n",
    "    print(goalscorersData)\n",
    "    print(allMinutesPlayedData)\n",
    "    data_url = data_link.split(\"com\")[1]\n",
    "    match_data = [data_url,basicData['Referee'],basicData['Stadium'],allMinutesPlayedData['home']]\n",
    "    match_data += [allMinutesPlayedData['away'],goalscorersData['home'],goalscorersData['away']]\n",
    "    return match_data"
   ]
  },
  {
   "cell_type": "code",
   "execution_count": 60,
   "metadata": {},
   "outputs": [
    {
     "data": {
      "text/plain": [
       "['/matches/arsenal-v-norwich-city-15-august-1992-20787/',\n",
       " 'Alan Gunn',\n",
       " 'Highbury',\n",
       " {'david-seaman-5': '90',\n",
       "  'lee-dixon-14': '90',\n",
       "  'tony-adams-31': '90',\n",
       "  'steve-bould-484': '90',\n",
       "  'nigel-winterburn-20': '90',\n",
       "  'david-hillier-4377': '90',\n",
       "  'john-jensen-7800': '90',\n",
       "  'anders-limpar-37097': '90',\n",
       "  'paul-merson-57': '73',\n",
       "  'kevin-campbell-196': '90',\n",
       "  'alan-smith-25601': '90',\n",
       "  'ian-wright-2700': '17'},\n",
       " {'bryan-gunn-38002': '90',\n",
       "  'ian-culverhouse-24730': '90',\n",
       "  'ian-butterworth-26985': '90',\n",
       "  'john-polston-4690': '90',\n",
       "  'rob-newman-8253': '90',\n",
       "  'chris-sutton-98': '58',\n",
       "  'david-phillips-38680': '90',\n",
       "  'mark-bowen-846': '90',\n",
       "  'ruel-fox-511': '90',\n",
       "  'jeremy-goss-27123': '90',\n",
       "  'gary-megson-32983': '87',\n",
       "  'mark-robins-2266': '32',\n",
       "  'ian-crook-35514': '3'},\n",
       " ['steve-bould-484', 'kevin-campbell-196'],\n",
       " ['mark-robins-2266',\n",
       "  'david-phillips-38680',\n",
       "  'ruel-fox-511',\n",
       "  'mark-robins-2266']]"
      ]
     },
     "execution_count": 60,
     "metadata": {},
     "output_type": "execute_result"
    }
   ],
   "source": [
    "t1 = time.time()\n",
    "match_data = get_all_match_data(example_url)\n",
    "t2 = time.time()\n",
    "#print(\"Took {} seconds\".format(t2-t1))\n",
    "match_data"
   ]
  },
  {
   "cell_type": "code",
   "execution_count": 61,
   "metadata": {},
   "outputs": [],
   "source": [
    "def format_all_match_data(all_match_data):\n",
    "    data_dict = dict()\n",
    "    data_dict['Data Link'] = all_match_data[0]\n",
    "    data_dict['Referee'] = all_match_data[1]\n",
    "    data_dict['Stadium'] = all_match_data[2]\n",
    "    homePlayers = all_match_data[3]\n",
    "    homePlayersNew = []\n",
    "    for url_name in homePlayers.keys():\n",
    "        pid = url_name.split(\"-\")[-1]\n",
    "        homePlayersNew.append(str(pid) + \"(\" + str(homePlayers[url_name]) + \")\")\n",
    "    data_dict['HomePlayers'] = homePlayersNew\n",
    "    \n",
    "    awayPlayers = all_match_data[4]\n",
    "    awayPlayersNew = []\n",
    "    for url_name in awayPlayers.keys():\n",
    "        pid = url_name.split(\"-\")[-1]\n",
    "        awayPlayersNew.append(str(pid) + \"(\" + str(awayPlayers[url_name]) + \")\")\n",
    "    data_dict['AwayPlayers'] = awayPlayersNew\n",
    "    \n",
    "    homeScorers = all_match_data[5]\n",
    "    homeScorersNew = []\n",
    "    for url_name in homeScorers:\n",
    "        pid = url_name.split(\"-\")[-1]\n",
    "        homeScorersNew.append(int(pid))\n",
    "    homeScorersNew = sorted(homeScorersNew)\n",
    "    homeScorersNew = [str(x) for x in homeScorersNew]\n",
    "    data_dict['HomeScorers'] = homeScorersNew\n",
    "    \n",
    "    awayScorers = all_match_data[6]\n",
    "    awayScorersNew = []\n",
    "    for url_name in awayScorers:\n",
    "        pid = url_name.split(\"-\")[-1]\n",
    "        awayScorersNew.append(int(pid))\n",
    "    awayScorersNew = sorted(awayScorersNew)\n",
    "    awayScorersNew = [str(x) for x in awayScorersNew]\n",
    "    data_dict['AwayScorers'] = awayScorersNew\n",
    "    \n",
    "    return data_dict"
   ]
  },
  {
   "cell_type": "code",
   "execution_count": 62,
   "metadata": {},
   "outputs": [
    {
     "data": {
      "text/plain": [
       "{'Data Link': '/matches/arsenal-v-norwich-city-15-august-1992-20787/',\n",
       " 'Referee': 'Alan Gunn',\n",
       " 'Stadium': 'Highbury',\n",
       " 'HomePlayers': ['5(90)',\n",
       "  '14(90)',\n",
       "  '31(90)',\n",
       "  '484(90)',\n",
       "  '20(90)',\n",
       "  '4377(90)',\n",
       "  '7800(90)',\n",
       "  '37097(90)',\n",
       "  '57(73)',\n",
       "  '196(90)',\n",
       "  '25601(90)',\n",
       "  '2700(17)'],\n",
       " 'AwayPlayers': ['38002(90)',\n",
       "  '24730(90)',\n",
       "  '26985(90)',\n",
       "  '4690(90)',\n",
       "  '8253(90)',\n",
       "  '98(58)',\n",
       "  '38680(90)',\n",
       "  '846(90)',\n",
       "  '511(90)',\n",
       "  '27123(90)',\n",
       "  '32983(87)',\n",
       "  '2266(32)',\n",
       "  '35514(3)'],\n",
       " 'HomeScorers': ['196', '484'],\n",
       " 'AwayScorers': ['511', '2266', '2266', '38680']}"
      ]
     },
     "execution_count": 62,
     "metadata": {},
     "output_type": "execute_result"
    }
   ],
   "source": [
    "data_dict = format_all_match_data(match_data)\n",
    "data_dict"
   ]
  },
  {
   "cell_type": "code",
   "execution_count": null,
   "metadata": {},
   "outputs": [],
   "source": []
  }
 ],
 "metadata": {
  "kernelspec": {
   "display_name": "Python 3",
   "language": "python",
   "name": "python3"
  },
  "language_info": {
   "codemirror_mode": {
    "name": "ipython",
    "version": 3
   },
   "file_extension": ".py",
   "mimetype": "text/x-python",
   "name": "python",
   "nbconvert_exporter": "python",
   "pygments_lexer": "ipython3",
   "version": "3.6.5"
  }
 },
 "nbformat": 4,
 "nbformat_minor": 2
}
