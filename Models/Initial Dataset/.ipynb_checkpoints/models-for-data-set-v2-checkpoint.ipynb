{
 "cells": [
  {
   "cell_type": "code",
   "execution_count": 1,
   "metadata": {},
   "outputs": [],
   "source": [
    "import pandas as pd\n",
    "import numpy as np"
   ]
  },
  {
   "cell_type": "code",
   "execution_count": 2,
   "metadata": {},
   "outputs": [],
   "source": [
    "df = pd.read_csv(\"initial_dataset_v2.csv\")"
   ]
  },
  {
   "cell_type": "code",
   "execution_count": 3,
   "metadata": {},
   "outputs": [],
   "source": [
    "from sklearn.model_selection import StratifiedShuffleSplit\n",
    "\n",
    "def get_train_test_split(data):\n",
    "    split = StratifiedShuffleSplit(n_splits=1, test_size=0.2, random_state=42)\n",
    "    for train_index, test_index in split.split(data, data[\"target\"]):\n",
    "        data_train = data.loc[train_index]\n",
    "        data_test = data.loc[test_index]\n",
    "    return data_train, data_test"
   ]
  },
  {
   "cell_type": "code",
   "execution_count": 4,
   "metadata": {},
   "outputs": [],
   "source": [
    "train,test = get_train_test_split(df)\n",
    "\n",
    "X_train = train.drop('target',axis=1)\n",
    "y_train = train['target']\n",
    "X_test = test.drop('target',axis=1)\n",
    "y_test = test['target']"
   ]
  },
  {
   "cell_type": "code",
   "execution_count": 5,
   "metadata": {},
   "outputs": [],
   "source": [
    "# from sklearn.linear_model import LogisticRegression\n",
    "\n",
    "# log_reg = LogisticRegression()\n",
    "# log_reg.fit(X_train, y_train)"
   ]
  },
  {
   "cell_type": "code",
   "execution_count": 6,
   "metadata": {},
   "outputs": [],
   "source": [
    "# predictions = log_reg.predict(X_test)"
   ]
  },
  {
   "cell_type": "markdown",
   "metadata": {},
   "source": [
    "# Evaluation of Dataset 3"
   ]
  },
  {
   "cell_type": "code",
   "execution_count": 7,
   "metadata": {},
   "outputs": [],
   "source": [
    "from sklearn.model_selection import cross_val_score\n",
    "from sklearn.model_selection import cross_val_predict\n",
    "from sklearn.metrics import confusion_matrix\n",
    "from sklearn.metrics import precision_score, recall_score, f1_score, accuracy_score\n",
    "from sklearn.metrics import roc_auc_score\n",
    "\n",
    "def print_complete_evaluation_statistics(original, predictions):\n",
    "    \n",
    "    accuracy = accuracy_score(original, predictions)\n",
    "    conf_matrix = confusion_matrix(original, predictions)\n",
    "    precision = precision_score(original, predictions)\n",
    "    recall = recall_score(original, predictions)\n",
    "    f1 = f1_score(original, predictions)\n",
    "    \n",
    "    print(\"Accuracy: {}\\nPrecision: {}\\nRecall: {}\\nF1: {}\".format(accuracy,precision,recall,f1))\n",
    "    print(\"Confusion Matrix:\")\n",
    "    print(\"{}\".format(conf_matrix))\n",
    "    print(\"Format:\")\n",
    "    print(\"True Negatives --- False Positives\")\n",
    "    print(\"False Negatives --- True Positives\")"
   ]
  },
  {
   "cell_type": "code",
   "execution_count": 8,
   "metadata": {},
   "outputs": [],
   "source": [
    "# print_complete_evaluation_statistics(predictions,y_test)"
   ]
  },
  {
   "cell_type": "code",
   "execution_count": 9,
   "metadata": {},
   "outputs": [],
   "source": [
    "import tensorflow as tf\n",
    "import time"
   ]
  },
  {
   "cell_type": "code",
   "execution_count": 10,
   "metadata": {},
   "outputs": [],
   "source": [
    "def get_accuracy(predictions,target):\n",
    "    count_correct = 0\n",
    "    total = len(predictions)\n",
    "    for i in range(len(predictions)):\n",
    "        p = predictions[i]\n",
    "        t = target[i]\n",
    "        if p == t: \n",
    "            count_correct += 1\n",
    "    accuracy = round(count_correct/total,7)*100\n",
    "    return accuracy"
   ]
  },
  {
   "cell_type": "code",
   "execution_count": 21,
   "metadata": {
    "scrolled": true
   },
   "outputs": [
    {
     "name": "stdout",
     "output_type": "stream",
     "text": [
      "Hidden Layer Size: 100\n",
      "Learning Rate: 0.1\n",
      "Total Epochs: 100\n",
      "Accuracy after epoch 0 = 32.8642%\n",
      "Accuracy after epoch 10 = 47.59259%\n",
      "Accuracy after epoch 20 = 48.12346%\n",
      "Accuracy after epoch 30 = 48.35802%\n",
      "Accuracy after epoch 40 = 48.58025%\n",
      "Accuracy after epoch 50 = 46.7284%\n",
      "Accuracy after epoch 60 = 47.740739999999995%\n",
      "Accuracy after epoch 70 = 48.493829999999996%\n",
      "Accuracy after epoch 80 = 48.7284%\n",
      "Accuracy after epoch 90 = 48.91358%\n",
      "Time taken = 0.82768 seconds\n"
     ]
    }
   ],
   "source": [
    "tf.reset_default_graph()\n",
    "\n",
    "x = tf.placeholder(tf.float32, [None, 5], name=\"x\")\n",
    "target = tf.placeholder(tf.int32, [None], name=\"target\")\n",
    "learning_rate = tf.placeholder(tf.float32, name=\"learning_rate\")\n",
    "\n",
    "hidden_layer_size = 100\n",
    "lr = 0.1\n",
    "epochs = 100\n",
    "\n",
    "hidden = tf.layers.dense(x, hidden_layer_size, activation=tf.tanh)\n",
    "output = tf.layers.dense(hidden, 4, activation=None) # changed to 3 because of 3 possible classes\n",
    "\n",
    "probabilities = tf.nn.softmax(output)\n",
    "predictions = tf.argmax(probabilities, axis=1)\n",
    "loss_ = tf.nn.sparse_softmax_cross_entropy_with_logits(logits=output, labels=target)\n",
    "loss = tf.reduce_mean(loss_)\n",
    "\n",
    "optimizer = tf.train.GradientDescentOptimizer(learning_rate=learning_rate)\n",
    "train_op = optimizer.minimize(loss)\n",
    "\n",
    "data_x = X_train\n",
    "data_targets = y_train.tolist()\n",
    "print(\"Hidden Layer Size: {}\".format(hidden_layer_size))\n",
    "print(\"Learning Rate: {}\".format(lr))\n",
    "print(\"Total Epochs: {}\".format(epochs))\n",
    "start_time = time.time()\n",
    "tf.set_random_seed(20)\n",
    "with tf.Session() as sess:\n",
    "    sess.run(tf.global_variables_initializer())\n",
    "    for epoch in range(epochs):\n",
    "        result, _ = sess.run([predictions, train_op], feed_dict={x: data_x, target: data_targets, learning_rate: lr})\n",
    "        if epoch % 10 == 0:\n",
    "            print(\"Accuracy after epoch {} = {}%\".format(epoch,get_accuracy(result,data_targets)))\n",
    "            \n",
    "end_time = time.time()\n",
    "print(\"Time taken = {} seconds\".format(round(end_time-start_time,5)))"
   ]
  },
  {
   "cell_type": "code",
   "execution_count": 13,
   "metadata": {},
   "outputs": [
    {
     "name": "stdout",
     "output_type": "stream",
     "text": [
      "Hidden Layer Size: 100\n",
      "Learning Rate: 0.1\n",
      "Total Epochs: 100\n",
      "Accuracy after epoch 0 = 29.20988%\n",
      "Accuracy after epoch 10 = 47.666669999999996%\n",
      "Accuracy after epoch 20 = 48.19753%\n",
      "Accuracy after epoch 30 = 48.87654%\n",
      "Accuracy after epoch 40 = 48.38272%\n",
      "Accuracy after epoch 50 = 48.95062%\n",
      "Accuracy after epoch 60 = 48.87654%\n",
      "Accuracy after epoch 70 = 48.839510000000004%\n",
      "Accuracy after epoch 80 = 48.77778%\n",
      "Accuracy after epoch 90 = 48.765429999999995%\n",
      "Time taken = 0.86936 seconds\n"
     ]
    }
   ],
   "source": [
    "tf.reset_default_graph()\n",
    "\n",
    "x = tf.placeholder(tf.float32, [None, 5], name=\"x\")\n",
    "target = tf.placeholder(tf.int32, [None], name=\"target\")\n",
    "learning_rate = tf.placeholder(tf.float32, name=\"learning_rate\")\n",
    "\n",
    "hidden_layer_size = 100\n",
    "lr = 0.1\n",
    "epochs = 100\n",
    "\n",
    "hidden = tf.layers.dense(x, hidden_layer_size, activation=tf.tanh)\n",
    "output = tf.layers.dense(hidden, 4, activation=None) # changed to 3 because of 3 possible classes\n",
    "\n",
    "probabilities = tf.nn.softmax(output)\n",
    "predictions = tf.argmax(probabilities, axis=1)\n",
    "loss_ = tf.nn.sparse_softmax_cross_entropy_with_logits(logits=output, labels=target)\n",
    "loss = tf.reduce_mean(loss_)\n",
    "\n",
    "optimizer = tf.train.GradientDescentOptimizer(learning_rate=learning_rate)\n",
    "train_op = optimizer.minimize(loss)\n",
    "\n",
    "data_x = X_train\n",
    "data_targets = y_train.tolist()\n",
    "print(\"Hidden Layer Size: {}\".format(hidden_layer_size))\n",
    "print(\"Learning Rate: {}\".format(lr))\n",
    "print(\"Total Epochs: {}\".format(epochs))\n",
    "start_time = time.time()\n",
    "tf.set_random_seed(20)\n",
    "with tf.Session() as sess:\n",
    "    sess.run(tf.global_variables_initializer())\n",
    "    for epoch in range(epochs):\n",
    "        result, _ = sess.run([predictions, train_op], feed_dict={x: data_x, target: data_targets, learning_rate: lr})\n",
    "        if epoch % 10 == 0:\n",
    "            print(\"Accuracy after epoch {} = {}%\".format(epoch,get_accuracy(result,data_targets)))\n",
    "end_time = time.time()\n",
    "print(\"Time taken = {} seconds\".format(round(end_time-start_time,5)))"
   ]
  },
  {
   "cell_type": "code",
   "execution_count": 14,
   "metadata": {},
   "outputs": [
    {
     "name": "stdout",
     "output_type": "stream",
     "text": [
      "Hidden Layer Size: 200\n",
      "Learning Rate: 0.01\n",
      "Total Epochs: 300\n",
      "Accuracy after epoch 0 = 21.259259999999998%\n",
      "Accuracy after epoch 10 = 43.629630000000006%\n",
      "Accuracy after epoch 20 = 44.51852%\n",
      "Accuracy after epoch 30 = 45.234570000000005%\n",
      "Accuracy after epoch 40 = 46.17284%\n",
      "Accuracy after epoch 50 = 46.2963%\n",
      "Accuracy after epoch 60 = 46.37037%\n",
      "Accuracy after epoch 70 = 46.666669999999996%\n",
      "Accuracy after epoch 80 = 47.061730000000004%\n",
      "Accuracy after epoch 90 = 47.22222%\n",
      "Accuracy after epoch 100 = 47.44444%\n",
      "Accuracy after epoch 110 = 47.45679%\n",
      "Accuracy after epoch 120 = 47.87654%\n",
      "Accuracy after epoch 130 = 48.04938%\n",
      "Accuracy after epoch 140 = 47.92593%\n",
      "Accuracy after epoch 150 = 48.061730000000004%\n",
      "Accuracy after epoch 160 = 48.19753%\n",
      "Accuracy after epoch 170 = 48.25926%\n",
      "Accuracy after epoch 180 = 48.12346%\n",
      "Accuracy after epoch 190 = 48.20988%\n",
      "Accuracy after epoch 200 = 48.14815%\n",
      "Accuracy after epoch 210 = 48.16049%\n",
      "Accuracy after epoch 220 = 48.24691%\n",
      "Accuracy after epoch 230 = 48.23457%\n",
      "Accuracy after epoch 240 = 48.24691%\n",
      "Accuracy after epoch 250 = 48.24691%\n",
      "Accuracy after epoch 260 = 48.2716%\n",
      "Accuracy after epoch 270 = 48.24691%\n",
      "Accuracy after epoch 280 = 48.22222%\n",
      "Accuracy after epoch 290 = 48.23457%\n",
      "Time taken = 4.25442 seconds\n"
     ]
    }
   ],
   "source": [
    "tf.reset_default_graph()\n",
    "\n",
    "x = tf.placeholder(tf.float32, [None, 5], name=\"x\")\n",
    "target = tf.placeholder(tf.int32, [None], name=\"target\")\n",
    "learning_rate = tf.placeholder(tf.float32, name=\"learning_rate\")\n",
    "\n",
    "hidden_layer_size = 200\n",
    "lr = 0.01\n",
    "epochs = 300\n",
    "\n",
    "hidden = tf.layers.dense(x, hidden_layer_size, activation=tf.tanh)\n",
    "output = tf.layers.dense(hidden, 4, activation=None) # changed to 3 because of 2 possible classes\n",
    "\n",
    "probabilities = tf.nn.softmax(output)\n",
    "predictions = tf.argmax(probabilities, axis=1)\n",
    "loss_ = tf.nn.sparse_softmax_cross_entropy_with_logits(logits=output, labels=target)\n",
    "loss = tf.reduce_mean(loss_)\n",
    "\n",
    "optimizer = tf.train.GradientDescentOptimizer(learning_rate=learning_rate)\n",
    "train_op = optimizer.minimize(loss)\n",
    "\n",
    "data_x = X_train\n",
    "data_targets = y_train.tolist()\n",
    "print(\"Hidden Layer Size: {}\".format(hidden_layer_size))\n",
    "print(\"Learning Rate: {}\".format(lr))\n",
    "print(\"Total Epochs: {}\".format(epochs))\n",
    "start_time = time.time()\n",
    "tf.set_random_seed(20)\n",
    "with tf.Session() as sess:\n",
    "    sess.run(tf.global_variables_initializer())\n",
    "    for epoch in range(epochs):\n",
    "        result, _ = sess.run([predictions, train_op], feed_dict={x: data_x, target: data_targets, learning_rate: lr})\n",
    "        if epoch % 10 == 0:\n",
    "            print(\"Accuracy after epoch {} = {}%\".format(epoch,get_accuracy(result,data_targets)))\n",
    "end_time = time.time()\n",
    "print(\"Time taken = {} seconds\".format(round(end_time-start_time,5)))"
   ]
  },
  {
   "cell_type": "code",
   "execution_count": null,
   "metadata": {},
   "outputs": [],
   "source": []
  }
 ],
 "metadata": {
  "kernelspec": {
   "display_name": "Python 3",
   "language": "python",
   "name": "python3"
  },
  "language_info": {
   "codemirror_mode": {
    "name": "ipython",
    "version": 3
   },
   "file_extension": ".py",
   "mimetype": "text/x-python",
   "name": "python",
   "nbconvert_exporter": "python",
   "pygments_lexer": "ipython3",
   "version": "3.6.5"
  }
 },
 "nbformat": 4,
 "nbformat_minor": 2
}
