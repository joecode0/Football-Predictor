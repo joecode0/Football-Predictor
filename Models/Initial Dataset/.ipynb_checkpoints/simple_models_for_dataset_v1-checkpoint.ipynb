{
 "cells": [
  {
   "cell_type": "code",
   "execution_count": 1,
   "metadata": {},
   "outputs": [],
   "source": [
    "import pandas as pd\n",
    "import numpy as np"
   ]
  },
  {
   "cell_type": "code",
   "execution_count": 2,
   "metadata": {},
   "outputs": [],
   "source": [
    "df = pd.read_csv(\"initial_dataset_v1.csv\")"
   ]
  },
  {
   "cell_type": "code",
   "execution_count": 3,
   "metadata": {},
   "outputs": [],
   "source": [
    "from sklearn.model_selection import StratifiedShuffleSplit\n",
    "\n",
    "def get_train_test_split(data):\n",
    "    split = StratifiedShuffleSplit(n_splits=1, test_size=0.2, random_state=42)\n",
    "    for train_index, test_index in split.split(data, data[\"target\"]):\n",
    "        data_train = data.loc[train_index]\n",
    "        data_test = data.loc[test_index]\n",
    "    return data_train, data_test"
   ]
  },
  {
   "cell_type": "code",
   "execution_count": 4,
   "metadata": {},
   "outputs": [],
   "source": [
    "train,test = get_train_test_split(df)\n",
    "\n",
    "X_train = train.drop('target',axis=1)\n",
    "y_train = train['target']\n",
    "X_test = test.drop('target',axis=1)\n",
    "y_test = test['target']"
   ]
  },
  {
   "cell_type": "code",
   "execution_count": 5,
   "metadata": {},
   "outputs": [
    {
     "data": {
      "text/plain": [
       "LogisticRegression(C=1.0, class_weight=None, dual=False, fit_intercept=True,\n",
       "          intercept_scaling=1, max_iter=100, multi_class='ovr', n_jobs=1,\n",
       "          penalty='l2', random_state=None, solver='liblinear', tol=0.0001,\n",
       "          verbose=0, warm_start=False)"
      ]
     },
     "execution_count": 5,
     "metadata": {},
     "output_type": "execute_result"
    }
   ],
   "source": [
    "from sklearn.linear_model import LogisticRegression\n",
    "\n",
    "log_reg = LogisticRegression()\n",
    "log_reg.fit(X_train, y_train)"
   ]
  },
  {
   "cell_type": "code",
   "execution_count": 6,
   "metadata": {},
   "outputs": [],
   "source": [
    "predictions = log_reg.predict(X_test)"
   ]
  },
  {
   "cell_type": "markdown",
   "metadata": {},
   "source": [
    "# Evaluation of Dataset 3"
   ]
  },
  {
   "cell_type": "code",
   "execution_count": 7,
   "metadata": {},
   "outputs": [],
   "source": [
    "from sklearn.model_selection import cross_val_score\n",
    "from sklearn.model_selection import cross_val_predict\n",
    "from sklearn.metrics import confusion_matrix\n",
    "from sklearn.metrics import precision_score, recall_score, f1_score, accuracy_score\n",
    "from sklearn.metrics import roc_auc_score\n",
    "\n",
    "def print_complete_evaluation_statistics(original, predictions):\n",
    "    \n",
    "    accuracy = accuracy_score(original, predictions)\n",
    "    conf_matrix = confusion_matrix(original, predictions)\n",
    "    precision = precision_score(original, predictions)\n",
    "    recall = recall_score(original, predictions)\n",
    "    f1 = f1_score(original, predictions)\n",
    "    \n",
    "    print(\"Accuracy: {}\\nPrecision: {}\\nRecall: {}\\nF1: {}\".format(accuracy,precision,recall,f1))\n",
    "    print(\"Confusion Matrix:\")\n",
    "    print(\"{}\".format(conf_matrix))\n",
    "    print(\"Format:\")\n",
    "    print(\"True Negatives --- False Positives\")\n",
    "    print(\"False Negatives --- True Positives\")"
   ]
  },
  {
   "cell_type": "code",
   "execution_count": 8,
   "metadata": {},
   "outputs": [
    {
     "name": "stdout",
     "output_type": "stream",
     "text": [
      "Accuracy: 0.6258637709772952\n",
      "Precision: 0.5101604278074866\n",
      "Recall: 0.6138996138996139\n",
      "F1: 0.5572429906542057\n",
      "Confusion Matrix:\n",
      "[[791 458]\n",
      " [300 477]]\n",
      "Format:\n",
      "True Negatives --- False Positives\n",
      "False Negatives --- True Positives\n"
     ]
    }
   ],
   "source": [
    "print_complete_evaluation_statistics(predictions,y_test)"
   ]
  },
  {
   "cell_type": "code",
   "execution_count": null,
   "metadata": {},
   "outputs": [],
   "source": []
  }
 ],
 "metadata": {
  "kernelspec": {
   "display_name": "Python 3",
   "language": "python",
   "name": "python3"
  },
  "language_info": {
   "codemirror_mode": {
    "name": "ipython",
    "version": 3
   },
   "file_extension": ".py",
   "mimetype": "text/x-python",
   "name": "python",
   "nbconvert_exporter": "python",
   "pygments_lexer": "ipython3",
   "version": "3.6.5"
  }
 },
 "nbformat": 4,
 "nbformat_minor": 2
}
