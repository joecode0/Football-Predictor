{
 "cells": [
  {
   "cell_type": "code",
   "execution_count": 1,
   "metadata": {},
   "outputs": [],
   "source": [
    "import pandas as pd\n",
    "import numpy as np"
   ]
  },
  {
   "cell_type": "code",
   "execution_count": 2,
   "metadata": {},
   "outputs": [],
   "source": [
    "df = pd.read_csv(\"initial_dataset_v2.csv\")"
   ]
  },
  {
   "cell_type": "code",
   "execution_count": 3,
   "metadata": {},
   "outputs": [],
   "source": [
    "from sklearn.model_selection import StratifiedShuffleSplit\n",
    "\n",
    "def get_train_test_split(data):\n",
    "    split = StratifiedShuffleSplit(n_splits=1, test_size=0.2, random_state=42)\n",
    "    for train_index, test_index in split.split(data, data[\"target\"]):\n",
    "        data_train = data.loc[train_index]\n",
    "        data_test = data.loc[test_index]\n",
    "    return data_train, data_test"
   ]
  },
  {
   "cell_type": "code",
   "execution_count": 4,
   "metadata": {},
   "outputs": [],
   "source": [
    "train,test = get_train_test_split(df)\n",
    "\n",
    "X_train = train.drop('target',axis=1)\n",
    "y_train = train['target']\n",
    "X_test = test.drop('target',axis=1)\n",
    "y_test = test['target']"
   ]
  },
  {
   "cell_type": "code",
   "execution_count": 5,
   "metadata": {},
   "outputs": [],
   "source": [
    "# from sklearn.linear_model import LogisticRegression\n",
    "\n",
    "# log_reg = LogisticRegression()\n",
    "# log_reg.fit(X_train, y_train)"
   ]
  },
  {
   "cell_type": "code",
   "execution_count": 6,
   "metadata": {},
   "outputs": [],
   "source": [
    "# predictions = log_reg.predict(X_test)"
   ]
  },
  {
   "cell_type": "markdown",
   "metadata": {},
   "source": [
    "# Evaluation of Dataset 3"
   ]
  },
  {
   "cell_type": "code",
   "execution_count": 7,
   "metadata": {},
   "outputs": [],
   "source": [
    "from sklearn.model_selection import cross_val_score\n",
    "from sklearn.model_selection import cross_val_predict\n",
    "from sklearn.metrics import confusion_matrix\n",
    "from sklearn.metrics import precision_score, recall_score, f1_score, accuracy_score\n",
    "from sklearn.metrics import roc_auc_score\n",
    "\n",
    "def print_complete_evaluation_statistics(original, predictions):\n",
    "    \n",
    "    accuracy = accuracy_score(original, predictions)\n",
    "    conf_matrix = confusion_matrix(original, predictions)\n",
    "    precision = precision_score(original, predictions)\n",
    "    recall = recall_score(original, predictions)\n",
    "    f1 = f1_score(original, predictions)\n",
    "    \n",
    "    print(\"Accuracy: {}\\nPrecision: {}\\nRecall: {}\\nF1: {}\".format(accuracy,precision,recall,f1))\n",
    "    print(\"Confusion Matrix:\")\n",
    "    print(\"{}\".format(conf_matrix))\n",
    "    print(\"Format:\")\n",
    "    print(\"True Negatives --- False Positives\")\n",
    "    print(\"False Negatives --- True Positives\")"
   ]
  },
  {
   "cell_type": "code",
   "execution_count": 8,
   "metadata": {},
   "outputs": [],
   "source": [
    "# print_complete_evaluation_statistics(predictions,y_test)"
   ]
  },
  {
   "cell_type": "code",
   "execution_count": 5,
   "metadata": {},
   "outputs": [],
   "source": [
    "import tensorflow as tf\n",
    "import time"
   ]
  },
  {
   "cell_type": "code",
   "execution_count": 6,
   "metadata": {},
   "outputs": [],
   "source": [
    "def get_accuracy(predictions,target):\n",
    "    count_correct = 0\n",
    "    total = len(predictions)\n",
    "    for i in range(len(predictions)):\n",
    "        p = predictions[i]\n",
    "        t = target[i]\n",
    "        if p == t: \n",
    "            count_correct += 1\n",
    "    accuracy = round(count_correct/total,7)*100\n",
    "    return accuracy"
   ]
  },
  {
   "cell_type": "code",
   "execution_count": 35,
   "metadata": {
    "scrolled": true
   },
   "outputs": [
    {
     "name": "stdout",
     "output_type": "stream",
     "text": [
      "Hidden Layer Size: 100\n",
      "Learning Rate: 0.1\n",
      "Total Epochs: 100\n",
      "Accuracy after epoch 0 = 14.28395%\n",
      "Accuracy after epoch 10 = 46.59259%\n",
      "Accuracy after epoch 20 = 47.987649999999995%\n",
      "Accuracy after epoch 30 = 48.35802%\n",
      "Accuracy after epoch 40 = 48.41975%\n",
      "Accuracy after epoch 50 = 48.48148%\n",
      "Accuracy after epoch 60 = 48.48148%\n",
      "Accuracy after epoch 70 = 48.765429999999995%\n",
      "Accuracy after epoch 80 = 48.77778%\n",
      "Accuracy after epoch 90 = 48.77778%\n",
      "Time taken = 0.73851 seconds\n"
     ]
    }
   ],
   "source": [
    "tf.reset_default_graph()\n",
    "\n",
    "x = tf.placeholder(tf.float32, [None, 5], name=\"x\")\n",
    "target = tf.placeholder(tf.int32, [None], name=\"target\")\n",
    "learning_rate = tf.placeholder(tf.float32, name=\"learning_rate\")\n",
    "\n",
    "hidden_layer_size = 100\n",
    "lr = 0.1\n",
    "epochs = 100\n",
    "\n",
    "hidden = tf.layers.dense(x, hidden_layer_size, activation=tf.tanh)\n",
    "output = tf.layers.dense(hidden, 4, activation=None) # changed to 3 because of 3 possible classes\n",
    "\n",
    "probabilities = tf.nn.softmax(output)\n",
    "predictions = tf.argmax(probabilities, axis=1)\n",
    "loss_ = tf.nn.sparse_softmax_cross_entropy_with_logits(logits=output, labels=target)\n",
    "loss = tf.reduce_mean(loss_)\n",
    "\n",
    "optimizer = tf.train.GradientDescentOptimizer(learning_rate=learning_rate)\n",
    "train_op = optimizer.minimize(loss)\n",
    "\n",
    "data_x = X_train\n",
    "data_targets = y_train.tolist()\n",
    "print(\"Hidden Layer Size: {}\".format(hidden_layer_size))\n",
    "print(\"Learning Rate: {}\".format(lr))\n",
    "print(\"Total Epochs: {}\".format(epochs))\n",
    "start_time = time.time()\n",
    "tf.set_random_seed(20)\n",
    "with tf.Session() as sess:\n",
    "    sess.run(tf.global_variables_initializer())\n",
    "    for epoch in range(epochs):\n",
    "        result, _ = sess.run([predictions, train_op], feed_dict={x: data_x, target: data_targets, learning_rate: lr})\n",
    "        if epoch % 10 == 0:\n",
    "            print(\"Accuracy after epoch {} = {}%\".format(epoch,get_accuracy(result,data_targets)))\n",
    "            \n",
    "end_time = time.time()\n",
    "print(\"Time taken = {} seconds\".format(round(end_time-start_time,5)))"
   ]
  },
  {
   "cell_type": "code",
   "execution_count": 34,
   "metadata": {},
   "outputs": [
    {
     "name": "stdout",
     "output_type": "stream",
     "text": [
      "Hidden Layer Size: 5\n",
      "Learning Rate: 0.1\n",
      "Total Epochs: 200\n",
      "Accuracy after epoch 0 = 39.74074%\n",
      "Accuracy after epoch 10 = 45.09877%\n",
      "Accuracy after epoch 20 = 45.58025%\n",
      "Accuracy after epoch 30 = 46.62963%\n",
      "Accuracy after epoch 40 = 46.76543%\n",
      "Accuracy after epoch 50 = 46.888889999999996%\n",
      "Accuracy after epoch 60 = 47.2716%\n",
      "Accuracy after epoch 70 = 47.23457%\n",
      "Accuracy after epoch 80 = 47.22222%\n",
      "Accuracy after epoch 90 = 47.20988%\n",
      "Accuracy after epoch 100 = 47.283950000000004%\n",
      "Accuracy after epoch 110 = 47.518519999999995%\n",
      "Accuracy after epoch 120 = 47.5679%\n",
      "Accuracy after epoch 130 = 47.5679%\n",
      "Accuracy after epoch 140 = 47.5679%\n",
      "Accuracy after epoch 150 = 47.62963%\n",
      "Accuracy after epoch 160 = 47.5679%\n",
      "Accuracy after epoch 170 = 47.95062%\n",
      "Accuracy after epoch 180 = 47.95062%\n",
      "Accuracy after epoch 190 = 47.962959999999995%\n",
      "Time taken = 0.81729 seconds\n"
     ]
    }
   ],
   "source": [
    "tf.reset_default_graph()\n",
    "\n",
    "x = tf.placeholder(tf.float32, [None, 5], name=\"x\")\n",
    "target = tf.placeholder(tf.int32, [None], name=\"target\")\n",
    "learning_rate = tf.placeholder(tf.float32, name=\"learning_rate\")\n",
    "\n",
    "hidden_layer_size = 5\n",
    "lr = 0.1\n",
    "epochs = 200\n",
    "\n",
    "hidden = tf.layers.dense(x, hidden_layer_size, activation=tf.tanh)\n",
    "output = tf.layers.dense(hidden, 4, activation=None) # changed to 3 because of 3 possible classes\n",
    "\n",
    "probabilities = tf.nn.softmax(output)\n",
    "predictions = tf.argmax(probabilities, axis=1)\n",
    "loss_ = tf.nn.sparse_softmax_cross_entropy_with_logits(logits=output, labels=target)\n",
    "loss = tf.reduce_mean(loss_)\n",
    "\n",
    "optimizer = tf.train.GradientDescentOptimizer(learning_rate=learning_rate)\n",
    "train_op = optimizer.minimize(loss)\n",
    "\n",
    "data_x = X_train\n",
    "data_targets = y_train.tolist()\n",
    "print(\"Hidden Layer Size: {}\".format(hidden_layer_size))\n",
    "print(\"Learning Rate: {}\".format(lr))\n",
    "print(\"Total Epochs: {}\".format(epochs))\n",
    "start_time = time.time()\n",
    "tf.set_random_seed(20)\n",
    "with tf.Session() as sess:\n",
    "    sess.run(tf.global_variables_initializer())\n",
    "    for epoch in range(epochs):\n",
    "        result, _ = sess.run([predictions, train_op], feed_dict={x: data_x, target: data_targets, learning_rate: lr})\n",
    "        if epoch % 10 == 0:\n",
    "            print(\"Accuracy after epoch {} = {}%\".format(epoch,get_accuracy(result,data_targets)))\n",
    "end_time = time.time()\n",
    "print(\"Time taken = {} seconds\".format(round(end_time-start_time,5)))"
   ]
  },
  {
   "cell_type": "code",
   "execution_count": 38,
   "metadata": {},
   "outputs": [
    {
     "name": "stdout",
     "output_type": "stream",
     "text": [
      "Hidden Layer Size: 30\n",
      "Learning Rate: 0.1\n",
      "Total Epochs: 100\n",
      "Accuracy after epoch 0 = 20.59259%\n",
      "Accuracy after epoch 10 = 46.18519%\n",
      "Accuracy after epoch 20 = 47.81481%\n",
      "Accuracy after epoch 30 = 48.25926%\n",
      "Accuracy after epoch 40 = 48.48148%\n",
      "Accuracy after epoch 50 = 48.55556%\n",
      "Accuracy after epoch 60 = 48.69136%\n",
      "Accuracy after epoch 70 = 48.765429999999995%\n",
      "Accuracy after epoch 80 = 48.765429999999995%\n",
      "Accuracy after epoch 90 = 48.75309%\n",
      "Test Set: Accuracy after epoch 99 = 48.61797%\n",
      "Time taken = 0.52712 seconds\n"
     ]
    }
   ],
   "source": [
    "tf.reset_default_graph()\n",
    "\n",
    "x = tf.placeholder(tf.float32, [None, 5], name=\"x\")\n",
    "target = tf.placeholder(tf.int32, [None], name=\"target\")\n",
    "learning_rate = tf.placeholder(tf.float32, name=\"learning_rate\")\n",
    "\n",
    "hidden_layer_size = 30\n",
    "lr = 0.1\n",
    "epochs = 100\n",
    "\n",
    "hidden = tf.layers.dense(x, hidden_layer_size, activation=tf.tanh)\n",
    "output = tf.layers.dense(hidden, 4, activation=None) # changed to 3 because of 2 possible classes\n",
    "\n",
    "probabilities = tf.nn.softmax(output)\n",
    "predictions = tf.argmax(probabilities, axis=1)\n",
    "loss_ = tf.nn.sparse_softmax_cross_entropy_with_logits(logits=output, labels=target)\n",
    "loss = tf.reduce_mean(loss_)\n",
    "\n",
    "optimizer = tf.train.GradientDescentOptimizer(learning_rate=learning_rate)\n",
    "train_op = optimizer.minimize(loss)\n",
    "\n",
    "data_x = X_train\n",
    "data_targets = y_train.tolist()\n",
    "test_x = X_test\n",
    "test_y = y_test.tolist()\n",
    "print(\"Hidden Layer Size: {}\".format(hidden_layer_size))\n",
    "print(\"Learning Rate: {}\".format(lr))\n",
    "print(\"Total Epochs: {}\".format(epochs))\n",
    "start_time = time.time()\n",
    "tf.set_random_seed(20)\n",
    "with tf.Session() as sess:\n",
    "    sess.run(tf.global_variables_initializer())\n",
    "    for epoch in range(epochs):\n",
    "        result, _ = sess.run([predictions, train_op], feed_dict={x: data_x, target: data_targets, learning_rate: lr})\n",
    "        if epoch % 10 == 0:\n",
    "            print(\"Accuracy after epoch {} = {}%\".format(epoch,get_accuracy(result,data_targets)))\n",
    "    result, _ = sess.run([predictions, train_op], feed_dict={x: test_x, target: test_y, learning_rate: lr})\n",
    "    print(\"Test Set: Accuracy after epoch {} = {}%\".format(epoch,get_accuracy(result,test_y)))\n",
    "end_time = time.time()\n",
    "print(\"Time taken = {} seconds\".format(round(end_time-start_time,5)))"
   ]
  },
  {
   "cell_type": "code",
   "execution_count": null,
   "metadata": {},
   "outputs": [],
   "source": []
  }
 ],
 "metadata": {
  "kernelspec": {
   "display_name": "Python 3",
   "language": "python",
   "name": "python3"
  },
  "language_info": {
   "codemirror_mode": {
    "name": "ipython",
    "version": 3
   },
   "file_extension": ".py",
   "mimetype": "text/x-python",
   "name": "python",
   "nbconvert_exporter": "python",
   "pygments_lexer": "ipython3",
   "version": "3.6.7"
  }
 },
 "nbformat": 4,
 "nbformat_minor": 2
}
