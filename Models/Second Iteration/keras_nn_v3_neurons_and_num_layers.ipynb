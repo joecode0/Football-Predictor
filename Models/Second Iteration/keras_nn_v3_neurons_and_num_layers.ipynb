{
 "cells": [
  {
   "cell_type": "code",
   "execution_count": 1,
   "metadata": {},
   "outputs": [],
   "source": [
    "import tensorflow as tf\n",
    "import pandas as pd\n",
    "df = pd.read_csv(\"initial_dataset_main_sets.csv\")"
   ]
  },
  {
   "cell_type": "code",
   "execution_count": 2,
   "metadata": {},
   "outputs": [],
   "source": [
    "from sklearn.model_selection import StratifiedShuffleSplit\n",
    "\n",
    "def get_train_test_split(data):\n",
    "    split = StratifiedShuffleSplit(n_splits=1, test_size=0.2, random_state=42)\n",
    "    for train_index, test_index in split.split(data, data[\"target\"]):\n",
    "        data_train = data.loc[train_index]\n",
    "        data_test = data.loc[test_index]\n",
    "    return data_train, data_test\n",
    "\n",
    "train,test = get_train_test_split(df)\n",
    "\n",
    "X_train = train.drop('target',axis=1)\n",
    "y_train = train['target']\n",
    "X_test = test.drop('target',axis=1)\n",
    "y_test = test['target']"
   ]
  },
  {
   "cell_type": "code",
   "execution_count": 3,
   "metadata": {},
   "outputs": [
    {
     "data": {
      "text/html": [
       "<div>\n",
       "<style scoped>\n",
       "    .dataframe tbody tr th:only-of-type {\n",
       "        vertical-align: middle;\n",
       "    }\n",
       "\n",
       "    .dataframe tbody tr th {\n",
       "        vertical-align: top;\n",
       "    }\n",
       "\n",
       "    .dataframe thead th {\n",
       "        text-align: right;\n",
       "    }\n",
       "</style>\n",
       "<table border=\"1\" class=\"dataframe\">\n",
       "  <thead>\n",
       "    <tr style=\"text-align: right;\">\n",
       "      <th></th>\n",
       "      <th>season</th>\n",
       "      <th>hPos</th>\n",
       "      <th>hGSPG</th>\n",
       "      <th>hGCPG</th>\n",
       "      <th>hCSPG</th>\n",
       "      <th>hPtsPG</th>\n",
       "      <th>aPos</th>\n",
       "      <th>aGSPG</th>\n",
       "      <th>aGCPG</th>\n",
       "      <th>aCSPG</th>\n",
       "      <th>aPtsPG</th>\n",
       "    </tr>\n",
       "  </thead>\n",
       "  <tbody>\n",
       "    <tr>\n",
       "      <th>1672</th>\n",
       "      <td>4</td>\n",
       "      <td>7.0</td>\n",
       "      <td>1.52</td>\n",
       "      <td>1.03</td>\n",
       "      <td>0.41</td>\n",
       "      <td>1.59</td>\n",
       "      <td>16.0</td>\n",
       "      <td>1.25</td>\n",
       "      <td>1.82</td>\n",
       "      <td>0.18</td>\n",
       "      <td>0.93</td>\n",
       "    </tr>\n",
       "    <tr>\n",
       "      <th>4441</th>\n",
       "      <td>12</td>\n",
       "      <td>12.0</td>\n",
       "      <td>2.00</td>\n",
       "      <td>2.00</td>\n",
       "      <td>0.00</td>\n",
       "      <td>1.00</td>\n",
       "      <td>8.0</td>\n",
       "      <td>1.00</td>\n",
       "      <td>0.00</td>\n",
       "      <td>1.00</td>\n",
       "      <td>3.00</td>\n",
       "    </tr>\n",
       "    <tr>\n",
       "      <th>7641</th>\n",
       "      <td>20</td>\n",
       "      <td>10.0</td>\n",
       "      <td>1.12</td>\n",
       "      <td>1.53</td>\n",
       "      <td>0.18</td>\n",
       "      <td>1.24</td>\n",
       "      <td>1.0</td>\n",
       "      <td>3.12</td>\n",
       "      <td>0.88</td>\n",
       "      <td>0.35</td>\n",
       "      <td>2.59</td>\n",
       "    </tr>\n",
       "    <tr>\n",
       "      <th>8521</th>\n",
       "      <td>22</td>\n",
       "      <td>4.0</td>\n",
       "      <td>2.63</td>\n",
       "      <td>1.00</td>\n",
       "      <td>0.41</td>\n",
       "      <td>2.22</td>\n",
       "      <td>20.0</td>\n",
       "      <td>1.00</td>\n",
       "      <td>2.17</td>\n",
       "      <td>0.13</td>\n",
       "      <td>0.80</td>\n",
       "    </tr>\n",
       "    <tr>\n",
       "      <th>6212</th>\n",
       "      <td>16</td>\n",
       "      <td>18.0</td>\n",
       "      <td>1.15</td>\n",
       "      <td>2.04</td>\n",
       "      <td>0.12</td>\n",
       "      <td>0.85</td>\n",
       "      <td>6.0</td>\n",
       "      <td>1.85</td>\n",
       "      <td>1.31</td>\n",
       "      <td>0.27</td>\n",
       "      <td>1.69</td>\n",
       "    </tr>\n",
       "  </tbody>\n",
       "</table>\n",
       "</div>"
      ],
      "text/plain": [
       "      season  hPos  hGSPG  hGCPG  hCSPG  hPtsPG  aPos  aGSPG  aGCPG  aCSPG  \\\n",
       "1672       4   7.0   1.52   1.03   0.41    1.59  16.0   1.25   1.82   0.18   \n",
       "4441      12  12.0   2.00   2.00   0.00    1.00   8.0   1.00   0.00   1.00   \n",
       "7641      20  10.0   1.12   1.53   0.18    1.24   1.0   3.12   0.88   0.35   \n",
       "8521      22   4.0   2.63   1.00   0.41    2.22  20.0   1.00   2.17   0.13   \n",
       "6212      16  18.0   1.15   2.04   0.12    0.85   6.0   1.85   1.31   0.27   \n",
       "\n",
       "      aPtsPG  \n",
       "1672    0.93  \n",
       "4441    3.00  \n",
       "7641    2.59  \n",
       "8521    0.80  \n",
       "6212    1.69  "
      ]
     },
     "execution_count": 3,
     "metadata": {},
     "output_type": "execute_result"
    }
   ],
   "source": [
    "X_train.head()"
   ]
  },
  {
   "cell_type": "code",
   "execution_count": 4,
   "metadata": {},
   "outputs": [
    {
     "name": "stdout",
     "output_type": "stream",
     "text": [
      "(7796, 11)\n"
     ]
    },
    {
     "data": {
      "text/plain": [
       "array([0.21925143, 0.38369   , 0.08331554, 0.05645724, 0.02247327,\n",
       "       0.08715244, 0.87700571, 0.06851607, 0.0997594 , 0.00986631,\n",
       "       0.05097596])"
      ]
     },
     "execution_count": 4,
     "metadata": {},
     "output_type": "execute_result"
    }
   ],
   "source": [
    "print(X_train.shape)\n",
    "X_train_norm = tf.keras.utils.normalize(X_train.values,axis=1)\n",
    "X_train_norm[0]"
   ]
  },
  {
   "cell_type": "code",
   "execution_count": 5,
   "metadata": {},
   "outputs": [],
   "source": [
    "X_test_norm = tf.keras.utils.normalize(X_test.values,axis=1)"
   ]
  },
  {
   "cell_type": "code",
   "execution_count": 6,
   "metadata": {},
   "outputs": [],
   "source": [
    "model = tf.keras.models.Sequential()\n",
    "#model.add(tf.keras.layers.Flatten())\n",
    "model.add(tf.keras.layers.Dense(12, activation = tf.nn.relu))\n",
    "model.add(tf.keras.layers.Dense(12, activation = tf.nn.relu))\n",
    "model.add(tf.keras.layers.Dense(12, activation = tf.nn.relu))\n",
    "model.add(tf.keras.layers.Dense(3, activation = tf.nn.softmax))"
   ]
  },
  {
   "cell_type": "code",
   "execution_count": 7,
   "metadata": {},
   "outputs": [],
   "source": [
    "model.compile(optimizer='adam',\n",
    "             loss='sparse_categorical_crossentropy',\n",
    "             metrics=['accuracy'])"
   ]
  },
  {
   "cell_type": "code",
   "execution_count": 8,
   "metadata": {
    "scrolled": true
   },
   "outputs": [
    {
     "name": "stdout",
     "output_type": "stream",
     "text": [
      "Train on 7796 samples, validate on 1950 samples\n",
      "Epoch 1/15\n",
      "7796/7796 [==============================] - 2s 212us/step - loss: 1.0714 - acc: 0.4448 - val_loss: 1.0577 - val_acc: 0.4621\n",
      "Epoch 2/15\n",
      "7796/7796 [==============================] - 1s 113us/step - loss: 1.0450 - acc: 0.4666 - val_loss: 1.0339 - val_acc: 0.4708\n",
      "Epoch 3/15\n",
      "7796/7796 [==============================] - 1s 126us/step - loss: 1.0286 - acc: 0.4824 - val_loss: 1.0289 - val_acc: 0.4821\n",
      "Epoch 4/15\n",
      "7796/7796 [==============================] - 1s 117us/step - loss: 1.0259 - acc: 0.4885 - val_loss: 1.0279 - val_acc: 0.4846\n",
      "Epoch 5/15\n",
      "7796/7796 [==============================] - 1s 154us/step - loss: 1.0225 - acc: 0.4910 - val_loss: 1.0267 - val_acc: 0.4851\n",
      "Epoch 6/15\n",
      "7796/7796 [==============================] - 1s 116us/step - loss: 1.0223 - acc: 0.4886 - val_loss: 1.0256 - val_acc: 0.4882\n",
      "Epoch 7/15\n",
      "7796/7796 [==============================] - 1s 160us/step - loss: 1.0219 - acc: 0.4904 - val_loss: 1.0247 - val_acc: 0.4856\n",
      "Epoch 8/15\n",
      "7796/7796 [==============================] - 1s 163us/step - loss: 1.0205 - acc: 0.4910 - val_loss: 1.0237 - val_acc: 0.4897\n",
      "Epoch 9/15\n",
      "7796/7796 [==============================] - 1s 142us/step - loss: 1.0194 - acc: 0.4933 - val_loss: 1.0236 - val_acc: 0.4913\n",
      "Epoch 10/15\n",
      "7796/7796 [==============================] - 1s 145us/step - loss: 1.0186 - acc: 0.4946 - val_loss: 1.0245 - val_acc: 0.4851\n",
      "Epoch 11/15\n",
      "7796/7796 [==============================] - 1s 150us/step - loss: 1.0184 - acc: 0.4973 - val_loss: 1.0250 - val_acc: 0.4923\n",
      "Epoch 12/15\n",
      "7796/7796 [==============================] - 1s 150us/step - loss: 1.0178 - acc: 0.4985 - val_loss: 1.0224 - val_acc: 0.4949\n",
      "Epoch 13/15\n",
      "7796/7796 [==============================] - 1s 146us/step - loss: 1.0170 - acc: 0.4992 - val_loss: 1.0229 - val_acc: 0.4954\n",
      "Epoch 14/15\n",
      "7796/7796 [==============================] - 1s 145us/step - loss: 1.0174 - acc: 0.4968 - val_loss: 1.0226 - val_acc: 0.4928\n",
      "Epoch 15/15\n",
      "7796/7796 [==============================] - 1s 144us/step - loss: 1.0166 - acc: 0.4997 - val_loss: 1.0221 - val_acc: 0.4974\n"
     ]
    },
    {
     "data": {
      "text/plain": [
       "<tensorflow.python.keras.callbacks.History at 0x7fae14d09e80>"
      ]
     },
     "execution_count": 8,
     "metadata": {},
     "output_type": "execute_result"
    }
   ],
   "source": [
    "model.fit(X_train_norm, y_train.values, epochs=15, validation_data=(X_test_norm,y_test))"
   ]
  },
  {
   "cell_type": "code",
   "execution_count": null,
   "metadata": {},
   "outputs": [],
   "source": []
  },
  {
   "cell_type": "code",
   "execution_count": null,
   "metadata": {},
   "outputs": [],
   "source": []
  }
 ],
 "metadata": {
  "kernelspec": {
   "display_name": "Python 3",
   "language": "python",
   "name": "python3"
  },
  "language_info": {
   "codemirror_mode": {
    "name": "ipython",
    "version": 3
   },
   "file_extension": ".py",
   "mimetype": "text/x-python",
   "name": "python",
   "nbconvert_exporter": "python",
   "pygments_lexer": "ipython3",
   "version": "3.6.7"
  }
 },
 "nbformat": 4,
 "nbformat_minor": 2
}
