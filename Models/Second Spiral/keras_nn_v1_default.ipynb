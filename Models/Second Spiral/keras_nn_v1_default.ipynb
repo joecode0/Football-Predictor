{
 "cells": [
  {
   "cell_type": "code",
   "execution_count": 1,
   "metadata": {},
   "outputs": [
    {
     "name": "stderr",
     "output_type": "stream",
     "text": [
      "Using TensorFlow backend.\n"
     ]
    }
   ],
   "source": [
    "import tensorflow as tf\n",
    "import pandas as pd\n",
    "import keras\n",
    "from keras import regularizers\n",
    "train = pd.read_csv(\"dataset_train_set.csv\")\n",
    "test = pd.read_csv(\"dataset_dev_set.csv\")"
   ]
  },
  {
   "cell_type": "code",
   "execution_count": 2,
   "metadata": {},
   "outputs": [],
   "source": [
    "X_train = train.drop('target',axis=1)\n",
    "y_train = train['target']\n",
    "X_test = test.drop('target',axis=1)\n",
    "y_test = test['target']"
   ]
  },
  {
   "cell_type": "code",
   "execution_count": 3,
   "metadata": {},
   "outputs": [
    {
     "data": {
      "text/html": [
       "<div>\n",
       "<style scoped>\n",
       "    .dataframe tbody tr th:only-of-type {\n",
       "        vertical-align: middle;\n",
       "    }\n",
       "\n",
       "    .dataframe tbody tr th {\n",
       "        vertical-align: top;\n",
       "    }\n",
       "\n",
       "    .dataframe thead th {\n",
       "        text-align: right;\n",
       "    }\n",
       "</style>\n",
       "<table border=\"1\" class=\"dataframe\">\n",
       "  <thead>\n",
       "    <tr style=\"text-align: right;\">\n",
       "      <th></th>\n",
       "      <th>hPos</th>\n",
       "      <th>hGSPG</th>\n",
       "      <th>hGCPG</th>\n",
       "      <th>hCSPG</th>\n",
       "      <th>hPtsPG</th>\n",
       "      <th>aPos</th>\n",
       "      <th>aGSPG</th>\n",
       "      <th>aGCPG</th>\n",
       "      <th>aCSPG</th>\n",
       "      <th>aPtsPG</th>\n",
       "      <th>...</th>\n",
       "      <th>aGD5</th>\n",
       "      <th>aGD7</th>\n",
       "      <th>hPosLS</th>\n",
       "      <th>aPosLS</th>\n",
       "      <th>hSpent</th>\n",
       "      <th>hIncome</th>\n",
       "      <th>hNet</th>\n",
       "      <th>aSpent</th>\n",
       "      <th>aIncome</th>\n",
       "      <th>aNet</th>\n",
       "    </tr>\n",
       "  </thead>\n",
       "  <tbody>\n",
       "    <tr>\n",
       "      <th>0</th>\n",
       "      <td>4.0</td>\n",
       "      <td>0.0</td>\n",
       "      <td>0.0</td>\n",
       "      <td>0.0</td>\n",
       "      <td>0.0</td>\n",
       "      <td>13.0</td>\n",
       "      <td>0.0</td>\n",
       "      <td>0.0</td>\n",
       "      <td>0.0</td>\n",
       "      <td>0.0</td>\n",
       "      <td>...</td>\n",
       "      <td>0.0</td>\n",
       "      <td>0.0</td>\n",
       "      <td>18</td>\n",
       "      <td>18</td>\n",
       "      <td>18.72</td>\n",
       "      <td>0.479</td>\n",
       "      <td>-18.241</td>\n",
       "      <td>18.07</td>\n",
       "      <td>1.320</td>\n",
       "      <td>-16.750</td>\n",
       "    </tr>\n",
       "    <tr>\n",
       "      <th>1</th>\n",
       "      <td>5.0</td>\n",
       "      <td>0.0</td>\n",
       "      <td>0.0</td>\n",
       "      <td>0.0</td>\n",
       "      <td>0.0</td>\n",
       "      <td>20.0</td>\n",
       "      <td>0.0</td>\n",
       "      <td>0.0</td>\n",
       "      <td>0.0</td>\n",
       "      <td>0.0</td>\n",
       "      <td>...</td>\n",
       "      <td>0.0</td>\n",
       "      <td>0.0</td>\n",
       "      <td>5</td>\n",
       "      <td>9</td>\n",
       "      <td>47.15</td>\n",
       "      <td>34.830</td>\n",
       "      <td>-12.320</td>\n",
       "      <td>8.92</td>\n",
       "      <td>38.160</td>\n",
       "      <td>29.240</td>\n",
       "    </tr>\n",
       "    <tr>\n",
       "      <th>2</th>\n",
       "      <td>6.0</td>\n",
       "      <td>0.0</td>\n",
       "      <td>0.0</td>\n",
       "      <td>0.0</td>\n",
       "      <td>0.0</td>\n",
       "      <td>15.0</td>\n",
       "      <td>0.0</td>\n",
       "      <td>0.0</td>\n",
       "      <td>0.0</td>\n",
       "      <td>0.0</td>\n",
       "      <td>...</td>\n",
       "      <td>0.0</td>\n",
       "      <td>0.0</td>\n",
       "      <td>14</td>\n",
       "      <td>12</td>\n",
       "      <td>17.10</td>\n",
       "      <td>23.650</td>\n",
       "      <td>6.550</td>\n",
       "      <td>29.52</td>\n",
       "      <td>9.000</td>\n",
       "      <td>-20.520</td>\n",
       "    </tr>\n",
       "    <tr>\n",
       "      <th>3</th>\n",
       "      <td>7.0</td>\n",
       "      <td>0.0</td>\n",
       "      <td>0.0</td>\n",
       "      <td>0.0</td>\n",
       "      <td>0.0</td>\n",
       "      <td>17.0</td>\n",
       "      <td>0.0</td>\n",
       "      <td>0.0</td>\n",
       "      <td>0.0</td>\n",
       "      <td>0.0</td>\n",
       "      <td>...</td>\n",
       "      <td>0.0</td>\n",
       "      <td>0.0</td>\n",
       "      <td>16</td>\n",
       "      <td>15</td>\n",
       "      <td>11.99</td>\n",
       "      <td>6.260</td>\n",
       "      <td>-5.730</td>\n",
       "      <td>0.00</td>\n",
       "      <td>0.131</td>\n",
       "      <td>0.131</td>\n",
       "    </tr>\n",
       "    <tr>\n",
       "      <th>4</th>\n",
       "      <td>10.0</td>\n",
       "      <td>0.0</td>\n",
       "      <td>0.0</td>\n",
       "      <td>0.0</td>\n",
       "      <td>0.0</td>\n",
       "      <td>8.0</td>\n",
       "      <td>0.0</td>\n",
       "      <td>0.0</td>\n",
       "      <td>0.0</td>\n",
       "      <td>0.0</td>\n",
       "      <td>...</td>\n",
       "      <td>0.0</td>\n",
       "      <td>0.0</td>\n",
       "      <td>3</td>\n",
       "      <td>13</td>\n",
       "      <td>47.84</td>\n",
       "      <td>10.920</td>\n",
       "      <td>-36.920</td>\n",
       "      <td>31.03</td>\n",
       "      <td>32.000</td>\n",
       "      <td>0.970</td>\n",
       "    </tr>\n",
       "  </tbody>\n",
       "</table>\n",
       "<p>5 rows × 36 columns</p>\n",
       "</div>"
      ],
      "text/plain": [
       "   hPos  hGSPG  hGCPG  hCSPG  hPtsPG  aPos  aGSPG  aGCPG  aCSPG  aPtsPG  \\\n",
       "0   4.0    0.0    0.0    0.0     0.0  13.0    0.0    0.0    0.0     0.0   \n",
       "1   5.0    0.0    0.0    0.0     0.0  20.0    0.0    0.0    0.0     0.0   \n",
       "2   6.0    0.0    0.0    0.0     0.0  15.0    0.0    0.0    0.0     0.0   \n",
       "3   7.0    0.0    0.0    0.0     0.0  17.0    0.0    0.0    0.0     0.0   \n",
       "4  10.0    0.0    0.0    0.0     0.0   8.0    0.0    0.0    0.0     0.0   \n",
       "\n",
       "    ...    aGD5  aGD7  hPosLS  aPosLS  hSpent  hIncome    hNet  aSpent  \\\n",
       "0   ...     0.0   0.0      18      18   18.72    0.479 -18.241   18.07   \n",
       "1   ...     0.0   0.0       5       9   47.15   34.830 -12.320    8.92   \n",
       "2   ...     0.0   0.0      14      12   17.10   23.650   6.550   29.52   \n",
       "3   ...     0.0   0.0      16      15   11.99    6.260  -5.730    0.00   \n",
       "4   ...     0.0   0.0       3      13   47.84   10.920 -36.920   31.03   \n",
       "\n",
       "   aIncome    aNet  \n",
       "0    1.320 -16.750  \n",
       "1   38.160  29.240  \n",
       "2    9.000 -20.520  \n",
       "3    0.131   0.131  \n",
       "4   32.000   0.970  \n",
       "\n",
       "[5 rows x 36 columns]"
      ]
     },
     "execution_count": 3,
     "metadata": {},
     "output_type": "execute_result"
    }
   ],
   "source": [
    "X_train.head()"
   ]
  },
  {
   "cell_type": "code",
   "execution_count": 4,
   "metadata": {},
   "outputs": [
    {
     "name": "stdout",
     "output_type": "stream",
     "text": [
      "(4180, 36)\n"
     ]
    },
    {
     "data": {
      "text/plain": [
       "array([ 0.03914121,  0.01673287,  0.00939389,  0.00410983,  0.01673287,\n",
       "        0.11742364,  0.01262304,  0.01184022,  0.00322915,  0.01262304,\n",
       "        0.12190531,  0.06401546,  0.10600419,  0.05178383,  0.00081218,\n",
       "        0.00097853,  0.0097853 ,  0.00782824,  0.0111846 ,  0.00325851,\n",
       "       -0.00195706,  0.0013993 ,  0.01304381,  0.01957061,  0.01957061,\n",
       "        0.00325851,  0.00782824,  0.0097853 ,  0.05871182,  0.04892652,\n",
       "        0.        ,  0.01849422,  0.01849422,  0.03963048,  0.7055204 ,\n",
       "        0.66588992])"
      ]
     },
     "execution_count": 4,
     "metadata": {},
     "output_type": "execute_result"
    }
   ],
   "source": [
    "print(X_train.shape)\n",
    "X_train_norm = tf.keras.utils.normalize(X_train.values,axis=1)\n",
    "X_test_norm = tf.keras.utils.normalize(X_test.values,axis=1)\n",
    "X_train_norm[1000]"
   ]
  },
  {
   "cell_type": "code",
   "execution_count": 5,
   "metadata": {},
   "outputs": [
    {
     "data": {
      "text/plain": [
       "2    1971\n",
       "0    1120\n",
       "1    1089\n",
       "Name: target, dtype: int64"
      ]
     },
     "execution_count": 5,
     "metadata": {},
     "output_type": "execute_result"
    }
   ],
   "source": [
    "y_train.value_counts()"
   ]
  },
  {
   "cell_type": "code",
   "execution_count": 6,
   "metadata": {},
   "outputs": [
    {
     "name": "stdout",
     "output_type": "stream",
     "text": [
      "1,1.8099173553719008,1.7598214285714286\n"
     ]
    }
   ],
   "source": [
    "whome = 1\n",
    "wdraw = 1971/1089\n",
    "waway = 1971/1120\n",
    "print(\"{},{},{}\".format(whome,wdraw,waway))"
   ]
  },
  {
   "cell_type": "code",
   "execution_count": 7,
   "metadata": {},
   "outputs": [],
   "source": [
    "class_weights = {0:1.7598,\n",
    "                 1:1.8099,\n",
    "                 2:1}"
   ]
  },
  {
   "cell_type": "code",
   "execution_count": 8,
   "metadata": {},
   "outputs": [],
   "source": [
    "model = tf.keras.models.Sequential()\n",
    "#model.add(tf.keras.layers.Flatten())\n",
    "model.add(tf.keras.layers.Dense(12, activation = tf.nn.relu))\n",
    "#model.add(tf.keras.layers.Dense(32, activation = tf.nn.relu))\n",
    "# model.add(tf.keras.layers.Dense(32, activation = tf.nn.relu))\n",
    "# model.add(tf.keras.layers.Dense(32, activation = tf.nn.relu))\n",
    "model.add(tf.keras.layers.Dense(3, activation = tf.nn.softmax))"
   ]
  },
  {
   "cell_type": "code",
   "execution_count": 9,
   "metadata": {},
   "outputs": [],
   "source": [
    "model.compile(optimizer='adam',\n",
    "             loss='sparse_categorical_crossentropy',\n",
    "             metrics=['accuracy'])"
   ]
  },
  {
   "cell_type": "code",
   "execution_count": 10,
   "metadata": {
    "scrolled": true
   },
   "outputs": [
    {
     "name": "stdout",
     "output_type": "stream",
     "text": [
      "Train on 4180 samples, validate on 1520 samples\n",
      "Epoch 1/15\n",
      "4180/4180 [==============================] - 1s 142us/step - loss: 1.0946 - acc: 0.4411 - val_loss: 1.0827 - val_acc: 0.4474\n",
      "Epoch 2/15\n",
      "4180/4180 [==============================] - 0s 76us/step - loss: 1.0843 - acc: 0.4349 - val_loss: 1.0629 - val_acc: 0.4875\n",
      "Epoch 3/15\n",
      "4180/4180 [==============================] - 0s 61us/step - loss: 1.0699 - acc: 0.4620 - val_loss: 1.0462 - val_acc: 0.4901\n",
      "Epoch 4/15\n",
      "4180/4180 [==============================] - 0s 61us/step - loss: 1.0584 - acc: 0.4651 - val_loss: 1.0344 - val_acc: 0.5000\n",
      "Epoch 5/15\n",
      "4180/4180 [==============================] - 0s 67us/step - loss: 1.0516 - acc: 0.4605 - val_loss: 1.0260 - val_acc: 0.5059\n",
      "Epoch 6/15\n",
      "4180/4180 [==============================] - 0s 61us/step - loss: 1.0480 - acc: 0.4660 - val_loss: 1.0215 - val_acc: 0.5066\n",
      "Epoch 7/15\n",
      "4180/4180 [==============================] - 0s 66us/step - loss: 1.0445 - acc: 0.4627 - val_loss: 1.0169 - val_acc: 0.5132\n",
      "Epoch 8/15\n",
      "4180/4180 [==============================] - 0s 66us/step - loss: 1.0427 - acc: 0.4751 - val_loss: 1.0154 - val_acc: 0.5020\n",
      "Epoch 9/15\n",
      "4180/4180 [==============================] - 0s 60us/step - loss: 1.0407 - acc: 0.4742 - val_loss: 1.0222 - val_acc: 0.4993\n",
      "Epoch 10/15\n",
      "4180/4180 [==============================] - 0s 63us/step - loss: 1.0407 - acc: 0.4699 - val_loss: 1.0142 - val_acc: 0.5112\n",
      "Epoch 11/15\n",
      "4180/4180 [==============================] - 0s 65us/step - loss: 1.0394 - acc: 0.4708 - val_loss: 1.0119 - val_acc: 0.5079\n",
      "Epoch 12/15\n",
      "4180/4180 [==============================] - 0s 61us/step - loss: 1.0385 - acc: 0.4720 - val_loss: 1.0127 - val_acc: 0.5105\n",
      "Epoch 13/15\n",
      "4180/4180 [==============================] - 0s 101us/step - loss: 1.0374 - acc: 0.4737 - val_loss: 1.0124 - val_acc: 0.5046\n",
      "Epoch 14/15\n",
      "4180/4180 [==============================] - 0s 75us/step - loss: 1.0371 - acc: 0.4720 - val_loss: 1.0147 - val_acc: 0.5079\n",
      "Epoch 15/15\n",
      "4180/4180 [==============================] - 0s 64us/step - loss: 1.0361 - acc: 0.4756 - val_loss: 1.0128 - val_acc: 0.5079\n"
     ]
    },
    {
     "data": {
      "text/plain": [
       "<tensorflow.python.keras.callbacks.History at 0x7f3a3e20ce10>"
      ]
     },
     "execution_count": 10,
     "metadata": {},
     "output_type": "execute_result"
    }
   ],
   "source": [
    "model.fit(X_train_norm, y_train.values, epochs=15, validation_data=(X_test_norm,y_test), class_weight=class_weights)"
   ]
  },
  {
   "cell_type": "code",
   "execution_count": 11,
   "metadata": {},
   "outputs": [
    {
     "name": "stdout",
     "output_type": "stream",
     "text": [
      "1520/1520 [==============================] - 0s 32us/step\n",
      "1.012799593021995 0.5078947368421053\n"
     ]
    }
   ],
   "source": [
    "val_loss, val_acc = model.evaluate(X_test_norm, y_test)\n",
    "print(val_loss, val_acc)"
   ]
  },
  {
   "cell_type": "code",
   "execution_count": 15,
   "metadata": {},
   "outputs": [
    {
     "data": {
      "text/plain": [
       "2    733\n",
       "0    555\n",
       "1    232\n",
       "dtype: int64"
      ]
     },
     "execution_count": 15,
     "metadata": {},
     "output_type": "execute_result"
    }
   ],
   "source": [
    "predictions = model.predict_classes(X_test_norm)\n",
    "preds = list(predictions)\n",
    "pd.Series(preds).value_counts()"
   ]
  },
  {
   "cell_type": "code",
   "execution_count": 17,
   "metadata": {},
   "outputs": [
    {
     "data": {
      "text/plain": [
       "{0: 267, 1: 64, 2: 441}"
      ]
     },
     "execution_count": 17,
     "metadata": {},
     "output_type": "execute_result"
    }
   ],
   "source": [
    "correct_pred_dict = {0:0,1:0,2:0}\n",
    "for i in range(len(preds)):\n",
    "    pred = preds[i]\n",
    "    real = y_test[i]\n",
    "    if pred == real:\n",
    "        correct_pred_dict[pred] += 1\n",
    "correct_pred_dict"
   ]
  },
  {
   "cell_type": "code",
   "execution_count": 14,
   "metadata": {},
   "outputs": [
    {
     "data": {
      "text/plain": [
       "0.48223684210526313"
      ]
     },
     "execution_count": 14,
     "metadata": {},
     "output_type": "execute_result"
    }
   ],
   "source": [
    "733/1520"
   ]
  },
  {
   "cell_type": "code",
   "execution_count": null,
   "metadata": {},
   "outputs": [],
   "source": []
  }
 ],
 "metadata": {
  "kernelspec": {
   "display_name": "Python 3",
   "language": "python",
   "name": "python3"
  },
  "language_info": {
   "codemirror_mode": {
    "name": "ipython",
    "version": 3
   },
   "file_extension": ".py",
   "mimetype": "text/x-python",
   "name": "python",
   "nbconvert_exporter": "python",
   "pygments_lexer": "ipython3",
   "version": "3.6.7"
  }
 },
 "nbformat": 4,
 "nbformat_minor": 2
}
