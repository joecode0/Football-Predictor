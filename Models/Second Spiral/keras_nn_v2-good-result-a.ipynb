{
 "cells": [
  {
   "cell_type": "code",
   "execution_count": 1,
   "metadata": {},
   "outputs": [
    {
     "name": "stderr",
     "output_type": "stream",
     "text": [
      "Using TensorFlow backend.\n"
     ]
    }
   ],
   "source": [
    "import tensorflow as tf\n",
    "import pandas as pd\n",
    "import keras\n",
    "from keras import regularizers\n",
    "train = pd.read_csv(\"dataset_train_set.csv\")\n",
    "test = pd.read_csv(\"dataset_dev_set.csv\")"
   ]
  },
  {
   "cell_type": "code",
   "execution_count": 2,
   "metadata": {},
   "outputs": [],
   "source": [
    "X_train = train.drop('target',axis=1)\n",
    "y_train = train['target']\n",
    "X_test = test.drop('target',axis=1)\n",
    "y_test = test['target']"
   ]
  },
  {
   "cell_type": "code",
   "execution_count": 3,
   "metadata": {},
   "outputs": [
    {
     "data": {
      "text/html": [
       "<div>\n",
       "<style scoped>\n",
       "    .dataframe tbody tr th:only-of-type {\n",
       "        vertical-align: middle;\n",
       "    }\n",
       "\n",
       "    .dataframe tbody tr th {\n",
       "        vertical-align: top;\n",
       "    }\n",
       "\n",
       "    .dataframe thead th {\n",
       "        text-align: right;\n",
       "    }\n",
       "</style>\n",
       "<table border=\"1\" class=\"dataframe\">\n",
       "  <thead>\n",
       "    <tr style=\"text-align: right;\">\n",
       "      <th></th>\n",
       "      <th>hPos</th>\n",
       "      <th>hGSPG</th>\n",
       "      <th>hGCPG</th>\n",
       "      <th>hCSPG</th>\n",
       "      <th>hPtsPG</th>\n",
       "      <th>aPos</th>\n",
       "      <th>aGSPG</th>\n",
       "      <th>aGCPG</th>\n",
       "      <th>aCSPG</th>\n",
       "      <th>aPtsPG</th>\n",
       "      <th>...</th>\n",
       "      <th>aGD5</th>\n",
       "      <th>aGD7</th>\n",
       "      <th>hPosLS</th>\n",
       "      <th>aPosLS</th>\n",
       "      <th>hSpent</th>\n",
       "      <th>hIncome</th>\n",
       "      <th>hNet</th>\n",
       "      <th>aSpent</th>\n",
       "      <th>aIncome</th>\n",
       "      <th>aNet</th>\n",
       "    </tr>\n",
       "  </thead>\n",
       "  <tbody>\n",
       "    <tr>\n",
       "      <th>0</th>\n",
       "      <td>4.0</td>\n",
       "      <td>0.0</td>\n",
       "      <td>0.0</td>\n",
       "      <td>0.0</td>\n",
       "      <td>0.0</td>\n",
       "      <td>13.0</td>\n",
       "      <td>0.0</td>\n",
       "      <td>0.0</td>\n",
       "      <td>0.0</td>\n",
       "      <td>0.0</td>\n",
       "      <td>...</td>\n",
       "      <td>0.0</td>\n",
       "      <td>0.0</td>\n",
       "      <td>18</td>\n",
       "      <td>18</td>\n",
       "      <td>18.72</td>\n",
       "      <td>0.479</td>\n",
       "      <td>-18.241</td>\n",
       "      <td>18.07</td>\n",
       "      <td>1.320</td>\n",
       "      <td>-16.750</td>\n",
       "    </tr>\n",
       "    <tr>\n",
       "      <th>1</th>\n",
       "      <td>5.0</td>\n",
       "      <td>0.0</td>\n",
       "      <td>0.0</td>\n",
       "      <td>0.0</td>\n",
       "      <td>0.0</td>\n",
       "      <td>20.0</td>\n",
       "      <td>0.0</td>\n",
       "      <td>0.0</td>\n",
       "      <td>0.0</td>\n",
       "      <td>0.0</td>\n",
       "      <td>...</td>\n",
       "      <td>0.0</td>\n",
       "      <td>0.0</td>\n",
       "      <td>5</td>\n",
       "      <td>9</td>\n",
       "      <td>47.15</td>\n",
       "      <td>34.830</td>\n",
       "      <td>-12.320</td>\n",
       "      <td>8.92</td>\n",
       "      <td>38.160</td>\n",
       "      <td>29.240</td>\n",
       "    </tr>\n",
       "    <tr>\n",
       "      <th>2</th>\n",
       "      <td>6.0</td>\n",
       "      <td>0.0</td>\n",
       "      <td>0.0</td>\n",
       "      <td>0.0</td>\n",
       "      <td>0.0</td>\n",
       "      <td>15.0</td>\n",
       "      <td>0.0</td>\n",
       "      <td>0.0</td>\n",
       "      <td>0.0</td>\n",
       "      <td>0.0</td>\n",
       "      <td>...</td>\n",
       "      <td>0.0</td>\n",
       "      <td>0.0</td>\n",
       "      <td>14</td>\n",
       "      <td>12</td>\n",
       "      <td>17.10</td>\n",
       "      <td>23.650</td>\n",
       "      <td>6.550</td>\n",
       "      <td>29.52</td>\n",
       "      <td>9.000</td>\n",
       "      <td>-20.520</td>\n",
       "    </tr>\n",
       "    <tr>\n",
       "      <th>3</th>\n",
       "      <td>7.0</td>\n",
       "      <td>0.0</td>\n",
       "      <td>0.0</td>\n",
       "      <td>0.0</td>\n",
       "      <td>0.0</td>\n",
       "      <td>17.0</td>\n",
       "      <td>0.0</td>\n",
       "      <td>0.0</td>\n",
       "      <td>0.0</td>\n",
       "      <td>0.0</td>\n",
       "      <td>...</td>\n",
       "      <td>0.0</td>\n",
       "      <td>0.0</td>\n",
       "      <td>16</td>\n",
       "      <td>15</td>\n",
       "      <td>11.99</td>\n",
       "      <td>6.260</td>\n",
       "      <td>-5.730</td>\n",
       "      <td>0.00</td>\n",
       "      <td>0.131</td>\n",
       "      <td>0.131</td>\n",
       "    </tr>\n",
       "    <tr>\n",
       "      <th>4</th>\n",
       "      <td>10.0</td>\n",
       "      <td>0.0</td>\n",
       "      <td>0.0</td>\n",
       "      <td>0.0</td>\n",
       "      <td>0.0</td>\n",
       "      <td>8.0</td>\n",
       "      <td>0.0</td>\n",
       "      <td>0.0</td>\n",
       "      <td>0.0</td>\n",
       "      <td>0.0</td>\n",
       "      <td>...</td>\n",
       "      <td>0.0</td>\n",
       "      <td>0.0</td>\n",
       "      <td>3</td>\n",
       "      <td>13</td>\n",
       "      <td>47.84</td>\n",
       "      <td>10.920</td>\n",
       "      <td>-36.920</td>\n",
       "      <td>31.03</td>\n",
       "      <td>32.000</td>\n",
       "      <td>0.970</td>\n",
       "    </tr>\n",
       "  </tbody>\n",
       "</table>\n",
       "<p>5 rows × 36 columns</p>\n",
       "</div>"
      ],
      "text/plain": [
       "   hPos  hGSPG  hGCPG  hCSPG  hPtsPG  aPos  aGSPG  aGCPG  aCSPG  aPtsPG  \\\n",
       "0   4.0    0.0    0.0    0.0     0.0  13.0    0.0    0.0    0.0     0.0   \n",
       "1   5.0    0.0    0.0    0.0     0.0  20.0    0.0    0.0    0.0     0.0   \n",
       "2   6.0    0.0    0.0    0.0     0.0  15.0    0.0    0.0    0.0     0.0   \n",
       "3   7.0    0.0    0.0    0.0     0.0  17.0    0.0    0.0    0.0     0.0   \n",
       "4  10.0    0.0    0.0    0.0     0.0   8.0    0.0    0.0    0.0     0.0   \n",
       "\n",
       "    ...    aGD5  aGD7  hPosLS  aPosLS  hSpent  hIncome    hNet  aSpent  \\\n",
       "0   ...     0.0   0.0      18      18   18.72    0.479 -18.241   18.07   \n",
       "1   ...     0.0   0.0       5       9   47.15   34.830 -12.320    8.92   \n",
       "2   ...     0.0   0.0      14      12   17.10   23.650   6.550   29.52   \n",
       "3   ...     0.0   0.0      16      15   11.99    6.260  -5.730    0.00   \n",
       "4   ...     0.0   0.0       3      13   47.84   10.920 -36.920   31.03   \n",
       "\n",
       "   aIncome    aNet  \n",
       "0    1.320 -16.750  \n",
       "1   38.160  29.240  \n",
       "2    9.000 -20.520  \n",
       "3    0.131   0.131  \n",
       "4   32.000   0.970  \n",
       "\n",
       "[5 rows x 36 columns]"
      ]
     },
     "execution_count": 3,
     "metadata": {},
     "output_type": "execute_result"
    }
   ],
   "source": [
    "X_train.head()"
   ]
  },
  {
   "cell_type": "code",
   "execution_count": 4,
   "metadata": {},
   "outputs": [
    {
     "name": "stdout",
     "output_type": "stream",
     "text": [
      "(4180, 36)\n"
     ]
    },
    {
     "data": {
      "text/plain": [
       "array([ 0.03914121,  0.01673287,  0.00939389,  0.00410983,  0.01673287,\n",
       "        0.11742364,  0.01262304,  0.01184022,  0.00322915,  0.01262304,\n",
       "        0.12190531,  0.06401546,  0.10600419,  0.05178383,  0.00081218,\n",
       "        0.00097853,  0.0097853 ,  0.00782824,  0.0111846 ,  0.00325851,\n",
       "       -0.00195706,  0.0013993 ,  0.01304381,  0.01957061,  0.01957061,\n",
       "        0.00325851,  0.00782824,  0.0097853 ,  0.05871182,  0.04892652,\n",
       "        0.        ,  0.01849422,  0.01849422,  0.03963048,  0.7055204 ,\n",
       "        0.66588992])"
      ]
     },
     "execution_count": 4,
     "metadata": {},
     "output_type": "execute_result"
    }
   ],
   "source": [
    "print(X_train.shape)\n",
    "X_train_norm = tf.keras.utils.normalize(X_train.values,axis=1)\n",
    "X_test_norm = tf.keras.utils.normalize(X_test.values,axis=1)\n",
    "X_train_norm[1000]"
   ]
  },
  {
   "cell_type": "code",
   "execution_count": 5,
   "metadata": {},
   "outputs": [
    {
     "data": {
      "text/plain": [
       "2    1971\n",
       "0    1120\n",
       "1    1089\n",
       "Name: target, dtype: int64"
      ]
     },
     "execution_count": 5,
     "metadata": {},
     "output_type": "execute_result"
    }
   ],
   "source": [
    "y_train.value_counts()"
   ]
  },
  {
   "cell_type": "code",
   "execution_count": 6,
   "metadata": {},
   "outputs": [
    {
     "name": "stdout",
     "output_type": "stream",
     "text": [
      "1,1.8099173553719008,1.7598214285714286\n"
     ]
    }
   ],
   "source": [
    "whome = 1\n",
    "wdraw = 1971/1089\n",
    "waway = 1971/1120\n",
    "print(\"{},{},{}\".format(whome,wdraw,waway))"
   ]
  },
  {
   "cell_type": "code",
   "execution_count": 7,
   "metadata": {},
   "outputs": [],
   "source": [
    "class_weights = {0:1.7598,\n",
    "                 1:1.8099,\n",
    "                 2:1}"
   ]
  },
  {
   "cell_type": "code",
   "execution_count": 8,
   "metadata": {},
   "outputs": [],
   "source": [
    "model = tf.keras.models.Sequential()\n",
    "#model.add(tf.keras.layers.Flatten())\n",
    "model.add(tf.keras.layers.Dense(12, activation = tf.nn.relu))\n",
    "model.add(tf.keras.layers.Dense(12, activation = tf.nn.relu))\n",
    "model.add(tf.keras.layers.Dense(3, activation = tf.nn.softmax))"
   ]
  },
  {
   "cell_type": "code",
   "execution_count": 9,
   "metadata": {},
   "outputs": [],
   "source": [
    "model.compile(optimizer='adam',\n",
    "             loss='sparse_categorical_crossentropy',\n",
    "             metrics=['accuracy'])"
   ]
  },
  {
   "cell_type": "code",
   "execution_count": 10,
   "metadata": {
    "scrolled": true
   },
   "outputs": [
    {
     "name": "stdout",
     "output_type": "stream",
     "text": [
      "Train on 4180 samples, validate on 1520 samples\n",
      "Epoch 1/50\n",
      "4180/4180 [==============================] - 2s 420us/step - loss: 1.0926 - acc: 0.4033 - val_loss: 1.0757 - val_acc: 0.4441\n",
      "Epoch 2/50\n",
      "4180/4180 [==============================] - 0s 58us/step - loss: 1.0773 - acc: 0.4400 - val_loss: 1.0640 - val_acc: 0.4586\n",
      "Epoch 3/50\n",
      "4180/4180 [==============================] - 0s 61us/step - loss: 1.0659 - acc: 0.4457 - val_loss: 1.0473 - val_acc: 0.4974\n",
      "Epoch 4/50\n",
      "4180/4180 [==============================] - 0s 63us/step - loss: 1.0559 - acc: 0.4605 - val_loss: 1.0330 - val_acc: 0.5092\n",
      "Epoch 5/50\n",
      "4180/4180 [==============================] - 0s 66us/step - loss: 1.0487 - acc: 0.4840 - val_loss: 1.0294 - val_acc: 0.4987\n",
      "Epoch 6/50\n",
      "4180/4180 [==============================] - 0s 67us/step - loss: 1.0450 - acc: 0.4687 - val_loss: 1.0191 - val_acc: 0.5053\n",
      "Epoch 7/50\n",
      "4180/4180 [==============================] - 0s 79us/step - loss: 1.0407 - acc: 0.4754 - val_loss: 1.0195 - val_acc: 0.5086\n",
      "Epoch 8/50\n",
      "4180/4180 [==============================] - 0s 71us/step - loss: 1.0386 - acc: 0.4734 - val_loss: 1.0157 - val_acc: 0.5026\n",
      "Epoch 9/50\n",
      "4180/4180 [==============================] - 0s 70us/step - loss: 1.0359 - acc: 0.4742 - val_loss: 1.0035 - val_acc: 0.5151\n",
      "Epoch 10/50\n",
      "4180/4180 [==============================] - 0s 63us/step - loss: 1.0350 - acc: 0.4768 - val_loss: 1.0098 - val_acc: 0.5053\n",
      "Epoch 11/50\n",
      "4180/4180 [==============================] - 0s 102us/step - loss: 1.0336 - acc: 0.4744 - val_loss: 1.0020 - val_acc: 0.5105\n",
      "Epoch 12/50\n",
      "4180/4180 [==============================] - 0s 68us/step - loss: 1.0325 - acc: 0.4696 - val_loss: 1.0033 - val_acc: 0.5197\n",
      "Epoch 13/50\n",
      "4180/4180 [==============================] - 0s 107us/step - loss: 1.0317 - acc: 0.4746 - val_loss: 1.0059 - val_acc: 0.5158\n",
      "Epoch 14/50\n",
      "4180/4180 [==============================] - 0s 67us/step - loss: 1.0294 - acc: 0.4737 - val_loss: 1.0067 - val_acc: 0.5099\n",
      "Epoch 15/50\n",
      "4180/4180 [==============================] - 0s 67us/step - loss: 1.0296 - acc: 0.4749 - val_loss: 1.0208 - val_acc: 0.4980\n",
      "Epoch 16/50\n",
      "4180/4180 [==============================] - 0s 65us/step - loss: 1.0285 - acc: 0.4763 - val_loss: 1.0194 - val_acc: 0.4980\n",
      "Epoch 17/50\n",
      "4180/4180 [==============================] - 0s 119us/step - loss: 1.0279 - acc: 0.4679 - val_loss: 0.9983 - val_acc: 0.5145\n",
      "Epoch 18/50\n",
      "4180/4180 [==============================] - 0s 99us/step - loss: 1.0268 - acc: 0.4749 - val_loss: 1.0047 - val_acc: 0.5138\n",
      "Epoch 19/50\n",
      "4180/4180 [==============================] - 0s 103us/step - loss: 1.0266 - acc: 0.4749 - val_loss: 1.0080 - val_acc: 0.5112\n",
      "Epoch 20/50\n",
      "4180/4180 [==============================] - 0s 66us/step - loss: 1.0258 - acc: 0.4696 - val_loss: 1.0055 - val_acc: 0.5164\n",
      "Epoch 21/50\n",
      "4180/4180 [==============================] - 0s 69us/step - loss: 1.0247 - acc: 0.4715 - val_loss: 1.0008 - val_acc: 0.5164\n",
      "Epoch 22/50\n",
      "4180/4180 [==============================] - 0s 66us/step - loss: 1.0243 - acc: 0.4742 - val_loss: 0.9990 - val_acc: 0.5145\n",
      "Epoch 23/50\n",
      "4180/4180 [==============================] - 0s 75us/step - loss: 1.0242 - acc: 0.4746 - val_loss: 1.0004 - val_acc: 0.5171\n",
      "Epoch 24/50\n",
      "4180/4180 [==============================] - 0s 89us/step - loss: 1.0233 - acc: 0.4672 - val_loss: 0.9980 - val_acc: 0.5197\n",
      "Epoch 25/50\n",
      "4180/4180 [==============================] - 0s 68us/step - loss: 1.0228 - acc: 0.4703 - val_loss: 1.0021 - val_acc: 0.5138\n",
      "Epoch 26/50\n",
      "4180/4180 [==============================] - 0s 64us/step - loss: 1.0217 - acc: 0.4734 - val_loss: 1.0034 - val_acc: 0.5092\n",
      "Epoch 27/50\n",
      "4180/4180 [==============================] - 0s 66us/step - loss: 1.0221 - acc: 0.4737 - val_loss: 0.9931 - val_acc: 0.5211\n",
      "Epoch 28/50\n",
      "4180/4180 [==============================] - 0s 108us/step - loss: 1.0213 - acc: 0.4648 - val_loss: 0.9965 - val_acc: 0.5263\n",
      "Epoch 29/50\n",
      "4180/4180 [==============================] - 0s 76us/step - loss: 1.0209 - acc: 0.4703 - val_loss: 1.0030 - val_acc: 0.5178\n",
      "Epoch 30/50\n",
      "4180/4180 [==============================] - 0s 101us/step - loss: 1.0204 - acc: 0.4706 - val_loss: 0.9992 - val_acc: 0.5197\n",
      "Epoch 31/50\n",
      "4180/4180 [==============================] - 0s 65us/step - loss: 1.0205 - acc: 0.4739 - val_loss: 1.0047 - val_acc: 0.5079\n",
      "Epoch 32/50\n",
      "4180/4180 [==============================] - 0s 66us/step - loss: 1.0201 - acc: 0.4699 - val_loss: 1.0023 - val_acc: 0.5118\n",
      "Epoch 33/50\n",
      "4180/4180 [==============================] - 0s 84us/step - loss: 1.0193 - acc: 0.4768 - val_loss: 0.9999 - val_acc: 0.5112\n",
      "Epoch 34/50\n",
      "4180/4180 [==============================] - 1s 136us/step - loss: 1.0200 - acc: 0.4732 - val_loss: 1.0029 - val_acc: 0.5039\n",
      "Epoch 35/50\n",
      "4180/4180 [==============================] - 0s 69us/step - loss: 1.0201 - acc: 0.4722 - val_loss: 0.9970 - val_acc: 0.5237\n",
      "Epoch 36/50\n",
      "4180/4180 [==============================] - 0s 70us/step - loss: 1.0186 - acc: 0.4682 - val_loss: 1.0017 - val_acc: 0.5151\n",
      "Epoch 37/50\n",
      "4180/4180 [==============================] - 0s 68us/step - loss: 1.0186 - acc: 0.4789 - val_loss: 0.9952 - val_acc: 0.5118\n",
      "Epoch 38/50\n",
      "4180/4180 [==============================] - 0s 62us/step - loss: 1.0181 - acc: 0.4792 - val_loss: 0.9868 - val_acc: 0.5283\n",
      "Epoch 39/50\n",
      "4180/4180 [==============================] - 0s 66us/step - loss: 1.0186 - acc: 0.4782 - val_loss: 0.9922 - val_acc: 0.5257\n",
      "Epoch 40/50\n",
      "4180/4180 [==============================] - 0s 64us/step - loss: 1.0181 - acc: 0.4737 - val_loss: 0.9944 - val_acc: 0.5230\n",
      "Epoch 41/50\n",
      "4180/4180 [==============================] - 0s 64us/step - loss: 1.0165 - acc: 0.4768 - val_loss: 1.0080 - val_acc: 0.5046\n",
      "Epoch 42/50\n",
      "4180/4180 [==============================] - 0s 65us/step - loss: 1.0167 - acc: 0.4756 - val_loss: 0.9913 - val_acc: 0.5283\n",
      "Epoch 43/50\n",
      "4180/4180 [==============================] - 0s 70us/step - loss: 1.0163 - acc: 0.4816 - val_loss: 1.0035 - val_acc: 0.5066\n",
      "Epoch 44/50\n",
      "4180/4180 [==============================] - 0s 68us/step - loss: 1.0169 - acc: 0.4758 - val_loss: 0.9976 - val_acc: 0.5164\n",
      "Epoch 45/50\n",
      "4180/4180 [==============================] - 0s 75us/step - loss: 1.0162 - acc: 0.4811 - val_loss: 0.9911 - val_acc: 0.5184\n",
      "Epoch 46/50\n",
      "4180/4180 [==============================] - 0s 65us/step - loss: 1.0155 - acc: 0.4746 - val_loss: 0.9904 - val_acc: 0.5276\n",
      "Epoch 47/50\n",
      "4180/4180 [==============================] - 0s 65us/step - loss: 1.0162 - acc: 0.4778 - val_loss: 0.9953 - val_acc: 0.5138\n",
      "Epoch 48/50\n",
      "4180/4180 [==============================] - 0s 64us/step - loss: 1.0150 - acc: 0.4868 - val_loss: 0.9910 - val_acc: 0.5184\n",
      "Epoch 49/50\n",
      "4180/4180 [==============================] - 0s 71us/step - loss: 1.0145 - acc: 0.4818 - val_loss: 1.0046 - val_acc: 0.5026\n",
      "Epoch 50/50\n",
      "4180/4180 [==============================] - 0s 63us/step - loss: 1.0147 - acc: 0.4763 - val_loss: 0.9884 - val_acc: 0.5257\n"
     ]
    }
   ],
   "source": [
    "import time\n",
    "t0 = time.time()\n",
    "model.fit(X_train_norm, y_train.values, epochs=50, validation_data=(X_test_norm,y_test), class_weight=class_weights)\n",
    "t1 = time.time()"
   ]
  },
  {
   "cell_type": "code",
   "execution_count": 11,
   "metadata": {},
   "outputs": [
    {
     "name": "stdout",
     "output_type": "stream",
     "text": [
      "Time: 17.69850492477417\n"
     ]
    }
   ],
   "source": [
    "print(\"Time: {}\".format(t1-t0))"
   ]
  },
  {
   "cell_type": "code",
   "execution_count": 12,
   "metadata": {},
   "outputs": [
    {
     "name": "stdout",
     "output_type": "stream",
     "text": [
      "1520/1520 [==============================] - 0s 50us/step\n",
      "0.9883934422543175 0.5256578947368421\n"
     ]
    }
   ],
   "source": [
    "val_loss, val_acc = model.evaluate(X_test_norm, y_test)\n",
    "print(val_loss, val_acc)"
   ]
  },
  {
   "cell_type": "code",
   "execution_count": 13,
   "metadata": {},
   "outputs": [
    {
     "data": {
      "text/plain": [
       "2    763\n",
       "0    513\n",
       "1    244\n",
       "dtype: int64"
      ]
     },
     "execution_count": 13,
     "metadata": {},
     "output_type": "execute_result"
    }
   ],
   "source": [
    "predictions = model.predict_classes(X_test_norm)\n",
    "pd.Series(list(predictions)).value_counts()"
   ]
  },
  {
   "cell_type": "code",
   "execution_count": 14,
   "metadata": {},
   "outputs": [
    {
     "data": {
      "text/plain": [
       "2"
      ]
     },
     "execution_count": 14,
     "metadata": {},
     "output_type": "execute_result"
    }
   ],
   "source": [
    "predictions[0]"
   ]
  },
  {
   "cell_type": "code",
   "execution_count": null,
   "metadata": {},
   "outputs": [],
   "source": []
  }
 ],
 "metadata": {
  "kernelspec": {
   "display_name": "Python 3",
   "language": "python",
   "name": "python3"
  },
  "language_info": {
   "codemirror_mode": {
    "name": "ipython",
    "version": 3
   },
   "file_extension": ".py",
   "mimetype": "text/x-python",
   "name": "python",
   "nbconvert_exporter": "python",
   "pygments_lexer": "ipython3",
   "version": "3.6.7"
  }
 },
 "nbformat": 4,
 "nbformat_minor": 2
}
