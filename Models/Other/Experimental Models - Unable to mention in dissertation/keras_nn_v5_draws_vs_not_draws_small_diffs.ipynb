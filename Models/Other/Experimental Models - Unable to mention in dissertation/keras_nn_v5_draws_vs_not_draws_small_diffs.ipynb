{
 "cells": [
  {
   "cell_type": "code",
   "execution_count": 1,
   "metadata": {},
   "outputs": [],
   "source": [
    "import pandas as pd\n",
    "import tensorflow as tf"
   ]
  },
  {
   "cell_type": "code",
   "execution_count": 2,
   "metadata": {},
   "outputs": [],
   "source": [
    "df = pd.read_csv(\"main_database_small_diffs_draws_or_not.csv\")"
   ]
  },
  {
   "cell_type": "code",
   "execution_count": 3,
   "metadata": {},
   "outputs": [
    {
     "data": {
      "text/html": [
       "<div>\n",
       "<style scoped>\n",
       "    .dataframe tbody tr th:only-of-type {\n",
       "        vertical-align: middle;\n",
       "    }\n",
       "\n",
       "    .dataframe tbody tr th {\n",
       "        vertical-align: top;\n",
       "    }\n",
       "\n",
       "    .dataframe thead th {\n",
       "        text-align: right;\n",
       "    }\n",
       "</style>\n",
       "<table border=\"1\" class=\"dataframe\">\n",
       "  <thead>\n",
       "    <tr style=\"text-align: right;\">\n",
       "      <th></th>\n",
       "      <th>season</th>\n",
       "      <th>target</th>\n",
       "      <th>PosDiff</th>\n",
       "      <th>GSPGDiff</th>\n",
       "      <th>GCPGDiff</th>\n",
       "      <th>CSPGDiff</th>\n",
       "      <th>PtsPGDiff</th>\n",
       "      <th>SPGDiff</th>\n",
       "      <th>STPGDiff</th>\n",
       "      <th>S%Diff</th>\n",
       "      <th>PTSPG3Diff</th>\n",
       "      <th>PTSPG5Diff</th>\n",
       "      <th>PTSPG7Diff</th>\n",
       "      <th>GD3Diff</th>\n",
       "      <th>GD5Diff</th>\n",
       "      <th>GD7Diff</th>\n",
       "      <th>PosLSDiff</th>\n",
       "      <th>SpentDiff</th>\n",
       "      <th>IncomeDiff</th>\n",
       "      <th>NetDiff</th>\n",
       "    </tr>\n",
       "  </thead>\n",
       "  <tbody>\n",
       "    <tr>\n",
       "      <th>0</th>\n",
       "      <td>9</td>\n",
       "      <td>0</td>\n",
       "      <td>-9.0</td>\n",
       "      <td>0.0</td>\n",
       "      <td>0.0</td>\n",
       "      <td>0.0</td>\n",
       "      <td>0.0</td>\n",
       "      <td>0.0</td>\n",
       "      <td>0.0</td>\n",
       "      <td>0.0</td>\n",
       "      <td>0.0</td>\n",
       "      <td>0.0</td>\n",
       "      <td>0.0</td>\n",
       "      <td>0.0</td>\n",
       "      <td>0.0</td>\n",
       "      <td>0.0</td>\n",
       "      <td>0.0</td>\n",
       "      <td>0.65</td>\n",
       "      <td>-0.841</td>\n",
       "      <td>-1.491</td>\n",
       "    </tr>\n",
       "    <tr>\n",
       "      <th>1</th>\n",
       "      <td>9</td>\n",
       "      <td>0</td>\n",
       "      <td>-9.0</td>\n",
       "      <td>0.0</td>\n",
       "      <td>0.0</td>\n",
       "      <td>0.0</td>\n",
       "      <td>0.0</td>\n",
       "      <td>0.0</td>\n",
       "      <td>0.0</td>\n",
       "      <td>0.0</td>\n",
       "      <td>0.0</td>\n",
       "      <td>0.0</td>\n",
       "      <td>0.0</td>\n",
       "      <td>0.0</td>\n",
       "      <td>0.0</td>\n",
       "      <td>0.0</td>\n",
       "      <td>2.0</td>\n",
       "      <td>-12.42</td>\n",
       "      <td>14.650</td>\n",
       "      <td>27.070</td>\n",
       "    </tr>\n",
       "  </tbody>\n",
       "</table>\n",
       "</div>"
      ],
      "text/plain": [
       "   season  target  PosDiff  GSPGDiff  GCPGDiff  CSPGDiff  PtsPGDiff  SPGDiff  \\\n",
       "0       9       0     -9.0       0.0       0.0       0.0        0.0      0.0   \n",
       "1       9       0     -9.0       0.0       0.0       0.0        0.0      0.0   \n",
       "\n",
       "   STPGDiff  S%Diff  PTSPG3Diff  PTSPG5Diff  PTSPG7Diff  GD3Diff  GD5Diff  \\\n",
       "0       0.0     0.0         0.0         0.0         0.0      0.0      0.0   \n",
       "1       0.0     0.0         0.0         0.0         0.0      0.0      0.0   \n",
       "\n",
       "   GD7Diff  PosLSDiff  SpentDiff  IncomeDiff  NetDiff  \n",
       "0      0.0        0.0       0.65      -0.841   -1.491  \n",
       "1      0.0        2.0     -12.42      14.650   27.070  "
      ]
     },
     "execution_count": 3,
     "metadata": {},
     "output_type": "execute_result"
    }
   ],
   "source": [
    "df.head(2)"
   ]
  },
  {
   "cell_type": "code",
   "execution_count": 4,
   "metadata": {},
   "outputs": [
    {
     "data": {
      "text/plain": [
       "0    3453\n",
       "1    1264\n",
       "Name: target, dtype: int64"
      ]
     },
     "execution_count": 4,
     "metadata": {},
     "output_type": "execute_result"
    }
   ],
   "source": [
    "df['target'].value_counts()"
   ]
  },
  {
   "cell_type": "code",
   "execution_count": 5,
   "metadata": {},
   "outputs": [
    {
     "data": {
      "text/plain": [
       "2.7318037974683542"
      ]
     },
     "execution_count": 5,
     "metadata": {},
     "output_type": "execute_result"
    }
   ],
   "source": [
    "3453/1264"
   ]
  },
  {
   "cell_type": "code",
   "execution_count": 6,
   "metadata": {},
   "outputs": [],
   "source": [
    "from sklearn.model_selection import StratifiedShuffleSplit\n",
    "\n",
    "def get_train_test_split(data):\n",
    "    split = StratifiedShuffleSplit(n_splits=1, test_size=0.2, random_state=42)\n",
    "    for train_index, test_index in split.split(data, data[\"target\"]):\n",
    "        data_train = data.loc[train_index]\n",
    "        data_test = data.loc[test_index]\n",
    "    return data_train, data_test\n",
    "\n",
    "train,test = get_train_test_split(df)\n",
    "\n",
    "X_train = train.drop('target',axis=1)\n",
    "y_train = train['target']\n",
    "X_test = test.drop('target',axis=1)\n",
    "y_test = test['target']"
   ]
  },
  {
   "cell_type": "code",
   "execution_count": 7,
   "metadata": {},
   "outputs": [
    {
     "data": {
      "text/html": [
       "<div>\n",
       "<style scoped>\n",
       "    .dataframe tbody tr th:only-of-type {\n",
       "        vertical-align: middle;\n",
       "    }\n",
       "\n",
       "    .dataframe tbody tr th {\n",
       "        vertical-align: top;\n",
       "    }\n",
       "\n",
       "    .dataframe thead th {\n",
       "        text-align: right;\n",
       "    }\n",
       "</style>\n",
       "<table border=\"1\" class=\"dataframe\">\n",
       "  <thead>\n",
       "    <tr style=\"text-align: right;\">\n",
       "      <th></th>\n",
       "      <th>season</th>\n",
       "      <th>PosDiff</th>\n",
       "      <th>GSPGDiff</th>\n",
       "      <th>GCPGDiff</th>\n",
       "      <th>CSPGDiff</th>\n",
       "      <th>PtsPGDiff</th>\n",
       "      <th>SPGDiff</th>\n",
       "      <th>STPGDiff</th>\n",
       "      <th>S%Diff</th>\n",
       "      <th>PTSPG3Diff</th>\n",
       "      <th>PTSPG5Diff</th>\n",
       "      <th>PTSPG7Diff</th>\n",
       "      <th>GD3Diff</th>\n",
       "      <th>GD5Diff</th>\n",
       "      <th>GD7Diff</th>\n",
       "      <th>PosLSDiff</th>\n",
       "      <th>SpentDiff</th>\n",
       "      <th>IncomeDiff</th>\n",
       "      <th>NetDiff</th>\n",
       "    </tr>\n",
       "  </thead>\n",
       "  <tbody>\n",
       "    <tr>\n",
       "      <th>3242</th>\n",
       "      <td>20</td>\n",
       "      <td>-2.0</td>\n",
       "      <td>0.07</td>\n",
       "      <td>-0.08</td>\n",
       "      <td>0.11</td>\n",
       "      <td>0.07</td>\n",
       "      <td>3.593</td>\n",
       "      <td>2.111</td>\n",
       "      <td>-0.016</td>\n",
       "      <td>-2.333</td>\n",
       "      <td>-1.4</td>\n",
       "      <td>-1.143</td>\n",
       "      <td>-2.000</td>\n",
       "      <td>-0.8</td>\n",
       "      <td>-0.857</td>\n",
       "      <td>-1.0</td>\n",
       "      <td>53.39</td>\n",
       "      <td>-3.51</td>\n",
       "      <td>-56.9</td>\n",
       "    </tr>\n",
       "    <tr>\n",
       "      <th>521</th>\n",
       "      <td>10</td>\n",
       "      <td>1.0</td>\n",
       "      <td>-0.18</td>\n",
       "      <td>-0.18</td>\n",
       "      <td>0.06</td>\n",
       "      <td>0.00</td>\n",
       "      <td>0.294</td>\n",
       "      <td>0.117</td>\n",
       "      <td>0.000</td>\n",
       "      <td>-1.333</td>\n",
       "      <td>-0.6</td>\n",
       "      <td>-0.429</td>\n",
       "      <td>-2.333</td>\n",
       "      <td>-1.4</td>\n",
       "      <td>-1.143</td>\n",
       "      <td>-1.0</td>\n",
       "      <td>-5.27</td>\n",
       "      <td>-11.77</td>\n",
       "      <td>-6.5</td>\n",
       "    </tr>\n",
       "  </tbody>\n",
       "</table>\n",
       "</div>"
      ],
      "text/plain": [
       "      season  PosDiff  GSPGDiff  GCPGDiff  CSPGDiff  PtsPGDiff  SPGDiff  \\\n",
       "3242      20     -2.0      0.07     -0.08      0.11       0.07    3.593   \n",
       "521       10      1.0     -0.18     -0.18      0.06       0.00    0.294   \n",
       "\n",
       "      STPGDiff  S%Diff  PTSPG3Diff  PTSPG5Diff  PTSPG7Diff  GD3Diff  GD5Diff  \\\n",
       "3242     2.111  -0.016      -2.333        -1.4      -1.143   -2.000     -0.8   \n",
       "521      0.117   0.000      -1.333        -0.6      -0.429   -2.333     -1.4   \n",
       "\n",
       "      GD7Diff  PosLSDiff  SpentDiff  IncomeDiff  NetDiff  \n",
       "3242   -0.857       -1.0      53.39       -3.51    -56.9  \n",
       "521    -1.143       -1.0      -5.27      -11.77     -6.5  "
      ]
     },
     "execution_count": 7,
     "metadata": {},
     "output_type": "execute_result"
    }
   ],
   "source": [
    "X_train.head(2)"
   ]
  },
  {
   "cell_type": "code",
   "execution_count": 8,
   "metadata": {},
   "outputs": [
    {
     "data": {
      "text/plain": [
       "array([ 2.47368308e-01, -2.47368308e-02,  8.65789077e-04, -9.89473231e-04,\n",
       "        1.36052569e-03,  8.65789077e-04,  4.44397165e-02,  2.61097249e-02,\n",
       "       -1.97894646e-04, -2.88555131e-02, -1.73157815e-02, -1.41370988e-02,\n",
       "       -2.47368308e-02, -9.89473231e-03, -1.05997320e-02, -1.23684154e-02,\n",
       "        6.60349697e-01, -4.34131380e-02, -7.03762835e-01])"
      ]
     },
     "execution_count": 8,
     "metadata": {},
     "output_type": "execute_result"
    }
   ],
   "source": [
    "X_train_norm = tf.keras.utils.normalize(X_train.values,axis=1)\n",
    "X_test_norm = tf.keras.utils.normalize(X_test.values,axis=1)\n",
    "X_train_norm[0]"
   ]
  },
  {
   "cell_type": "code",
   "execution_count": 9,
   "metadata": {},
   "outputs": [],
   "source": [
    "model = tf.keras.models.Sequential()\n",
    "#model.add(tf.keras.layers.Flatten())\n",
    "model.add(tf.keras.layers.Dense(12, activation = tf.nn.relu))\n",
    "model.add(tf.keras.layers.Dense(12, activation = tf.nn.relu))\n",
    "model.add(tf.keras.layers.Dense(2, activation = tf.nn.softmax))"
   ]
  },
  {
   "cell_type": "code",
   "execution_count": 10,
   "metadata": {},
   "outputs": [],
   "source": [
    "model.compile(optimizer='adam',\n",
    "             loss='sparse_categorical_crossentropy',\n",
    "             metrics=['accuracy'])\n",
    "\n",
    "class_weight = {0: 1,\n",
    "                1: 2.732}"
   ]
  },
  {
   "cell_type": "code",
   "execution_count": 11,
   "metadata": {
    "scrolled": true
   },
   "outputs": [
    {
     "name": "stdout",
     "output_type": "stream",
     "text": [
      "Train on 3773 samples, validate on 944 samples\n",
      "Epoch 1/20\n",
      "3773/3773 [==============================] - 1s 391us/step - loss: 0.6938 - acc: 0.6268 - val_loss: 0.6813 - val_acc: 0.6907\n",
      "Epoch 2/20\n",
      "3773/3773 [==============================] - 1s 173us/step - loss: 0.6918 - acc: 0.6581 - val_loss: 0.6841 - val_acc: 0.6356\n",
      "Epoch 3/20\n",
      "3773/3773 [==============================] - 1s 261us/step - loss: 0.6910 - acc: 0.6255 - val_loss: 0.6810 - val_acc: 0.6335\n",
      "Epoch 4/20\n",
      "3773/3773 [==============================] - 0s 120us/step - loss: 0.6903 - acc: 0.6300 - val_loss: 0.6796 - val_acc: 0.6271\n",
      "Epoch 5/20\n",
      "3773/3773 [==============================] - 1s 135us/step - loss: 0.6893 - acc: 0.6311 - val_loss: 0.6795 - val_acc: 0.6091\n",
      "Epoch 6/20\n",
      "3773/3773 [==============================] - 1s 143us/step - loss: 0.6888 - acc: 0.6316 - val_loss: 0.6788 - val_acc: 0.6112\n",
      "Epoch 7/20\n",
      "3773/3773 [==============================] - 1s 172us/step - loss: 0.6884 - acc: 0.6157 - val_loss: 0.6806 - val_acc: 0.5985\n",
      "Epoch 8/20\n",
      "3773/3773 [==============================] - 1s 199us/step - loss: 0.6876 - acc: 0.6255 - val_loss: 0.6870 - val_acc: 0.5699\n",
      "Epoch 9/20\n",
      "3773/3773 [==============================] - 1s 232us/step - loss: 0.6874 - acc: 0.5918 - val_loss: 0.6777 - val_acc: 0.5964\n",
      "Epoch 10/20\n",
      "3773/3773 [==============================] - 1s 343us/step - loss: 0.6868 - acc: 0.6112 - val_loss: 0.6781 - val_acc: 0.5943\n",
      "Epoch 11/20\n",
      "3773/3773 [==============================] - 1s 295us/step - loss: 0.6866 - acc: 0.6205 - val_loss: 0.6829 - val_acc: 0.5720\n",
      "Epoch 12/20\n",
      "3773/3773 [==============================] - 1s 201us/step - loss: 0.6867 - acc: 0.6138 - val_loss: 0.6822 - val_acc: 0.5710\n",
      "Epoch 13/20\n",
      "3773/3773 [==============================] - 1s 254us/step - loss: 0.6855 - acc: 0.6125 - val_loss: 0.6852 - val_acc: 0.5551\n",
      "Epoch 14/20\n",
      "3773/3773 [==============================] - 1s 240us/step - loss: 0.6851 - acc: 0.6104 - val_loss: 0.6874 - val_acc: 0.5477\n",
      "Epoch 15/20\n",
      "3773/3773 [==============================] - 1s 145us/step - loss: 0.6854 - acc: 0.6088 - val_loss: 0.6909 - val_acc: 0.5498\n",
      "Epoch 16/20\n",
      "3773/3773 [==============================] - 1s 198us/step - loss: 0.6848 - acc: 0.5963 - val_loss: 0.6721 - val_acc: 0.5985\n",
      "Epoch 17/20\n",
      "3773/3773 [==============================] - 1s 193us/step - loss: 0.6843 - acc: 0.6205 - val_loss: 0.6877 - val_acc: 0.5466\n",
      "Epoch 18/20\n",
      "3773/3773 [==============================] - 1s 149us/step - loss: 0.6840 - acc: 0.5971 - val_loss: 0.6793 - val_acc: 0.5731\n",
      "Epoch 19/20\n",
      "3773/3773 [==============================] - 1s 206us/step - loss: 0.6831 - acc: 0.6178 - val_loss: 0.6748 - val_acc: 0.5869\n",
      "Epoch 20/20\n",
      "3773/3773 [==============================] - 1s 207us/step - loss: 0.6836 - acc: 0.6173 - val_loss: 0.6848 - val_acc: 0.5498\n"
     ]
    },
    {
     "data": {
      "text/plain": [
       "<tensorflow.python.keras.callbacks.History at 0x7f1da513c588>"
      ]
     },
     "execution_count": 11,
     "metadata": {},
     "output_type": "execute_result"
    }
   ],
   "source": [
    "model.fit(X_train_norm, y_train.values, epochs=20, validation_data=(X_test_norm,y_test), class_weight=class_weight)"
   ]
  },
  {
   "cell_type": "code",
   "execution_count": 12,
   "metadata": {},
   "outputs": [
    {
     "name": "stdout",
     "output_type": "stream",
     "text": [
      "preds: {0: 2396, 1: 1377}\n",
      "real: {0: 2762, 1: 1011}\n",
      "[[1843  553]\n",
      " [ 919  458]]\n"
     ]
    }
   ],
   "source": [
    "train_pred = model.predict_classes(X_train_norm)\n",
    "test_pred = model.predict_classes(X_test_norm)\n",
    "\n",
    "import numpy as np\n",
    "\n",
    "unique, counts = np.unique(train_pred, return_counts=True)\n",
    "print(\"preds: \" + str(dict(zip(unique, counts))))\n",
    "\n",
    "unique, counts = np.unique(y_train.values, return_counts=True)\n",
    "print(\"real: \" + str(dict(zip(unique, counts))))\n",
    "\n",
    "from sklearn.metrics import confusion_matrix as conf_matrix\n",
    "\n",
    "print(conf_matrix(train_pred,y_train.values,labels=[0,1]))"
   ]
  },
  {
   "cell_type": "code",
   "execution_count": 13,
   "metadata": {},
   "outputs": [
    {
     "name": "stdout",
     "output_type": "stream",
     "text": [
      "[[429 163]\n",
      " [262  90]]\n"
     ]
    }
   ],
   "source": [
    "print(conf_matrix(test_pred,y_test.values))"
   ]
  },
  {
   "cell_type": "code",
   "execution_count": 14,
   "metadata": {},
   "outputs": [],
   "source": [
    "test_pred_probs = model.predict(X_test_norm)"
   ]
  },
  {
   "cell_type": "code",
   "execution_count": 15,
   "metadata": {},
   "outputs": [
    {
     "data": {
      "text/plain": [
       "array([0.552376, 0.447624], dtype=float32)"
      ]
     },
     "execution_count": 15,
     "metadata": {},
     "output_type": "execute_result"
    }
   ],
   "source": [
    "test_pred_probs[0]"
   ]
  },
  {
   "cell_type": "code",
   "execution_count": null,
   "metadata": {},
   "outputs": [],
   "source": []
  },
  {
   "cell_type": "code",
   "execution_count": null,
   "metadata": {},
   "outputs": [],
   "source": [
    "2184/1264 #1"
   ]
  },
  {
   "cell_type": "code",
   "execution_count": null,
   "metadata": {},
   "outputs": [],
   "source": [
    "2184/1269 #0"
   ]
  },
  {
   "cell_type": "code",
   "execution_count": null,
   "metadata": {},
   "outputs": [],
   "source": []
  }
 ],
 "metadata": {
  "kernelspec": {
   "display_name": "Python 3",
   "language": "python",
   "name": "python3"
  },
  "language_info": {
   "codemirror_mode": {
    "name": "ipython",
    "version": 3
   },
   "file_extension": ".py",
   "mimetype": "text/x-python",
   "name": "python",
   "nbconvert_exporter": "python",
   "pygments_lexer": "ipython3",
   "version": "3.6.7"
  }
 },
 "nbformat": 4,
 "nbformat_minor": 2
}
