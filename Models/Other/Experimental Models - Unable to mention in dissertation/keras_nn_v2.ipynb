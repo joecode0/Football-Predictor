{
 "cells": [
  {
   "cell_type": "code",
   "execution_count": 1,
   "metadata": {},
   "outputs": [],
   "source": [
    "import pandas as pd\n",
    "import tensorflow as tf"
   ]
  },
  {
   "cell_type": "code",
   "execution_count": 2,
   "metadata": {},
   "outputs": [],
   "source": [
    "df = pd.read_csv(\"main_database_diffs_for_models.csv\")"
   ]
  },
  {
   "cell_type": "code",
   "execution_count": 3,
   "metadata": {},
   "outputs": [
    {
     "data": {
      "text/html": [
       "<div>\n",
       "<style scoped>\n",
       "    .dataframe tbody tr th:only-of-type {\n",
       "        vertical-align: middle;\n",
       "    }\n",
       "\n",
       "    .dataframe tbody tr th {\n",
       "        vertical-align: top;\n",
       "    }\n",
       "\n",
       "    .dataframe thead th {\n",
       "        text-align: right;\n",
       "    }\n",
       "</style>\n",
       "<table border=\"1\" class=\"dataframe\">\n",
       "  <thead>\n",
       "    <tr style=\"text-align: right;\">\n",
       "      <th></th>\n",
       "      <th>season</th>\n",
       "      <th>target</th>\n",
       "      <th>PosDiff</th>\n",
       "      <th>GSPGDiff</th>\n",
       "      <th>GCPGDiff</th>\n",
       "      <th>CSPGDiff</th>\n",
       "      <th>PtsPGDiff</th>\n",
       "      <th>SPGDiff</th>\n",
       "      <th>STPGDiff</th>\n",
       "      <th>S%Diff</th>\n",
       "      <th>PTSPG3Diff</th>\n",
       "      <th>PTSPG5Diff</th>\n",
       "      <th>PTSPG7Diff</th>\n",
       "      <th>GD3Diff</th>\n",
       "      <th>GD5Diff</th>\n",
       "      <th>GD7Diff</th>\n",
       "      <th>PosLSDiff</th>\n",
       "      <th>SpentDiff</th>\n",
       "      <th>IncomeDiff</th>\n",
       "      <th>NetDiff</th>\n",
       "    </tr>\n",
       "  </thead>\n",
       "  <tbody>\n",
       "    <tr>\n",
       "      <th>0</th>\n",
       "      <td>9</td>\n",
       "      <td>2</td>\n",
       "      <td>-9.0</td>\n",
       "      <td>0.0</td>\n",
       "      <td>0.0</td>\n",
       "      <td>0.0</td>\n",
       "      <td>0.0</td>\n",
       "      <td>0.0</td>\n",
       "      <td>0.0</td>\n",
       "      <td>0.0</td>\n",
       "      <td>0.0</td>\n",
       "      <td>0.0</td>\n",
       "      <td>0.0</td>\n",
       "      <td>0.0</td>\n",
       "      <td>0.0</td>\n",
       "      <td>0.0</td>\n",
       "      <td>0.0</td>\n",
       "      <td>0.65</td>\n",
       "      <td>-0.841</td>\n",
       "      <td>-1.491</td>\n",
       "    </tr>\n",
       "    <tr>\n",
       "      <th>1</th>\n",
       "      <td>9</td>\n",
       "      <td>2</td>\n",
       "      <td>-15.0</td>\n",
       "      <td>0.0</td>\n",
       "      <td>0.0</td>\n",
       "      <td>0.0</td>\n",
       "      <td>0.0</td>\n",
       "      <td>0.0</td>\n",
       "      <td>0.0</td>\n",
       "      <td>0.0</td>\n",
       "      <td>0.0</td>\n",
       "      <td>0.0</td>\n",
       "      <td>0.0</td>\n",
       "      <td>0.0</td>\n",
       "      <td>0.0</td>\n",
       "      <td>0.0</td>\n",
       "      <td>-4.0</td>\n",
       "      <td>38.23</td>\n",
       "      <td>-3.330</td>\n",
       "      <td>-41.560</td>\n",
       "    </tr>\n",
       "  </tbody>\n",
       "</table>\n",
       "</div>"
      ],
      "text/plain": [
       "   season  target  PosDiff  GSPGDiff  GCPGDiff  CSPGDiff  PtsPGDiff  SPGDiff  \\\n",
       "0       9       2     -9.0       0.0       0.0       0.0        0.0      0.0   \n",
       "1       9       2    -15.0       0.0       0.0       0.0        0.0      0.0   \n",
       "\n",
       "   STPGDiff  S%Diff  PTSPG3Diff  PTSPG5Diff  PTSPG7Diff  GD3Diff  GD5Diff  \\\n",
       "0       0.0     0.0         0.0         0.0         0.0      0.0      0.0   \n",
       "1       0.0     0.0         0.0         0.0         0.0      0.0      0.0   \n",
       "\n",
       "   GD7Diff  PosLSDiff  SpentDiff  IncomeDiff  NetDiff  \n",
       "0      0.0        0.0       0.65      -0.841   -1.491  \n",
       "1      0.0       -4.0      38.23      -3.330  -41.560  "
      ]
     },
     "execution_count": 3,
     "metadata": {},
     "output_type": "execute_result"
    }
   ],
   "source": [
    "df.head(2)"
   ]
  },
  {
   "cell_type": "code",
   "execution_count": 4,
   "metadata": {},
   "outputs": [],
   "source": [
    "from sklearn.model_selection import StratifiedShuffleSplit\n",
    "\n",
    "def get_train_test_split(data):\n",
    "    split = StratifiedShuffleSplit(n_splits=1, test_size=0.2, random_state=42)\n",
    "    for train_index, test_index in split.split(data, data[\"target\"]):\n",
    "        data_train = data.loc[train_index]\n",
    "        data_test = data.loc[test_index]\n",
    "    return data_train, data_test\n",
    "\n",
    "train,test = get_train_test_split(df)\n",
    "\n",
    "X_train = train.drop('target',axis=1)\n",
    "y_train = train['target']\n",
    "X_test = test.drop('target',axis=1)\n",
    "y_test = test['target']"
   ]
  },
  {
   "cell_type": "code",
   "execution_count": 5,
   "metadata": {},
   "outputs": [
    {
     "data": {
      "text/html": [
       "<div>\n",
       "<style scoped>\n",
       "    .dataframe tbody tr th:only-of-type {\n",
       "        vertical-align: middle;\n",
       "    }\n",
       "\n",
       "    .dataframe tbody tr th {\n",
       "        vertical-align: top;\n",
       "    }\n",
       "\n",
       "    .dataframe thead th {\n",
       "        text-align: right;\n",
       "    }\n",
       "</style>\n",
       "<table border=\"1\" class=\"dataframe\">\n",
       "  <thead>\n",
       "    <tr style=\"text-align: right;\">\n",
       "      <th></th>\n",
       "      <th>season</th>\n",
       "      <th>PosDiff</th>\n",
       "      <th>GSPGDiff</th>\n",
       "      <th>GCPGDiff</th>\n",
       "      <th>CSPGDiff</th>\n",
       "      <th>PtsPGDiff</th>\n",
       "      <th>SPGDiff</th>\n",
       "      <th>STPGDiff</th>\n",
       "      <th>S%Diff</th>\n",
       "      <th>PTSPG3Diff</th>\n",
       "      <th>PTSPG5Diff</th>\n",
       "      <th>PTSPG7Diff</th>\n",
       "      <th>GD3Diff</th>\n",
       "      <th>GD5Diff</th>\n",
       "      <th>GD7Diff</th>\n",
       "      <th>PosLSDiff</th>\n",
       "      <th>SpentDiff</th>\n",
       "      <th>IncomeDiff</th>\n",
       "      <th>NetDiff</th>\n",
       "    </tr>\n",
       "  </thead>\n",
       "  <tbody>\n",
       "    <tr>\n",
       "      <th>6206</th>\n",
       "      <td>25</td>\n",
       "      <td>-6.0</td>\n",
       "      <td>0.91</td>\n",
       "      <td>-0.33</td>\n",
       "      <td>0.00</td>\n",
       "      <td>0.83</td>\n",
       "      <td>2.25</td>\n",
       "      <td>1.000</td>\n",
       "      <td>0.060</td>\n",
       "      <td>0.667</td>\n",
       "      <td>0.4</td>\n",
       "      <td>0.572</td>\n",
       "      <td>1.667</td>\n",
       "      <td>0.2</td>\n",
       "      <td>0.572</td>\n",
       "      <td>-14.0</td>\n",
       "      <td>59.68</td>\n",
       "      <td>-13.62</td>\n",
       "      <td>-73.30</td>\n",
       "    </tr>\n",
       "    <tr>\n",
       "      <th>40</th>\n",
       "      <td>9</td>\n",
       "      <td>2.0</td>\n",
       "      <td>-0.42</td>\n",
       "      <td>0.75</td>\n",
       "      <td>-0.33</td>\n",
       "      <td>-0.50</td>\n",
       "      <td>-4.25</td>\n",
       "      <td>-1.917</td>\n",
       "      <td>0.048</td>\n",
       "      <td>0.000</td>\n",
       "      <td>0.0</td>\n",
       "      <td>0.000</td>\n",
       "      <td>-0.667</td>\n",
       "      <td>0.0</td>\n",
       "      <td>0.000</td>\n",
       "      <td>11.0</td>\n",
       "      <td>-30.74</td>\n",
       "      <td>12.73</td>\n",
       "      <td>43.47</td>\n",
       "    </tr>\n",
       "  </tbody>\n",
       "</table>\n",
       "</div>"
      ],
      "text/plain": [
       "      season  PosDiff  GSPGDiff  GCPGDiff  CSPGDiff  PtsPGDiff  SPGDiff  \\\n",
       "6206      25     -6.0      0.91     -0.33      0.00       0.83     2.25   \n",
       "40         9      2.0     -0.42      0.75     -0.33      -0.50    -4.25   \n",
       "\n",
       "      STPGDiff  S%Diff  PTSPG3Diff  PTSPG5Diff  PTSPG7Diff  GD3Diff  GD5Diff  \\\n",
       "6206     1.000   0.060       0.667         0.4       0.572    1.667      0.2   \n",
       "40      -1.917   0.048       0.000         0.0       0.000   -0.667      0.0   \n",
       "\n",
       "      GD7Diff  PosLSDiff  SpentDiff  IncomeDiff  NetDiff  \n",
       "6206    0.572      -14.0      59.68      -13.62   -73.30  \n",
       "40      0.000       11.0     -30.74       12.73    43.47  "
      ]
     },
     "execution_count": 5,
     "metadata": {},
     "output_type": "execute_result"
    }
   ],
   "source": [
    "X_train.head(2)"
   ]
  },
  {
   "cell_type": "code",
   "execution_count": 6,
   "metadata": {},
   "outputs": [
    {
     "data": {
      "text/plain": [
       "array([ 2.50139279e-01, -6.00334271e-02,  9.10506977e-03, -3.30183849e-03,\n",
       "        0.00000000e+00,  8.30462408e-03,  2.25125352e-02,  1.00055712e-02,\n",
       "        6.00334271e-04,  6.67371598e-03,  4.00222847e-03,  5.72318671e-03,\n",
       "        1.66792872e-02,  2.00111424e-03,  5.72318671e-03, -1.40077997e-01,\n",
       "        5.97132488e-01, -1.36275879e-01, -7.33408367e-01])"
      ]
     },
     "execution_count": 6,
     "metadata": {},
     "output_type": "execute_result"
    }
   ],
   "source": [
    "X_train_norm = tf.keras.utils.normalize(X_train.values,axis=1)\n",
    "X_test_norm = tf.keras.utils.normalize(X_test.values,axis=1)\n",
    "X_train_norm[0]"
   ]
  },
  {
   "cell_type": "code",
   "execution_count": 7,
   "metadata": {},
   "outputs": [],
   "source": [
    "model = tf.keras.models.Sequential()\n",
    "#model.add(tf.keras.layers.Flatten())\n",
    "model.add(tf.keras.layers.Dense(12, activation = tf.nn.relu))\n",
    "model.add(tf.keras.layers.Dense(12, activation = tf.nn.relu))\n",
    "#model.add(tf.keras.layers.Dropout(0.5))\n",
    "model.add(tf.keras.layers.Dense(3, activation = tf.nn.softmax))"
   ]
  },
  {
   "cell_type": "code",
   "execution_count": 8,
   "metadata": {},
   "outputs": [],
   "source": [
    "model.compile(optimizer='adam',\n",
    "             loss='sparse_categorical_crossentropy',\n",
    "             metrics=['accuracy'])\n",
    "\n",
    "class_weight = {0: 1.688,\n",
    "                1: 1.747,\n",
    "                2: 1}"
   ]
  },
  {
   "cell_type": "code",
   "execution_count": 9,
   "metadata": {
    "scrolled": true
   },
   "outputs": [
    {
     "name": "stdout",
     "output_type": "stream",
     "text": [
      "Train on 5168 samples, validate on 1292 samples\n",
      "Epoch 1/20\n",
      "5168/5168 [==============================] - 1s 251us/step - loss: 1.0804 - acc: 0.4667 - val_loss: 1.0547 - val_acc: 0.4628\n",
      "Epoch 2/20\n",
      "5168/5168 [==============================] - 1s 131us/step - loss: 1.0529 - acc: 0.4779 - val_loss: 1.0483 - val_acc: 0.4706\n",
      "Epoch 3/20\n",
      "5168/5168 [==============================] - 1s 119us/step - loss: 1.0438 - acc: 0.4758 - val_loss: 1.0453 - val_acc: 0.4768\n",
      "Epoch 4/20\n",
      "5168/5168 [==============================] - 1s 127us/step - loss: 1.0388 - acc: 0.4843 - val_loss: 1.0407 - val_acc: 0.4737\n",
      "Epoch 5/20\n",
      "5168/5168 [==============================] - 1s 132us/step - loss: 1.0356 - acc: 0.4814 - val_loss: 1.0372 - val_acc: 0.4884\n",
      "Epoch 6/20\n",
      "5168/5168 [==============================] - 1s 120us/step - loss: 1.0321 - acc: 0.4820 - val_loss: 1.0388 - val_acc: 0.4799\n",
      "Epoch 7/20\n",
      "5168/5168 [==============================] - 1s 139us/step - loss: 1.0308 - acc: 0.4886 - val_loss: 1.0322 - val_acc: 0.4907\n",
      "Epoch 8/20\n",
      "5168/5168 [==============================] - 1s 136us/step - loss: 1.0286 - acc: 0.4863 - val_loss: 1.0391 - val_acc: 0.4814\n",
      "Epoch 9/20\n",
      "5168/5168 [==============================] - 1s 139us/step - loss: 1.0278 - acc: 0.4820 - val_loss: 1.0330 - val_acc: 0.4892\n",
      "Epoch 10/20\n",
      "5168/5168 [==============================] - 1s 208us/step - loss: 1.0262 - acc: 0.4921 - val_loss: 1.0368 - val_acc: 0.4822\n",
      "Epoch 11/20\n",
      "5168/5168 [==============================] - 1s 181us/step - loss: 1.0248 - acc: 0.4855 - val_loss: 1.0263 - val_acc: 0.4930\n",
      "Epoch 12/20\n",
      "5168/5168 [==============================] - 1s 171us/step - loss: 1.0247 - acc: 0.4911 - val_loss: 1.0340 - val_acc: 0.4861\n",
      "Epoch 13/20\n",
      "5168/5168 [==============================] - 1s 169us/step - loss: 1.0236 - acc: 0.4876 - val_loss: 1.0319 - val_acc: 0.4892\n",
      "Epoch 14/20\n",
      "5168/5168 [==============================] - 1s 187us/step - loss: 1.0231 - acc: 0.4954 - val_loss: 1.0285 - val_acc: 0.4915\n",
      "Epoch 15/20\n",
      "5168/5168 [==============================] - 1s 169us/step - loss: 1.0227 - acc: 0.4913 - val_loss: 1.0310 - val_acc: 0.4907\n",
      "Epoch 16/20\n",
      "5168/5168 [==============================] - 1s 142us/step - loss: 1.0213 - acc: 0.4959 - val_loss: 1.0335 - val_acc: 0.4907\n",
      "Epoch 17/20\n",
      "5168/5168 [==============================] - 1s 137us/step - loss: 1.0211 - acc: 0.4961 - val_loss: 1.0307 - val_acc: 0.4961\n",
      "Epoch 18/20\n",
      "5168/5168 [==============================] - 1s 125us/step - loss: 1.0206 - acc: 0.4934 - val_loss: 1.0262 - val_acc: 0.4923\n",
      "Epoch 19/20\n",
      "5168/5168 [==============================] - 1s 127us/step - loss: 1.0201 - acc: 0.4971 - val_loss: 1.0337 - val_acc: 0.4907\n",
      "Epoch 20/20\n",
      "5168/5168 [==============================] - 1s 129us/step - loss: 1.0194 - acc: 0.4979 - val_loss: 1.0312 - val_acc: 0.4930\n"
     ]
    },
    {
     "data": {
      "text/plain": [
       "<tensorflow.python.keras.callbacks.History at 0x7f5984a766d8>"
      ]
     },
     "execution_count": 9,
     "metadata": {},
     "output_type": "execute_result"
    }
   ],
   "source": [
    "model.fit(X_train_norm, y_train.values, epochs=20, validation_data=(X_test_norm,y_test), class_weight=class_weight)"
   ]
  },
  {
   "cell_type": "code",
   "execution_count": 10,
   "metadata": {},
   "outputs": [
    {
     "name": "stdout",
     "output_type": "stream",
     "text": [
      "preds: {0: 2306, 1: 725, 2: 2137}\n",
      "real: {0: 1444, 1: 1322, 2: 2402}\n",
      "[[ 975  601  730]\n",
      " [ 190  232  303]\n",
      " [ 279  489 1369]]\n"
     ]
    }
   ],
   "source": [
    "train_pred = model.predict_classes(X_train_norm)\n",
    "test_pred = model.predict_classes(X_test_norm)\n",
    "\n",
    "import numpy as np\n",
    "\n",
    "unique, counts = np.unique(train_pred, return_counts=True)\n",
    "print(\"preds: \" + str(dict(zip(unique, counts))))\n",
    "\n",
    "unique, counts = np.unique(y_train.values, return_counts=True)\n",
    "print(\"real: \" + str(dict(zip(unique, counts))))\n",
    "\n",
    "from sklearn.metrics import confusion_matrix as conf_matrix\n",
    "\n",
    "print(conf_matrix(train_pred,y_train.values,labels=[0,1,2]))"
   ]
  },
  {
   "cell_type": "code",
   "execution_count": 11,
   "metadata": {},
   "outputs": [
    {
     "name": "stdout",
     "output_type": "stream",
     "text": [
      "[[232 148 175]\n",
      " [ 41  59  80]\n",
      " [ 88 123 346]]\n"
     ]
    }
   ],
   "source": [
    "print(conf_matrix(test_pred,y_test.values))"
   ]
  },
  {
   "cell_type": "code",
   "execution_count": 12,
   "metadata": {},
   "outputs": [],
   "source": [
    "test_pred_probs = model.predict(X_test_norm)"
   ]
  },
  {
   "cell_type": "code",
   "execution_count": 13,
   "metadata": {},
   "outputs": [
    {
     "data": {
      "text/plain": [
       "array([0.32085216, 0.2987421 , 0.38040578], dtype=float32)"
      ]
     },
     "execution_count": 13,
     "metadata": {},
     "output_type": "execute_result"
    }
   ],
   "source": [
    "test_pred_probs[0]"
   ]
  },
  {
   "cell_type": "code",
   "execution_count": null,
   "metadata": {},
   "outputs": [],
   "source": []
  }
 ],
 "metadata": {
  "kernelspec": {
   "display_name": "Python 3",
   "language": "python",
   "name": "python3"
  },
  "language_info": {
   "codemirror_mode": {
    "name": "ipython",
    "version": 3
   },
   "file_extension": ".py",
   "mimetype": "text/x-python",
   "name": "python",
   "nbconvert_exporter": "python",
   "pygments_lexer": "ipython3",
   "version": "3.6.7"
  }
 },
 "nbformat": 4,
 "nbformat_minor": 2
}
