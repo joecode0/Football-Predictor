{
 "cells": [
  {
   "cell_type": "code",
   "execution_count": 1,
   "metadata": {},
   "outputs": [],
   "source": [
    "import pandas as pd\n",
    "import tensorflow as tf"
   ]
  },
  {
   "cell_type": "code",
   "execution_count": 2,
   "metadata": {},
   "outputs": [],
   "source": [
    "df = pd.read_csv(\"main_database_large_diff.csv\")"
   ]
  },
  {
   "cell_type": "code",
   "execution_count": 3,
   "metadata": {},
   "outputs": [
    {
     "data": {
      "text/html": [
       "<div>\n",
       "<style scoped>\n",
       "    .dataframe tbody tr th:only-of-type {\n",
       "        vertical-align: middle;\n",
       "    }\n",
       "\n",
       "    .dataframe tbody tr th {\n",
       "        vertical-align: top;\n",
       "    }\n",
       "\n",
       "    .dataframe thead th {\n",
       "        text-align: right;\n",
       "    }\n",
       "</style>\n",
       "<table border=\"1\" class=\"dataframe\">\n",
       "  <thead>\n",
       "    <tr style=\"text-align: right;\">\n",
       "      <th></th>\n",
       "      <th>season</th>\n",
       "      <th>target</th>\n",
       "      <th>PosDiff</th>\n",
       "      <th>GSPGDiff</th>\n",
       "      <th>GCPGDiff</th>\n",
       "      <th>CSPGDiff</th>\n",
       "      <th>PtsPGDiff</th>\n",
       "      <th>SPGDiff</th>\n",
       "      <th>STPGDiff</th>\n",
       "      <th>S%Diff</th>\n",
       "      <th>PTSPG3Diff</th>\n",
       "      <th>PTSPG5Diff</th>\n",
       "      <th>PTSPG7Diff</th>\n",
       "      <th>GD3Diff</th>\n",
       "      <th>GD5Diff</th>\n",
       "      <th>GD7Diff</th>\n",
       "      <th>PosLSDiff</th>\n",
       "      <th>SpentDiff</th>\n",
       "      <th>IncomeDiff</th>\n",
       "      <th>NetDiff</th>\n",
       "    </tr>\n",
       "  </thead>\n",
       "  <tbody>\n",
       "    <tr>\n",
       "      <th>0</th>\n",
       "      <td>9</td>\n",
       "      <td>2</td>\n",
       "      <td>-15.0</td>\n",
       "      <td>0.0</td>\n",
       "      <td>0.0</td>\n",
       "      <td>0.0</td>\n",
       "      <td>0.0</td>\n",
       "      <td>0.0</td>\n",
       "      <td>0.0</td>\n",
       "      <td>0.0</td>\n",
       "      <td>0.0</td>\n",
       "      <td>0.0</td>\n",
       "      <td>0.0</td>\n",
       "      <td>0.0</td>\n",
       "      <td>0.0</td>\n",
       "      <td>0.0</td>\n",
       "      <td>-4.0</td>\n",
       "      <td>38.23</td>\n",
       "      <td>-3.330</td>\n",
       "      <td>-41.560</td>\n",
       "    </tr>\n",
       "    <tr>\n",
       "      <th>1</th>\n",
       "      <td>9</td>\n",
       "      <td>1</td>\n",
       "      <td>-10.0</td>\n",
       "      <td>0.0</td>\n",
       "      <td>0.0</td>\n",
       "      <td>0.0</td>\n",
       "      <td>0.0</td>\n",
       "      <td>0.0</td>\n",
       "      <td>0.0</td>\n",
       "      <td>0.0</td>\n",
       "      <td>0.0</td>\n",
       "      <td>0.0</td>\n",
       "      <td>0.0</td>\n",
       "      <td>0.0</td>\n",
       "      <td>0.0</td>\n",
       "      <td>0.0</td>\n",
       "      <td>1.0</td>\n",
       "      <td>11.99</td>\n",
       "      <td>6.129</td>\n",
       "      <td>-5.861</td>\n",
       "    </tr>\n",
       "  </tbody>\n",
       "</table>\n",
       "</div>"
      ],
      "text/plain": [
       "   season  target  PosDiff  GSPGDiff  GCPGDiff  CSPGDiff  PtsPGDiff  SPGDiff  \\\n",
       "0       9       2    -15.0       0.0       0.0       0.0        0.0      0.0   \n",
       "1       9       1    -10.0       0.0       0.0       0.0        0.0      0.0   \n",
       "\n",
       "   STPGDiff  S%Diff  PTSPG3Diff  PTSPG5Diff  PTSPG7Diff  GD3Diff  GD5Diff  \\\n",
       "0       0.0     0.0         0.0         0.0         0.0      0.0      0.0   \n",
       "1       0.0     0.0         0.0         0.0         0.0      0.0      0.0   \n",
       "\n",
       "   GD7Diff  PosLSDiff  SpentDiff  IncomeDiff  NetDiff  \n",
       "0      0.0       -4.0      38.23      -3.330  -41.560  \n",
       "1      0.0        1.0      11.99       6.129   -5.861  "
      ]
     },
     "execution_count": 3,
     "metadata": {},
     "output_type": "execute_result"
    }
   ],
   "source": [
    "df.head(2)"
   ]
  },
  {
   "cell_type": "code",
   "execution_count": 4,
   "metadata": {},
   "outputs": [],
   "source": [
    "from sklearn.model_selection import StratifiedShuffleSplit\n",
    "\n",
    "def get_train_test_split(data):\n",
    "    split = StratifiedShuffleSplit(n_splits=1, test_size=0.2, random_state=42)\n",
    "    for train_index, test_index in split.split(data, data[\"target\"]):\n",
    "        data_train = data.loc[train_index]\n",
    "        data_test = data.loc[test_index]\n",
    "    return data_train, data_test\n",
    "\n",
    "train,test = get_train_test_split(df)\n",
    "\n",
    "X_train = train.drop('target',axis=1)\n",
    "y_train = train['target']\n",
    "X_test = test.drop('target',axis=1)\n",
    "y_test = test['target']"
   ]
  },
  {
   "cell_type": "code",
   "execution_count": 5,
   "metadata": {},
   "outputs": [
    {
     "data": {
      "text/html": [
       "<div>\n",
       "<style scoped>\n",
       "    .dataframe tbody tr th:only-of-type {\n",
       "        vertical-align: middle;\n",
       "    }\n",
       "\n",
       "    .dataframe tbody tr th {\n",
       "        vertical-align: top;\n",
       "    }\n",
       "\n",
       "    .dataframe thead th {\n",
       "        text-align: right;\n",
       "    }\n",
       "</style>\n",
       "<table border=\"1\" class=\"dataframe\">\n",
       "  <thead>\n",
       "    <tr style=\"text-align: right;\">\n",
       "      <th></th>\n",
       "      <th>season</th>\n",
       "      <th>PosDiff</th>\n",
       "      <th>GSPGDiff</th>\n",
       "      <th>GCPGDiff</th>\n",
       "      <th>CSPGDiff</th>\n",
       "      <th>PtsPGDiff</th>\n",
       "      <th>SPGDiff</th>\n",
       "      <th>STPGDiff</th>\n",
       "      <th>S%Diff</th>\n",
       "      <th>PTSPG3Diff</th>\n",
       "      <th>PTSPG5Diff</th>\n",
       "      <th>PTSPG7Diff</th>\n",
       "      <th>GD3Diff</th>\n",
       "      <th>GD5Diff</th>\n",
       "      <th>GD7Diff</th>\n",
       "      <th>PosLSDiff</th>\n",
       "      <th>SpentDiff</th>\n",
       "      <th>IncomeDiff</th>\n",
       "      <th>NetDiff</th>\n",
       "    </tr>\n",
       "  </thead>\n",
       "  <tbody>\n",
       "    <tr>\n",
       "      <th>1513</th>\n",
       "      <td>23</td>\n",
       "      <td>17.0</td>\n",
       "      <td>-1.22</td>\n",
       "      <td>0.72</td>\n",
       "      <td>-0.14</td>\n",
       "      <td>-1.28</td>\n",
       "      <td>-5.071</td>\n",
       "      <td>-2.393</td>\n",
       "      <td>-0.125</td>\n",
       "      <td>-1.667</td>\n",
       "      <td>-1.6</td>\n",
       "      <td>-1.285</td>\n",
       "      <td>-3.0</td>\n",
       "      <td>-2.8</td>\n",
       "      <td>-2.143</td>\n",
       "      <td>17.0</td>\n",
       "      <td>-68.11</td>\n",
       "      <td>-27.56</td>\n",
       "      <td>40.55</td>\n",
       "    </tr>\n",
       "    <tr>\n",
       "      <th>1165</th>\n",
       "      <td>20</td>\n",
       "      <td>11.0</td>\n",
       "      <td>-1.75</td>\n",
       "      <td>0.63</td>\n",
       "      <td>0.26</td>\n",
       "      <td>-1.26</td>\n",
       "      <td>-3.000</td>\n",
       "      <td>-1.625</td>\n",
       "      <td>-0.118</td>\n",
       "      <td>-2.333</td>\n",
       "      <td>-1.2</td>\n",
       "      <td>-1.285</td>\n",
       "      <td>-5.0</td>\n",
       "      <td>-2.2</td>\n",
       "      <td>-2.142</td>\n",
       "      <td>16.0</td>\n",
       "      <td>-63.21</td>\n",
       "      <td>-26.64</td>\n",
       "      <td>36.57</td>\n",
       "    </tr>\n",
       "  </tbody>\n",
       "</table>\n",
       "</div>"
      ],
      "text/plain": [
       "      season  PosDiff  GSPGDiff  GCPGDiff  CSPGDiff  PtsPGDiff  SPGDiff  \\\n",
       "1513      23     17.0     -1.22      0.72     -0.14      -1.28   -5.071   \n",
       "1165      20     11.0     -1.75      0.63      0.26      -1.26   -3.000   \n",
       "\n",
       "      STPGDiff  S%Diff  PTSPG3Diff  PTSPG5Diff  PTSPG7Diff  GD3Diff  GD5Diff  \\\n",
       "1513    -2.393  -0.125      -1.667        -1.6      -1.285     -3.0     -2.8   \n",
       "1165    -1.625  -0.118      -2.333        -1.2      -1.285     -5.0     -2.2   \n",
       "\n",
       "      GD7Diff  PosLSDiff  SpentDiff  IncomeDiff  NetDiff  \n",
       "1513   -2.143       17.0     -68.11      -27.56    40.55  \n",
       "1165   -2.142       16.0     -63.21      -26.64    36.57  "
      ]
     },
     "execution_count": 5,
     "metadata": {},
     "output_type": "execute_result"
    }
   ],
   "source": [
    "X_train.head(2)"
   ]
  },
  {
   "cell_type": "code",
   "execution_count": 6,
   "metadata": {},
   "outputs": [
    {
     "data": {
      "text/plain": [
       "array([ 0.25378566,  0.1875807 , -0.01346167,  0.00794459, -0.00154478,\n",
       "       -0.01412372, -0.05595422, -0.02640474, -0.00137927, -0.01839394,\n",
       "       -0.01765465, -0.01417889, -0.03310248, -0.03089565, -0.0236462 ,\n",
       "        0.1875807 , -0.75153657, -0.30410142,  0.44743515])"
      ]
     },
     "execution_count": 6,
     "metadata": {},
     "output_type": "execute_result"
    }
   ],
   "source": [
    "X_train_norm = tf.keras.utils.normalize(X_train.values,axis=1)\n",
    "X_test_norm = tf.keras.utils.normalize(X_test.values,axis=1)\n",
    "X_train_norm[0]"
   ]
  },
  {
   "cell_type": "code",
   "execution_count": 7,
   "metadata": {},
   "outputs": [],
   "source": [
    "model = tf.keras.models.Sequential()\n",
    "#model.add(tf.keras.layers.Flatten())\n",
    "model.add(tf.keras.layers.Dense(12, activation = tf.nn.relu))\n",
    "model.add(tf.keras.layers.Dense(12, activation = tf.nn.relu))\n",
    "#model.add(tf.keras.layers.Dropout(0.5))\n",
    "model.add(tf.keras.layers.Dense(3, activation = tf.nn.softmax))"
   ]
  },
  {
   "cell_type": "code",
   "execution_count": 8,
   "metadata": {},
   "outputs": [],
   "source": [
    "model.compile(optimizer='adam',\n",
    "             loss='sparse_categorical_crossentropy',\n",
    "             metrics=['accuracy'])\n",
    "\n",
    "class_weight = {0: 1.528,\n",
    "                1: 2.111,\n",
    "                2: 1}"
   ]
  },
  {
   "cell_type": "code",
   "execution_count": 9,
   "metadata": {
    "scrolled": true
   },
   "outputs": [
    {
     "name": "stdout",
     "output_type": "stream",
     "text": [
      "Train on 1394 samples, validate on 349 samples\n",
      "Epoch 1/20\n",
      "1394/1394 [==============================] - 1s 396us/step - loss: 1.0894 - acc: 0.4039 - val_loss: 1.0660 - val_acc: 0.5330\n",
      "Epoch 2/20\n",
      "1394/1394 [==============================] - 0s 107us/step - loss: 1.0626 - acc: 0.5316 - val_loss: 1.0262 - val_acc: 0.5702\n",
      "Epoch 3/20\n",
      "1394/1394 [==============================] - 0s 81us/step - loss: 1.0352 - acc: 0.5552 - val_loss: 0.9874 - val_acc: 0.5817\n",
      "Epoch 4/20\n",
      "1394/1394 [==============================] - 0s 67us/step - loss: 1.0151 - acc: 0.5624 - val_loss: 0.9685 - val_acc: 0.5817\n",
      "Epoch 5/20\n",
      "1394/1394 [==============================] - ETA: 0s - loss: 1.0177 - acc: 0.559 - 0s 76us/step - loss: 1.0053 - acc: 0.5631 - val_loss: 0.9641 - val_acc: 0.5845\n",
      "Epoch 6/20\n",
      "1394/1394 [==============================] - 0s 75us/step - loss: 1.0005 - acc: 0.5624 - val_loss: 0.9630 - val_acc: 0.5817\n",
      "Epoch 7/20\n",
      "1394/1394 [==============================] - 0s 77us/step - loss: 0.9981 - acc: 0.5617 - val_loss: 0.9671 - val_acc: 0.5788\n",
      "Epoch 8/20\n",
      "1394/1394 [==============================] - 0s 73us/step - loss: 0.9959 - acc: 0.5624 - val_loss: 0.9648 - val_acc: 0.5788\n",
      "Epoch 9/20\n",
      "1394/1394 [==============================] - 0s 76us/step - loss: 0.9939 - acc: 0.5631 - val_loss: 0.9632 - val_acc: 0.5759\n",
      "Epoch 10/20\n",
      "1394/1394 [==============================] - 0s 74us/step - loss: 0.9920 - acc: 0.5653 - val_loss: 0.9629 - val_acc: 0.5759\n",
      "Epoch 11/20\n",
      "1394/1394 [==============================] - 0s 74us/step - loss: 0.9924 - acc: 0.5653 - val_loss: 0.9609 - val_acc: 0.5788\n",
      "Epoch 12/20\n",
      "1394/1394 [==============================] - 0s 76us/step - loss: 0.9904 - acc: 0.5696 - val_loss: 0.9665 - val_acc: 0.5731\n",
      "Epoch 13/20\n",
      "1394/1394 [==============================] - 0s 232us/step - loss: 0.9894 - acc: 0.5689 - val_loss: 0.9625 - val_acc: 0.5759\n",
      "Epoch 14/20\n",
      "1394/1394 [==============================] - 0s 76us/step - loss: 0.9883 - acc: 0.5689 - val_loss: 0.9665 - val_acc: 0.5759\n",
      "Epoch 15/20\n",
      "1394/1394 [==============================] - 0s 93us/step - loss: 0.9881 - acc: 0.5710 - val_loss: 0.9624 - val_acc: 0.5759\n",
      "Epoch 16/20\n",
      "1394/1394 [==============================] - 0s 81us/step - loss: 0.9866 - acc: 0.5696 - val_loss: 0.9646 - val_acc: 0.5731\n",
      "Epoch 17/20\n",
      "1394/1394 [==============================] - 0s 80us/step - loss: 0.9851 - acc: 0.5674 - val_loss: 0.9634 - val_acc: 0.5788\n",
      "Epoch 18/20\n",
      "1394/1394 [==============================] - 0s 79us/step - loss: 0.9836 - acc: 0.5696 - val_loss: 0.9624 - val_acc: 0.5788\n",
      "Epoch 19/20\n",
      "1394/1394 [==============================] - 0s 94us/step - loss: 0.9834 - acc: 0.5696 - val_loss: 0.9649 - val_acc: 0.5788\n",
      "Epoch 20/20\n",
      "1394/1394 [==============================] - 0s 71us/step - loss: 0.9829 - acc: 0.5689 - val_loss: 0.9669 - val_acc: 0.5759\n"
     ]
    },
    {
     "data": {
      "text/plain": [
       "<tensorflow.python.keras.callbacks.History at 0x7fc860fbce80>"
      ]
     },
     "execution_count": 9,
     "metadata": {},
     "output_type": "execute_result"
    }
   ],
   "source": [
    "model.fit(X_train_norm, y_train.values, epochs=20, validation_data=(X_test_norm,y_test), class_weight=class_weight)"
   ]
  },
  {
   "cell_type": "code",
   "execution_count": 10,
   "metadata": {},
   "outputs": [
    {
     "name": "stdout",
     "output_type": "stream",
     "text": [
      "preds: {0: 625, 1: 156, 2: 613}\n",
      "real: {0: 429, 1: 310, 2: 655}\n",
      "[[311 152 162]\n",
      " [ 43  53  60]\n",
      " [ 75 105 433]]\n"
     ]
    }
   ],
   "source": [
    "train_pred = model.predict_classes(X_train_norm)\n",
    "test_pred = model.predict_classes(X_test_norm)\n",
    "\n",
    "import numpy as np\n",
    "\n",
    "unique, counts = np.unique(train_pred, return_counts=True)\n",
    "print(\"preds: \" + str(dict(zip(unique, counts))))\n",
    "\n",
    "unique, counts = np.unique(y_train.values, return_counts=True)\n",
    "print(\"real: \" + str(dict(zip(unique, counts))))\n",
    "\n",
    "from sklearn.metrics import confusion_matrix as conf_matrix\n",
    "\n",
    "print(conf_matrix(train_pred,y_train.values,labels=[0,1,2]))"
   ]
  },
  {
   "cell_type": "code",
   "execution_count": 11,
   "metadata": {},
   "outputs": [
    {
     "name": "stdout",
     "output_type": "stream",
     "text": [
      "[[ 85  40  48]\n",
      " [  9  10  10]\n",
      " [ 13  28 106]]\n"
     ]
    }
   ],
   "source": [
    "print(conf_matrix(test_pred,y_test.values))"
   ]
  },
  {
   "cell_type": "code",
   "execution_count": 12,
   "metadata": {},
   "outputs": [],
   "source": [
    "test_pred_probs = model.predict(X_test_norm)"
   ]
  },
  {
   "cell_type": "code",
   "execution_count": 13,
   "metadata": {},
   "outputs": [
    {
     "data": {
      "text/plain": [
       "array([0.47439745, 0.29763237, 0.22797018], dtype=float32)"
      ]
     },
     "execution_count": 13,
     "metadata": {},
     "output_type": "execute_result"
    }
   ],
   "source": [
    "test_pred_probs[0]"
   ]
  },
  {
   "cell_type": "code",
   "execution_count": 14,
   "metadata": {},
   "outputs": [
    {
     "data": {
      "text/plain": [
       "2    655\n",
       "0    429\n",
       "1    310\n",
       "Name: target, dtype: int64"
      ]
     },
     "execution_count": 14,
     "metadata": {},
     "output_type": "execute_result"
    }
   ],
   "source": [
    "y_train.value_counts()"
   ]
  },
  {
   "cell_type": "code",
   "execution_count": 15,
   "metadata": {},
   "outputs": [
    {
     "data": {
      "text/plain": [
       "2    164\n",
       "0    107\n",
       "1     78\n",
       "Name: target, dtype: int64"
      ]
     },
     "execution_count": 15,
     "metadata": {},
     "output_type": "execute_result"
    }
   ],
   "source": [
    "y_test.value_counts()"
   ]
  },
  {
   "cell_type": "code",
   "execution_count": 16,
   "metadata": {},
   "outputs": [
    {
     "data": {
      "text/plain": [
       "(1743, 20)"
      ]
     },
     "execution_count": 16,
     "metadata": {},
     "output_type": "execute_result"
    }
   ],
   "source": [
    "df.shape"
   ]
  },
  {
   "cell_type": "code",
   "execution_count": 17,
   "metadata": {},
   "outputs": [
    {
     "data": {
      "text/plain": [
       "2.1108247422680413"
      ]
     },
     "execution_count": 17,
     "metadata": {},
     "output_type": "execute_result"
    }
   ],
   "source": [
    "# 2 = 655 + 164 = 700 + 110 + 9 = 819\n",
    "# 1 = 310 + 78 = 388\n",
    "# 0 = 429 + 107 = 536\n",
    "819/388"
   ]
  },
  {
   "cell_type": "code",
   "execution_count": 18,
   "metadata": {},
   "outputs": [
    {
     "data": {
      "text/plain": [
       "1.5279850746268657"
      ]
     },
     "execution_count": 18,
     "metadata": {},
     "output_type": "execute_result"
    }
   ],
   "source": [
    "819/536"
   ]
  },
  {
   "cell_type": "code",
   "execution_count": null,
   "metadata": {},
   "outputs": [],
   "source": []
  }
 ],
 "metadata": {
  "kernelspec": {
   "display_name": "Python 3",
   "language": "python",
   "name": "python3"
  },
  "language_info": {
   "codemirror_mode": {
    "name": "ipython",
    "version": 3
   },
   "file_extension": ".py",
   "mimetype": "text/x-python",
   "name": "python",
   "nbconvert_exporter": "python",
   "pygments_lexer": "ipython3",
   "version": "3.6.7"
  }
 },
 "nbformat": 4,
 "nbformat_minor": 2
}
