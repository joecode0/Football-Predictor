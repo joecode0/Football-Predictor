{
 "cells": [
  {
   "cell_type": "code",
   "execution_count": 1,
   "metadata": {},
   "outputs": [],
   "source": [
    "import pandas as pd\n",
    "import tensorflow as tf"
   ]
  },
  {
   "cell_type": "code",
   "execution_count": 2,
   "metadata": {},
   "outputs": [],
   "source": [
    "df = pd.read_csv(\"main_database_large_diffs_draws_or_not.csv\")"
   ]
  },
  {
   "cell_type": "code",
   "execution_count": 3,
   "metadata": {},
   "outputs": [
    {
     "data": {
      "text/html": [
       "<div>\n",
       "<style scoped>\n",
       "    .dataframe tbody tr th:only-of-type {\n",
       "        vertical-align: middle;\n",
       "    }\n",
       "\n",
       "    .dataframe tbody tr th {\n",
       "        vertical-align: top;\n",
       "    }\n",
       "\n",
       "    .dataframe thead th {\n",
       "        text-align: right;\n",
       "    }\n",
       "</style>\n",
       "<table border=\"1\" class=\"dataframe\">\n",
       "  <thead>\n",
       "    <tr style=\"text-align: right;\">\n",
       "      <th></th>\n",
       "      <th>season</th>\n",
       "      <th>target</th>\n",
       "      <th>PosDiff</th>\n",
       "      <th>GSPGDiff</th>\n",
       "      <th>GCPGDiff</th>\n",
       "      <th>CSPGDiff</th>\n",
       "      <th>PtsPGDiff</th>\n",
       "      <th>SPGDiff</th>\n",
       "      <th>STPGDiff</th>\n",
       "      <th>S%Diff</th>\n",
       "      <th>PTSPG3Diff</th>\n",
       "      <th>PTSPG5Diff</th>\n",
       "      <th>PTSPG7Diff</th>\n",
       "      <th>GD3Diff</th>\n",
       "      <th>GD5Diff</th>\n",
       "      <th>GD7Diff</th>\n",
       "      <th>PosLSDiff</th>\n",
       "      <th>SpentDiff</th>\n",
       "      <th>IncomeDiff</th>\n",
       "      <th>NetDiff</th>\n",
       "    </tr>\n",
       "  </thead>\n",
       "  <tbody>\n",
       "    <tr>\n",
       "      <th>0</th>\n",
       "      <td>9</td>\n",
       "      <td>0</td>\n",
       "      <td>-15.0</td>\n",
       "      <td>0.0</td>\n",
       "      <td>0.0</td>\n",
       "      <td>0.0</td>\n",
       "      <td>0.0</td>\n",
       "      <td>0.0</td>\n",
       "      <td>0.0</td>\n",
       "      <td>0.0</td>\n",
       "      <td>0.0</td>\n",
       "      <td>0.0</td>\n",
       "      <td>0.0</td>\n",
       "      <td>0.0</td>\n",
       "      <td>0.0</td>\n",
       "      <td>0.0</td>\n",
       "      <td>-4.0</td>\n",
       "      <td>38.23</td>\n",
       "      <td>-3.330</td>\n",
       "      <td>-41.560</td>\n",
       "    </tr>\n",
       "    <tr>\n",
       "      <th>1</th>\n",
       "      <td>9</td>\n",
       "      <td>1</td>\n",
       "      <td>-10.0</td>\n",
       "      <td>0.0</td>\n",
       "      <td>0.0</td>\n",
       "      <td>0.0</td>\n",
       "      <td>0.0</td>\n",
       "      <td>0.0</td>\n",
       "      <td>0.0</td>\n",
       "      <td>0.0</td>\n",
       "      <td>0.0</td>\n",
       "      <td>0.0</td>\n",
       "      <td>0.0</td>\n",
       "      <td>0.0</td>\n",
       "      <td>0.0</td>\n",
       "      <td>0.0</td>\n",
       "      <td>1.0</td>\n",
       "      <td>11.99</td>\n",
       "      <td>6.129</td>\n",
       "      <td>-5.861</td>\n",
       "    </tr>\n",
       "  </tbody>\n",
       "</table>\n",
       "</div>"
      ],
      "text/plain": [
       "   season  target  PosDiff  GSPGDiff  GCPGDiff  CSPGDiff  PtsPGDiff  SPGDiff  \\\n",
       "0       9       0    -15.0       0.0       0.0       0.0        0.0      0.0   \n",
       "1       9       1    -10.0       0.0       0.0       0.0        0.0      0.0   \n",
       "\n",
       "   STPGDiff  S%Diff  PTSPG3Diff  PTSPG5Diff  PTSPG7Diff  GD3Diff  GD5Diff  \\\n",
       "0       0.0     0.0         0.0         0.0         0.0      0.0      0.0   \n",
       "1       0.0     0.0         0.0         0.0         0.0      0.0      0.0   \n",
       "\n",
       "   GD7Diff  PosLSDiff  SpentDiff  IncomeDiff  NetDiff  \n",
       "0      0.0       -4.0      38.23      -3.330  -41.560  \n",
       "1      0.0        1.0      11.99       6.129   -5.861  "
      ]
     },
     "execution_count": 3,
     "metadata": {},
     "output_type": "execute_result"
    }
   ],
   "source": [
    "df.head(2)"
   ]
  },
  {
   "cell_type": "code",
   "execution_count": 4,
   "metadata": {},
   "outputs": [
    {
     "data": {
      "text/plain": [
       "0    1355\n",
       "1     388\n",
       "Name: target, dtype: int64"
      ]
     },
     "execution_count": 4,
     "metadata": {},
     "output_type": "execute_result"
    }
   ],
   "source": [
    "df['target'].value_counts()"
   ]
  },
  {
   "cell_type": "code",
   "execution_count": 5,
   "metadata": {},
   "outputs": [
    {
     "data": {
      "text/plain": [
       "3.4922680412371134"
      ]
     },
     "execution_count": 5,
     "metadata": {},
     "output_type": "execute_result"
    }
   ],
   "source": [
    "1355/388"
   ]
  },
  {
   "cell_type": "code",
   "execution_count": 6,
   "metadata": {},
   "outputs": [],
   "source": [
    "from sklearn.model_selection import StratifiedShuffleSplit\n",
    "\n",
    "def get_train_test_split(data):\n",
    "    split = StratifiedShuffleSplit(n_splits=1, test_size=0.2, random_state=42)\n",
    "    for train_index, test_index in split.split(data, data[\"target\"]):\n",
    "        data_train = data.loc[train_index]\n",
    "        data_test = data.loc[test_index]\n",
    "    return data_train, data_test\n",
    "\n",
    "train,test = get_train_test_split(df)\n",
    "\n",
    "X_train = train.drop('target',axis=1)\n",
    "y_train = train['target']\n",
    "X_test = test.drop('target',axis=1)\n",
    "y_test = test['target']"
   ]
  },
  {
   "cell_type": "code",
   "execution_count": 7,
   "metadata": {},
   "outputs": [
    {
     "data": {
      "text/html": [
       "<div>\n",
       "<style scoped>\n",
       "    .dataframe tbody tr th:only-of-type {\n",
       "        vertical-align: middle;\n",
       "    }\n",
       "\n",
       "    .dataframe tbody tr th {\n",
       "        vertical-align: top;\n",
       "    }\n",
       "\n",
       "    .dataframe thead th {\n",
       "        text-align: right;\n",
       "    }\n",
       "</style>\n",
       "<table border=\"1\" class=\"dataframe\">\n",
       "  <thead>\n",
       "    <tr style=\"text-align: right;\">\n",
       "      <th></th>\n",
       "      <th>season</th>\n",
       "      <th>PosDiff</th>\n",
       "      <th>GSPGDiff</th>\n",
       "      <th>GCPGDiff</th>\n",
       "      <th>CSPGDiff</th>\n",
       "      <th>PtsPGDiff</th>\n",
       "      <th>SPGDiff</th>\n",
       "      <th>STPGDiff</th>\n",
       "      <th>S%Diff</th>\n",
       "      <th>PTSPG3Diff</th>\n",
       "      <th>PTSPG5Diff</th>\n",
       "      <th>PTSPG7Diff</th>\n",
       "      <th>GD3Diff</th>\n",
       "      <th>GD5Diff</th>\n",
       "      <th>GD7Diff</th>\n",
       "      <th>PosLSDiff</th>\n",
       "      <th>SpentDiff</th>\n",
       "      <th>IncomeDiff</th>\n",
       "      <th>NetDiff</th>\n",
       "    </tr>\n",
       "  </thead>\n",
       "  <tbody>\n",
       "    <tr>\n",
       "      <th>1126</th>\n",
       "      <td>19</td>\n",
       "      <td>-13.0</td>\n",
       "      <td>0.22</td>\n",
       "      <td>-0.48</td>\n",
       "      <td>0.04</td>\n",
       "      <td>0.64</td>\n",
       "      <td>2.257</td>\n",
       "      <td>2.145</td>\n",
       "      <td>-0.012</td>\n",
       "      <td>-1.000</td>\n",
       "      <td>0.0</td>\n",
       "      <td>0.143</td>\n",
       "      <td>-2.000</td>\n",
       "      <td>-1.0</td>\n",
       "      <td>-0.286</td>\n",
       "      <td>-13.0</td>\n",
       "      <td>9.70</td>\n",
       "      <td>-1.82</td>\n",
       "      <td>-11.52</td>\n",
       "    </tr>\n",
       "    <tr>\n",
       "      <th>1166</th>\n",
       "      <td>20</td>\n",
       "      <td>11.0</td>\n",
       "      <td>-1.64</td>\n",
       "      <td>0.17</td>\n",
       "      <td>-0.21</td>\n",
       "      <td>-0.97</td>\n",
       "      <td>-3.556</td>\n",
       "      <td>-3.306</td>\n",
       "      <td>-0.050</td>\n",
       "      <td>-0.333</td>\n",
       "      <td>-0.4</td>\n",
       "      <td>-0.571</td>\n",
       "      <td>0.333</td>\n",
       "      <td>-0.2</td>\n",
       "      <td>-1.572</td>\n",
       "      <td>6.0</td>\n",
       "      <td>-49.59</td>\n",
       "      <td>11.10</td>\n",
       "      <td>60.69</td>\n",
       "    </tr>\n",
       "  </tbody>\n",
       "</table>\n",
       "</div>"
      ],
      "text/plain": [
       "      season  PosDiff  GSPGDiff  GCPGDiff  CSPGDiff  PtsPGDiff  SPGDiff  \\\n",
       "1126      19    -13.0      0.22     -0.48      0.04       0.64    2.257   \n",
       "1166      20     11.0     -1.64      0.17     -0.21      -0.97   -3.556   \n",
       "\n",
       "      STPGDiff  S%Diff  PTSPG3Diff  PTSPG5Diff  PTSPG7Diff  GD3Diff  GD5Diff  \\\n",
       "1126     2.145  -0.012      -1.000         0.0       0.143   -2.000     -1.0   \n",
       "1166    -3.306  -0.050      -0.333        -0.4      -0.571    0.333     -0.2   \n",
       "\n",
       "      GD7Diff  PosLSDiff  SpentDiff  IncomeDiff  NetDiff  \n",
       "1126   -0.286      -13.0       9.70       -1.82   -11.52  \n",
       "1166   -1.572        6.0     -49.59       11.10    60.69  "
      ]
     },
     "execution_count": 7,
     "metadata": {},
     "output_type": "execute_result"
    }
   ],
   "source": [
    "X_train.head(2)"
   ]
  },
  {
   "cell_type": "code",
   "execution_count": 8,
   "metadata": {},
   "outputs": [
    {
     "data": {
      "text/plain": [
       "array([ 6.17873841e-01, -4.22755786e-01,  7.15432868e-03, -1.56094444e-02,\n",
       "        1.30078703e-03,  2.08125925e-02,  7.33969084e-02,  6.97547047e-02,\n",
       "       -3.90236110e-04, -3.25196758e-02,  0.00000000e+00,  4.65031365e-03,\n",
       "       -6.50393517e-02, -3.25196758e-02, -9.30062729e-03, -4.22755786e-01,\n",
       "        3.15440856e-01, -5.91858100e-02, -3.74626666e-01])"
      ]
     },
     "execution_count": 8,
     "metadata": {},
     "output_type": "execute_result"
    }
   ],
   "source": [
    "X_train_norm = tf.keras.utils.normalize(X_train.values,axis=1)\n",
    "X_test_norm = tf.keras.utils.normalize(X_test.values,axis=1)\n",
    "X_train_norm[0]"
   ]
  },
  {
   "cell_type": "code",
   "execution_count": 9,
   "metadata": {},
   "outputs": [],
   "source": [
    "model = tf.keras.models.Sequential()\n",
    "#model.add(tf.keras.layers.Flatten())\n",
    "model.add(tf.keras.layers.Dense(12, activation = tf.nn.relu))\n",
    "model.add(tf.keras.layers.Dense(12, activation = tf.nn.relu))\n",
    "model.add(tf.keras.layers.Dense(2, activation = tf.nn.softmax))"
   ]
  },
  {
   "cell_type": "code",
   "execution_count": 10,
   "metadata": {},
   "outputs": [],
   "source": [
    "model.compile(optimizer='adam',\n",
    "             loss='sparse_categorical_crossentropy',\n",
    "             metrics=['accuracy'])\n",
    "\n",
    "class_weight = {0: 1,\n",
    "                1: 3.492}"
   ]
  },
  {
   "cell_type": "code",
   "execution_count": 11,
   "metadata": {
    "scrolled": true
   },
   "outputs": [
    {
     "name": "stdout",
     "output_type": "stream",
     "text": [
      "Train on 1394 samples, validate on 349 samples\n",
      "Epoch 1/20\n",
      "1394/1394 [==============================] - 1s 850us/step - loss: 0.7029 - acc: 0.3651 - val_loss: 0.7054 - val_acc: 0.4155\n",
      "Epoch 2/20\n",
      "1394/1394 [==============================] - 0s 239us/step - loss: 0.6949 - acc: 0.4742 - val_loss: 0.6860 - val_acc: 0.4928\n",
      "Epoch 3/20\n",
      "1394/1394 [==============================] - 0s 154us/step - loss: 0.6913 - acc: 0.5380 - val_loss: 0.6806 - val_acc: 0.5358\n",
      "Epoch 4/20\n",
      "1394/1394 [==============================] - 0s 146us/step - loss: 0.6893 - acc: 0.5746 - val_loss: 0.6781 - val_acc: 0.5559\n",
      "Epoch 5/20\n",
      "1394/1394 [==============================] - 0s 165us/step - loss: 0.6886 - acc: 0.5760 - val_loss: 0.6750 - val_acc: 0.5645\n",
      "Epoch 6/20\n",
      "1394/1394 [==============================] - 0s 280us/step - loss: 0.6875 - acc: 0.5911 - val_loss: 0.6730 - val_acc: 0.5645\n",
      "Epoch 7/20\n",
      "1394/1394 [==============================] - 0s 265us/step - loss: 0.6863 - acc: 0.5925 - val_loss: 0.6693 - val_acc: 0.5759\n",
      "Epoch 8/20\n",
      "1394/1394 [==============================] - 0s 189us/step - loss: 0.6855 - acc: 0.6055 - val_loss: 0.6751 - val_acc: 0.5473\n",
      "Epoch 9/20\n",
      "1394/1394 [==============================] - 0s 183us/step - loss: 0.6847 - acc: 0.5717 - val_loss: 0.6702 - val_acc: 0.5501\n",
      "Epoch 10/20\n",
      "1394/1394 [==============================] - 0s 163us/step - loss: 0.6836 - acc: 0.5674 - val_loss: 0.6713 - val_acc: 0.5358\n",
      "Epoch 11/20\n",
      "1394/1394 [==============================] - 0s 281us/step - loss: 0.6830 - acc: 0.5631 - val_loss: 0.6750 - val_acc: 0.5358\n",
      "Epoch 12/20\n",
      "1394/1394 [==============================] - 0s 280us/step - loss: 0.6809 - acc: 0.5624 - val_loss: 0.6639 - val_acc: 0.5559\n",
      "Epoch 13/20\n",
      "1394/1394 [==============================] - 0s 161us/step - loss: 0.6824 - acc: 0.5710 - val_loss: 0.6690 - val_acc: 0.5415\n",
      "Epoch 14/20\n",
      "1394/1394 [==============================] - 0s 162us/step - loss: 0.6813 - acc: 0.6133 - val_loss: 0.6656 - val_acc: 0.5530\n",
      "Epoch 15/20\n",
      "1394/1394 [==============================] - 0s 153us/step - loss: 0.6807 - acc: 0.5768 - val_loss: 0.6677 - val_acc: 0.5530\n",
      "Epoch 16/20\n",
      "1394/1394 [==============================] - 0s 152us/step - loss: 0.6791 - acc: 0.5832 - val_loss: 0.6720 - val_acc: 0.5444\n",
      "Epoch 17/20\n",
      "1394/1394 [==============================] - 0s 172us/step - loss: 0.6795 - acc: 0.5775 - val_loss: 0.6712 - val_acc: 0.5473\n",
      "Epoch 18/20\n",
      "1394/1394 [==============================] - 0s 326us/step - loss: 0.6786 - acc: 0.5574 - val_loss: 0.6693 - val_acc: 0.5616\n",
      "Epoch 19/20\n",
      "1394/1394 [==============================] - 0s 161us/step - loss: 0.6775 - acc: 0.5753 - val_loss: 0.6628 - val_acc: 0.5530\n",
      "Epoch 20/20\n",
      "1394/1394 [==============================] - 0s 225us/step - loss: 0.6784 - acc: 0.5818 - val_loss: 0.6728 - val_acc: 0.5559\n"
     ]
    },
    {
     "data": {
      "text/plain": [
       "<tensorflow.python.keras.callbacks.History at 0x7f19222fbd68>"
      ]
     },
     "execution_count": 11,
     "metadata": {},
     "output_type": "execute_result"
    }
   ],
   "source": [
    "model.fit(X_train_norm, y_train.values, epochs=20, validation_data=(X_test_norm,y_test), class_weight=class_weight)"
   ]
  },
  {
   "cell_type": "code",
   "execution_count": 12,
   "metadata": {},
   "outputs": [
    {
     "name": "stdout",
     "output_type": "stream",
     "text": [
      "preds: {0: 767, 1: 627}\n",
      "real: {0: 1084, 1: 310}\n",
      "[[629 138]\n",
      " [455 172]]\n"
     ]
    }
   ],
   "source": [
    "train_pred = model.predict_classes(X_train_norm)\n",
    "test_pred = model.predict_classes(X_test_norm)\n",
    "\n",
    "import numpy as np\n",
    "\n",
    "unique, counts = np.unique(train_pred, return_counts=True)\n",
    "print(\"preds: \" + str(dict(zip(unique, counts))))\n",
    "\n",
    "unique, counts = np.unique(y_train.values, return_counts=True)\n",
    "print(\"real: \" + str(dict(zip(unique, counts))))\n",
    "\n",
    "from sklearn.metrics import confusion_matrix as conf_matrix\n",
    "\n",
    "print(conf_matrix(train_pred,y_train.values,labels=[0,1]))"
   ]
  },
  {
   "cell_type": "code",
   "execution_count": 13,
   "metadata": {},
   "outputs": [
    {
     "name": "stdout",
     "output_type": "stream",
     "text": [
      "[[151  35]\n",
      " [120  43]]\n"
     ]
    }
   ],
   "source": [
    "print(conf_matrix(test_pred,y_test.values))"
   ]
  },
  {
   "cell_type": "code",
   "execution_count": 14,
   "metadata": {},
   "outputs": [],
   "source": [
    "test_pred_probs = model.predict(X_test_norm)"
   ]
  },
  {
   "cell_type": "code",
   "execution_count": 15,
   "metadata": {},
   "outputs": [
    {
     "data": {
      "text/plain": [
       "array([0.50514877, 0.4948512 ], dtype=float32)"
      ]
     },
     "execution_count": 15,
     "metadata": {},
     "output_type": "execute_result"
    }
   ],
   "source": [
    "test_pred_probs[0]"
   ]
  },
  {
   "cell_type": "code",
   "execution_count": null,
   "metadata": {},
   "outputs": [],
   "source": []
  },
  {
   "cell_type": "code",
   "execution_count": null,
   "metadata": {},
   "outputs": [],
   "source": [
    "2184/1264 #1"
   ]
  },
  {
   "cell_type": "code",
   "execution_count": null,
   "metadata": {},
   "outputs": [],
   "source": [
    "2184/1269 #0"
   ]
  },
  {
   "cell_type": "code",
   "execution_count": null,
   "metadata": {},
   "outputs": [],
   "source": []
  }
 ],
 "metadata": {
  "kernelspec": {
   "display_name": "Python 3",
   "language": "python",
   "name": "python3"
  },
  "language_info": {
   "codemirror_mode": {
    "name": "ipython",
    "version": 3
   },
   "file_extension": ".py",
   "mimetype": "text/x-python",
   "name": "python",
   "nbconvert_exporter": "python",
   "pygments_lexer": "ipython3",
   "version": "3.6.7"
  }
 },
 "nbformat": 4,
 "nbformat_minor": 2
}
