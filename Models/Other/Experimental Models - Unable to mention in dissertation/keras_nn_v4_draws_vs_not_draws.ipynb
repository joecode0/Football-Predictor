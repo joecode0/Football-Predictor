{
 "cells": [
  {
   "cell_type": "code",
   "execution_count": 1,
   "metadata": {},
   "outputs": [],
   "source": [
    "import pandas as pd\n",
    "import tensorflow as tf"
   ]
  },
  {
   "cell_type": "code",
   "execution_count": 2,
   "metadata": {},
   "outputs": [],
   "source": [
    "df = pd.read_csv(\"main_database_draws_or_not.csv\")"
   ]
  },
  {
   "cell_type": "code",
   "execution_count": 3,
   "metadata": {},
   "outputs": [
    {
     "data": {
      "text/html": [
       "<div>\n",
       "<style scoped>\n",
       "    .dataframe tbody tr th:only-of-type {\n",
       "        vertical-align: middle;\n",
       "    }\n",
       "\n",
       "    .dataframe tbody tr th {\n",
       "        vertical-align: top;\n",
       "    }\n",
       "\n",
       "    .dataframe thead th {\n",
       "        text-align: right;\n",
       "    }\n",
       "</style>\n",
       "<table border=\"1\" class=\"dataframe\">\n",
       "  <thead>\n",
       "    <tr style=\"text-align: right;\">\n",
       "      <th></th>\n",
       "      <th>season</th>\n",
       "      <th>target</th>\n",
       "      <th>PosDiff</th>\n",
       "      <th>GSPGDiff</th>\n",
       "      <th>GCPGDiff</th>\n",
       "      <th>CSPGDiff</th>\n",
       "      <th>PtsPGDiff</th>\n",
       "      <th>SPGDiff</th>\n",
       "      <th>STPGDiff</th>\n",
       "      <th>S%Diff</th>\n",
       "      <th>PTSPG3Diff</th>\n",
       "      <th>PTSPG5Diff</th>\n",
       "      <th>PTSPG7Diff</th>\n",
       "      <th>GD3Diff</th>\n",
       "      <th>GD5Diff</th>\n",
       "      <th>GD7Diff</th>\n",
       "      <th>PosLSDiff</th>\n",
       "      <th>SpentDiff</th>\n",
       "      <th>IncomeDiff</th>\n",
       "      <th>NetDiff</th>\n",
       "    </tr>\n",
       "  </thead>\n",
       "  <tbody>\n",
       "    <tr>\n",
       "      <th>0</th>\n",
       "      <td>9</td>\n",
       "      <td>0</td>\n",
       "      <td>-9.0</td>\n",
       "      <td>0.0</td>\n",
       "      <td>0.0</td>\n",
       "      <td>0.0</td>\n",
       "      <td>0.0</td>\n",
       "      <td>0.0</td>\n",
       "      <td>0.0</td>\n",
       "      <td>0.0</td>\n",
       "      <td>0.0</td>\n",
       "      <td>0.0</td>\n",
       "      <td>0.0</td>\n",
       "      <td>0.0</td>\n",
       "      <td>0.0</td>\n",
       "      <td>0.0</td>\n",
       "      <td>0.0</td>\n",
       "      <td>0.65</td>\n",
       "      <td>-0.841</td>\n",
       "      <td>-1.491</td>\n",
       "    </tr>\n",
       "    <tr>\n",
       "      <th>1</th>\n",
       "      <td>9</td>\n",
       "      <td>0</td>\n",
       "      <td>-15.0</td>\n",
       "      <td>0.0</td>\n",
       "      <td>0.0</td>\n",
       "      <td>0.0</td>\n",
       "      <td>0.0</td>\n",
       "      <td>0.0</td>\n",
       "      <td>0.0</td>\n",
       "      <td>0.0</td>\n",
       "      <td>0.0</td>\n",
       "      <td>0.0</td>\n",
       "      <td>0.0</td>\n",
       "      <td>0.0</td>\n",
       "      <td>0.0</td>\n",
       "      <td>0.0</td>\n",
       "      <td>-4.0</td>\n",
       "      <td>38.23</td>\n",
       "      <td>-3.330</td>\n",
       "      <td>-41.560</td>\n",
       "    </tr>\n",
       "  </tbody>\n",
       "</table>\n",
       "</div>"
      ],
      "text/plain": [
       "   season  target  PosDiff  GSPGDiff  GCPGDiff  CSPGDiff  PtsPGDiff  SPGDiff  \\\n",
       "0       9       0     -9.0       0.0       0.0       0.0        0.0      0.0   \n",
       "1       9       0    -15.0       0.0       0.0       0.0        0.0      0.0   \n",
       "\n",
       "   STPGDiff  S%Diff  PTSPG3Diff  PTSPG5Diff  PTSPG7Diff  GD3Diff  GD5Diff  \\\n",
       "0       0.0     0.0         0.0         0.0         0.0      0.0      0.0   \n",
       "1       0.0     0.0         0.0         0.0         0.0      0.0      0.0   \n",
       "\n",
       "   GD7Diff  PosLSDiff  SpentDiff  IncomeDiff  NetDiff  \n",
       "0      0.0        0.0       0.65      -0.841   -1.491  \n",
       "1      0.0       -4.0      38.23      -3.330  -41.560  "
      ]
     },
     "execution_count": 3,
     "metadata": {},
     "output_type": "execute_result"
    }
   ],
   "source": [
    "df.head(2)"
   ]
  },
  {
   "cell_type": "code",
   "execution_count": 4,
   "metadata": {},
   "outputs": [
    {
     "data": {
      "text/plain": [
       "0    4808\n",
       "1    1652\n",
       "Name: target, dtype: int64"
      ]
     },
     "execution_count": 4,
     "metadata": {},
     "output_type": "execute_result"
    }
   ],
   "source": [
    "df['target'].value_counts()"
   ]
  },
  {
   "cell_type": "code",
   "execution_count": 5,
   "metadata": {},
   "outputs": [
    {
     "data": {
      "text/plain": [
       "2.9104116222760292"
      ]
     },
     "execution_count": 5,
     "metadata": {},
     "output_type": "execute_result"
    }
   ],
   "source": [
    "4808/1652"
   ]
  },
  {
   "cell_type": "code",
   "execution_count": 6,
   "metadata": {},
   "outputs": [],
   "source": [
    "from sklearn.model_selection import StratifiedShuffleSplit\n",
    "\n",
    "def get_train_test_split(data):\n",
    "    split = StratifiedShuffleSplit(n_splits=1, test_size=0.2, random_state=42)\n",
    "    for train_index, test_index in split.split(data, data[\"target\"]):\n",
    "        data_train = data.loc[train_index]\n",
    "        data_test = data.loc[test_index]\n",
    "    return data_train, data_test\n",
    "\n",
    "train,test = get_train_test_split(df)\n",
    "\n",
    "X_train = train.drop('target',axis=1)\n",
    "y_train = train['target']\n",
    "X_test = test.drop('target',axis=1)\n",
    "y_test = test['target']"
   ]
  },
  {
   "cell_type": "code",
   "execution_count": 7,
   "metadata": {},
   "outputs": [
    {
     "data": {
      "text/html": [
       "<div>\n",
       "<style scoped>\n",
       "    .dataframe tbody tr th:only-of-type {\n",
       "        vertical-align: middle;\n",
       "    }\n",
       "\n",
       "    .dataframe tbody tr th {\n",
       "        vertical-align: top;\n",
       "    }\n",
       "\n",
       "    .dataframe thead th {\n",
       "        text-align: right;\n",
       "    }\n",
       "</style>\n",
       "<table border=\"1\" class=\"dataframe\">\n",
       "  <thead>\n",
       "    <tr style=\"text-align: right;\">\n",
       "      <th></th>\n",
       "      <th>season</th>\n",
       "      <th>PosDiff</th>\n",
       "      <th>GSPGDiff</th>\n",
       "      <th>GCPGDiff</th>\n",
       "      <th>CSPGDiff</th>\n",
       "      <th>PtsPGDiff</th>\n",
       "      <th>SPGDiff</th>\n",
       "      <th>STPGDiff</th>\n",
       "      <th>S%Diff</th>\n",
       "      <th>PTSPG3Diff</th>\n",
       "      <th>PTSPG5Diff</th>\n",
       "      <th>PTSPG7Diff</th>\n",
       "      <th>GD3Diff</th>\n",
       "      <th>GD5Diff</th>\n",
       "      <th>GD7Diff</th>\n",
       "      <th>PosLSDiff</th>\n",
       "      <th>SpentDiff</th>\n",
       "      <th>IncomeDiff</th>\n",
       "      <th>NetDiff</th>\n",
       "    </tr>\n",
       "  </thead>\n",
       "  <tbody>\n",
       "    <tr>\n",
       "      <th>1600</th>\n",
       "      <td>13</td>\n",
       "      <td>11.0</td>\n",
       "      <td>-0.24</td>\n",
       "      <td>0.24</td>\n",
       "      <td>-0.13</td>\n",
       "      <td>-0.74</td>\n",
       "      <td>-6.375</td>\n",
       "      <td>-3.375</td>\n",
       "      <td>-0.067</td>\n",
       "      <td>-1.333</td>\n",
       "      <td>-1.2</td>\n",
       "      <td>-1.000</td>\n",
       "      <td>-0.667</td>\n",
       "      <td>-0.8</td>\n",
       "      <td>-0.715</td>\n",
       "      <td>7.0</td>\n",
       "      <td>-40.94</td>\n",
       "      <td>-1.270</td>\n",
       "      <td>39.670</td>\n",
       "    </tr>\n",
       "    <tr>\n",
       "      <th>4814</th>\n",
       "      <td>21</td>\n",
       "      <td>-7.0</td>\n",
       "      <td>-0.32</td>\n",
       "      <td>-0.64</td>\n",
       "      <td>0.24</td>\n",
       "      <td>0.28</td>\n",
       "      <td>-0.240</td>\n",
       "      <td>-0.120</td>\n",
       "      <td>-0.125</td>\n",
       "      <td>-2.000</td>\n",
       "      <td>-1.8</td>\n",
       "      <td>-1.286</td>\n",
       "      <td>-1.667</td>\n",
       "      <td>-2.2</td>\n",
       "      <td>-1.429</td>\n",
       "      <td>-4.0</td>\n",
       "      <td>11.57</td>\n",
       "      <td>-0.234</td>\n",
       "      <td>-11.804</td>\n",
       "    </tr>\n",
       "  </tbody>\n",
       "</table>\n",
       "</div>"
      ],
      "text/plain": [
       "      season  PosDiff  GSPGDiff  GCPGDiff  CSPGDiff  PtsPGDiff  SPGDiff  \\\n",
       "1600      13     11.0     -0.24      0.24     -0.13      -0.74   -6.375   \n",
       "4814      21     -7.0     -0.32     -0.64      0.24       0.28   -0.240   \n",
       "\n",
       "      STPGDiff  S%Diff  PTSPG3Diff  PTSPG5Diff  PTSPG7Diff  GD3Diff  GD5Diff  \\\n",
       "1600    -3.375  -0.067      -1.333        -1.2      -1.000   -0.667     -0.8   \n",
       "4814    -0.120  -0.125      -2.000        -1.8      -1.286   -1.667     -2.2   \n",
       "\n",
       "      GD7Diff  PosLSDiff  SpentDiff  IncomeDiff  NetDiff  \n",
       "1600   -0.715        7.0     -40.94      -1.270   39.670  \n",
       "4814   -1.429       -4.0      11.57      -0.234  -11.804  "
      ]
     },
     "execution_count": 7,
     "metadata": {},
     "output_type": "execute_result"
    }
   ],
   "source": [
    "X_train.head(2)"
   ]
  },
  {
   "cell_type": "code",
   "execution_count": 8,
   "metadata": {},
   "outputs": [
    {
     "data": {
      "text/plain": [
       "array([ 0.21520896,  0.18209989, -0.00397309,  0.00397309, -0.00215209,\n",
       "       -0.01225036, -0.10553517, -0.05587156, -0.00110915, -0.0220672 ,\n",
       "       -0.01986544, -0.01655454, -0.01104188, -0.01324363, -0.01183649,\n",
       "        0.11588175, -0.67774269, -0.02102426,  0.65671843])"
      ]
     },
     "execution_count": 8,
     "metadata": {},
     "output_type": "execute_result"
    }
   ],
   "source": [
    "X_train_norm = tf.keras.utils.normalize(X_train.values,axis=1)\n",
    "X_test_norm = tf.keras.utils.normalize(X_test.values,axis=1)\n",
    "X_train_norm[0]"
   ]
  },
  {
   "cell_type": "code",
   "execution_count": 9,
   "metadata": {},
   "outputs": [],
   "source": [
    "model = tf.keras.models.Sequential()\n",
    "#model.add(tf.keras.layers.Flatten())\n",
    "model.add(tf.keras.layers.Dense(12, activation = tf.nn.relu))\n",
    "model.add(tf.keras.layers.Dense(12, activation = tf.nn.relu))\n",
    "model.add(tf.keras.layers.Dense(2, activation = tf.nn.softmax))"
   ]
  },
  {
   "cell_type": "code",
   "execution_count": 10,
   "metadata": {},
   "outputs": [],
   "source": [
    "model.compile(optimizer='adam',\n",
    "             loss='sparse_categorical_crossentropy',\n",
    "             metrics=['accuracy'])\n",
    "\n",
    "class_weight = {0: 1,\n",
    "                1: 2.91}"
   ]
  },
  {
   "cell_type": "code",
   "execution_count": 11,
   "metadata": {
    "scrolled": true
   },
   "outputs": [
    {
     "name": "stdout",
     "output_type": "stream",
     "text": [
      "Train on 5168 samples, validate on 1292 samples\n",
      "Epoch 1/20\n",
      "5168/5168 [==============================] - 1s 253us/step - loss: 0.6933 - acc: 0.5584 - val_loss: 0.6833 - val_acc: 0.5952\n",
      "Epoch 2/20\n",
      "5168/5168 [==============================] - 1s 129us/step - loss: 0.6917 - acc: 0.5960 - val_loss: 0.6776 - val_acc: 0.6316\n",
      "Epoch 3/20\n",
      "5168/5168 [==============================] - 1s 116us/step - loss: 0.6911 - acc: 0.6395 - val_loss: 0.6884 - val_acc: 0.5372\n",
      "Epoch 4/20\n",
      "5168/5168 [==============================] - 1s 114us/step - loss: 0.6900 - acc: 0.6267 - val_loss: 0.6709 - val_acc: 0.6316\n",
      "Epoch 5/20\n",
      "5168/5168 [==============================] - 1s 142us/step - loss: 0.6891 - acc: 0.6080 - val_loss: 0.6732 - val_acc: 0.6014\n",
      "Epoch 6/20\n",
      "5168/5168 [==============================] - 1s 119us/step - loss: 0.6879 - acc: 0.5865 - val_loss: 0.6767 - val_acc: 0.5859\n",
      "Epoch 7/20\n",
      "5168/5168 [==============================] - 1s 115us/step - loss: 0.6870 - acc: 0.5869 - val_loss: 0.6759 - val_acc: 0.5805\n",
      "Epoch 8/20\n",
      "5168/5168 [==============================] - 1s 117us/step - loss: 0.6865 - acc: 0.5919 - val_loss: 0.6808 - val_acc: 0.5828\n",
      "Epoch 9/20\n",
      "5168/5168 [==============================] - 1s 107us/step - loss: 0.6861 - acc: 0.5809 - val_loss: 0.6859 - val_acc: 0.5728\n",
      "Epoch 10/20\n",
      "5168/5168 [==============================] - 1s 117us/step - loss: 0.6858 - acc: 0.5929 - val_loss: 0.6855 - val_acc: 0.5689\n",
      "Epoch 11/20\n",
      "5168/5168 [==============================] - 1s 108us/step - loss: 0.6852 - acc: 0.5660 - val_loss: 0.6810 - val_acc: 0.5766\n",
      "Epoch 12/20\n",
      "5168/5168 [==============================] - 1s 107us/step - loss: 0.6848 - acc: 0.5969 - val_loss: 0.6836 - val_acc: 0.5426\n",
      "Epoch 13/20\n",
      "5168/5168 [==============================] - 1s 118us/step - loss: 0.6842 - acc: 0.5526 - val_loss: 0.6679 - val_acc: 0.6022\n",
      "Epoch 14/20\n",
      "5168/5168 [==============================] - 1s 107us/step - loss: 0.6839 - acc: 0.5950 - val_loss: 0.6876 - val_acc: 0.5550\n",
      "Epoch 15/20\n",
      "5168/5168 [==============================] - 1s 113us/step - loss: 0.6833 - acc: 0.5851 - val_loss: 0.6721 - val_acc: 0.5937\n",
      "Epoch 16/20\n",
      "5168/5168 [==============================] - 1s 115us/step - loss: 0.6834 - acc: 0.5938 - val_loss: 0.6782 - val_acc: 0.5859\n",
      "Epoch 17/20\n",
      "5168/5168 [==============================] - 1s 114us/step - loss: 0.6831 - acc: 0.5797 - val_loss: 0.6750 - val_acc: 0.5859\n",
      "Epoch 18/20\n",
      "5168/5168 [==============================] - 1s 115us/step - loss: 0.6825 - acc: 0.5933 - val_loss: 0.6707 - val_acc: 0.5967\n",
      "Epoch 19/20\n",
      "5168/5168 [==============================] - 1s 106us/step - loss: 0.6818 - acc: 0.6049 - val_loss: 0.6852 - val_acc: 0.5495\n",
      "Epoch 20/20\n",
      "5168/5168 [==============================] - 1s 108us/step - loss: 0.6824 - acc: 0.5633 - val_loss: 0.6726 - val_acc: 0.5913\n"
     ]
    },
    {
     "data": {
      "text/plain": [
       "<tensorflow.python.keras.callbacks.History at 0x7fb6555a05f8>"
      ]
     },
     "execution_count": 11,
     "metadata": {},
     "output_type": "execute_result"
    }
   ],
   "source": [
    "model.fit(X_train_norm, y_train.values, epochs=20, validation_data=(X_test_norm,y_test), class_weight=class_weight)"
   ]
  },
  {
   "cell_type": "code",
   "execution_count": 12,
   "metadata": {},
   "outputs": [
    {
     "name": "stdout",
     "output_type": "stream",
     "text": [
      "preds: {0: 3207, 1: 1961}\n",
      "real: {0: 3846, 1: 1322}\n",
      "[[2504  703]\n",
      " [1342  619]]\n"
     ]
    }
   ],
   "source": [
    "train_pred = model.predict_classes(X_train_norm)\n",
    "test_pred = model.predict_classes(X_test_norm)\n",
    "\n",
    "import numpy as np\n",
    "\n",
    "unique, counts = np.unique(train_pred, return_counts=True)\n",
    "print(\"preds: \" + str(dict(zip(unique, counts))))\n",
    "\n",
    "unique, counts = np.unique(y_train.values, return_counts=True)\n",
    "print(\"real: \" + str(dict(zip(unique, counts))))\n",
    "\n",
    "from sklearn.metrics import confusion_matrix as conf_matrix\n",
    "\n",
    "print(conf_matrix(train_pred,y_train.values,labels=[0,1]))"
   ]
  },
  {
   "cell_type": "code",
   "execution_count": 13,
   "metadata": {},
   "outputs": [
    {
     "name": "stdout",
     "output_type": "stream",
     "text": [
      "[[620 186]\n",
      " [342 144]]\n"
     ]
    }
   ],
   "source": [
    "print(conf_matrix(test_pred,y_test.values))"
   ]
  },
  {
   "cell_type": "code",
   "execution_count": 14,
   "metadata": {},
   "outputs": [],
   "source": [
    "test_pred_probs = model.predict(X_test_norm)"
   ]
  },
  {
   "cell_type": "code",
   "execution_count": 15,
   "metadata": {},
   "outputs": [
    {
     "data": {
      "text/plain": [
       "array([0.45320436, 0.5467956 ], dtype=float32)"
      ]
     },
     "execution_count": 15,
     "metadata": {},
     "output_type": "execute_result"
    }
   ],
   "source": [
    "test_pred_probs[0]"
   ]
  },
  {
   "cell_type": "code",
   "execution_count": null,
   "metadata": {},
   "outputs": [],
   "source": []
  },
  {
   "cell_type": "code",
   "execution_count": 16,
   "metadata": {},
   "outputs": [
    {
     "data": {
      "text/plain": [
       "1.7278481012658229"
      ]
     },
     "execution_count": 16,
     "metadata": {},
     "output_type": "execute_result"
    }
   ],
   "source": [
    "2184/1264 #1"
   ]
  },
  {
   "cell_type": "code",
   "execution_count": 17,
   "metadata": {},
   "outputs": [
    {
     "data": {
      "text/plain": [
       "1.7210401891252955"
      ]
     },
     "execution_count": 17,
     "metadata": {},
     "output_type": "execute_result"
    }
   ],
   "source": [
    "2184/1269 #0"
   ]
  },
  {
   "cell_type": "code",
   "execution_count": null,
   "metadata": {},
   "outputs": [],
   "source": []
  }
 ],
 "metadata": {
  "kernelspec": {
   "display_name": "Python 3",
   "language": "python",
   "name": "python3"
  },
  "language_info": {
   "codemirror_mode": {
    "name": "ipython",
    "version": 3
   },
   "file_extension": ".py",
   "mimetype": "text/x-python",
   "name": "python",
   "nbconvert_exporter": "python",
   "pygments_lexer": "ipython3",
   "version": "3.6.7"
  }
 },
 "nbformat": 4,
 "nbformat_minor": 2
}
