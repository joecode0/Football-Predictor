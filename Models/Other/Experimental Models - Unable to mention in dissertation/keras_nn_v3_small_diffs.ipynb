{
 "cells": [
  {
   "cell_type": "code",
   "execution_count": 1,
   "metadata": {},
   "outputs": [],
   "source": [
    "import pandas as pd\n",
    "import tensorflow as tf"
   ]
  },
  {
   "cell_type": "code",
   "execution_count": 2,
   "metadata": {},
   "outputs": [],
   "source": [
    "df = pd.read_csv(\"main_database_small_diff.csv\")"
   ]
  },
  {
   "cell_type": "code",
   "execution_count": 3,
   "metadata": {},
   "outputs": [
    {
     "data": {
      "text/html": [
       "<div>\n",
       "<style scoped>\n",
       "    .dataframe tbody tr th:only-of-type {\n",
       "        vertical-align: middle;\n",
       "    }\n",
       "\n",
       "    .dataframe tbody tr th {\n",
       "        vertical-align: top;\n",
       "    }\n",
       "\n",
       "    .dataframe thead th {\n",
       "        text-align: right;\n",
       "    }\n",
       "</style>\n",
       "<table border=\"1\" class=\"dataframe\">\n",
       "  <thead>\n",
       "    <tr style=\"text-align: right;\">\n",
       "      <th></th>\n",
       "      <th>season</th>\n",
       "      <th>target</th>\n",
       "      <th>PosDiff</th>\n",
       "      <th>GSPGDiff</th>\n",
       "      <th>GCPGDiff</th>\n",
       "      <th>CSPGDiff</th>\n",
       "      <th>PtsPGDiff</th>\n",
       "      <th>SPGDiff</th>\n",
       "      <th>STPGDiff</th>\n",
       "      <th>S%Diff</th>\n",
       "      <th>PTSPG3Diff</th>\n",
       "      <th>PTSPG5Diff</th>\n",
       "      <th>PTSPG7Diff</th>\n",
       "      <th>GD3Diff</th>\n",
       "      <th>GD5Diff</th>\n",
       "      <th>GD7Diff</th>\n",
       "      <th>PosLSDiff</th>\n",
       "      <th>SpentDiff</th>\n",
       "      <th>IncomeDiff</th>\n",
       "      <th>NetDiff</th>\n",
       "    </tr>\n",
       "  </thead>\n",
       "  <tbody>\n",
       "    <tr>\n",
       "      <th>0</th>\n",
       "      <td>9</td>\n",
       "      <td>2</td>\n",
       "      <td>-9.0</td>\n",
       "      <td>0.0</td>\n",
       "      <td>0.0</td>\n",
       "      <td>0.0</td>\n",
       "      <td>0.0</td>\n",
       "      <td>0.0</td>\n",
       "      <td>0.0</td>\n",
       "      <td>0.0</td>\n",
       "      <td>0.0</td>\n",
       "      <td>0.0</td>\n",
       "      <td>0.0</td>\n",
       "      <td>0.0</td>\n",
       "      <td>0.0</td>\n",
       "      <td>0.0</td>\n",
       "      <td>0.0</td>\n",
       "      <td>0.65</td>\n",
       "      <td>-0.841</td>\n",
       "      <td>-1.491</td>\n",
       "    </tr>\n",
       "    <tr>\n",
       "      <th>1</th>\n",
       "      <td>9</td>\n",
       "      <td>0</td>\n",
       "      <td>-9.0</td>\n",
       "      <td>0.0</td>\n",
       "      <td>0.0</td>\n",
       "      <td>0.0</td>\n",
       "      <td>0.0</td>\n",
       "      <td>0.0</td>\n",
       "      <td>0.0</td>\n",
       "      <td>0.0</td>\n",
       "      <td>0.0</td>\n",
       "      <td>0.0</td>\n",
       "      <td>0.0</td>\n",
       "      <td>0.0</td>\n",
       "      <td>0.0</td>\n",
       "      <td>0.0</td>\n",
       "      <td>2.0</td>\n",
       "      <td>-12.42</td>\n",
       "      <td>14.650</td>\n",
       "      <td>27.070</td>\n",
       "    </tr>\n",
       "  </tbody>\n",
       "</table>\n",
       "</div>"
      ],
      "text/plain": [
       "   season  target  PosDiff  GSPGDiff  GCPGDiff  CSPGDiff  PtsPGDiff  SPGDiff  \\\n",
       "0       9       2     -9.0       0.0       0.0       0.0        0.0      0.0   \n",
       "1       9       0     -9.0       0.0       0.0       0.0        0.0      0.0   \n",
       "\n",
       "   STPGDiff  S%Diff  PTSPG3Diff  PTSPG5Diff  PTSPG7Diff  GD3Diff  GD5Diff  \\\n",
       "0       0.0     0.0         0.0         0.0         0.0      0.0      0.0   \n",
       "1       0.0     0.0         0.0         0.0         0.0      0.0      0.0   \n",
       "\n",
       "   GD7Diff  PosLSDiff  SpentDiff  IncomeDiff  NetDiff  \n",
       "0      0.0        0.0       0.65      -0.841   -1.491  \n",
       "1      0.0        2.0     -12.42      14.650   27.070  "
      ]
     },
     "execution_count": 3,
     "metadata": {},
     "output_type": "execute_result"
    }
   ],
   "source": [
    "df.head(2)"
   ]
  },
  {
   "cell_type": "code",
   "execution_count": 4,
   "metadata": {},
   "outputs": [],
   "source": [
    "from sklearn.model_selection import StratifiedShuffleSplit\n",
    "\n",
    "def get_train_test_split(data):\n",
    "    split = StratifiedShuffleSplit(n_splits=1, test_size=0.2, random_state=42)\n",
    "    for train_index, test_index in split.split(data, data[\"target\"]):\n",
    "        data_train = data.loc[train_index]\n",
    "        data_test = data.loc[test_index]\n",
    "    return data_train, data_test\n",
    "\n",
    "train,test = get_train_test_split(df)\n",
    "\n",
    "X_train = train.drop('target',axis=1)\n",
    "y_train = train['target']\n",
    "X_test = test.drop('target',axis=1)\n",
    "y_test = test['target']"
   ]
  },
  {
   "cell_type": "code",
   "execution_count": 5,
   "metadata": {},
   "outputs": [
    {
     "data": {
      "text/html": [
       "<div>\n",
       "<style scoped>\n",
       "    .dataframe tbody tr th:only-of-type {\n",
       "        vertical-align: middle;\n",
       "    }\n",
       "\n",
       "    .dataframe tbody tr th {\n",
       "        vertical-align: top;\n",
       "    }\n",
       "\n",
       "    .dataframe thead th {\n",
       "        text-align: right;\n",
       "    }\n",
       "</style>\n",
       "<table border=\"1\" class=\"dataframe\">\n",
       "  <thead>\n",
       "    <tr style=\"text-align: right;\">\n",
       "      <th></th>\n",
       "      <th>season</th>\n",
       "      <th>PosDiff</th>\n",
       "      <th>GSPGDiff</th>\n",
       "      <th>GCPGDiff</th>\n",
       "      <th>CSPGDiff</th>\n",
       "      <th>PtsPGDiff</th>\n",
       "      <th>SPGDiff</th>\n",
       "      <th>STPGDiff</th>\n",
       "      <th>S%Diff</th>\n",
       "      <th>PTSPG3Diff</th>\n",
       "      <th>PTSPG5Diff</th>\n",
       "      <th>PTSPG7Diff</th>\n",
       "      <th>GD3Diff</th>\n",
       "      <th>GD5Diff</th>\n",
       "      <th>GD7Diff</th>\n",
       "      <th>PosLSDiff</th>\n",
       "      <th>SpentDiff</th>\n",
       "      <th>IncomeDiff</th>\n",
       "      <th>NetDiff</th>\n",
       "    </tr>\n",
       "  </thead>\n",
       "  <tbody>\n",
       "    <tr>\n",
       "      <th>2300</th>\n",
       "      <td>17</td>\n",
       "      <td>-5.0</td>\n",
       "      <td>0.65</td>\n",
       "      <td>0.29</td>\n",
       "      <td>0.05</td>\n",
       "      <td>0.33</td>\n",
       "      <td>-2.291</td>\n",
       "      <td>-0.748</td>\n",
       "      <td>0.111</td>\n",
       "      <td>-1.0</td>\n",
       "      <td>-0.6</td>\n",
       "      <td>-0.143</td>\n",
       "      <td>-0.334</td>\n",
       "      <td>-0.6</td>\n",
       "      <td>0.142</td>\n",
       "      <td>-11.0</td>\n",
       "      <td>26.14</td>\n",
       "      <td>-7.92</td>\n",
       "      <td>-34.06</td>\n",
       "    </tr>\n",
       "    <tr>\n",
       "      <th>2321</th>\n",
       "      <td>17</td>\n",
       "      <td>-8.0</td>\n",
       "      <td>0.06</td>\n",
       "      <td>-0.69</td>\n",
       "      <td>0.13</td>\n",
       "      <td>0.38</td>\n",
       "      <td>2.750</td>\n",
       "      <td>1.687</td>\n",
       "      <td>-0.023</td>\n",
       "      <td>2.0</td>\n",
       "      <td>1.6</td>\n",
       "      <td>1.428</td>\n",
       "      <td>1.666</td>\n",
       "      <td>1.6</td>\n",
       "      <td>1.143</td>\n",
       "      <td>7.0</td>\n",
       "      <td>11.18</td>\n",
       "      <td>-2.07</td>\n",
       "      <td>-13.25</td>\n",
       "    </tr>\n",
       "  </tbody>\n",
       "</table>\n",
       "</div>"
      ],
      "text/plain": [
       "      season  PosDiff  GSPGDiff  GCPGDiff  CSPGDiff  PtsPGDiff  SPGDiff  \\\n",
       "2300      17     -5.0      0.65      0.29      0.05       0.33   -2.291   \n",
       "2321      17     -8.0      0.06     -0.69      0.13       0.38    2.750   \n",
       "\n",
       "      STPGDiff  S%Diff  PTSPG3Diff  PTSPG5Diff  PTSPG7Diff  GD3Diff  GD5Diff  \\\n",
       "2300    -0.748   0.111        -1.0        -0.6      -0.143   -0.334     -0.6   \n",
       "2321     1.687  -0.023         2.0         1.6       1.428    1.666      1.6   \n",
       "\n",
       "      GD7Diff  PosLSDiff  SpentDiff  IncomeDiff  NetDiff  \n",
       "2300    0.142      -11.0      26.14       -7.92   -34.06  \n",
       "2321    1.143        7.0      11.18       -2.07   -13.25  "
      ]
     },
     "execution_count": 5,
     "metadata": {},
     "output_type": "execute_result"
    }
   ],
   "source": [
    "X_train.head(2)"
   ]
  },
  {
   "cell_type": "code",
   "execution_count": 6,
   "metadata": {},
   "outputs": [
    {
     "data": {
      "text/plain": [
       "array([ 0.35072649, -0.10315485,  0.01341013,  0.00598298,  0.00103155,\n",
       "        0.00680822, -0.04726555, -0.01543197,  0.00229004, -0.02063097,\n",
       "       -0.01237858, -0.00295023, -0.00689074, -0.01237858,  0.0029296 ,\n",
       "       -0.22694067,  0.53929355, -0.16339728, -0.70269083])"
      ]
     },
     "execution_count": 6,
     "metadata": {},
     "output_type": "execute_result"
    }
   ],
   "source": [
    "X_train_norm = tf.keras.utils.normalize(X_train.values,axis=1)\n",
    "X_test_norm = tf.keras.utils.normalize(X_test.values,axis=1)\n",
    "X_train_norm[0]"
   ]
  },
  {
   "cell_type": "code",
   "execution_count": 7,
   "metadata": {},
   "outputs": [],
   "source": [
    "model = tf.keras.models.Sequential()\n",
    "#model.add(tf.keras.layers.Flatten())\n",
    "model.add(tf.keras.layers.Dense(128, activation = tf.nn.relu))\n",
    "model.add(tf.keras.layers.Dense(128, activation = tf.nn.relu))\n",
    "model.add(tf.keras.layers.Dense(128, activation = tf.nn.relu))\n",
    "#model.add(tf.keras.layers.Dropout(0.5))\n",
    "model.add(tf.keras.layers.Dense(3, activation = tf.nn.softmax))"
   ]
  },
  {
   "cell_type": "code",
   "execution_count": 8,
   "metadata": {},
   "outputs": [],
   "source": [
    "model.compile(optimizer='adam',\n",
    "             loss='sparse_categorical_crossentropy',\n",
    "             metrics=['accuracy'])\n",
    "\n",
    "class_weight = {0: 1.721,\n",
    "                1: 1.728,\n",
    "                2: 1}"
   ]
  },
  {
   "cell_type": "code",
   "execution_count": 9,
   "metadata": {
    "scrolled": true
   },
   "outputs": [
    {
     "name": "stdout",
     "output_type": "stream",
     "text": [
      "Train on 3773 samples, validate on 944 samples\n",
      "Epoch 1/20\n",
      "3773/3773 [==============================] - 2s 485us/step - loss: 1.0742 - acc: 0.4204 - val_loss: 1.0252 - val_acc: 0.4873\n",
      "Epoch 2/20\n",
      "3773/3773 [==============================] - 1s 209us/step - loss: 1.0592 - acc: 0.4482 - val_loss: 1.0349 - val_acc: 0.4682\n",
      "Epoch 3/20\n",
      "3773/3773 [==============================] - 1s 209us/step - loss: 1.0513 - acc: 0.4593 - val_loss: 1.0559 - val_acc: 0.4343\n",
      "Epoch 4/20\n",
      "3773/3773 [==============================] - 1s 207us/step - loss: 1.0506 - acc: 0.4569 - val_loss: 1.0337 - val_acc: 0.4682\n",
      "Epoch 5/20\n",
      "3773/3773 [==============================] - 1s 208us/step - loss: 1.0450 - acc: 0.4736 - val_loss: 1.0692 - val_acc: 0.3909\n",
      "Epoch 6/20\n",
      "3773/3773 [==============================] - 1s 211us/step - loss: 1.0457 - acc: 0.4691 - val_loss: 1.0242 - val_acc: 0.4693\n",
      "Epoch 7/20\n",
      "3773/3773 [==============================] - 1s 364us/step - loss: 1.0412 - acc: 0.4699 - val_loss: 1.0386 - val_acc: 0.4587\n",
      "Epoch 8/20\n",
      "3773/3773 [==============================] - 1s 371us/step - loss: 1.0380 - acc: 0.4697 - val_loss: 1.0536 - val_acc: 0.4237\n",
      "Epoch 9/20\n",
      "3773/3773 [==============================] - 1s 277us/step - loss: 1.0372 - acc: 0.4694 - val_loss: 1.0538 - val_acc: 0.4513\n",
      "Epoch 10/20\n",
      "3773/3773 [==============================] - 1s 293us/step - loss: 1.0364 - acc: 0.4739 - val_loss: 1.0408 - val_acc: 0.4375\n",
      "Epoch 11/20\n",
      "3773/3773 [==============================] - 1s 294us/step - loss: 1.0316 - acc: 0.4750 - val_loss: 1.0444 - val_acc: 0.4513\n",
      "Epoch 12/20\n",
      "3773/3773 [==============================] - 1s 275us/step - loss: 1.0341 - acc: 0.4803 - val_loss: 1.0521 - val_acc: 0.4407\n",
      "Epoch 13/20\n",
      "3773/3773 [==============================] - 1s 285us/step - loss: 1.0309 - acc: 0.4784 - val_loss: 1.0517 - val_acc: 0.4544\n",
      "Epoch 14/20\n",
      "3773/3773 [==============================] - 1s 286us/step - loss: 1.0305 - acc: 0.4824 - val_loss: 1.0529 - val_acc: 0.4333\n",
      "Epoch 15/20\n",
      "3773/3773 [==============================] - 1s 285us/step - loss: 1.0273 - acc: 0.4917 - val_loss: 1.0451 - val_acc: 0.4534\n",
      "Epoch 16/20\n",
      "3773/3773 [==============================] - 1s 287us/step - loss: 1.0240 - acc: 0.4856 - val_loss: 1.0354 - val_acc: 0.4492\n",
      "Epoch 17/20\n",
      "3773/3773 [==============================] - 1s 290us/step - loss: 1.0194 - acc: 0.4962 - val_loss: 1.0459 - val_acc: 0.4481\n",
      "Epoch 18/20\n",
      "3773/3773 [==============================] - 1s 298us/step - loss: 1.0165 - acc: 0.4940 - val_loss: 1.0400 - val_acc: 0.4439\n",
      "Epoch 19/20\n",
      "3773/3773 [==============================] - 1s 286us/step - loss: 1.0134 - acc: 0.4893 - val_loss: 1.0434 - val_acc: 0.4650\n",
      "Epoch 20/20\n",
      "3773/3773 [==============================] - 1s 289us/step - loss: 1.0134 - acc: 0.4954 - val_loss: 1.0419 - val_acc: 0.4513\n"
     ]
    },
    {
     "data": {
      "text/plain": [
       "<tensorflow.python.keras.callbacks.History at 0x7f7c34a7ee10>"
      ]
     },
     "execution_count": 9,
     "metadata": {},
     "output_type": "execute_result"
    }
   ],
   "source": [
    "model.fit(X_train_norm, y_train.values, epochs=20, validation_data=(X_test_norm,y_test), class_weight=class_weight)"
   ]
  },
  {
   "cell_type": "code",
   "execution_count": 10,
   "metadata": {},
   "outputs": [
    {
     "name": "stdout",
     "output_type": "stream",
     "text": [
      "preds: {0: 1549, 1: 706, 2: 1518}\n",
      "real: {0: 1015, 1: 1011, 2: 1747}\n",
      "[[664 396 489]\n",
      " [138 283 285]\n",
      " [213 332 973]]\n"
     ]
    }
   ],
   "source": [
    "train_pred = model.predict_classes(X_train_norm)\n",
    "test_pred = model.predict_classes(X_test_norm)\n",
    "\n",
    "import numpy as np\n",
    "\n",
    "unique, counts = np.unique(train_pred, return_counts=True)\n",
    "print(\"preds: \" + str(dict(zip(unique, counts))))\n",
    "\n",
    "unique, counts = np.unique(y_train.values, return_counts=True)\n",
    "print(\"real: \" + str(dict(zip(unique, counts))))\n",
    "\n",
    "from sklearn.metrics import confusion_matrix as conf_matrix\n",
    "\n",
    "print(conf_matrix(train_pred,y_train.values,labels=[0,1,2]))"
   ]
  },
  {
   "cell_type": "code",
   "execution_count": 11,
   "metadata": {},
   "outputs": [
    {
     "name": "stdout",
     "output_type": "stream",
     "text": [
      "[[146 101 129]\n",
      " [ 57  61  89]\n",
      " [ 51  91 219]]\n"
     ]
    }
   ],
   "source": [
    "print(conf_matrix(test_pred,y_test.values))"
   ]
  },
  {
   "cell_type": "code",
   "execution_count": 12,
   "metadata": {},
   "outputs": [],
   "source": [
    "test_pred_probs = model.predict(X_test_norm)"
   ]
  },
  {
   "cell_type": "code",
   "execution_count": 13,
   "metadata": {},
   "outputs": [
    {
     "data": {
      "text/plain": [
       "array([0.51298857, 0.33506528, 0.15194611], dtype=float32)"
      ]
     },
     "execution_count": 13,
     "metadata": {},
     "output_type": "execute_result"
    }
   ],
   "source": [
    "test_pred_probs[0]"
   ]
  },
  {
   "cell_type": "code",
   "execution_count": 14,
   "metadata": {},
   "outputs": [
    {
     "data": {
      "text/plain": [
       "2    2184\n",
       "0    1269\n",
       "1    1264\n",
       "Name: target, dtype: int64"
      ]
     },
     "execution_count": 14,
     "metadata": {},
     "output_type": "execute_result"
    }
   ],
   "source": [
    "df['target'].value_counts()"
   ]
  },
  {
   "cell_type": "code",
   "execution_count": 15,
   "metadata": {},
   "outputs": [
    {
     "data": {
      "text/plain": [
       "1.7278481012658229"
      ]
     },
     "execution_count": 15,
     "metadata": {},
     "output_type": "execute_result"
    }
   ],
   "source": [
    "2184/1264 #1"
   ]
  },
  {
   "cell_type": "code",
   "execution_count": 16,
   "metadata": {},
   "outputs": [
    {
     "data": {
      "text/plain": [
       "1.7210401891252955"
      ]
     },
     "execution_count": 16,
     "metadata": {},
     "output_type": "execute_result"
    }
   ],
   "source": [
    "2184/1269 #0"
   ]
  },
  {
   "cell_type": "code",
   "execution_count": null,
   "metadata": {},
   "outputs": [],
   "source": []
  }
 ],
 "metadata": {
  "kernelspec": {
   "display_name": "Python 3",
   "language": "python",
   "name": "python3"
  },
  "language_info": {
   "codemirror_mode": {
    "name": "ipython",
    "version": 3
   },
   "file_extension": ".py",
   "mimetype": "text/x-python",
   "name": "python",
   "nbconvert_exporter": "python",
   "pygments_lexer": "ipython3",
   "version": "3.6.7"
  }
 },
 "nbformat": 4,
 "nbformat_minor": 2
}
