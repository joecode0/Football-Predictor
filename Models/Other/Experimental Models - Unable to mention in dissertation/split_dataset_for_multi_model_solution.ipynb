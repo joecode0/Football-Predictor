{
 "cells": [
  {
   "cell_type": "code",
   "execution_count": 3,
   "metadata": {},
   "outputs": [],
   "source": [
    "import pandas as pd\n",
    "df = pd.read_csv(\"main_database_diffs_for_models.csv\")"
   ]
  },
  {
   "cell_type": "code",
   "execution_count": 4,
   "metadata": {},
   "outputs": [
    {
     "data": {
      "text/html": [
       "<div>\n",
       "<style scoped>\n",
       "    .dataframe tbody tr th:only-of-type {\n",
       "        vertical-align: middle;\n",
       "    }\n",
       "\n",
       "    .dataframe tbody tr th {\n",
       "        vertical-align: top;\n",
       "    }\n",
       "\n",
       "    .dataframe thead th {\n",
       "        text-align: right;\n",
       "    }\n",
       "</style>\n",
       "<table border=\"1\" class=\"dataframe\">\n",
       "  <thead>\n",
       "    <tr style=\"text-align: right;\">\n",
       "      <th></th>\n",
       "      <th>season</th>\n",
       "      <th>target</th>\n",
       "      <th>PosDiff</th>\n",
       "      <th>GSPGDiff</th>\n",
       "      <th>GCPGDiff</th>\n",
       "      <th>CSPGDiff</th>\n",
       "      <th>PtsPGDiff</th>\n",
       "      <th>SPGDiff</th>\n",
       "      <th>STPGDiff</th>\n",
       "      <th>S%Diff</th>\n",
       "      <th>PTSPG3Diff</th>\n",
       "      <th>PTSPG5Diff</th>\n",
       "      <th>PTSPG7Diff</th>\n",
       "      <th>GD3Diff</th>\n",
       "      <th>GD5Diff</th>\n",
       "      <th>GD7Diff</th>\n",
       "      <th>PosLSDiff</th>\n",
       "      <th>SpentDiff</th>\n",
       "      <th>IncomeDiff</th>\n",
       "      <th>NetDiff</th>\n",
       "    </tr>\n",
       "  </thead>\n",
       "  <tbody>\n",
       "    <tr>\n",
       "      <th>0</th>\n",
       "      <td>9</td>\n",
       "      <td>2</td>\n",
       "      <td>-9.0</td>\n",
       "      <td>0.0</td>\n",
       "      <td>0.0</td>\n",
       "      <td>0.0</td>\n",
       "      <td>0.0</td>\n",
       "      <td>0.0</td>\n",
       "      <td>0.0</td>\n",
       "      <td>0.0</td>\n",
       "      <td>0.0</td>\n",
       "      <td>0.0</td>\n",
       "      <td>0.0</td>\n",
       "      <td>0.0</td>\n",
       "      <td>0.0</td>\n",
       "      <td>0.0</td>\n",
       "      <td>0.0</td>\n",
       "      <td>0.65</td>\n",
       "      <td>-0.841</td>\n",
       "      <td>-1.491</td>\n",
       "    </tr>\n",
       "    <tr>\n",
       "      <th>1</th>\n",
       "      <td>9</td>\n",
       "      <td>2</td>\n",
       "      <td>-15.0</td>\n",
       "      <td>0.0</td>\n",
       "      <td>0.0</td>\n",
       "      <td>0.0</td>\n",
       "      <td>0.0</td>\n",
       "      <td>0.0</td>\n",
       "      <td>0.0</td>\n",
       "      <td>0.0</td>\n",
       "      <td>0.0</td>\n",
       "      <td>0.0</td>\n",
       "      <td>0.0</td>\n",
       "      <td>0.0</td>\n",
       "      <td>0.0</td>\n",
       "      <td>0.0</td>\n",
       "      <td>-4.0</td>\n",
       "      <td>38.23</td>\n",
       "      <td>-3.330</td>\n",
       "      <td>-41.560</td>\n",
       "    </tr>\n",
       "    <tr>\n",
       "      <th>2</th>\n",
       "      <td>9</td>\n",
       "      <td>0</td>\n",
       "      <td>-9.0</td>\n",
       "      <td>0.0</td>\n",
       "      <td>0.0</td>\n",
       "      <td>0.0</td>\n",
       "      <td>0.0</td>\n",
       "      <td>0.0</td>\n",
       "      <td>0.0</td>\n",
       "      <td>0.0</td>\n",
       "      <td>0.0</td>\n",
       "      <td>0.0</td>\n",
       "      <td>0.0</td>\n",
       "      <td>0.0</td>\n",
       "      <td>0.0</td>\n",
       "      <td>0.0</td>\n",
       "      <td>2.0</td>\n",
       "      <td>-12.42</td>\n",
       "      <td>14.650</td>\n",
       "      <td>27.070</td>\n",
       "    </tr>\n",
       "    <tr>\n",
       "      <th>3</th>\n",
       "      <td>9</td>\n",
       "      <td>1</td>\n",
       "      <td>-10.0</td>\n",
       "      <td>0.0</td>\n",
       "      <td>0.0</td>\n",
       "      <td>0.0</td>\n",
       "      <td>0.0</td>\n",
       "      <td>0.0</td>\n",
       "      <td>0.0</td>\n",
       "      <td>0.0</td>\n",
       "      <td>0.0</td>\n",
       "      <td>0.0</td>\n",
       "      <td>0.0</td>\n",
       "      <td>0.0</td>\n",
       "      <td>0.0</td>\n",
       "      <td>0.0</td>\n",
       "      <td>1.0</td>\n",
       "      <td>11.99</td>\n",
       "      <td>6.129</td>\n",
       "      <td>-5.861</td>\n",
       "    </tr>\n",
       "    <tr>\n",
       "      <th>4</th>\n",
       "      <td>9</td>\n",
       "      <td>2</td>\n",
       "      <td>2.0</td>\n",
       "      <td>0.0</td>\n",
       "      <td>0.0</td>\n",
       "      <td>0.0</td>\n",
       "      <td>0.0</td>\n",
       "      <td>0.0</td>\n",
       "      <td>0.0</td>\n",
       "      <td>0.0</td>\n",
       "      <td>0.0</td>\n",
       "      <td>0.0</td>\n",
       "      <td>0.0</td>\n",
       "      <td>0.0</td>\n",
       "      <td>0.0</td>\n",
       "      <td>0.0</td>\n",
       "      <td>-10.0</td>\n",
       "      <td>16.81</td>\n",
       "      <td>-21.080</td>\n",
       "      <td>-37.890</td>\n",
       "    </tr>\n",
       "  </tbody>\n",
       "</table>\n",
       "</div>"
      ],
      "text/plain": [
       "   season  target  PosDiff  GSPGDiff  GCPGDiff  CSPGDiff  PtsPGDiff  SPGDiff  \\\n",
       "0       9       2     -9.0       0.0       0.0       0.0        0.0      0.0   \n",
       "1       9       2    -15.0       0.0       0.0       0.0        0.0      0.0   \n",
       "2       9       0     -9.0       0.0       0.0       0.0        0.0      0.0   \n",
       "3       9       1    -10.0       0.0       0.0       0.0        0.0      0.0   \n",
       "4       9       2      2.0       0.0       0.0       0.0        0.0      0.0   \n",
       "\n",
       "   STPGDiff  S%Diff  PTSPG3Diff  PTSPG5Diff  PTSPG7Diff  GD3Diff  GD5Diff  \\\n",
       "0       0.0     0.0         0.0         0.0         0.0      0.0      0.0   \n",
       "1       0.0     0.0         0.0         0.0         0.0      0.0      0.0   \n",
       "2       0.0     0.0         0.0         0.0         0.0      0.0      0.0   \n",
       "3       0.0     0.0         0.0         0.0         0.0      0.0      0.0   \n",
       "4       0.0     0.0         0.0         0.0         0.0      0.0      0.0   \n",
       "\n",
       "   GD7Diff  PosLSDiff  SpentDiff  IncomeDiff  NetDiff  \n",
       "0      0.0        0.0       0.65      -0.841   -1.491  \n",
       "1      0.0       -4.0      38.23      -3.330  -41.560  \n",
       "2      0.0        2.0     -12.42      14.650   27.070  \n",
       "3      0.0        1.0      11.99       6.129   -5.861  \n",
       "4      0.0      -10.0      16.81     -21.080  -37.890  "
      ]
     },
     "execution_count": 4,
     "metadata": {},
     "output_type": "execute_result"
    }
   ],
   "source": [
    "df.head()"
   ]
  },
  {
   "cell_type": "code",
   "execution_count": 8,
   "metadata": {},
   "outputs": [],
   "source": [
    "df_large_diff = df.query(\"abs(PosDiff) >= 10\")\n",
    "df_large_diff.reset_index(inplace=True,drop=True)\n",
    "df_small_diff = df.query(\"abs(PosDiff) < 10\")\n",
    "df_small_diff.reset_index(inplace=True,drop=True)"
   ]
  },
  {
   "cell_type": "code",
   "execution_count": 9,
   "metadata": {},
   "outputs": [
    {
     "data": {
      "text/plain": [
       "(1743, 20)"
      ]
     },
     "execution_count": 9,
     "metadata": {},
     "output_type": "execute_result"
    }
   ],
   "source": [
    "df_large_diff.shape"
   ]
  },
  {
   "cell_type": "code",
   "execution_count": 10,
   "metadata": {},
   "outputs": [
    {
     "data": {
      "text/plain": [
       "(4717, 20)"
      ]
     },
     "execution_count": 10,
     "metadata": {},
     "output_type": "execute_result"
    }
   ],
   "source": [
    "df_small_diff.shape"
   ]
  },
  {
   "cell_type": "code",
   "execution_count": 11,
   "metadata": {},
   "outputs": [],
   "source": [
    "df_large_diff.to_csv(\"main_database_large_diff.csv\",index=False)\n",
    "df_small_diff.to_csv(\"main_database_small_diff.csv\",index=False)"
   ]
  },
  {
   "cell_type": "code",
   "execution_count": null,
   "metadata": {},
   "outputs": [],
   "source": []
  }
 ],
 "metadata": {
  "kernelspec": {
   "display_name": "Python 3",
   "language": "python",
   "name": "python3"
  },
  "language_info": {
   "codemirror_mode": {
    "name": "ipython",
    "version": 3
   },
   "file_extension": ".py",
   "mimetype": "text/x-python",
   "name": "python",
   "nbconvert_exporter": "python",
   "pygments_lexer": "ipython3",
   "version": "3.6.7"
  }
 },
 "nbformat": 4,
 "nbformat_minor": 2
}
