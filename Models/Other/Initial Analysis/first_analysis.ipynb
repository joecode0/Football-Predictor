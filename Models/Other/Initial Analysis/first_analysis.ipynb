{
 "cells": [
  {
   "cell_type": "code",
   "execution_count": 1,
   "metadata": {},
   "outputs": [],
   "source": [
    "import pandas as pd\n",
    "import matplotlib.pyplot as plt\n",
    "import seaborn as sns\n",
    "import numpy as np"
   ]
  },
  {
   "cell_type": "code",
   "execution_count": 41,
   "metadata": {},
   "outputs": [
    {
     "data": {
      "text/html": [
       "<div>\n",
       "<style scoped>\n",
       "    .dataframe tbody tr th:only-of-type {\n",
       "        vertical-align: middle;\n",
       "    }\n",
       "\n",
       "    .dataframe tbody tr th {\n",
       "        vertical-align: top;\n",
       "    }\n",
       "\n",
       "    .dataframe thead th {\n",
       "        text-align: right;\n",
       "    }\n",
       "</style>\n",
       "<table border=\"1\" class=\"dataframe\">\n",
       "  <thead>\n",
       "    <tr style=\"text-align: right;\">\n",
       "      <th></th>\n",
       "      <th>season</th>\n",
       "      <th>hPos</th>\n",
       "      <th>hGSPG</th>\n",
       "      <th>hGCPG</th>\n",
       "      <th>hCSPG</th>\n",
       "      <th>hPtsPG</th>\n",
       "      <th>aPos</th>\n",
       "      <th>aGSPG</th>\n",
       "      <th>aGCPG</th>\n",
       "      <th>aCSPG</th>\n",
       "      <th>aPtsPG</th>\n",
       "      <th>target</th>\n",
       "    </tr>\n",
       "  </thead>\n",
       "  <tbody>\n",
       "    <tr>\n",
       "      <th>0</th>\n",
       "      <td>1</td>\n",
       "      <td>1.0</td>\n",
       "      <td>0.0</td>\n",
       "      <td>0.0</td>\n",
       "      <td>0.0</td>\n",
       "      <td>0.0</td>\n",
       "      <td>14.0</td>\n",
       "      <td>0.0</td>\n",
       "      <td>0.0</td>\n",
       "      <td>0.0</td>\n",
       "      <td>0.0</td>\n",
       "      <td>0</td>\n",
       "    </tr>\n",
       "    <tr>\n",
       "      <th>1</th>\n",
       "      <td>1</td>\n",
       "      <td>4.0</td>\n",
       "      <td>0.0</td>\n",
       "      <td>0.0</td>\n",
       "      <td>0.0</td>\n",
       "      <td>0.0</td>\n",
       "      <td>16.0</td>\n",
       "      <td>0.0</td>\n",
       "      <td>0.0</td>\n",
       "      <td>0.0</td>\n",
       "      <td>0.0</td>\n",
       "      <td>1</td>\n",
       "    </tr>\n",
       "    <tr>\n",
       "      <th>2</th>\n",
       "      <td>1</td>\n",
       "      <td>5.0</td>\n",
       "      <td>0.0</td>\n",
       "      <td>0.0</td>\n",
       "      <td>0.0</td>\n",
       "      <td>0.0</td>\n",
       "      <td>13.0</td>\n",
       "      <td>0.0</td>\n",
       "      <td>0.0</td>\n",
       "      <td>0.0</td>\n",
       "      <td>0.0</td>\n",
       "      <td>2</td>\n",
       "    </tr>\n",
       "    <tr>\n",
       "      <th>3</th>\n",
       "      <td>1</td>\n",
       "      <td>6.0</td>\n",
       "      <td>0.0</td>\n",
       "      <td>0.0</td>\n",
       "      <td>0.0</td>\n",
       "      <td>0.0</td>\n",
       "      <td>3.0</td>\n",
       "      <td>0.0</td>\n",
       "      <td>0.0</td>\n",
       "      <td>0.0</td>\n",
       "      <td>0.0</td>\n",
       "      <td>1</td>\n",
       "    </tr>\n",
       "    <tr>\n",
       "      <th>4</th>\n",
       "      <td>1</td>\n",
       "      <td>7.0</td>\n",
       "      <td>0.0</td>\n",
       "      <td>0.0</td>\n",
       "      <td>0.0</td>\n",
       "      <td>0.0</td>\n",
       "      <td>19.0</td>\n",
       "      <td>0.0</td>\n",
       "      <td>0.0</td>\n",
       "      <td>0.0</td>\n",
       "      <td>0.0</td>\n",
       "      <td>1</td>\n",
       "    </tr>\n",
       "  </tbody>\n",
       "</table>\n",
       "</div>"
      ],
      "text/plain": [
       "   season  hPos  hGSPG  hGCPG  hCSPG  hPtsPG  aPos  aGSPG  aGCPG  aCSPG  \\\n",
       "0       1   1.0    0.0    0.0    0.0     0.0  14.0    0.0    0.0    0.0   \n",
       "1       1   4.0    0.0    0.0    0.0     0.0  16.0    0.0    0.0    0.0   \n",
       "2       1   5.0    0.0    0.0    0.0     0.0  13.0    0.0    0.0    0.0   \n",
       "3       1   6.0    0.0    0.0    0.0     0.0   3.0    0.0    0.0    0.0   \n",
       "4       1   7.0    0.0    0.0    0.0     0.0  19.0    0.0    0.0    0.0   \n",
       "\n",
       "   aPtsPG  target  \n",
       "0     0.0       0  \n",
       "1     0.0       1  \n",
       "2     0.0       2  \n",
       "3     0.0       1  \n",
       "4     0.0       1  "
      ]
     },
     "execution_count": 41,
     "metadata": {},
     "output_type": "execute_result"
    }
   ],
   "source": [
    "df = pd.read_csv(\"initial_dataset_final.csv\")\n",
    "df.head()"
   ]
  },
  {
   "cell_type": "markdown",
   "metadata": {},
   "source": [
    "# Target Value Counts"
   ]
  },
  {
   "cell_type": "code",
   "execution_count": 3,
   "metadata": {},
   "outputs": [
    {
     "name": "stdout",
     "output_type": "stream",
     "text": [
      "{'Away Win': 2775, 'Draw': 2676, 'Home Win': 4675}\n"
     ]
    }
   ],
   "source": [
    "winners = df['target'].tolist()\n",
    "winners_count = {\"Away Win\":0,\"Draw\":0,\"Home Win\":0}\n",
    "for w in winners:\n",
    "    if w == 0:\n",
    "        winners_count[\"Away Win\"] += 1\n",
    "    elif w == 1:\n",
    "        winners_count[\"Draw\"] += 1\n",
    "    elif w == 2:\n",
    "        winners_count[\"Home Win\"] += 1\n",
    "    else:\n",
    "        print(\"Invalid Value: {}\".format(w))\n",
    "print(winners_count)"
   ]
  },
  {
   "cell_type": "code",
   "execution_count": 4,
   "metadata": {},
   "outputs": [
    {
     "name": "stdout",
     "output_type": "stream",
     "text": [
      "Therefore can reach a 46.17% accuracy by always predicting home team win\n"
     ]
    }
   ],
   "source": [
    "home_team_accuracy = round((4675/(4675+2775+2676))*100,2)\n",
    "print(\"Therefore can reach a {}% accuracy by always predicting home team win\".format(home_team_accuracy))"
   ]
  },
  {
   "cell_type": "markdown",
   "metadata": {},
   "source": [
    "# Upsets"
   ]
  },
  {
   "cell_type": "code",
   "execution_count": 5,
   "metadata": {},
   "outputs": [],
   "source": [
    "def test_expected_result_ignore_draws(hPos,aPos,result):\n",
    "    if hPos < aPos:\n",
    "        if result == 2:\n",
    "            return True\n",
    "    else:\n",
    "        if result == 0:\n",
    "            return True\n",
    "    return False"
   ]
  },
  {
   "cell_type": "code",
   "execution_count": 6,
   "metadata": {},
   "outputs": [],
   "source": [
    "def expected_result_ignore_draws(row):\n",
    "    hPos = int(row['hPos'])\n",
    "    aPos = int(row['aPos'])\n",
    "    result = int(row['target'])\n",
    "    return test_expected_result_ignore_draws(hPos,aPos,result)"
   ]
  },
  {
   "cell_type": "code",
   "execution_count": 7,
   "metadata": {},
   "outputs": [],
   "source": [
    "df['Expected Result (Ignore Draws)'] = df.apply(expected_result_ignore_draws,axis=1)"
   ]
  },
  {
   "cell_type": "code",
   "execution_count": 8,
   "metadata": {},
   "outputs": [
    {
     "data": {
      "text/plain": [
       "False    5439\n",
       "True     4687\n",
       "Name: Expected Result (Ignore Draws), dtype: int64"
      ]
     },
     "execution_count": 8,
     "metadata": {},
     "output_type": "execute_result"
    }
   ],
   "source": [
    "df['Expected Result (Ignore Draws)'].value_counts()"
   ]
  },
  {
   "cell_type": "code",
   "execution_count": 9,
   "metadata": {},
   "outputs": [],
   "source": [
    "# Therefore in 4687 of the games where it's not a draw, the higher placed team wins."
   ]
  },
  {
   "cell_type": "code",
   "execution_count": 10,
   "metadata": {},
   "outputs": [
    {
     "data": {
      "text/plain": [
       "0.46286786490223186"
      ]
     },
     "execution_count": 10,
     "metadata": {},
     "output_type": "execute_result"
    }
   ],
   "source": [
    "4687/10126"
   ]
  },
  {
   "cell_type": "markdown",
   "metadata": {},
   "source": [
    "## Considering Draws"
   ]
  },
  {
   "cell_type": "code",
   "execution_count": 11,
   "metadata": {},
   "outputs": [],
   "source": [
    "def test_expected_result(hPos,aPos,result,draw_threshold):\n",
    "    if abs(hPos-aPos) <= draw_threshold:\n",
    "        if result == 1:\n",
    "            return True\n",
    "        else:\n",
    "            return False\n",
    "    else:\n",
    "        return test_expected_result_ignore_draws(hPos,aPos,result)\n",
    "\n",
    "def expected_result(row,draw_threshold):\n",
    "    hPos = int(row['hPos'])\n",
    "    aPos = int(row['aPos'])\n",
    "    result = int(row['target'])\n",
    "    return test_expected_result(hPos,aPos,result,draw_threshold)"
   ]
  },
  {
   "cell_type": "code",
   "execution_count": 12,
   "metadata": {},
   "outputs": [
    {
     "data": {
      "text/plain": [
       "False    5706\n",
       "True     4420\n",
       "Name: Expected Result (3), dtype: int64"
      ]
     },
     "execution_count": 12,
     "metadata": {},
     "output_type": "execute_result"
    }
   ],
   "source": [
    "df['Expected Result (3)'] = df.apply(expected_result,args=(3,),axis=1)\n",
    "df['Expected Result (3)'].value_counts()"
   ]
  },
  {
   "cell_type": "code",
   "execution_count": 13,
   "metadata": {},
   "outputs": [
    {
     "data": {
      "text/plain": [
       "False    5641\n",
       "True     4485\n",
       "Name: Expected Result (2), dtype: int64"
      ]
     },
     "execution_count": 13,
     "metadata": {},
     "output_type": "execute_result"
    }
   ],
   "source": [
    "df['Expected Result (2)'] = df.apply(expected_result,args=(2,),axis=1)\n",
    "df['Expected Result (2)'].value_counts()"
   ]
  },
  {
   "cell_type": "code",
   "execution_count": 14,
   "metadata": {},
   "outputs": [
    {
     "data": {
      "text/plain": [
       "False    5497\n",
       "True     4629\n",
       "Name: Expected Result (1), dtype: int64"
      ]
     },
     "execution_count": 14,
     "metadata": {},
     "output_type": "execute_result"
    }
   ],
   "source": [
    "df['Expected Result (1)'] = df.apply(expected_result,args=(1,),axis=1)\n",
    "df['Expected Result (1)'].value_counts()"
   ]
  },
  {
   "cell_type": "code",
   "execution_count": 15,
   "metadata": {},
   "outputs": [
    {
     "data": {
      "text/plain": [
       "0.49417341497136086"
      ]
     },
     "execution_count": 15,
     "metadata": {},
     "output_type": "execute_result"
    }
   ],
   "source": [
    "5004/10126"
   ]
  },
  {
   "cell_type": "code",
   "execution_count": 16,
   "metadata": {},
   "outputs": [
    {
     "data": {
      "text/plain": [
       "False    5439\n",
       "True     4687\n",
       "Name: Expected Result (0), dtype: int64"
      ]
     },
     "execution_count": 16,
     "metadata": {},
     "output_type": "execute_result"
    }
   ],
   "source": [
    "df['Expected Result (0)'] = df.apply(expected_result,args=(0,),axis=1)\n",
    "df['Expected Result (0)'].value_counts()"
   ]
  },
  {
   "cell_type": "markdown",
   "metadata": {},
   "source": [
    "These results imply that we can almost reach a 46% accuracy by simply always predicting the expected result, which is defined as a draw if teams are 0 positions apart, and a win for better position team otherwise.\n",
    "\n",
    "This also imples that draws are quite hard to predict, so let's investigate if that's true."
   ]
  },
  {
   "cell_type": "markdown",
   "metadata": {},
   "source": [
    "# Draws"
   ]
  },
  {
   "cell_type": "code",
   "execution_count": 17,
   "metadata": {},
   "outputs": [],
   "source": [
    "df_draws = df.query(\"target == 1\").copy()"
   ]
  },
  {
   "cell_type": "code",
   "execution_count": 18,
   "metadata": {},
   "outputs": [
    {
     "data": {
      "text/plain": [
       "(2676, 17)"
      ]
     },
     "execution_count": 18,
     "metadata": {},
     "output_type": "execute_result"
    }
   ],
   "source": [
    "df_draws.shape"
   ]
  },
  {
   "cell_type": "code",
   "execution_count": 19,
   "metadata": {},
   "outputs": [],
   "source": [
    "def get_pos_diff(row):\n",
    "    return abs(int(row[\"hPos\"]) - int(row['aPos']))"
   ]
  },
  {
   "cell_type": "code",
   "execution_count": 20,
   "metadata": {},
   "outputs": [],
   "source": [
    "df_draws['pos_diff'] = df_draws.apply(get_pos_diff,axis=1)"
   ]
  },
  {
   "cell_type": "code",
   "execution_count": 21,
   "metadata": {},
   "outputs": [
    {
     "data": {
      "text/plain": [
       "[Text(0, 0.5, 'Proportion of total Draws'),\n",
       " Text(0.5, 0, 'Position Difference between Teams (absolute)'),\n",
       " Text(0.5, 1.0, 'Draws')]"
      ]
     },
     "execution_count": 21,
     "metadata": {},
     "output_type": "execute_result"
    },
    {
     "data": {
      "image/png": "[encoded data removed]",
      "text/plain": [
       "<Figure size 432x288 with 1 Axes>"
      ]
     },
     "metadata": {
      "needs_background": "light"
     },
     "output_type": "display_data"
    }
   ],
   "source": [
    "ax = sns.distplot(df_draws['pos_diff'].tolist(),bins=20)\n",
    "ax.set(xlabel='Position Difference between Teams (absolute)', ylabel='Proportion of total Draws', title=\"Draws\")"
   ]
  },
  {
   "cell_type": "markdown",
   "metadata": {},
   "source": [
    "This shows a clear correlation: Given a game is a draw, it's linearly more likely that the teams are close together in the league table.\n",
    "\n",
    "This encouraged me to run the same test for Home Wins and Away Wins"
   ]
  },
  {
   "cell_type": "markdown",
   "metadata": {},
   "source": [
    "# Home Wins"
   ]
  },
  {
   "cell_type": "code",
   "execution_count": 22,
   "metadata": {},
   "outputs": [],
   "source": [
    "df_home = df.query(\"target == 2\").copy()"
   ]
  },
  {
   "cell_type": "code",
   "execution_count": 23,
   "metadata": {},
   "outputs": [],
   "source": [
    "def home_pos_diff(row):\n",
    "    return (int(row['hPos']) - int(row['aPos']))"
   ]
  },
  {
   "cell_type": "code",
   "execution_count": 24,
   "metadata": {},
   "outputs": [],
   "source": [
    "df_home['pos_diff'] = df_home.apply(home_pos_diff,axis=1)"
   ]
  },
  {
   "cell_type": "code",
   "execution_count": 25,
   "metadata": {},
   "outputs": [
    {
     "data": {
      "text/plain": [
       "-2     264\n",
       "-1     244\n",
       "-4     239\n",
       " 1     220\n",
       "-8     215\n",
       "-3     207\n",
       " 3     205\n",
       "-6     205\n",
       "-5     198\n",
       " 2     192\n",
       "-7     186\n",
       "-9     174\n",
       " 4     161\n",
       "-10    148\n",
       " 5     144\n",
       " 6     142\n",
       "-12    140\n",
       "-11    131\n",
       " 7     130\n",
       "-13    124\n",
       " 8     110\n",
       " 9      93\n",
       "-14     84\n",
       " 10     82\n",
       " 12     80\n",
       "-15     80\n",
       " 11     78\n",
       "-16     74\n",
       " 13     62\n",
       " 14     58\n",
       "-17     51\n",
       "-18     44\n",
       " 16     32\n",
       " 15     32\n",
       " 17     16\n",
       "-19     15\n",
       " 18      7\n",
       " 19      3\n",
       "-20      2\n",
       "-21      2\n",
       " 21      1\n",
       "Name: pos_diff, dtype: int64"
      ]
     },
     "execution_count": 25,
     "metadata": {},
     "output_type": "execute_result"
    }
   ],
   "source": [
    "df_home['pos_diff'].value_counts()"
   ]
  },
  {
   "cell_type": "code",
   "execution_count": 26,
   "metadata": {
    "scrolled": true
   },
   "outputs": [
    {
     "data": {
      "text/plain": [
       "[Text(0, 0.5, 'Proportion of total Home Wins'),\n",
       " Text(0.5, 0, 'Position Difference between Teams (Home - Away)'),\n",
       " Text(0.5, 1.0, 'Home Wins')]"
      ]
     },
     "execution_count": 26,
     "metadata": {},
     "output_type": "execute_result"
    },
    {
     "data": {
      "image/png": "[encoded data removed]",
      "text/plain": [
       "<Figure size 432x288 with 1 Axes>"
      ]
     },
     "metadata": {
      "needs_background": "light"
     },
     "output_type": "display_data"
    }
   ],
   "source": [
    "ax2 = sns.distplot(df_home['pos_diff'].tolist(),bins=10)\n",
    "ax2.set(xlabel='Position Difference between Teams (Home - Away)', ylabel='Proportion of total Home Wins', title=\"Home Wins\")"
   ]
  },
  {
   "cell_type": "markdown",
   "metadata": {},
   "source": [
    "This implies that it doesn't really matter if teams are ahead or behind, the benefit of being the home team seems far stronger"
   ]
  },
  {
   "cell_type": "markdown",
   "metadata": {},
   "source": [
    "# Away Wins"
   ]
  },
  {
   "cell_type": "code",
   "execution_count": 27,
   "metadata": {},
   "outputs": [],
   "source": [
    "df_away = df.query(\"target == 0\").copy()"
   ]
  },
  {
   "cell_type": "code",
   "execution_count": 28,
   "metadata": {},
   "outputs": [],
   "source": [
    "def away_pos_diff(row):\n",
    "    return (int(row['aPos']) - int(row['hPos']))"
   ]
  },
  {
   "cell_type": "code",
   "execution_count": 29,
   "metadata": {},
   "outputs": [],
   "source": [
    "df_away['pos_diff'] = df_away.apply(away_pos_diff,axis=1)"
   ]
  },
  {
   "cell_type": "code",
   "execution_count": 30,
   "metadata": {},
   "outputs": [
    {
     "data": {
      "text/plain": [
       "-4     154\n",
       "-5     144\n",
       "-2     142\n",
       "-6     137\n",
       "-3     137\n",
       " 1     132\n",
       "-1     131\n",
       "-8     121\n",
       " 2     118\n",
       "-9     116\n",
       "-7     114\n",
       "-10    106\n",
       " 3     102\n",
       "-12     96\n",
       "-11     93\n",
       " 5      93\n",
       " 4      84\n",
       "-14     81\n",
       "-15     67\n",
       "-13     64\n",
       " 6      63\n",
       "-16     56\n",
       " 8      55\n",
       "-17     52\n",
       " 7      48\n",
       " 10     46\n",
       " 11     35\n",
       "-18     34\n",
       " 9      30\n",
       " 14     29\n",
       " 12     22\n",
       " 13     17\n",
       " 15     16\n",
       "-19     15\n",
       " 16     10\n",
       " 17      9\n",
       " 18      5\n",
       " 19      1\n",
       "Name: pos_diff, dtype: int64"
      ]
     },
     "execution_count": 30,
     "metadata": {},
     "output_type": "execute_result"
    }
   ],
   "source": [
    "df_away['pos_diff'].value_counts()"
   ]
  },
  {
   "cell_type": "code",
   "execution_count": 31,
   "metadata": {},
   "outputs": [
    {
     "data": {
      "text/plain": [
       "[Text(0, 0.5, 'Proportion of total Away Wins'),\n",
       " Text(0.5, 0, 'Position Difference between Teams (Away - Home)'),\n",
       " Text(0.5, 1.0, 'Away Wins')]"
      ]
     },
     "execution_count": 31,
     "metadata": {},
     "output_type": "execute_result"
    },
    {
     "data": {
      "image/png": "[encoded data removed]",
      "text/plain": [
       "<Figure size 432x288 with 1 Axes>"
      ]
     },
     "metadata": {
      "needs_background": "light"
     },
     "output_type": "display_data"
    }
   ],
   "source": [
    "ax3 = sns.distplot(df_away['pos_diff'].tolist(),bins=10)\n",
    "ax3.set(xlabel='Position Difference between Teams (Away - Home)', ylabel='Proportion of total Away Wins', title=\"Away Wins\")"
   ]
  },
  {
   "cell_type": "markdown",
   "metadata": {},
   "source": [
    "# Pos-diff Distributions"
   ]
  },
  {
   "cell_type": "code",
   "execution_count": 32,
   "metadata": {},
   "outputs": [],
   "source": [
    "df['pos_diff'] = df.apply(home_pos_diff,axis=1)"
   ]
  },
  {
   "cell_type": "code",
   "execution_count": 33,
   "metadata": {},
   "outputs": [
    {
     "data": {
      "text/plain": [
       "[Text(0, 0.5, 'Proportion of total games'),\n",
       " Text(0.5, 0, 'Position Difference between Teams (Home - Away)'),\n",
       " Text(0.5, 1.0, 'All Games')]"
      ]
     },
     "execution_count": 33,
     "metadata": {},
     "output_type": "execute_result"
    },
    {
     "data": {
      "image/png": "[encoded data removed]",
      "text/plain": [
       "<Figure size 432x288 with 1 Axes>"
      ]
     },
     "metadata": {
      "needs_background": "light"
     },
     "output_type": "display_data"
    }
   ],
   "source": [
    "ax4 = sns.distplot(df['pos_diff'].tolist(),bins=10)\n",
    "ax4.set(xlabel='Position Difference between Teams (Home - Away)', ylabel='Proportion of total games', title=\"All Games\")"
   ]
  },
  {
   "cell_type": "code",
   "execution_count": 34,
   "metadata": {},
   "outputs": [],
   "source": [
    "def pos_diff_to_category(row):\n",
    "    pos_diff = int(row['pos_diff'])\n",
    "    if pos_diff <= -15:\n",
    "        return \"<= -15\"\n",
    "    elif pos_diff <= -10:\n",
    "        return \"-15 < x <= -10\"\n",
    "    elif pos_diff <= -5:\n",
    "        return \"-10 < x <= -5\"\n",
    "    elif pos_diff <= 0:\n",
    "        return \"-5 < x <= 0\"\n",
    "    elif pos_diff < 5:\n",
    "        return \"0 < x <= 4\"\n",
    "    elif pos_diff < 10:\n",
    "        return \"4 < x <= 9\"\n",
    "    elif pos_diff < 15:\n",
    "        return \"9 < x <= 14\"\n",
    "    else:\n",
    "        return \">= 15\""
   ]
  },
  {
   "cell_type": "code",
   "execution_count": 35,
   "metadata": {},
   "outputs": [],
   "source": [
    "df[\"pos_diff_cat\"] = df.apply(pos_diff_to_category,axis=1)"
   ]
  },
  {
   "cell_type": "code",
   "execution_count": 36,
   "metadata": {},
   "outputs": [],
   "source": [
    "def pair_cols(row,col1,col2):\n",
    "    val1 = str(row[col1])\n",
    "    val2 = str(row[col2])\n",
    "    return str(val1 + \"|\" + val2)"
   ]
  },
  {
   "cell_type": "code",
   "execution_count": 37,
   "metadata": {},
   "outputs": [
    {
     "data": {
      "text/plain": [
       "-10 < x <= -5|2     978\n",
       "-5 < x <= 0|2       954\n",
       "0 < x <= 4|2        778\n",
       "4 < x <= 9|0        632\n",
       "-15 < x <= -10|2    627\n",
       "4 < x <= 9|2        619\n",
       "0 < x <= 4|1        575\n",
       "0 < x <= 4|0        564\n",
       "4 < x <= 9|1        525\n",
       "-5 < x <= 0|1       519\n",
       "9 < x <= 14|0       440\n",
       "-5 < x <= 0|0       436\n",
       "-10 < x <= -5|1     403\n",
       "9 < x <= 14|2       360\n",
       "-10 < x <= -5|0     289\n",
       "9 < x <= 14|1       270\n",
       "<= -15|2            268\n",
       "-15 < x <= -10|1    227\n",
       ">= 15|0             224\n",
       "-15 < x <= -10|0    149\n",
       ">= 15|1              95\n",
       ">= 15|2              91\n",
       "<= -15|1             62\n",
       "<= -15|0             41\n",
       "Name: pos_diff_result_pairs, dtype: int64"
      ]
     },
     "execution_count": 37,
     "metadata": {},
     "output_type": "execute_result"
    }
   ],
   "source": [
    "df['pos_diff_result_pairs'] = df.apply(pair_cols,args=(\"pos_diff_cat\",\"target\"),axis=1)\n",
    "df['pos_diff_result_pairs'].value_counts()"
   ]
  },
  {
   "cell_type": "markdown",
   "metadata": {},
   "source": [
    "Since we are only interested in predicting the target, given the pos_diff values, let's group these by pos_diff category"
   ]
  },
  {
   "cell_type": "code",
   "execution_count": 38,
   "metadata": {},
   "outputs": [],
   "source": [
    "def result_counts_dict_for_pos_diff_cats(pos_diff_cats,results):\n",
    "    #outer_dict = {\"<= -15\":{},\"-15 < x <= -10\":{},\"-10 < x <= -5\":{},\"-5 < x <= 0\":{},\"0 < x <= 4\":{},\"4 < x <= 9\":{},\"9 < x <= 14\":{},\">= 15\":{}}\n",
    "    outer_dict = {}\n",
    "    for cat in set(pos_diff_cats):\n",
    "        outer_dict[cat] = {0:0,1:0,2:0}\n",
    "    for i in range(len(pos_diff_cats)):\n",
    "        inner_dict = outer_dict.get(pos_diff_cats[i])\n",
    "        inner_dict[results[i]] += 1\n",
    "        outer_dict[pos_diff_cats[i]] = inner_dict\n",
    "    return outer_dict"
   ]
  },
  {
   "cell_type": "code",
   "execution_count": 39,
   "metadata": {},
   "outputs": [],
   "source": [
    "dists = result_counts_dict_for_pos_diff_cats(df['pos_diff_cat'].tolist(),df['target'].tolist())"
   ]
  },
  {
   "cell_type": "code",
   "execution_count": 40,
   "metadata": {},
   "outputs": [
    {
     "data": {
      "text/plain": [
       "{'<= -15': {0: 41, 1: 62, 2: 268},\n",
       " '9 < x <= 14': {0: 440, 1: 270, 2: 360},\n",
       " '-15 < x <= -10': {0: 149, 1: 227, 2: 627},\n",
       " '>= 15': {0: 224, 1: 95, 2: 91},\n",
       " '0 < x <= 4': {0: 564, 1: 575, 2: 778},\n",
       " '4 < x <= 9': {0: 632, 1: 525, 2: 619},\n",
       " '-5 < x <= 0': {0: 436, 1: 519, 2: 954},\n",
       " '-10 < x <= -5': {0: 289, 1: 403, 2: 978}}"
      ]
     },
     "execution_count": 40,
     "metadata": {},
     "output_type": "execute_result"
    }
   ],
   "source": [
    "dists"
   ]
  },
  {
   "cell_type": "markdown",
   "metadata": {},
   "source": [
    "This clearly shows that some categories of differences in positions between the teams are far easier to predict than others. For example, by simply predicting the most common occurence of each category, we can get a 50%+ accuracy for the 5 (out of 8 total) following categories: '-15 < x <= -10', '-10 < x <= -5', '-5 < x <= 0', '<= -15' and '>= 15'.\n",
    "\n",
    "This implies that the categories '4 < x <= 9', '0 < x <= 4', and '9 < x <= 14' are far harder to predict. Looking at these categories, you see that they form a continuous outer group from 0 < x <= 14. This group represents all the cases where the AWAY TEAM IS PERFORMING BETTER IN THE LEAGUE THAN THE HOME TEAM. This is due to the overlapping of two trends: In one case, the home team tends to win, pulling all predictions in that direction. Additionally, the better placed team tends to win, pulling all predictions in that direction. Clearly, in the range of hPos-aPos being between 0 and 14, these pulls interact and almost balance eachother out, making predictions a much more complicated problem."
   ]
  },
  {
   "cell_type": "markdown",
   "metadata": {},
   "source": [
    "# League Table Statistics"
   ]
  },
  {
   "cell_type": "code",
   "execution_count": 43,
   "metadata": {},
   "outputs": [
    {
     "data": {
      "text/html": [
       "<div>\n",
       "<style scoped>\n",
       "    .dataframe tbody tr th:only-of-type {\n",
       "        vertical-align: middle;\n",
       "    }\n",
       "\n",
       "    .dataframe tbody tr th {\n",
       "        vertical-align: top;\n",
       "    }\n",
       "\n",
       "    .dataframe thead th {\n",
       "        text-align: right;\n",
       "    }\n",
       "</style>\n",
       "<table border=\"1\" class=\"dataframe\">\n",
       "  <thead>\n",
       "    <tr style=\"text-align: right;\">\n",
       "      <th></th>\n",
       "      <th>season</th>\n",
       "      <th>hPos</th>\n",
       "      <th>hGSPG</th>\n",
       "      <th>hGCPG</th>\n",
       "      <th>hCSPG</th>\n",
       "      <th>hPtsPG</th>\n",
       "      <th>aPos</th>\n",
       "      <th>aGSPG</th>\n",
       "      <th>aGCPG</th>\n",
       "      <th>aCSPG</th>\n",
       "      <th>aPtsPG</th>\n",
       "      <th>target</th>\n",
       "    </tr>\n",
       "  </thead>\n",
       "  <tbody>\n",
       "    <tr>\n",
       "      <th>0</th>\n",
       "      <td>1</td>\n",
       "      <td>1.0</td>\n",
       "      <td>0.0</td>\n",
       "      <td>0.0</td>\n",
       "      <td>0.0</td>\n",
       "      <td>0.0</td>\n",
       "      <td>14.0</td>\n",
       "      <td>0.0</td>\n",
       "      <td>0.0</td>\n",
       "      <td>0.0</td>\n",
       "      <td>0.0</td>\n",
       "      <td>0</td>\n",
       "    </tr>\n",
       "    <tr>\n",
       "      <th>1</th>\n",
       "      <td>1</td>\n",
       "      <td>4.0</td>\n",
       "      <td>0.0</td>\n",
       "      <td>0.0</td>\n",
       "      <td>0.0</td>\n",
       "      <td>0.0</td>\n",
       "      <td>16.0</td>\n",
       "      <td>0.0</td>\n",
       "      <td>0.0</td>\n",
       "      <td>0.0</td>\n",
       "      <td>0.0</td>\n",
       "      <td>1</td>\n",
       "    </tr>\n",
       "    <tr>\n",
       "      <th>2</th>\n",
       "      <td>1</td>\n",
       "      <td>5.0</td>\n",
       "      <td>0.0</td>\n",
       "      <td>0.0</td>\n",
       "      <td>0.0</td>\n",
       "      <td>0.0</td>\n",
       "      <td>13.0</td>\n",
       "      <td>0.0</td>\n",
       "      <td>0.0</td>\n",
       "      <td>0.0</td>\n",
       "      <td>0.0</td>\n",
       "      <td>2</td>\n",
       "    </tr>\n",
       "    <tr>\n",
       "      <th>3</th>\n",
       "      <td>1</td>\n",
       "      <td>6.0</td>\n",
       "      <td>0.0</td>\n",
       "      <td>0.0</td>\n",
       "      <td>0.0</td>\n",
       "      <td>0.0</td>\n",
       "      <td>3.0</td>\n",
       "      <td>0.0</td>\n",
       "      <td>0.0</td>\n",
       "      <td>0.0</td>\n",
       "      <td>0.0</td>\n",
       "      <td>1</td>\n",
       "    </tr>\n",
       "    <tr>\n",
       "      <th>4</th>\n",
       "      <td>1</td>\n",
       "      <td>7.0</td>\n",
       "      <td>0.0</td>\n",
       "      <td>0.0</td>\n",
       "      <td>0.0</td>\n",
       "      <td>0.0</td>\n",
       "      <td>19.0</td>\n",
       "      <td>0.0</td>\n",
       "      <td>0.0</td>\n",
       "      <td>0.0</td>\n",
       "      <td>0.0</td>\n",
       "      <td>1</td>\n",
       "    </tr>\n",
       "  </tbody>\n",
       "</table>\n",
       "</div>"
      ],
      "text/plain": [
       "   season  hPos  hGSPG  hGCPG  hCSPG  hPtsPG  aPos  aGSPG  aGCPG  aCSPG  \\\n",
       "0       1   1.0    0.0    0.0    0.0     0.0  14.0    0.0    0.0    0.0   \n",
       "1       1   4.0    0.0    0.0    0.0     0.0  16.0    0.0    0.0    0.0   \n",
       "2       1   5.0    0.0    0.0    0.0     0.0  13.0    0.0    0.0    0.0   \n",
       "3       1   6.0    0.0    0.0    0.0     0.0   3.0    0.0    0.0    0.0   \n",
       "4       1   7.0    0.0    0.0    0.0     0.0  19.0    0.0    0.0    0.0   \n",
       "\n",
       "   aPtsPG  target  \n",
       "0     0.0       0  \n",
       "1     0.0       1  \n",
       "2     0.0       2  \n",
       "3     0.0       1  \n",
       "4     0.0       1  "
      ]
     },
     "execution_count": 43,
     "metadata": {},
     "output_type": "execute_result"
    }
   ],
   "source": [
    "df.head()"
   ]
  },
  {
   "cell_type": "code",
   "execution_count": 54,
   "metadata": {},
   "outputs": [],
   "source": [
    "subset = df[['hGSPG','hCSPG','hGCPG','hPtsPG']]"
   ]
  },
  {
   "cell_type": "code",
   "execution_count": 56,
   "metadata": {},
   "outputs": [
    {
     "name": "stderr",
     "output_type": "stream",
     "text": [
      "/home/joe/anaconda3/envs/tensorflow/lib/python3.6/site-packages/scipy/stats/stats.py:1713: FutureWarning: Using a non-tuple sequence for multidimensional indexing is deprecated; use `arr[tuple(seq)]` instead of `arr[seq]`. In the future this will be interpreted as an array index, `arr[np.array(seq)]`, which will result either in an error or a different result.\n",
      "  return np.add.reduce(sorted[indexer] * weights, axis=axis) / sumval\n"
     ]
    },
    {
     "data": {
      "text/plain": [
       "<seaborn.axisgrid.PairGrid at 0x7f7405478cc0>"
      ]
     },
     "execution_count": 56,
     "metadata": {},
     "output_type": "execute_result"
    },
    {
     "data": {
      "image/png": "[encoded data removed]",
      "text/plain": [
       "<Figure size 720x720 with 20 Axes>"
      ]
     },
     "metadata": {},
     "output_type": "display_data"
    }
   ],
   "source": [
    "sns.set_style(\"darkgrid\")\n",
    "sns.pairplot(subset, kind=\"reg\",markers=['.'])"
   ]
  },
  {
   "cell_type": "code",
   "execution_count": null,
   "metadata": {},
   "outputs": [],
   "source": []
  }
 ],
 "metadata": {
  "kernelspec": {
   "display_name": "Python 3",
   "language": "python",
   "name": "python3"
  },
  "language_info": {
   "codemirror_mode": {
    "name": "ipython",
    "version": 3
   },
   "file_extension": ".py",
   "mimetype": "text/x-python",
   "name": "python",
   "nbconvert_exporter": "python",
   "pygments_lexer": "ipython3",
   "version": "3.6.7"
  }
 },
 "nbformat": 4,
 "nbformat_minor": 2
}
