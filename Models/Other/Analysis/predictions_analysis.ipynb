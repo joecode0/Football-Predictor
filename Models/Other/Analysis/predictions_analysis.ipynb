{
 "cells": [
  {
   "cell_type": "code",
   "execution_count": 4,
   "metadata": {},
   "outputs": [],
   "source": [
    "def split_by_class(data,real_classes):\n",
    "    real = real_classes.tolist()\n",
    "    home_win_indices = []\n",
    "    draw_indices = []\n",
    "    away_win_indices = []\n",
    "    for i in range(len(data)):\n",
    "        class_ = real[i]\n",
    "        if class_ == 2:\n",
    "            home_win_indices.append(i)\n",
    "        elif class_ == 1:\n",
    "            draw_indices.append(i)\n",
    "        else:\n",
    "            away_win_indices.append(i)\n",
    "    data_home_win = data.iloc[home_win_indices]\n",
    "    data_away_win = data.iloc[away_win_indices]\n",
    "    data_draw = data.iloc[draw_indices]\n",
    "    \n",
    "    return data_home_win, data_away_win, data_draw"
   ]
  },
  {
   "cell_type": "code",
   "execution_count": 8,
   "metadata": {},
   "outputs": [],
   "source": [
    "def count_dict(value_list):\n",
    "    count_dict = {}\n",
    "    for val in set(value_list):\n",
    "        count_dict[val] = len([x for x in value_list if x == val])\n",
    "    return count_dict"
   ]
  },
  {
   "cell_type": "code",
   "execution_count": 12,
   "metadata": {},
   "outputs": [],
   "source": [
    "def predictions_by_real_class(model,data,real):\n",
    "    summary_dict = {}\n",
    "    home, away, draw = split_by_class(data,real)\n",
    "    pred_home = model.predict_classes(home)\n",
    "    pred_away = model.predict_classes(away)\n",
    "    pred_draw = model.predict_classes(draw)\n",
    "    summary_dict[0] = count_dict(pred_away)\n",
    "    summary_dict[1] = count_dict(pred_draw)\n",
    "    summary_dict[2] = count_dict(pred_home)\n",
    "    return summary_dict"
   ]
  },
  {
   "cell_type": "code",
   "execution_count": 15,
   "metadata": {},
   "outputs": [],
   "source": [
    "# summary_dict = {0: {0: 772, 1: 402, 2: 270},\n",
    "#                 1: {0: 466, 1: 396, 2: 460},\n",
    "#                 2: {0: 530, 1: 574, 2: 1298}}"
   ]
  },
  {
   "cell_type": "code",
   "execution_count": 16,
   "metadata": {},
   "outputs": [],
   "source": [
    "def metrics(summary_dict):\n",
    "    TP = summary_dict[0][0] + summary_dict[1][1] + summary_dict[2][2]\n",
    "    total = TP + summary_dict[0][1] + summary_dict[0][2] + summary_dict[1][0] + summary_dict[1][2] + summary_dict[2][0] + summary_dict[2][1]\n",
    "    \n",
    "    accuracy = round(TP/total*100,3)\n",
    "    #print(\"Total Matches: {}. Overall Accuracy = {}%\".format(total,accuracy))\n",
    "    \n",
    "    away_info = summary_dict[0]\n",
    "    away_matches = away_info[0]+away_info[1]+away_info[2]\n",
    "    away_acc = round(away_info[0]/away_matches*100,3)\n",
    "    #print(\"Away Matches: {}. Away Accuracy = {}%\".format(away_matches,away_acc))\n",
    "    \n",
    "    draw_info = summary_dict[1]\n",
    "    draw_matches = draw_info[0]+draw_info[1]+draw_info[2]\n",
    "    draw_acc = round(draw_info[1]/draw_matches*100,3)\n",
    "    #print(\"Draw Matches: {}. Draw Accuracy = {}%\".format(draw_matches,draw_acc))\n",
    "    \n",
    "    home_info = summary_dict[2]\n",
    "    home_matches = home_info[0]+home_info[1]+home_info[2]\n",
    "    home_acc = round(home_info[2]/home_matches*100,3)\n",
    "    #print(\"Home Matches: {}. Home Accuracy = {}%\".format(home_matches,home_acc))\n",
    "    \n",
    "    print(\"Matches  (Away,Draw,Home): {} ( {} , {} , {} )\".format(total,away_matches,draw_matches,home_matches))\n",
    "    print(\"Accuracy (Away,Draw,Home): {} ( {} , {} , {} )\".format(accuracy,away_acc,draw_acc,home_acc))\n",
    "    "
   ]
  },
  {
   "cell_type": "code",
   "execution_count": 17,
   "metadata": {},
   "outputs": [
    {
     "name": "stdout",
     "output_type": "stream",
     "text": [
      "Total Matches: 5168. Overall Accuracy = 47.699999999999996%\n",
      "Away Matches: 1444. Away Accuracy = 53.5%\n",
      "Draw Matches: 1322. Draw Accuracy = 30.0%\n",
      "Home Matches: 2402. Home Accuracy = 54.0%\n"
     ]
    }
   ],
   "source": [
    "# metrics(summary_dict)"
   ]
  },
  {
   "cell_type": "code",
   "execution_count": null,
   "metadata": {},
   "outputs": [],
   "source": []
  }
 ],
 "metadata": {
  "kernelspec": {
   "display_name": "Python 3",
   "language": "python",
   "name": "python3"
  },
  "language_info": {
   "codemirror_mode": {
    "name": "ipython",
    "version": 3
   },
   "file_extension": ".py",
   "mimetype": "text/x-python",
   "name": "python",
   "nbconvert_exporter": "python",
   "pygments_lexer": "ipython3",
   "version": "3.6.7"
  }
 },
 "nbformat": 4,
 "nbformat_minor": 2
}
