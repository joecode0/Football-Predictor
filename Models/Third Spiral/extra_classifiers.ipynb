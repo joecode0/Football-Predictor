{
 "cells": [
  {
   "cell_type": "code",
   "execution_count": 1,
   "metadata": {},
   "outputs": [],
   "source": [
    "import pandas as pd\n",
    "import sklearn\n",
    "import tensorflow as tf\n",
    "%matplotlib inline\n",
    "import matplotlib.pyplot as plt\n",
    "\n",
    "train = pd.read_csv(\"dataset_train_set.csv\")\n",
    "test = pd.read_csv(\"dataset_dev_set.csv\")"
   ]
  },
  {
   "cell_type": "code",
   "execution_count": 2,
   "metadata": {},
   "outputs": [],
   "source": [
    "X_train = train.drop('target',axis=1)\n",
    "y_train = train['target']\n",
    "X_test = test.drop('target',axis=1)\n",
    "y_test = test['target']"
   ]
  },
  {
   "cell_type": "code",
   "execution_count": 3,
   "metadata": {
    "scrolled": true
   },
   "outputs": [
    {
     "data": {
      "text/html": [
       "<div>\n",
       "<style scoped>\n",
       "    .dataframe tbody tr th:only-of-type {\n",
       "        vertical-align: middle;\n",
       "    }\n",
       "\n",
       "    .dataframe tbody tr th {\n",
       "        vertical-align: top;\n",
       "    }\n",
       "\n",
       "    .dataframe thead th {\n",
       "        text-align: right;\n",
       "    }\n",
       "</style>\n",
       "<table border=\"1\" class=\"dataframe\">\n",
       "  <thead>\n",
       "    <tr style=\"text-align: right;\">\n",
       "      <th></th>\n",
       "      <th>hPos</th>\n",
       "      <th>hGSPG</th>\n",
       "      <th>hGCPG</th>\n",
       "      <th>hCSPG</th>\n",
       "      <th>hPtsPG</th>\n",
       "      <th>aPos</th>\n",
       "      <th>aGSPG</th>\n",
       "      <th>aGCPG</th>\n",
       "      <th>aCSPG</th>\n",
       "      <th>aPtsPG</th>\n",
       "      <th>...</th>\n",
       "      <th>aGD5</th>\n",
       "      <th>aGD7</th>\n",
       "      <th>hPosLS</th>\n",
       "      <th>aPosLS</th>\n",
       "      <th>hSpent</th>\n",
       "      <th>hIncome</th>\n",
       "      <th>hNet</th>\n",
       "      <th>aSpent</th>\n",
       "      <th>aIncome</th>\n",
       "      <th>aNet</th>\n",
       "    </tr>\n",
       "  </thead>\n",
       "  <tbody>\n",
       "    <tr>\n",
       "      <th>0</th>\n",
       "      <td>4.0</td>\n",
       "      <td>0.0</td>\n",
       "      <td>0.0</td>\n",
       "      <td>0.0</td>\n",
       "      <td>0.0</td>\n",
       "      <td>13.0</td>\n",
       "      <td>0.0</td>\n",
       "      <td>0.0</td>\n",
       "      <td>0.0</td>\n",
       "      <td>0.0</td>\n",
       "      <td>...</td>\n",
       "      <td>0.0</td>\n",
       "      <td>0.0</td>\n",
       "      <td>18</td>\n",
       "      <td>18</td>\n",
       "      <td>18.72</td>\n",
       "      <td>0.479</td>\n",
       "      <td>-18.241</td>\n",
       "      <td>18.07</td>\n",
       "      <td>1.320</td>\n",
       "      <td>-16.750</td>\n",
       "    </tr>\n",
       "    <tr>\n",
       "      <th>1</th>\n",
       "      <td>5.0</td>\n",
       "      <td>0.0</td>\n",
       "      <td>0.0</td>\n",
       "      <td>0.0</td>\n",
       "      <td>0.0</td>\n",
       "      <td>20.0</td>\n",
       "      <td>0.0</td>\n",
       "      <td>0.0</td>\n",
       "      <td>0.0</td>\n",
       "      <td>0.0</td>\n",
       "      <td>...</td>\n",
       "      <td>0.0</td>\n",
       "      <td>0.0</td>\n",
       "      <td>5</td>\n",
       "      <td>9</td>\n",
       "      <td>47.15</td>\n",
       "      <td>34.830</td>\n",
       "      <td>-12.320</td>\n",
       "      <td>8.92</td>\n",
       "      <td>38.160</td>\n",
       "      <td>29.240</td>\n",
       "    </tr>\n",
       "    <tr>\n",
       "      <th>2</th>\n",
       "      <td>6.0</td>\n",
       "      <td>0.0</td>\n",
       "      <td>0.0</td>\n",
       "      <td>0.0</td>\n",
       "      <td>0.0</td>\n",
       "      <td>15.0</td>\n",
       "      <td>0.0</td>\n",
       "      <td>0.0</td>\n",
       "      <td>0.0</td>\n",
       "      <td>0.0</td>\n",
       "      <td>...</td>\n",
       "      <td>0.0</td>\n",
       "      <td>0.0</td>\n",
       "      <td>14</td>\n",
       "      <td>12</td>\n",
       "      <td>17.10</td>\n",
       "      <td>23.650</td>\n",
       "      <td>6.550</td>\n",
       "      <td>29.52</td>\n",
       "      <td>9.000</td>\n",
       "      <td>-20.520</td>\n",
       "    </tr>\n",
       "    <tr>\n",
       "      <th>3</th>\n",
       "      <td>7.0</td>\n",
       "      <td>0.0</td>\n",
       "      <td>0.0</td>\n",
       "      <td>0.0</td>\n",
       "      <td>0.0</td>\n",
       "      <td>17.0</td>\n",
       "      <td>0.0</td>\n",
       "      <td>0.0</td>\n",
       "      <td>0.0</td>\n",
       "      <td>0.0</td>\n",
       "      <td>...</td>\n",
       "      <td>0.0</td>\n",
       "      <td>0.0</td>\n",
       "      <td>16</td>\n",
       "      <td>15</td>\n",
       "      <td>11.99</td>\n",
       "      <td>6.260</td>\n",
       "      <td>-5.730</td>\n",
       "      <td>0.00</td>\n",
       "      <td>0.131</td>\n",
       "      <td>0.131</td>\n",
       "    </tr>\n",
       "    <tr>\n",
       "      <th>4</th>\n",
       "      <td>10.0</td>\n",
       "      <td>0.0</td>\n",
       "      <td>0.0</td>\n",
       "      <td>0.0</td>\n",
       "      <td>0.0</td>\n",
       "      <td>8.0</td>\n",
       "      <td>0.0</td>\n",
       "      <td>0.0</td>\n",
       "      <td>0.0</td>\n",
       "      <td>0.0</td>\n",
       "      <td>...</td>\n",
       "      <td>0.0</td>\n",
       "      <td>0.0</td>\n",
       "      <td>3</td>\n",
       "      <td>13</td>\n",
       "      <td>47.84</td>\n",
       "      <td>10.920</td>\n",
       "      <td>-36.920</td>\n",
       "      <td>31.03</td>\n",
       "      <td>32.000</td>\n",
       "      <td>0.970</td>\n",
       "    </tr>\n",
       "  </tbody>\n",
       "</table>\n",
       "<p>5 rows × 36 columns</p>\n",
       "</div>"
      ],
      "text/plain": [
       "   hPos  hGSPG  hGCPG  hCSPG  hPtsPG  aPos  aGSPG  aGCPG  aCSPG  aPtsPG  \\\n",
       "0   4.0    0.0    0.0    0.0     0.0  13.0    0.0    0.0    0.0     0.0   \n",
       "1   5.0    0.0    0.0    0.0     0.0  20.0    0.0    0.0    0.0     0.0   \n",
       "2   6.0    0.0    0.0    0.0     0.0  15.0    0.0    0.0    0.0     0.0   \n",
       "3   7.0    0.0    0.0    0.0     0.0  17.0    0.0    0.0    0.0     0.0   \n",
       "4  10.0    0.0    0.0    0.0     0.0   8.0    0.0    0.0    0.0     0.0   \n",
       "\n",
       "    ...    aGD5  aGD7  hPosLS  aPosLS  hSpent  hIncome    hNet  aSpent  \\\n",
       "0   ...     0.0   0.0      18      18   18.72    0.479 -18.241   18.07   \n",
       "1   ...     0.0   0.0       5       9   47.15   34.830 -12.320    8.92   \n",
       "2   ...     0.0   0.0      14      12   17.10   23.650   6.550   29.52   \n",
       "3   ...     0.0   0.0      16      15   11.99    6.260  -5.730    0.00   \n",
       "4   ...     0.0   0.0       3      13   47.84   10.920 -36.920   31.03   \n",
       "\n",
       "   aIncome    aNet  \n",
       "0    1.320 -16.750  \n",
       "1   38.160  29.240  \n",
       "2    9.000 -20.520  \n",
       "3    0.131   0.131  \n",
       "4   32.000   0.970  \n",
       "\n",
       "[5 rows x 36 columns]"
      ]
     },
     "execution_count": 3,
     "metadata": {},
     "output_type": "execute_result"
    }
   ],
   "source": [
    "use_list = ['aPosLS','hPosLS','hGD5','aSpent','aPtsPG','hSPG','hGCPG','aPos','aSTPG','aGSPG','hSTPG','aSPG','aGD7','hPos','aGD5','hPtsPG','hSpent','aPTSPG7','hGD7']\n",
    "X_train_subset = X_train[use_list]\n",
    "X_test_subset = X_test[use_list]\n",
    "X_train.head()"
   ]
  },
  {
   "cell_type": "code",
   "execution_count": 4,
   "metadata": {},
   "outputs": [],
   "source": [
    "X_train = tf.keras.utils.normalize(X_train.values,axis=1)\n",
    "X_test = tf.keras.utils.normalize(X_test.values,axis=1)\n",
    "X_train_subset = tf.keras.utils.normalize(X_train_subset.values,axis=1)\n",
    "X_test_subset = tf.keras.utils.normalize(X_test_subset.values,axis=1)"
   ]
  },
  {
   "cell_type": "code",
   "execution_count": null,
   "metadata": {},
   "outputs": [],
   "source": [
    "from sklearn.naive_bayes import BernoulliNB\n",
    "bnb_subset = BernoulliNB()\n",
    "bnb = BernoulliNB()\n",
    "\n",
    "bnb_subset.fit(X_train_subset,y_train)\n",
    "bnb.fit(X_train,y_train)\n",
    "y_pred = bnb_subset.predict(X_test_subset)\n",
    "print(\"Bernoulli Subset: {}, Bernoulli All: {}\".format(bnb_subset.score(X_test_subset,y_test),bnb.score(X_test,y_test)))"
   ]
  },
  {
   "cell_type": "code",
   "execution_count": null,
   "metadata": {},
   "outputs": [],
   "source": [
    "correct_pred_dict = {0:0,1:0,2:0}\n",
    "for i in range(len(y_pred)):\n",
    "    pred = y_pred[i]\n",
    "    real = y_test[i]\n",
    "    if pred == real:\n",
    "        correct_pred_dict[pred] += 1\n",
    "correct_pred_dict"
   ]
  },
  {
   "cell_type": "code",
   "execution_count": null,
   "metadata": {},
   "outputs": [],
   "source": [
    "from sklearn.naive_bayes import GaussianNB\n",
    "gnb_subset = GaussianNB()\n",
    "gnb = GaussianNB()\n",
    "\n",
    "gnb_subset.fit(X_train_subset,y_train)\n",
    "gnb.fit(X_train,y_train)\n",
    "y_pred = gnb_subset.predict(X_test_subset)\n",
    "print(\"Gaussian Subset: {}, Gaussian All: {}\".format(gnb_subset.score(X_test_subset,y_test),gnb.score(X_test,y_test)))"
   ]
  },
  {
   "cell_type": "code",
   "execution_count": null,
   "metadata": {},
   "outputs": [],
   "source": [
    "correct_pred_dict = {0:0,1:0,2:0}\n",
    "for i in range(len(y_pred)):\n",
    "    pred = y_pred[i]\n",
    "    real = y_test[i]\n",
    "    if pred == real:\n",
    "        correct_pred_dict[pred] += 1\n",
    "correct_pred_dict"
   ]
  },
  {
   "cell_type": "code",
   "execution_count": null,
   "metadata": {},
   "outputs": [],
   "source": [
    "from sklearn.neighbors import KNeighborsClassifier\n",
    "ks = [x for x in range(1,500)]\n",
    "subset_accuracies = []\n",
    "for k in ks:\n",
    "    knn_subset = KNeighborsClassifier(n_neighbors=k)\n",
    "    knn_subset.fit(X_train_subset,y_train)\n",
    "    subset_accuracies.append(knn_subset.score(X_test_subset,y_test)*100)\n",
    "plt.scatter(ks,subset_accuracies)\n",
    "plt.xlabel(\"Neighbours = K\")\n",
    "plt.ylabel(\"Accuracy\")\n",
    "plt.title(\"Plot for finding best K for KNN Classifier\")\n",
    "plt.show()"
   ]
  },
  {
   "cell_type": "code",
   "execution_count": null,
   "metadata": {},
   "outputs": [],
   "source": [
    "from sklearn.neighbors import KNeighborsClassifier\n",
    "ks = [x for x in range(105,111)]\n",
    "subset_accuracies = []\n",
    "for k in ks:\n",
    "    knn_subset = KNeighborsClassifier(n_neighbors=k)\n",
    "    knn_subset.fit(X_train_subset,y_train)\n",
    "    subset_accuracies.append(knn_subset.score(X_test_subset,y_test)*100)\n",
    "import matplotlib.pyplot as plt\n",
    "plt.scatter(ks,subset_accuracies)\n",
    "plt.xlabel(\"Neighbours = K\")\n",
    "plt.ylabel(\"Accuracy\")\n",
    "plt.title(\"Plot for finding best K for KNN Classifier\")\n",
    "plt.show()"
   ]
  },
  {
   "cell_type": "code",
   "execution_count": null,
   "metadata": {},
   "outputs": [],
   "source": [
    "knn_subset = KNeighborsClassifier(n_neighbors=109)\n",
    "knn_subset.fit(X_train_subset,y_train)\n",
    "y_pred = knn_subset.predict(X_test_subset)\n",
    "print(knn_subset.score(X_test_subset,y_test)*100)"
   ]
  },
  {
   "cell_type": "code",
   "execution_count": null,
   "metadata": {},
   "outputs": [],
   "source": [
    "# We have y_pred and y_test to compare\n",
    "correct_pred_dict = {0:0,1:0,2:0}\n",
    "for i in range(len(y_pred)):\n",
    "    pred = y_pred[i]\n",
    "    real = y_test[i]\n",
    "    if pred == real:\n",
    "        correct_pred_dict[pred] += 1\n",
    "correct_pred_dict"
   ]
  },
  {
   "cell_type": "code",
   "execution_count": 11,
   "metadata": {},
   "outputs": [
    {
     "name": "stdout",
     "output_type": "stream",
     "text": [
      "Accuracy: 0.530921052631579\n",
      "Time: 1.363900899887085\n"
     ]
    }
   ],
   "source": [
    "import time\n",
    "from sklearn import svm\n",
    "from sklearn.metrics import accuracy_score\n",
    "\n",
    "t0 = time.time()\n",
    "#Create a svm Classifier\n",
    "clf = svm.SVC(kernel='rbf',gamma='scale') # RBF Kernel\n",
    "\n",
    "#Train the model using the training sets\n",
    "clf.fit(X_train_subset, y_train)\n",
    "\n",
    "#Predict the response for test dataset\n",
    "y_pred = clf.predict(X_test_subset)\n",
    "\n",
    "print(\"Accuracy: {}\".format(accuracy_score(y_test, y_pred)))\n",
    "t1 = time.time()\n",
    "print(\"Time: {}\".format(t1-t0))"
   ]
  },
  {
   "cell_type": "code",
   "execution_count": 6,
   "metadata": {},
   "outputs": [
    {
     "data": {
      "text/plain": [
       "{0: 212, 1: 0, 2: 591}"
      ]
     },
     "execution_count": 6,
     "metadata": {},
     "output_type": "execute_result"
    }
   ],
   "source": [
    "correct_pred_dict = {0:0,1:0,2:0}\n",
    "for i in range(len(y_pred)):\n",
    "    pred = y_pred[i]\n",
    "    real = y_test[i]\n",
    "    if pred == real:\n",
    "        correct_pred_dict[pred] += 1\n",
    "correct_pred_dict"
   ]
  },
  {
   "cell_type": "code",
   "execution_count": null,
   "metadata": {},
   "outputs": [],
   "source": [
    "# from sklearn import svm\n",
    "# from sklearn.metrics import accuracy_score\n",
    "\n",
    "# #Create a svm Classifier\n",
    "# clf = svm.SVC(kernel='rbf') # RBF Kernel\n",
    "\n",
    "# #Train the model using the training sets\n",
    "# clf.fit(X_train_subset, y_train)\n",
    "\n",
    "# #Predict the response for test dataset\n",
    "# y_pred = clf.predict(X_test_subset)\n",
    "\n",
    "# print(\"Accuracy: {}\".format(accuracy_score(y_test, y_pred)))"
   ]
  },
  {
   "cell_type": "code",
   "execution_count": null,
   "metadata": {},
   "outputs": [],
   "source": [
    "# from sklearn import svm\n",
    "# from sklearn.metrics import accuracy_score\n",
    "\n",
    "# #Create a svm Classifier\n",
    "# clf = svm.SVC(kernel='poly') # Linear Kernel\n",
    "\n",
    "# #Train the model using the training sets\n",
    "# clf.fit(X_train_subset, y_train)\n",
    "\n",
    "# #Predict the response for test dataset\n",
    "# y_pred = clf.predict(X_test_subset)\n",
    "\n",
    "# print(\"Accuracy: {}\".format(accuracy_score(y_test, y_pred)))"
   ]
  },
  {
   "cell_type": "code",
   "execution_count": null,
   "metadata": {},
   "outputs": [],
   "source": [
    "# from sklearn import svm\n",
    "# from sklearn.metrics import accuracy_score\n",
    "\n",
    "# new_X_train = X_train_subset.copy()\n",
    "\n",
    "# #Create a svm Classifier\n",
    "# clf = svm.SVC(kernel='rbf',gamma='scale') # Default is RBF Kernel\n",
    "\n",
    "# #Train the model using the training sets\n",
    "# clf.fit(new_X_train,y_train.copy())\n",
    "\n",
    "# #Predict the response for test dataset\n",
    "# y_pred = clf.predict(X_test_subset)\n",
    "\n",
    "# print(\"Accuracy: {}\".format(accuracy_score(y_test, y_pred)))"
   ]
  },
  {
   "cell_type": "code",
   "execution_count": null,
   "metadata": {},
   "outputs": [],
   "source": [
    "# correct_pred_dict = {0:0,1:0,2:0}\n",
    "# for i in range(len(y_pred)):\n",
    "#     pred = y_pred[i]\n",
    "#     real = y_test[i]\n",
    "#     if pred == real:\n",
    "#         correct_pred_dict[pred] += 1\n",
    "# correct_pred_dict"
   ]
  },
  {
   "cell_type": "code",
   "execution_count": null,
   "metadata": {},
   "outputs": [],
   "source": [
    "# from sklearn import svm\n",
    "# from sklearn.metrics import accuracy_score\n",
    "\n",
    "# new_X_train = X_train.copy()\n",
    "\n",
    "# #Create a svm Classifier\n",
    "# clf = svm.SVC(kernel='rbf',gamma='scale') # Default is RBF Kernel\n",
    "\n",
    "# #Train the model using the training sets\n",
    "# clf.fit(new_X_train,y_train.copy())\n",
    "\n",
    "# #Predict the response for test dataset\n",
    "# y_pred = clf.predict(X_test)\n",
    "\n",
    "# print(\"Accuracy: {}\".format(accuracy_score(y_test, y_pred)))"
   ]
  },
  {
   "cell_type": "code",
   "execution_count": null,
   "metadata": {},
   "outputs": [],
   "source": []
  }
 ],
 "metadata": {
  "kernelspec": {
   "display_name": "Python 3",
   "language": "python",
   "name": "python3"
  },
  "language_info": {
   "codemirror_mode": {
    "name": "ipython",
    "version": 3
   },
   "file_extension": ".py",
   "mimetype": "text/x-python",
   "name": "python",
   "nbconvert_exporter": "python",
   "pygments_lexer": "ipython3",
   "version": "3.6.7"
  }
 },
 "nbformat": 4,
 "nbformat_minor": 2
}
