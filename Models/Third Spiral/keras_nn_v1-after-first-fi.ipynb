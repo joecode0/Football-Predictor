{
 "cells": [
  {
   "cell_type": "code",
   "execution_count": 1,
   "metadata": {},
   "outputs": [
    {
     "name": "stderr",
     "output_type": "stream",
     "text": [
      "Using TensorFlow backend.\n"
     ]
    }
   ],
   "source": [
    "import tensorflow as tf\n",
    "import pandas as pd\n",
    "import keras\n",
    "train = pd.read_csv(\"dataset_train_set.csv\")\n",
    "test = pd.read_csv(\"dataset_dev_set.csv\")"
   ]
  },
  {
   "cell_type": "code",
   "execution_count": 2,
   "metadata": {},
   "outputs": [],
   "source": [
    "X_train = train.drop('target',axis=1)\n",
    "y_train = train['target']\n",
    "X_test = test.drop('target',axis=1)\n",
    "y_test = test['target']"
   ]
  },
  {
   "cell_type": "code",
   "execution_count": 3,
   "metadata": {},
   "outputs": [],
   "source": [
    "X_train = X_train[['aPosLS','hPosLS','hGD5','aSpent']].copy()\n",
    "X_test = X_test[['aPosLS','hPosLS','hGD5','aSpent']].copy()"
   ]
  },
  {
   "cell_type": "code",
   "execution_count": 4,
   "metadata": {},
   "outputs": [
    {
     "data": {
      "text/html": [
       "<div>\n",
       "<style scoped>\n",
       "    .dataframe tbody tr th:only-of-type {\n",
       "        vertical-align: middle;\n",
       "    }\n",
       "\n",
       "    .dataframe tbody tr th {\n",
       "        vertical-align: top;\n",
       "    }\n",
       "\n",
       "    .dataframe thead th {\n",
       "        text-align: right;\n",
       "    }\n",
       "</style>\n",
       "<table border=\"1\" class=\"dataframe\">\n",
       "  <thead>\n",
       "    <tr style=\"text-align: right;\">\n",
       "      <th></th>\n",
       "      <th>aPosLS</th>\n",
       "      <th>hPosLS</th>\n",
       "      <th>hGD5</th>\n",
       "      <th>aSpent</th>\n",
       "    </tr>\n",
       "  </thead>\n",
       "  <tbody>\n",
       "    <tr>\n",
       "      <th>0</th>\n",
       "      <td>18</td>\n",
       "      <td>18</td>\n",
       "      <td>0.0</td>\n",
       "      <td>18.07</td>\n",
       "    </tr>\n",
       "    <tr>\n",
       "      <th>1</th>\n",
       "      <td>9</td>\n",
       "      <td>5</td>\n",
       "      <td>0.0</td>\n",
       "      <td>8.92</td>\n",
       "    </tr>\n",
       "    <tr>\n",
       "      <th>2</th>\n",
       "      <td>12</td>\n",
       "      <td>14</td>\n",
       "      <td>0.0</td>\n",
       "      <td>29.52</td>\n",
       "    </tr>\n",
       "    <tr>\n",
       "      <th>3</th>\n",
       "      <td>15</td>\n",
       "      <td>16</td>\n",
       "      <td>0.0</td>\n",
       "      <td>0.00</td>\n",
       "    </tr>\n",
       "    <tr>\n",
       "      <th>4</th>\n",
       "      <td>13</td>\n",
       "      <td>3</td>\n",
       "      <td>0.0</td>\n",
       "      <td>31.03</td>\n",
       "    </tr>\n",
       "  </tbody>\n",
       "</table>\n",
       "</div>"
      ],
      "text/plain": [
       "   aPosLS  hPosLS  hGD5  aSpent\n",
       "0      18      18   0.0   18.07\n",
       "1       9       5   0.0    8.92\n",
       "2      12      14   0.0   29.52\n",
       "3      15      16   0.0    0.00\n",
       "4      13       3   0.0   31.03"
      ]
     },
     "execution_count": 4,
     "metadata": {},
     "output_type": "execute_result"
    }
   ],
   "source": [
    "X_train.head()"
   ]
  },
  {
   "cell_type": "code",
   "execution_count": 5,
   "metadata": {},
   "outputs": [
    {
     "name": "stdout",
     "output_type": "stream",
     "text": [
      "(4180, 4)\n"
     ]
    },
    {
     "data": {
      "text/plain": [
       "array([ 0.56817265,  0.68180718, -0.02272691,  0.46021984])"
      ]
     },
     "execution_count": 5,
     "metadata": {},
     "output_type": "execute_result"
    }
   ],
   "source": [
    "print(X_train.shape)\n",
    "X_train_norm = tf.keras.utils.normalize(X_train.values,axis=1)\n",
    "X_test_norm = tf.keras.utils.normalize(X_test.values,axis=1)\n",
    "X_train_norm[1000]"
   ]
  },
  {
   "cell_type": "code",
   "execution_count": 6,
   "metadata": {},
   "outputs": [
    {
     "data": {
      "text/plain": [
       "2    1971\n",
       "0    1120\n",
       "1    1089\n",
       "Name: target, dtype: int64"
      ]
     },
     "execution_count": 6,
     "metadata": {},
     "output_type": "execute_result"
    }
   ],
   "source": [
    "y_train.value_counts()"
   ]
  },
  {
   "cell_type": "code",
   "execution_count": 7,
   "metadata": {},
   "outputs": [
    {
     "name": "stdout",
     "output_type": "stream",
     "text": [
      "1,1.8099173553719008,1.7598214285714286\n"
     ]
    }
   ],
   "source": [
    "whome = 1\n",
    "wdraw = 1971/1089\n",
    "waway = 1971/1120\n",
    "print(\"{},{},{}\".format(whome,wdraw,waway))"
   ]
  },
  {
   "cell_type": "code",
   "execution_count": 8,
   "metadata": {},
   "outputs": [],
   "source": [
    "class_weights = {0:1.7598,\n",
    "                 1:1.8099,\n",
    "                 2:1}"
   ]
  },
  {
   "cell_type": "code",
   "execution_count": 9,
   "metadata": {},
   "outputs": [],
   "source": [
    "model = tf.keras.models.Sequential()\n",
    "#model.add(tf.keras.layers.Flatten())\n",
    "model.add(tf.keras.layers.Dense(12, activation = tf.nn.relu))\n",
    "#model.add(tf.keras.layers.Dense(12, activation = tf.nn.relu))\n",
    "model.add(tf.keras.layers.Dense(3, activation = tf.nn.softmax))"
   ]
  },
  {
   "cell_type": "code",
   "execution_count": 10,
   "metadata": {},
   "outputs": [],
   "source": [
    "model.compile(optimizer='adam',\n",
    "             loss='sparse_categorical_crossentropy',\n",
    "             metrics=['accuracy'])"
   ]
  },
  {
   "cell_type": "code",
   "execution_count": 11,
   "metadata": {
    "scrolled": true
   },
   "outputs": [
    {
     "name": "stdout",
     "output_type": "stream",
     "text": [
      "Train on 4180 samples, validate on 1520 samples\n",
      "Epoch 1/50\n",
      "4180/4180 [==============================] - 1s 205us/step - loss: 1.1392 - acc: 0.2691 - val_loss: 1.1015 - val_acc: 0.3349\n",
      "Epoch 2/50\n",
      "4180/4180 [==============================] - 0s 53us/step - loss: 1.1057 - acc: 0.3019 - val_loss: 1.0921 - val_acc: 0.4395\n",
      "Epoch 3/50\n",
      "4180/4180 [==============================] - 0s 49us/step - loss: 1.0896 - acc: 0.4591 - val_loss: 1.0746 - val_acc: 0.5105\n",
      "Epoch 4/50\n",
      "4180/4180 [==============================] - 0s 66us/step - loss: 1.0743 - acc: 0.4888 - val_loss: 1.0677 - val_acc: 0.4974\n",
      "Epoch 5/50\n",
      "4180/4180 [==============================] - 0s 44us/step - loss: 1.0652 - acc: 0.4722 - val_loss: 1.0568 - val_acc: 0.4967\n",
      "Epoch 6/50\n",
      "4180/4180 [==============================] - 0s 39us/step - loss: 1.0600 - acc: 0.4756 - val_loss: 1.0518 - val_acc: 0.4901\n",
      "Epoch 7/50\n",
      "4180/4180 [==============================] - 0s 42us/step - loss: 1.0563 - acc: 0.4768 - val_loss: 1.0473 - val_acc: 0.4875\n",
      "Epoch 8/50\n",
      "4180/4180 [==============================] - 0s 56us/step - loss: 1.0533 - acc: 0.4696 - val_loss: 1.0388 - val_acc: 0.5039\n",
      "Epoch 9/50\n",
      "4180/4180 [==============================] - 0s 63us/step - loss: 1.0514 - acc: 0.4787 - val_loss: 1.0480 - val_acc: 0.4868\n",
      "Epoch 10/50\n",
      "4180/4180 [==============================] - 0s 77us/step - loss: 1.0497 - acc: 0.4612 - val_loss: 1.0343 - val_acc: 0.5046\n",
      "Epoch 11/50\n",
      "4180/4180 [==============================] - 0s 52us/step - loss: 1.0488 - acc: 0.4749 - val_loss: 1.0378 - val_acc: 0.5007\n",
      "Epoch 12/50\n",
      "4180/4180 [==============================] - 0s 43us/step - loss: 1.0482 - acc: 0.4749 - val_loss: 1.0387 - val_acc: 0.4862\n",
      "Epoch 13/50\n",
      "4180/4180 [==============================] - 0s 44us/step - loss: 1.0474 - acc: 0.4672 - val_loss: 1.0309 - val_acc: 0.5039\n",
      "Epoch 14/50\n",
      "4180/4180 [==============================] - 0s 46us/step - loss: 1.0466 - acc: 0.4658 - val_loss: 1.0369 - val_acc: 0.4882\n",
      "Epoch 15/50\n",
      "4180/4180 [==============================] - 0s 49us/step - loss: 1.0465 - acc: 0.4677 - val_loss: 1.0343 - val_acc: 0.4941\n",
      "Epoch 16/50\n",
      "4180/4180 [==============================] - 0s 43us/step - loss: 1.0461 - acc: 0.4634 - val_loss: 1.0298 - val_acc: 0.5046\n",
      "Epoch 17/50\n",
      "4180/4180 [==============================] - 0s 47us/step - loss: 1.0451 - acc: 0.4682 - val_loss: 1.0223 - val_acc: 0.5145\n",
      "Epoch 18/50\n",
      "4180/4180 [==============================] - 0s 59us/step - loss: 1.0458 - acc: 0.4648 - val_loss: 1.0250 - val_acc: 0.5079\n",
      "Epoch 19/50\n",
      "4180/4180 [==============================] - 0s 48us/step - loss: 1.0452 - acc: 0.4656 - val_loss: 1.0265 - val_acc: 0.5079\n",
      "Epoch 20/50\n",
      "4180/4180 [==============================] - 0s 42us/step - loss: 1.0443 - acc: 0.4644 - val_loss: 1.0278 - val_acc: 0.5007\n",
      "Epoch 21/50\n",
      "4180/4180 [==============================] - 0s 42us/step - loss: 1.0439 - acc: 0.4639 - val_loss: 1.0244 - val_acc: 0.5053\n",
      "Epoch 22/50\n",
      "4180/4180 [==============================] - 0s 43us/step - loss: 1.0433 - acc: 0.4691 - val_loss: 1.0320 - val_acc: 0.4855\n",
      "Epoch 23/50\n",
      "4180/4180 [==============================] - 0s 42us/step - loss: 1.0432 - acc: 0.4648 - val_loss: 1.0280 - val_acc: 0.4934\n",
      "Epoch 24/50\n",
      "4180/4180 [==============================] - 0s 41us/step - loss: 1.0426 - acc: 0.4653 - val_loss: 1.0297 - val_acc: 0.4921\n",
      "Epoch 25/50\n",
      "4180/4180 [==============================] - 0s 42us/step - loss: 1.0426 - acc: 0.4648 - val_loss: 1.0289 - val_acc: 0.4934\n",
      "Epoch 26/50\n",
      "4180/4180 [==============================] - 0s 49us/step - loss: 1.0425 - acc: 0.4677 - val_loss: 1.0248 - val_acc: 0.5007\n",
      "Epoch 27/50\n",
      "4180/4180 [==============================] - 0s 50us/step - loss: 1.0417 - acc: 0.4660 - val_loss: 1.0222 - val_acc: 0.5020\n",
      "Epoch 28/50\n",
      "4180/4180 [==============================] - 0s 37us/step - loss: 1.0412 - acc: 0.4682 - val_loss: 1.0296 - val_acc: 0.4882\n",
      "Epoch 29/50\n",
      "4180/4180 [==============================] - 0s 42us/step - loss: 1.0416 - acc: 0.4653 - val_loss: 1.0224 - val_acc: 0.5033\n",
      "Epoch 30/50\n",
      "4180/4180 [==============================] - 0s 42us/step - loss: 1.0410 - acc: 0.4691 - val_loss: 1.0221 - val_acc: 0.4967\n",
      "Epoch 31/50\n",
      "4180/4180 [==============================] - 0s 43us/step - loss: 1.0408 - acc: 0.4682 - val_loss: 1.0228 - val_acc: 0.4954\n",
      "Epoch 32/50\n",
      "4180/4180 [==============================] - 0s 76us/step - loss: 1.0404 - acc: 0.4646 - val_loss: 1.0170 - val_acc: 0.5053\n",
      "Epoch 33/50\n",
      "4180/4180 [==============================] - 0s 49us/step - loss: 1.0392 - acc: 0.4682 - val_loss: 1.0100 - val_acc: 0.5158\n",
      "Epoch 34/50\n",
      "4180/4180 [==============================] - 0s 47us/step - loss: 1.0401 - acc: 0.4687 - val_loss: 1.0153 - val_acc: 0.5079\n",
      "Epoch 35/50\n",
      "4180/4180 [==============================] - 0s 48us/step - loss: 1.0392 - acc: 0.4696 - val_loss: 1.0177 - val_acc: 0.5053\n",
      "Epoch 36/50\n",
      "4180/4180 [==============================] - 0s 44us/step - loss: 1.0390 - acc: 0.4636 - val_loss: 1.0207 - val_acc: 0.5013\n",
      "Epoch 37/50\n",
      "4180/4180 [==============================] - 0s 42us/step - loss: 1.0392 - acc: 0.4605 - val_loss: 1.0162 - val_acc: 0.5007\n",
      "Epoch 38/50\n",
      "4180/4180 [==============================] - 0s 39us/step - loss: 1.0379 - acc: 0.4711 - val_loss: 1.0269 - val_acc: 0.4868\n",
      "Epoch 39/50\n",
      "4180/4180 [==============================] - 0s 49us/step - loss: 1.0381 - acc: 0.4600 - val_loss: 1.0171 - val_acc: 0.5072\n",
      "Epoch 40/50\n",
      "4180/4180 [==============================] - 0s 43us/step - loss: 1.0372 - acc: 0.4644 - val_loss: 1.0187 - val_acc: 0.5013\n",
      "Epoch 41/50\n",
      "4180/4180 [==============================] - 0s 40us/step - loss: 1.0370 - acc: 0.4658 - val_loss: 1.0126 - val_acc: 0.5013\n",
      "Epoch 42/50\n",
      "4180/4180 [==============================] - 0s 46us/step - loss: 1.0373 - acc: 0.4682 - val_loss: 1.0192 - val_acc: 0.5026\n",
      "Epoch 43/50\n",
      "4180/4180 [==============================] - 0s 37us/step - loss: 1.0368 - acc: 0.4667 - val_loss: 1.0191 - val_acc: 0.4993\n",
      "Epoch 44/50\n",
      "4180/4180 [==============================] - 0s 52us/step - loss: 1.0367 - acc: 0.4629 - val_loss: 1.0149 - val_acc: 0.5026\n",
      "Epoch 45/50\n",
      "4180/4180 [==============================] - 0s 70us/step - loss: 1.0362 - acc: 0.4665 - val_loss: 1.0164 - val_acc: 0.5007\n",
      "Epoch 46/50\n",
      "4180/4180 [==============================] - 0s 74us/step - loss: 1.0362 - acc: 0.4677 - val_loss: 1.0148 - val_acc: 0.5033\n",
      "Epoch 47/50\n",
      "4180/4180 [==============================] - 0s 52us/step - loss: 1.0360 - acc: 0.4670 - val_loss: 1.0133 - val_acc: 0.5026\n",
      "Epoch 48/50\n",
      "4180/4180 [==============================] - 0s 42us/step - loss: 1.0354 - acc: 0.4641 - val_loss: 1.0140 - val_acc: 0.5007\n",
      "Epoch 49/50\n",
      "4180/4180 [==============================] - 0s 57us/step - loss: 1.0353 - acc: 0.4658 - val_loss: 1.0129 - val_acc: 0.5039\n",
      "Epoch 50/50\n",
      "4180/4180 [==============================] - 0s 84us/step - loss: 1.0353 - acc: 0.4696 - val_loss: 1.0211 - val_acc: 0.4875\n"
     ]
    },
    {
     "data": {
      "text/plain": [
       "<tensorflow.python.keras.callbacks.History at 0x7f488cfe1eb8>"
      ]
     },
     "execution_count": 11,
     "metadata": {},
     "output_type": "execute_result"
    }
   ],
   "source": [
    "model.fit(X_train_norm, y_train.values, epochs=50, validation_data=(X_test_norm,y_test), class_weight=class_weights)"
   ]
  },
  {
   "cell_type": "code",
   "execution_count": 12,
   "metadata": {},
   "outputs": [
    {
     "name": "stdout",
     "output_type": "stream",
     "text": [
      "1520/1520 [==============================] - 0s 35us/step\n",
      "1.0211318091342323 0.4875\n"
     ]
    }
   ],
   "source": [
    "val_loss, val_acc = model.evaluate(X_test_norm, y_test)\n",
    "print(val_loss, val_acc)"
   ]
  },
  {
   "cell_type": "code",
   "execution_count": 13,
   "metadata": {},
   "outputs": [
    {
     "data": {
      "text/plain": [
       "0    616\n",
       "2    538\n",
       "1    366\n",
       "dtype: int64"
      ]
     },
     "execution_count": 13,
     "metadata": {},
     "output_type": "execute_result"
    }
   ],
   "source": [
    "predictions = model.predict_classes(X_test_norm)\n",
    "preds = list(predictions)\n",
    "pd.Series(list(predictions)).value_counts()"
   ]
  },
  {
   "cell_type": "code",
   "execution_count": 14,
   "metadata": {},
   "outputs": [
    {
     "data": {
      "text/plain": [
       "1"
      ]
     },
     "execution_count": 14,
     "metadata": {},
     "output_type": "execute_result"
    }
   ],
   "source": [
    "predictions[0]"
   ]
  },
  {
   "cell_type": "code",
   "execution_count": 15,
   "metadata": {},
   "outputs": [
    {
     "data": {
      "text/plain": [
       "{0: 276, 1: 113, 2: 352}"
      ]
     },
     "execution_count": 15,
     "metadata": {},
     "output_type": "execute_result"
    }
   ],
   "source": [
    "correct_pred_dict = {0:0,1:0,2:0}\n",
    "for i in range(len(preds)):\n",
    "    pred = preds[i]\n",
    "    real = y_test[i]\n",
    "    if pred == real:\n",
    "        correct_pred_dict[pred] += 1\n",
    "correct_pred_dict"
   ]
  },
  {
   "cell_type": "code",
   "execution_count": 16,
   "metadata": {},
   "outputs": [
    {
     "data": {
      "text/plain": [
       "{0: 184, 1: 259, 2: 336}"
      ]
     },
     "execution_count": 16,
     "metadata": {},
     "output_type": "execute_result"
    }
   ],
   "source": [
    "outcomes_incorrectly_caught_dict = {0:0,1:0,2:0}\n",
    "for i in range(len(preds)):\n",
    "    pred = preds[i]\n",
    "    real = y_test[i]\n",
    "    if pred != real:\n",
    "        outcomes_incorrectly_caught_dict[real] += 1\n",
    "outcomes_incorrectly_caught_dict"
   ]
  },
  {
   "cell_type": "code",
   "execution_count": null,
   "metadata": {},
   "outputs": [],
   "source": []
  },
  {
   "cell_type": "code",
   "execution_count": null,
   "metadata": {},
   "outputs": [],
   "source": []
  }
 ],
 "metadata": {
  "kernelspec": {
   "display_name": "Python 3",
   "language": "python",
   "name": "python3"
  },
  "language_info": {
   "codemirror_mode": {
    "name": "ipython",
    "version": 3
   },
   "file_extension": ".py",
   "mimetype": "text/x-python",
   "name": "python",
   "nbconvert_exporter": "python",
   "pygments_lexer": "ipython3",
   "version": "3.6.7"
  }
 },
 "nbformat": 4,
 "nbformat_minor": 2
}
