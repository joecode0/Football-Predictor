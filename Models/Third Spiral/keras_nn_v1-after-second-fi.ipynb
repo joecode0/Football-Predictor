{
 "cells": [
  {
   "cell_type": "code",
   "execution_count": 1,
   "metadata": {},
   "outputs": [
    {
     "name": "stderr",
     "output_type": "stream",
     "text": [
      "Using TensorFlow backend.\n"
     ]
    }
   ],
   "source": [
    "import tensorflow as tf\n",
    "import pandas as pd\n",
    "import keras\n",
    "train = pd.read_csv(\"dataset_train_set.csv\")\n",
    "test = pd.read_csv(\"dataset_dev_set.csv\")"
   ]
  },
  {
   "cell_type": "code",
   "execution_count": 2,
   "metadata": {},
   "outputs": [],
   "source": [
    "X_train = train.drop('target',axis=1)\n",
    "y_train = train['target']\n",
    "X_test = test.drop('target',axis=1)\n",
    "y_test = test['target']"
   ]
  },
  {
   "cell_type": "code",
   "execution_count": 3,
   "metadata": {},
   "outputs": [],
   "source": [
    "X_train = X_train[['aPosLS','hPosLS','hGD5','aSpent','aPtsPG','hSPG','hGCPG']].copy()\n",
    "X_test = X_test[['aPosLS','hPosLS','hGD5','aSpent','aPtsPG','hSPG','hGCPG']].copy()"
   ]
  },
  {
   "cell_type": "code",
   "execution_count": 4,
   "metadata": {},
   "outputs": [
    {
     "data": {
      "text/html": [
       "<div>\n",
       "<style scoped>\n",
       "    .dataframe tbody tr th:only-of-type {\n",
       "        vertical-align: middle;\n",
       "    }\n",
       "\n",
       "    .dataframe tbody tr th {\n",
       "        vertical-align: top;\n",
       "    }\n",
       "\n",
       "    .dataframe thead th {\n",
       "        text-align: right;\n",
       "    }\n",
       "</style>\n",
       "<table border=\"1\" class=\"dataframe\">\n",
       "  <thead>\n",
       "    <tr style=\"text-align: right;\">\n",
       "      <th></th>\n",
       "      <th>aPosLS</th>\n",
       "      <th>hPosLS</th>\n",
       "      <th>hGD5</th>\n",
       "      <th>aSpent</th>\n",
       "      <th>aPtsPG</th>\n",
       "      <th>hSPG</th>\n",
       "      <th>hGCPG</th>\n",
       "    </tr>\n",
       "  </thead>\n",
       "  <tbody>\n",
       "    <tr>\n",
       "      <th>0</th>\n",
       "      <td>18</td>\n",
       "      <td>18</td>\n",
       "      <td>0.0</td>\n",
       "      <td>18.07</td>\n",
       "      <td>0.0</td>\n",
       "      <td>0.0</td>\n",
       "      <td>0.0</td>\n",
       "    </tr>\n",
       "    <tr>\n",
       "      <th>1</th>\n",
       "      <td>9</td>\n",
       "      <td>5</td>\n",
       "      <td>0.0</td>\n",
       "      <td>8.92</td>\n",
       "      <td>0.0</td>\n",
       "      <td>0.0</td>\n",
       "      <td>0.0</td>\n",
       "    </tr>\n",
       "    <tr>\n",
       "      <th>2</th>\n",
       "      <td>12</td>\n",
       "      <td>14</td>\n",
       "      <td>0.0</td>\n",
       "      <td>29.52</td>\n",
       "      <td>0.0</td>\n",
       "      <td>0.0</td>\n",
       "      <td>0.0</td>\n",
       "    </tr>\n",
       "    <tr>\n",
       "      <th>3</th>\n",
       "      <td>15</td>\n",
       "      <td>16</td>\n",
       "      <td>0.0</td>\n",
       "      <td>0.00</td>\n",
       "      <td>0.0</td>\n",
       "      <td>0.0</td>\n",
       "      <td>0.0</td>\n",
       "    </tr>\n",
       "    <tr>\n",
       "      <th>4</th>\n",
       "      <td>13</td>\n",
       "      <td>3</td>\n",
       "      <td>0.0</td>\n",
       "      <td>31.03</td>\n",
       "      <td>0.0</td>\n",
       "      <td>0.0</td>\n",
       "      <td>0.0</td>\n",
       "    </tr>\n",
       "  </tbody>\n",
       "</table>\n",
       "</div>"
      ],
      "text/plain": [
       "   aPosLS  hPosLS  hGD5  aSpent  aPtsPG  hSPG  hGCPG\n",
       "0      18      18   0.0   18.07     0.0   0.0    0.0\n",
       "1       9       5   0.0    8.92     0.0   0.0    0.0\n",
       "2      12      14   0.0   29.52     0.0   0.0    0.0\n",
       "3      15      16   0.0    0.00     0.0   0.0    0.0\n",
       "4      13       3   0.0   31.03     0.0   0.0    0.0"
      ]
     },
     "execution_count": 4,
     "metadata": {},
     "output_type": "execute_result"
    }
   ],
   "source": [
    "X_train.head()"
   ]
  },
  {
   "cell_type": "code",
   "execution_count": 5,
   "metadata": {},
   "outputs": [
    {
     "name": "stdout",
     "output_type": "stream",
     "text": [
      "(4180, 7)\n"
     ]
    },
    {
     "data": {
      "text/plain": [
       "array([ 0.32600457,  0.39120548, -0.01304018,  0.2640637 ,  0.08410918,\n",
       "        0.81227298,  0.06259288])"
      ]
     },
     "execution_count": 5,
     "metadata": {},
     "output_type": "execute_result"
    }
   ],
   "source": [
    "print(X_train.shape)\n",
    "X_train_norm = tf.keras.utils.normalize(X_train.values,axis=1)\n",
    "X_test_norm = tf.keras.utils.normalize(X_test.values,axis=1)\n",
    "X_train_norm[1000]"
   ]
  },
  {
   "cell_type": "code",
   "execution_count": 6,
   "metadata": {},
   "outputs": [
    {
     "data": {
      "text/plain": [
       "2    1971\n",
       "0    1120\n",
       "1    1089\n",
       "Name: target, dtype: int64"
      ]
     },
     "execution_count": 6,
     "metadata": {},
     "output_type": "execute_result"
    }
   ],
   "source": [
    "y_train.value_counts()"
   ]
  },
  {
   "cell_type": "code",
   "execution_count": 7,
   "metadata": {},
   "outputs": [
    {
     "name": "stdout",
     "output_type": "stream",
     "text": [
      "1,1.8099173553719008,1.7598214285714286\n"
     ]
    }
   ],
   "source": [
    "whome = 1\n",
    "wdraw = 1971/1089\n",
    "waway = 1971/1120\n",
    "print(\"{},{},{}\".format(whome,wdraw,waway))"
   ]
  },
  {
   "cell_type": "code",
   "execution_count": 8,
   "metadata": {},
   "outputs": [],
   "source": [
    "class_weights = {0:1.7598,\n",
    "                 1:1.8099,\n",
    "                 2:1}"
   ]
  },
  {
   "cell_type": "code",
   "execution_count": 9,
   "metadata": {},
   "outputs": [],
   "source": [
    "model = tf.keras.models.Sequential()\n",
    "#model.add(tf.keras.layers.Flatten())\n",
    "model.add(tf.keras.layers.Dense(12, activation = tf.nn.relu))\n",
    "model.add(tf.keras.layers.Dense(12, activation = tf.nn.relu))\n",
    "model.add(tf.keras.layers.Dense(3, activation = tf.nn.softmax))"
   ]
  },
  {
   "cell_type": "code",
   "execution_count": 10,
   "metadata": {},
   "outputs": [],
   "source": [
    "model.compile(optimizer='adam',\n",
    "             loss='sparse_categorical_crossentropy',\n",
    "             metrics=['accuracy'])"
   ]
  },
  {
   "cell_type": "code",
   "execution_count": 11,
   "metadata": {
    "scrolled": true
   },
   "outputs": [
    {
     "name": "stdout",
     "output_type": "stream",
     "text": [
      "Train on 4180 samples, validate on 1520 samples\n",
      "Epoch 1/50\n",
      "4180/4180 [==============================] - 1s 159us/step - loss: 1.0970 - acc: 0.3404 - val_loss: 1.0865 - val_acc: 0.4507\n",
      "Epoch 2/50\n",
      "4180/4180 [==============================] - 0s 72us/step - loss: 1.0787 - acc: 0.4502 - val_loss: 1.0607 - val_acc: 0.5072\n",
      "Epoch 3/50\n",
      "4180/4180 [==============================] - 0s 61us/step - loss: 1.0622 - acc: 0.4636 - val_loss: 1.0396 - val_acc: 0.5184\n",
      "Epoch 4/50\n",
      "4180/4180 [==============================] - 0s 65us/step - loss: 1.0522 - acc: 0.4727 - val_loss: 1.0380 - val_acc: 0.5072\n",
      "Epoch 5/50\n",
      "4180/4180 [==============================] - 0s 62us/step - loss: 1.0470 - acc: 0.4770 - val_loss: 1.0291 - val_acc: 0.5026\n",
      "Epoch 6/50\n",
      "4180/4180 [==============================] - 0s 67us/step - loss: 1.0440 - acc: 0.4720 - val_loss: 1.0299 - val_acc: 0.4908\n",
      "Epoch 7/50\n",
      "4180/4180 [==============================] - 0s 63us/step - loss: 1.0413 - acc: 0.4718 - val_loss: 1.0179 - val_acc: 0.5092\n",
      "Epoch 8/50\n",
      "4180/4180 [==============================] - 0s 72us/step - loss: 1.0407 - acc: 0.4775 - val_loss: 1.0327 - val_acc: 0.4941\n",
      "Epoch 9/50\n",
      "4180/4180 [==============================] - 0s 65us/step - loss: 1.0398 - acc: 0.4758 - val_loss: 1.0228 - val_acc: 0.5046\n",
      "Epoch 10/50\n",
      "4180/4180 [==============================] - 0s 54us/step - loss: 1.0393 - acc: 0.4677 - val_loss: 1.0115 - val_acc: 0.5164\n",
      "Epoch 11/50\n",
      "4180/4180 [==============================] - 0s 67us/step - loss: 1.0377 - acc: 0.4773 - val_loss: 1.0157 - val_acc: 0.5066\n",
      "Epoch 12/50\n",
      "4180/4180 [==============================] - 0s 68us/step - loss: 1.0375 - acc: 0.4794 - val_loss: 1.0164 - val_acc: 0.5046\n",
      "Epoch 13/50\n",
      "4180/4180 [==============================] - 0s 66us/step - loss: 1.0364 - acc: 0.4794 - val_loss: 1.0075 - val_acc: 0.5158\n",
      "Epoch 14/50\n",
      "4180/4180 [==============================] - 0s 64us/step - loss: 1.0362 - acc: 0.4770 - val_loss: 1.0114 - val_acc: 0.5053\n",
      "Epoch 15/50\n",
      "4180/4180 [==============================] - 0s 66us/step - loss: 1.0351 - acc: 0.4799 - val_loss: 1.0151 - val_acc: 0.5066\n",
      "Epoch 16/50\n",
      "4180/4180 [==============================] - 0s 75us/step - loss: 1.0351 - acc: 0.4840 - val_loss: 1.0122 - val_acc: 0.5112\n",
      "Epoch 17/50\n",
      "4180/4180 [==============================] - 0s 64us/step - loss: 1.0345 - acc: 0.4818 - val_loss: 1.0215 - val_acc: 0.5039\n",
      "Epoch 18/50\n",
      "4180/4180 [==============================] - 0s 77us/step - loss: 1.0347 - acc: 0.4818 - val_loss: 1.0121 - val_acc: 0.5125\n",
      "Epoch 19/50\n",
      "4180/4180 [==============================] - 0s 65us/step - loss: 1.0348 - acc: 0.4842 - val_loss: 1.0174 - val_acc: 0.5079\n",
      "Epoch 20/50\n",
      "4180/4180 [==============================] - 0s 66us/step - loss: 1.0342 - acc: 0.4811 - val_loss: 1.0113 - val_acc: 0.5072\n",
      "Epoch 21/50\n",
      "4180/4180 [==============================] - 1s 131us/step - loss: 1.0330 - acc: 0.4859 - val_loss: 1.0088 - val_acc: 0.5132\n",
      "Epoch 22/50\n",
      "4180/4180 [==============================] - 0s 99us/step - loss: 1.0323 - acc: 0.4801 - val_loss: 0.9990 - val_acc: 0.5197\n",
      "Epoch 23/50\n",
      "4180/4180 [==============================] - 0s 108us/step - loss: 1.0323 - acc: 0.4828 - val_loss: 1.0133 - val_acc: 0.5059\n",
      "Epoch 24/50\n",
      "4180/4180 [==============================] - 0s 92us/step - loss: 1.0326 - acc: 0.4833 - val_loss: 1.0049 - val_acc: 0.5138\n",
      "Epoch 25/50\n",
      "4180/4180 [==============================] - 0s 95us/step - loss: 1.0329 - acc: 0.4847 - val_loss: 1.0098 - val_acc: 0.5086\n",
      "Epoch 26/50\n",
      "4180/4180 [==============================] - 0s 119us/step - loss: 1.0315 - acc: 0.4828 - val_loss: 0.9994 - val_acc: 0.5191\n",
      "Epoch 27/50\n",
      "4180/4180 [==============================] - 0s 65us/step - loss: 1.0318 - acc: 0.4792 - val_loss: 1.0048 - val_acc: 0.5145\n",
      "Epoch 28/50\n",
      "4180/4180 [==============================] - 0s 102us/step - loss: 1.0321 - acc: 0.4833 - val_loss: 1.0094 - val_acc: 0.5099\n",
      "Epoch 29/50\n",
      "4180/4180 [==============================] - 0s 112us/step - loss: 1.0313 - acc: 0.4821 - val_loss: 1.0048 - val_acc: 0.5145\n",
      "Epoch 30/50\n",
      "4180/4180 [==============================] - 0s 88us/step - loss: 1.0305 - acc: 0.4864 - val_loss: 1.0006 - val_acc: 0.5171\n",
      "Epoch 31/50\n",
      "4180/4180 [==============================] - 0s 78us/step - loss: 1.0309 - acc: 0.4878 - val_loss: 1.0106 - val_acc: 0.5079\n",
      "Epoch 32/50\n",
      "4180/4180 [==============================] - 0s 110us/step - loss: 1.0308 - acc: 0.4835 - val_loss: 1.0134 - val_acc: 0.5053\n",
      "Epoch 33/50\n",
      "4180/4180 [==============================] - 0s 73us/step - loss: 1.0301 - acc: 0.4823 - val_loss: 1.0080 - val_acc: 0.5105\n",
      "Epoch 34/50\n",
      "4180/4180 [==============================] - 0s 109us/step - loss: 1.0302 - acc: 0.4849 - val_loss: 1.0097 - val_acc: 0.5086\n",
      "Epoch 35/50\n",
      "4180/4180 [==============================] - 0s 72us/step - loss: 1.0310 - acc: 0.4804 - val_loss: 1.0133 - val_acc: 0.5079\n",
      "Epoch 36/50\n",
      "4180/4180 [==============================] - 0s 99us/step - loss: 1.0308 - acc: 0.4856 - val_loss: 1.0178 - val_acc: 0.5046\n",
      "Epoch 37/50\n",
      "4180/4180 [==============================] - 0s 93us/step - loss: 1.0302 - acc: 0.4801 - val_loss: 1.0056 - val_acc: 0.5099\n",
      "Epoch 38/50\n",
      "4180/4180 [==============================] - 0s 99us/step - loss: 1.0304 - acc: 0.4770 - val_loss: 1.0073 - val_acc: 0.5132\n",
      "Epoch 39/50\n",
      "4180/4180 [==============================] - 0s 88us/step - loss: 1.0300 - acc: 0.4854 - val_loss: 1.0048 - val_acc: 0.5138\n",
      "Epoch 40/50\n",
      "4180/4180 [==============================] - 0s 99us/step - loss: 1.0296 - acc: 0.4871 - val_loss: 1.0051 - val_acc: 0.5145\n",
      "Epoch 41/50\n",
      "4180/4180 [==============================] - 0s 104us/step - loss: 1.0307 - acc: 0.4859 - val_loss: 1.0040 - val_acc: 0.5092\n",
      "Epoch 42/50\n",
      "4180/4180 [==============================] - 0s 100us/step - loss: 1.0291 - acc: 0.4833 - val_loss: 1.0083 - val_acc: 0.5092\n",
      "Epoch 43/50\n",
      "4180/4180 [==============================] - 0s 97us/step - loss: 1.0297 - acc: 0.4806 - val_loss: 1.0075 - val_acc: 0.5132\n",
      "Epoch 44/50\n",
      "4180/4180 [==============================] - 0s 106us/step - loss: 1.0297 - acc: 0.4828 - val_loss: 1.0049 - val_acc: 0.5158\n",
      "Epoch 45/50\n",
      "4180/4180 [==============================] - 0s 100us/step - loss: 1.0281 - acc: 0.4878 - val_loss: 1.0133 - val_acc: 0.5099\n",
      "Epoch 46/50\n",
      "4180/4180 [==============================] - 0s 100us/step - loss: 1.0289 - acc: 0.4809 - val_loss: 1.0093 - val_acc: 0.5132\n",
      "Epoch 47/50\n",
      "4180/4180 [==============================] - 0s 103us/step - loss: 1.0285 - acc: 0.4835 - val_loss: 1.0015 - val_acc: 0.5158\n",
      "Epoch 48/50\n",
      "4180/4180 [==============================] - 0s 101us/step - loss: 1.0284 - acc: 0.4842 - val_loss: 1.0002 - val_acc: 0.5191\n",
      "Epoch 49/50\n",
      "4180/4180 [==============================] - 0s 74us/step - loss: 1.0287 - acc: 0.4837 - val_loss: 1.0057 - val_acc: 0.5145\n",
      "Epoch 50/50\n",
      "4180/4180 [==============================] - 0s 88us/step - loss: 1.0280 - acc: 0.4799 - val_loss: 1.0046 - val_acc: 0.5151\n"
     ]
    },
    {
     "data": {
      "text/plain": [
       "<tensorflow.python.keras.callbacks.History at 0x7f511f50cf98>"
      ]
     },
     "execution_count": 11,
     "metadata": {},
     "output_type": "execute_result"
    }
   ],
   "source": [
    "model.fit(X_train_norm, y_train.values, epochs=50, validation_data=(X_test_norm,y_test), class_weight=class_weights)"
   ]
  },
  {
   "cell_type": "code",
   "execution_count": 12,
   "metadata": {},
   "outputs": [
    {
     "name": "stdout",
     "output_type": "stream",
     "text": [
      "1520/1520 [==============================] - 0s 53us/step\n",
      "1.0046399154161152 0.5151315789473684\n"
     ]
    }
   ],
   "source": [
    "val_loss, val_acc = model.evaluate(X_test_norm, y_test)\n",
    "print(val_loss, val_acc)"
   ]
  },
  {
   "cell_type": "code",
   "execution_count": 13,
   "metadata": {},
   "outputs": [
    {
     "data": {
      "text/plain": [
       "2    692\n",
       "0    520\n",
       "1    308\n",
       "dtype: int64"
      ]
     },
     "execution_count": 13,
     "metadata": {},
     "output_type": "execute_result"
    }
   ],
   "source": [
    "predictions = model.predict_classes(X_test_norm)\n",
    "preds = list(predictions)\n",
    "pd.Series(list(predictions)).value_counts()"
   ]
  },
  {
   "cell_type": "code",
   "execution_count": 14,
   "metadata": {},
   "outputs": [
    {
     "data": {
      "text/plain": [
       "1"
      ]
     },
     "execution_count": 14,
     "metadata": {},
     "output_type": "execute_result"
    }
   ],
   "source": [
    "predictions[0]"
   ]
  },
  {
   "cell_type": "code",
   "execution_count": 15,
   "metadata": {},
   "outputs": [
    {
     "data": {
      "text/plain": [
       "{0: 251, 1: 102, 2: 430}"
      ]
     },
     "execution_count": 15,
     "metadata": {},
     "output_type": "execute_result"
    }
   ],
   "source": [
    "correct_pred_dict = {0:0,1:0,2:0}\n",
    "for i in range(len(preds)):\n",
    "    pred = preds[i]\n",
    "    real = y_test[i]\n",
    "    if pred == real:\n",
    "        correct_pred_dict[pred] += 1\n",
    "correct_pred_dict"
   ]
  },
  {
   "cell_type": "code",
   "execution_count": 16,
   "metadata": {},
   "outputs": [
    {
     "data": {
      "text/plain": [
       "{0: 209, 1: 270, 2: 258}"
      ]
     },
     "execution_count": 16,
     "metadata": {},
     "output_type": "execute_result"
    }
   ],
   "source": [
    "outcomes_incorrectly_caught_dict = {0:0,1:0,2:0}\n",
    "for i in range(len(preds)):\n",
    "    pred = preds[i]\n",
    "    real = y_test[i]\n",
    "    if pred != real:\n",
    "        outcomes_incorrectly_caught_dict[real] += 1\n",
    "outcomes_incorrectly_caught_dict"
   ]
  },
  {
   "cell_type": "code",
   "execution_count": null,
   "metadata": {},
   "outputs": [],
   "source": []
  },
  {
   "cell_type": "code",
   "execution_count": null,
   "metadata": {},
   "outputs": [],
   "source": []
  }
 ],
 "metadata": {
  "kernelspec": {
   "display_name": "Python 3",
   "language": "python",
   "name": "python3"
  },
  "language_info": {
   "codemirror_mode": {
    "name": "ipython",
    "version": 3
   },
   "file_extension": ".py",
   "mimetype": "text/x-python",
   "name": "python",
   "nbconvert_exporter": "python",
   "pygments_lexer": "ipython3",
   "version": "3.6.7"
  }
 },
 "nbformat": 4,
 "nbformat_minor": 2
}
