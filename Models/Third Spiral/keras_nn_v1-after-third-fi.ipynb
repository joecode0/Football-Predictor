{
 "cells": [
  {
   "cell_type": "code",
   "execution_count": 1,
   "metadata": {},
   "outputs": [
    {
     "name": "stderr",
     "output_type": "stream",
     "text": [
      "Using TensorFlow backend.\n"
     ]
    }
   ],
   "source": [
    "import tensorflow as tf\n",
    "import pandas as pd\n",
    "import keras\n",
    "train = pd.read_csv(\"dataset_train_set.csv\")\n",
    "test = pd.read_csv(\"dataset_dev_set.csv\")"
   ]
  },
  {
   "cell_type": "code",
   "execution_count": 2,
   "metadata": {},
   "outputs": [],
   "source": [
    "X_train = train.drop('target',axis=1)\n",
    "y_train = train['target']\n",
    "X_test = test.drop('target',axis=1)\n",
    "y_test = test['target']"
   ]
  },
  {
   "cell_type": "code",
   "execution_count": 3,
   "metadata": {},
   "outputs": [],
   "source": [
    "X_train = X_train[['aPosLS','hPosLS','hGD5','aSpent','aPtsPG','hSPG','hGCPG','aPos','aSTPG','aGSPG','hSTPG']].copy()\n",
    "X_test = X_test[['aPosLS','hPosLS','hGD5','aSpent','aPtsPG','hSPG','hGCPG','aPos','aSTPG','aGSPG','hSTPG']].copy()"
   ]
  },
  {
   "cell_type": "code",
   "execution_count": 4,
   "metadata": {},
   "outputs": [
    {
     "data": {
      "text/html": [
       "<div>\n",
       "<style scoped>\n",
       "    .dataframe tbody tr th:only-of-type {\n",
       "        vertical-align: middle;\n",
       "    }\n",
       "\n",
       "    .dataframe tbody tr th {\n",
       "        vertical-align: top;\n",
       "    }\n",
       "\n",
       "    .dataframe thead th {\n",
       "        text-align: right;\n",
       "    }\n",
       "</style>\n",
       "<table border=\"1\" class=\"dataframe\">\n",
       "  <thead>\n",
       "    <tr style=\"text-align: right;\">\n",
       "      <th></th>\n",
       "      <th>aPosLS</th>\n",
       "      <th>hPosLS</th>\n",
       "      <th>hGD5</th>\n",
       "      <th>aSpent</th>\n",
       "      <th>aPtsPG</th>\n",
       "      <th>hSPG</th>\n",
       "      <th>hGCPG</th>\n",
       "      <th>aPos</th>\n",
       "      <th>aSTPG</th>\n",
       "      <th>aGSPG</th>\n",
       "      <th>hSTPG</th>\n",
       "    </tr>\n",
       "  </thead>\n",
       "  <tbody>\n",
       "    <tr>\n",
       "      <th>0</th>\n",
       "      <td>18</td>\n",
       "      <td>18</td>\n",
       "      <td>0.0</td>\n",
       "      <td>18.07</td>\n",
       "      <td>0.0</td>\n",
       "      <td>0.0</td>\n",
       "      <td>0.0</td>\n",
       "      <td>13.0</td>\n",
       "      <td>0.0</td>\n",
       "      <td>0.0</td>\n",
       "      <td>0.0</td>\n",
       "    </tr>\n",
       "    <tr>\n",
       "      <th>1</th>\n",
       "      <td>9</td>\n",
       "      <td>5</td>\n",
       "      <td>0.0</td>\n",
       "      <td>8.92</td>\n",
       "      <td>0.0</td>\n",
       "      <td>0.0</td>\n",
       "      <td>0.0</td>\n",
       "      <td>20.0</td>\n",
       "      <td>0.0</td>\n",
       "      <td>0.0</td>\n",
       "      <td>0.0</td>\n",
       "    </tr>\n",
       "    <tr>\n",
       "      <th>2</th>\n",
       "      <td>12</td>\n",
       "      <td>14</td>\n",
       "      <td>0.0</td>\n",
       "      <td>29.52</td>\n",
       "      <td>0.0</td>\n",
       "      <td>0.0</td>\n",
       "      <td>0.0</td>\n",
       "      <td>15.0</td>\n",
       "      <td>0.0</td>\n",
       "      <td>0.0</td>\n",
       "      <td>0.0</td>\n",
       "    </tr>\n",
       "    <tr>\n",
       "      <th>3</th>\n",
       "      <td>15</td>\n",
       "      <td>16</td>\n",
       "      <td>0.0</td>\n",
       "      <td>0.00</td>\n",
       "      <td>0.0</td>\n",
       "      <td>0.0</td>\n",
       "      <td>0.0</td>\n",
       "      <td>17.0</td>\n",
       "      <td>0.0</td>\n",
       "      <td>0.0</td>\n",
       "      <td>0.0</td>\n",
       "    </tr>\n",
       "    <tr>\n",
       "      <th>4</th>\n",
       "      <td>13</td>\n",
       "      <td>3</td>\n",
       "      <td>0.0</td>\n",
       "      <td>31.03</td>\n",
       "      <td>0.0</td>\n",
       "      <td>0.0</td>\n",
       "      <td>0.0</td>\n",
       "      <td>8.0</td>\n",
       "      <td>0.0</td>\n",
       "      <td>0.0</td>\n",
       "      <td>0.0</td>\n",
       "    </tr>\n",
       "  </tbody>\n",
       "</table>\n",
       "</div>"
      ],
      "text/plain": [
       "   aPosLS  hPosLS  hGD5  aSpent  aPtsPG  hSPG  hGCPG  aPos  aSTPG  aGSPG  \\\n",
       "0      18      18   0.0   18.07     0.0   0.0    0.0  13.0    0.0    0.0   \n",
       "1       9       5   0.0    8.92     0.0   0.0    0.0  20.0    0.0    0.0   \n",
       "2      12      14   0.0   29.52     0.0   0.0    0.0  15.0    0.0    0.0   \n",
       "3      15      16   0.0    0.00     0.0   0.0    0.0  17.0    0.0    0.0   \n",
       "4      13       3   0.0   31.03     0.0   0.0    0.0   8.0    0.0    0.0   \n",
       "\n",
       "   hSTPG  \n",
       "0    0.0  \n",
       "1    0.0  \n",
       "2    0.0  \n",
       "3    0.0  \n",
       "4    0.0  "
      ]
     },
     "execution_count": 4,
     "metadata": {},
     "output_type": "execute_result"
    }
   ],
   "source": [
    "X_train.head()"
   ]
  },
  {
   "cell_type": "code",
   "execution_count": 5,
   "metadata": {},
   "outputs": [
    {
     "name": "stdout",
     "output_type": "stream",
     "text": [
      "(4180, 11)\n"
     ]
    },
    {
     "data": {
      "text/plain": [
       "array([ 0.23525906,  0.28231087, -0.00941036,  0.19055984,  0.06069684,\n",
       "        0.58617147,  0.04516974,  0.56462174,  0.24899819,  0.06069684,\n",
       "        0.30781295])"
      ]
     },
     "execution_count": 5,
     "metadata": {},
     "output_type": "execute_result"
    }
   ],
   "source": [
    "print(X_train.shape)\n",
    "X_train_norm = tf.keras.utils.normalize(X_train.values,axis=1)\n",
    "X_test_norm = tf.keras.utils.normalize(X_test.values,axis=1)\n",
    "X_train_norm[1000]"
   ]
  },
  {
   "cell_type": "code",
   "execution_count": 6,
   "metadata": {},
   "outputs": [
    {
     "data": {
      "text/plain": [
       "2    1971\n",
       "0    1120\n",
       "1    1089\n",
       "Name: target, dtype: int64"
      ]
     },
     "execution_count": 6,
     "metadata": {},
     "output_type": "execute_result"
    }
   ],
   "source": [
    "y_train.value_counts()"
   ]
  },
  {
   "cell_type": "code",
   "execution_count": 7,
   "metadata": {},
   "outputs": [
    {
     "name": "stdout",
     "output_type": "stream",
     "text": [
      "1,1.8099173553719008,1.7598214285714286\n"
     ]
    }
   ],
   "source": [
    "whome = 1\n",
    "wdraw = 1971/1089\n",
    "waway = 1971/1120\n",
    "print(\"{},{},{}\".format(whome,wdraw,waway))"
   ]
  },
  {
   "cell_type": "code",
   "execution_count": 8,
   "metadata": {},
   "outputs": [],
   "source": [
    "class_weights = {0:1.7598,\n",
    "                 1:1.8099,\n",
    "                 2:1}"
   ]
  },
  {
   "cell_type": "code",
   "execution_count": 9,
   "metadata": {},
   "outputs": [],
   "source": [
    "model = tf.keras.models.Sequential()\n",
    "#model.add(tf.keras.layers.Flatten())\n",
    "model.add(tf.keras.layers.Dense(12, activation = tf.nn.relu))\n",
    "model.add(tf.keras.layers.Dense(12, activation = tf.nn.relu))\n",
    "model.add(tf.keras.layers.Dense(3, activation = tf.nn.softmax))"
   ]
  },
  {
   "cell_type": "code",
   "execution_count": 10,
   "metadata": {},
   "outputs": [],
   "source": [
    "model.compile(optimizer='adam',\n",
    "             loss='sparse_categorical_crossentropy',\n",
    "             metrics=['accuracy'])"
   ]
  },
  {
   "cell_type": "code",
   "execution_count": 11,
   "metadata": {
    "scrolled": true
   },
   "outputs": [
    {
     "name": "stdout",
     "output_type": "stream",
     "text": [
      "Train on 4180 samples, validate on 1520 samples\n",
      "Epoch 1/50\n",
      "4180/4180 [==============================] - 1s 165us/step - loss: 1.0947 - acc: 0.3514 - val_loss: 1.0829 - val_acc: 0.4039\n",
      "Epoch 2/50\n",
      "4180/4180 [==============================] - 0s 87us/step - loss: 1.0745 - acc: 0.4780 - val_loss: 1.0534 - val_acc: 0.5007\n",
      "Epoch 3/50\n",
      "4180/4180 [==============================] - 0s 64us/step - loss: 1.0561 - acc: 0.4935 - val_loss: 1.0367 - val_acc: 0.5013\n",
      "Epoch 4/50\n",
      "4180/4180 [==============================] - 0s 60us/step - loss: 1.0447 - acc: 0.4792 - val_loss: 1.0172 - val_acc: 0.5039\n",
      "Epoch 5/50\n",
      "4180/4180 [==============================] - 0s 65us/step - loss: 1.0385 - acc: 0.4768 - val_loss: 1.0139 - val_acc: 0.5066\n",
      "Epoch 6/50\n",
      "4180/4180 [==============================] - 0s 68us/step - loss: 1.0364 - acc: 0.4687 - val_loss: 1.0033 - val_acc: 0.5138\n",
      "Epoch 7/50\n",
      "4180/4180 [==============================] - 0s 63us/step - loss: 1.0339 - acc: 0.4617 - val_loss: 1.0068 - val_acc: 0.5099\n",
      "Epoch 8/50\n",
      "4180/4180 [==============================] - 0s 67us/step - loss: 1.0326 - acc: 0.4715 - val_loss: 1.0046 - val_acc: 0.5118\n",
      "Epoch 9/50\n",
      "4180/4180 [==============================] - 0s 65us/step - loss: 1.0310 - acc: 0.4701 - val_loss: 1.0079 - val_acc: 0.5059\n",
      "Epoch 10/50\n",
      "4180/4180 [==============================] - 0s 65us/step - loss: 1.0302 - acc: 0.4715 - val_loss: 1.0110 - val_acc: 0.5000\n",
      "Epoch 11/50\n",
      "4180/4180 [==============================] - 0s 64us/step - loss: 1.0294 - acc: 0.4689 - val_loss: 1.0054 - val_acc: 0.5033\n",
      "Epoch 12/50\n",
      "4180/4180 [==============================] - 0s 72us/step - loss: 1.0288 - acc: 0.4761 - val_loss: 1.0118 - val_acc: 0.4974\n",
      "Epoch 13/50\n",
      "4180/4180 [==============================] - 0s 61us/step - loss: 1.0293 - acc: 0.4711 - val_loss: 0.9977 - val_acc: 0.5184\n",
      "Epoch 14/50\n",
      "4180/4180 [==============================] - 0s 67us/step - loss: 1.0280 - acc: 0.4758 - val_loss: 0.9995 - val_acc: 0.5125\n",
      "Epoch 15/50\n",
      "4180/4180 [==============================] - 0s 65us/step - loss: 1.0269 - acc: 0.4746 - val_loss: 0.9979 - val_acc: 0.5145\n",
      "Epoch 16/50\n",
      "4180/4180 [==============================] - 0s 67us/step - loss: 1.0271 - acc: 0.4806 - val_loss: 1.0035 - val_acc: 0.5059\n",
      "Epoch 17/50\n",
      "4180/4180 [==============================] - 0s 63us/step - loss: 1.0272 - acc: 0.4720 - val_loss: 1.0046 - val_acc: 0.5138\n",
      "Epoch 18/50\n",
      "4180/4180 [==============================] - 1s 155us/step - loss: 1.0262 - acc: 0.4744 - val_loss: 0.9986 - val_acc: 0.5138\n",
      "Epoch 19/50\n",
      "4180/4180 [==============================] - 0s 72us/step - loss: 1.0255 - acc: 0.4722 - val_loss: 1.0068 - val_acc: 0.5118\n",
      "Epoch 20/50\n",
      "4180/4180 [==============================] - 0s 112us/step - loss: 1.0261 - acc: 0.4797 - val_loss: 1.0033 - val_acc: 0.5086\n",
      "Epoch 21/50\n",
      "4180/4180 [==============================] - 0s 101us/step - loss: 1.0256 - acc: 0.4821 - val_loss: 1.0019 - val_acc: 0.5086\n",
      "Epoch 22/50\n",
      "4180/4180 [==============================] - 0s 88us/step - loss: 1.0250 - acc: 0.4737 - val_loss: 1.0018 - val_acc: 0.5145\n",
      "Epoch 23/50\n",
      "4180/4180 [==============================] - 0s 68us/step - loss: 1.0259 - acc: 0.4778 - val_loss: 0.9986 - val_acc: 0.5217\n",
      "Epoch 24/50\n",
      "4180/4180 [==============================] - 0s 72us/step - loss: 1.0250 - acc: 0.4756 - val_loss: 0.9988 - val_acc: 0.5171\n",
      "Epoch 25/50\n",
      "4180/4180 [==============================] - 0s 63us/step - loss: 1.0245 - acc: 0.4775 - val_loss: 1.0039 - val_acc: 0.5000\n",
      "Epoch 26/50\n",
      "4180/4180 [==============================] - 0s 102us/step - loss: 1.0245 - acc: 0.4732 - val_loss: 1.0022 - val_acc: 0.5112\n",
      "Epoch 27/50\n",
      "4180/4180 [==============================] - 0s 89us/step - loss: 1.0251 - acc: 0.4699 - val_loss: 0.9902 - val_acc: 0.5322\n",
      "Epoch 28/50\n",
      "4180/4180 [==============================] - 0s 79us/step - loss: 1.0247 - acc: 0.4806 - val_loss: 0.9942 - val_acc: 0.5224\n",
      "Epoch 29/50\n",
      "4180/4180 [==============================] - 0s 103us/step - loss: 1.0242 - acc: 0.4749 - val_loss: 1.0208 - val_acc: 0.4882\n",
      "Epoch 30/50\n",
      "4180/4180 [==============================] - 0s 101us/step - loss: 1.0239 - acc: 0.4770 - val_loss: 0.9916 - val_acc: 0.5230\n",
      "Epoch 31/50\n",
      "4180/4180 [==============================] - 0s 95us/step - loss: 1.0245 - acc: 0.4706 - val_loss: 0.9924 - val_acc: 0.5217\n",
      "Epoch 32/50\n",
      "4180/4180 [==============================] - 0s 89us/step - loss: 1.0241 - acc: 0.4821 - val_loss: 1.0016 - val_acc: 0.5046\n",
      "Epoch 33/50\n",
      "4180/4180 [==============================] - 0s 74us/step - loss: 1.0233 - acc: 0.4806 - val_loss: 1.0058 - val_acc: 0.5046\n",
      "Epoch 34/50\n",
      "4180/4180 [==============================] - 0s 109us/step - loss: 1.0229 - acc: 0.4818 - val_loss: 0.9945 - val_acc: 0.5243\n",
      "Epoch 35/50\n",
      "4180/4180 [==============================] - 0s 66us/step - loss: 1.0220 - acc: 0.4789 - val_loss: 1.0027 - val_acc: 0.5132\n",
      "Epoch 36/50\n",
      "4180/4180 [==============================] - 0s 60us/step - loss: 1.0226 - acc: 0.4780 - val_loss: 0.9999 - val_acc: 0.5191\n",
      "Epoch 37/50\n",
      "4180/4180 [==============================] - 0s 76us/step - loss: 1.0225 - acc: 0.4813 - val_loss: 1.0032 - val_acc: 0.5046\n",
      "Epoch 38/50\n",
      "4180/4180 [==============================] - 0s 67us/step - loss: 1.0224 - acc: 0.4830 - val_loss: 1.0241 - val_acc: 0.4849\n",
      "Epoch 39/50\n",
      "4180/4180 [==============================] - 0s 65us/step - loss: 1.0224 - acc: 0.4761 - val_loss: 1.0016 - val_acc: 0.5211\n",
      "Epoch 40/50\n",
      "4180/4180 [==============================] - 0s 67us/step - loss: 1.0224 - acc: 0.4856 - val_loss: 0.9966 - val_acc: 0.5289\n",
      "Epoch 41/50\n",
      "4180/4180 [==============================] - 0s 65us/step - loss: 1.0216 - acc: 0.4797 - val_loss: 0.9974 - val_acc: 0.5230\n",
      "Epoch 42/50\n",
      "4180/4180 [==============================] - 0s 75us/step - loss: 1.0205 - acc: 0.4828 - val_loss: 1.0072 - val_acc: 0.5013\n",
      "Epoch 43/50\n",
      "4180/4180 [==============================] - 0s 112us/step - loss: 1.0214 - acc: 0.4746 - val_loss: 0.9936 - val_acc: 0.5283\n",
      "Epoch 44/50\n",
      "4180/4180 [==============================] - 0s 74us/step - loss: 1.0206 - acc: 0.4866 - val_loss: 0.9967 - val_acc: 0.5191\n",
      "Epoch 45/50\n",
      "4180/4180 [==============================] - 0s 107us/step - loss: 1.0202 - acc: 0.4768 - val_loss: 0.9956 - val_acc: 0.5224\n",
      "Epoch 46/50\n",
      "4180/4180 [==============================] - 0s 72us/step - loss: 1.0211 - acc: 0.4785 - val_loss: 1.0028 - val_acc: 0.5217\n",
      "Epoch 47/50\n",
      "4180/4180 [==============================] - 0s 102us/step - loss: 1.0204 - acc: 0.4864 - val_loss: 0.9969 - val_acc: 0.5171\n",
      "Epoch 48/50\n",
      "4180/4180 [==============================] - 0s 79us/step - loss: 1.0199 - acc: 0.4780 - val_loss: 1.0145 - val_acc: 0.4967\n",
      "Epoch 49/50\n",
      "4180/4180 [==============================] - 0s 103us/step - loss: 1.0207 - acc: 0.4806 - val_loss: 0.9938 - val_acc: 0.5204\n",
      "Epoch 50/50\n",
      "4180/4180 [==============================] - 0s 75us/step - loss: 1.0207 - acc: 0.4787 - val_loss: 1.0013 - val_acc: 0.5171\n"
     ]
    },
    {
     "data": {
      "text/plain": [
       "<tensorflow.python.keras.callbacks.History at 0x7f820376dcc0>"
      ]
     },
     "execution_count": 11,
     "metadata": {},
     "output_type": "execute_result"
    }
   ],
   "source": [
    "model.fit(X_train_norm, y_train.values, epochs=50, validation_data=(X_test_norm,y_test), class_weight=class_weights)"
   ]
  },
  {
   "cell_type": "code",
   "execution_count": 12,
   "metadata": {},
   "outputs": [
    {
     "name": "stdout",
     "output_type": "stream",
     "text": [
      "1520/1520 [==============================] - 0s 52us/step\n",
      "1.0013098741832533 0.5171052631578947\n"
     ]
    }
   ],
   "source": [
    "val_loss, val_acc = model.evaluate(X_test_norm, y_test)\n",
    "print(val_loss, val_acc)"
   ]
  },
  {
   "cell_type": "code",
   "execution_count": 13,
   "metadata": {},
   "outputs": [
    {
     "data": {
      "text/plain": [
       "2    581\n",
       "0    554\n",
       "1    385\n",
       "dtype: int64"
      ]
     },
     "execution_count": 13,
     "metadata": {},
     "output_type": "execute_result"
    }
   ],
   "source": [
    "predictions = model.predict_classes(X_test_norm)\n",
    "preds = list(predictions)\n",
    "pd.Series(list(predictions)).value_counts()"
   ]
  },
  {
   "cell_type": "code",
   "execution_count": 14,
   "metadata": {},
   "outputs": [
    {
     "data": {
      "text/plain": [
       "2"
      ]
     },
     "execution_count": 14,
     "metadata": {},
     "output_type": "execute_result"
    }
   ],
   "source": [
    "predictions[0]"
   ]
  },
  {
   "cell_type": "code",
   "execution_count": 15,
   "metadata": {},
   "outputs": [
    {
     "data": {
      "text/plain": [
       "{0: 272, 1: 129, 2: 385}"
      ]
     },
     "execution_count": 15,
     "metadata": {},
     "output_type": "execute_result"
    }
   ],
   "source": [
    "correct_pred_dict = {0:0,1:0,2:0}\n",
    "for i in range(len(preds)):\n",
    "    pred = preds[i]\n",
    "    real = y_test[i]\n",
    "    if pred == real:\n",
    "        correct_pred_dict[pred] += 1\n",
    "correct_pred_dict"
   ]
  },
  {
   "cell_type": "code",
   "execution_count": 16,
   "metadata": {},
   "outputs": [
    {
     "data": {
      "text/plain": [
       "{0: 188, 1: 243, 2: 303}"
      ]
     },
     "execution_count": 16,
     "metadata": {},
     "output_type": "execute_result"
    }
   ],
   "source": [
    "outcomes_incorrectly_caught_dict = {0:0,1:0,2:0}\n",
    "for i in range(len(preds)):\n",
    "    pred = preds[i]\n",
    "    real = y_test[i]\n",
    "    if pred != real:\n",
    "        outcomes_incorrectly_caught_dict[real] += 1\n",
    "outcomes_incorrectly_caught_dict"
   ]
  },
  {
   "cell_type": "code",
   "execution_count": null,
   "metadata": {},
   "outputs": [],
   "source": []
  },
  {
   "cell_type": "code",
   "execution_count": null,
   "metadata": {},
   "outputs": [],
   "source": []
  }
 ],
 "metadata": {
  "kernelspec": {
   "display_name": "Python 3",
   "language": "python",
   "name": "python3"
  },
  "language_info": {
   "codemirror_mode": {
    "name": "ipython",
    "version": 3
   },
   "file_extension": ".py",
   "mimetype": "text/x-python",
   "name": "python",
   "nbconvert_exporter": "python",
   "pygments_lexer": "ipython3",
   "version": "3.6.7"
  }
 },
 "nbformat": 4,
 "nbformat_minor": 2
}
