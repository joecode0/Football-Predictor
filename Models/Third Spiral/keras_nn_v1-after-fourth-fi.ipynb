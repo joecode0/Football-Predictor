{
 "cells": [
  {
   "cell_type": "code",
   "execution_count": 1,
   "metadata": {},
   "outputs": [
    {
     "name": "stderr",
     "output_type": "stream",
     "text": [
      "Using TensorFlow backend.\n"
     ]
    }
   ],
   "source": [
    "import tensorflow as tf\n",
    "import pandas as pd\n",
    "import keras\n",
    "train = pd.read_csv(\"dataset_train_set.csv\")\n",
    "test = pd.read_csv(\"dataset_dev_set.csv\")"
   ]
  },
  {
   "cell_type": "code",
   "execution_count": 2,
   "metadata": {},
   "outputs": [],
   "source": [
    "X_train = train.drop('target',axis=1)\n",
    "y_train = train['target']\n",
    "X_test = test.drop('target',axis=1)\n",
    "y_test = test['target']"
   ]
  },
  {
   "cell_type": "code",
   "execution_count": 3,
   "metadata": {},
   "outputs": [],
   "source": [
    "X_train = X_train[['aPosLS','hPosLS','hGD5','aSpent','aPtsPG','hSPG','hGCPG','aPos','aSTPG','aGSPG','hSTPG','aSPG','aGD7','hPos','aGD5','hPtsPG','hSpent','aPTSPG7','hGD7']].copy()\n",
    "X_test = X_test[['aPosLS','hPosLS','hGD5','aSpent','aPtsPG','hSPG','hGCPG','aPos','aSTPG','aGSPG','hSTPG','aSPG','aGD7','hPos','aGD5','hPtsPG','hSpent','aPTSPG7','hGD7']].copy()"
   ]
  },
  {
   "cell_type": "code",
   "execution_count": 4,
   "metadata": {},
   "outputs": [
    {
     "data": {
      "text/html": [
       "<div>\n",
       "<style scoped>\n",
       "    .dataframe tbody tr th:only-of-type {\n",
       "        vertical-align: middle;\n",
       "    }\n",
       "\n",
       "    .dataframe tbody tr th {\n",
       "        vertical-align: top;\n",
       "    }\n",
       "\n",
       "    .dataframe thead th {\n",
       "        text-align: right;\n",
       "    }\n",
       "</style>\n",
       "<table border=\"1\" class=\"dataframe\">\n",
       "  <thead>\n",
       "    <tr style=\"text-align: right;\">\n",
       "      <th></th>\n",
       "      <th>aPosLS</th>\n",
       "      <th>hPosLS</th>\n",
       "      <th>hGD5</th>\n",
       "      <th>aSpent</th>\n",
       "      <th>aPtsPG</th>\n",
       "      <th>hSPG</th>\n",
       "      <th>hGCPG</th>\n",
       "      <th>aPos</th>\n",
       "      <th>aSTPG</th>\n",
       "      <th>aGSPG</th>\n",
       "      <th>hSTPG</th>\n",
       "      <th>aSPG</th>\n",
       "      <th>aGD7</th>\n",
       "      <th>hPos</th>\n",
       "      <th>aGD5</th>\n",
       "      <th>hPtsPG</th>\n",
       "      <th>hSpent</th>\n",
       "      <th>aPTSPG7</th>\n",
       "      <th>hGD7</th>\n",
       "    </tr>\n",
       "  </thead>\n",
       "  <tbody>\n",
       "    <tr>\n",
       "      <th>0</th>\n",
       "      <td>18</td>\n",
       "      <td>18</td>\n",
       "      <td>0.0</td>\n",
       "      <td>18.07</td>\n",
       "      <td>0.0</td>\n",
       "      <td>0.0</td>\n",
       "      <td>0.0</td>\n",
       "      <td>13.0</td>\n",
       "      <td>0.0</td>\n",
       "      <td>0.0</td>\n",
       "      <td>0.0</td>\n",
       "      <td>0.0</td>\n",
       "      <td>0.0</td>\n",
       "      <td>4.0</td>\n",
       "      <td>0.0</td>\n",
       "      <td>0.0</td>\n",
       "      <td>18.72</td>\n",
       "      <td>0.0</td>\n",
       "      <td>0.0</td>\n",
       "    </tr>\n",
       "    <tr>\n",
       "      <th>1</th>\n",
       "      <td>9</td>\n",
       "      <td>5</td>\n",
       "      <td>0.0</td>\n",
       "      <td>8.92</td>\n",
       "      <td>0.0</td>\n",
       "      <td>0.0</td>\n",
       "      <td>0.0</td>\n",
       "      <td>20.0</td>\n",
       "      <td>0.0</td>\n",
       "      <td>0.0</td>\n",
       "      <td>0.0</td>\n",
       "      <td>0.0</td>\n",
       "      <td>0.0</td>\n",
       "      <td>5.0</td>\n",
       "      <td>0.0</td>\n",
       "      <td>0.0</td>\n",
       "      <td>47.15</td>\n",
       "      <td>0.0</td>\n",
       "      <td>0.0</td>\n",
       "    </tr>\n",
       "    <tr>\n",
       "      <th>2</th>\n",
       "      <td>12</td>\n",
       "      <td>14</td>\n",
       "      <td>0.0</td>\n",
       "      <td>29.52</td>\n",
       "      <td>0.0</td>\n",
       "      <td>0.0</td>\n",
       "      <td>0.0</td>\n",
       "      <td>15.0</td>\n",
       "      <td>0.0</td>\n",
       "      <td>0.0</td>\n",
       "      <td>0.0</td>\n",
       "      <td>0.0</td>\n",
       "      <td>0.0</td>\n",
       "      <td>6.0</td>\n",
       "      <td>0.0</td>\n",
       "      <td>0.0</td>\n",
       "      <td>17.10</td>\n",
       "      <td>0.0</td>\n",
       "      <td>0.0</td>\n",
       "    </tr>\n",
       "    <tr>\n",
       "      <th>3</th>\n",
       "      <td>15</td>\n",
       "      <td>16</td>\n",
       "      <td>0.0</td>\n",
       "      <td>0.00</td>\n",
       "      <td>0.0</td>\n",
       "      <td>0.0</td>\n",
       "      <td>0.0</td>\n",
       "      <td>17.0</td>\n",
       "      <td>0.0</td>\n",
       "      <td>0.0</td>\n",
       "      <td>0.0</td>\n",
       "      <td>0.0</td>\n",
       "      <td>0.0</td>\n",
       "      <td>7.0</td>\n",
       "      <td>0.0</td>\n",
       "      <td>0.0</td>\n",
       "      <td>11.99</td>\n",
       "      <td>0.0</td>\n",
       "      <td>0.0</td>\n",
       "    </tr>\n",
       "    <tr>\n",
       "      <th>4</th>\n",
       "      <td>13</td>\n",
       "      <td>3</td>\n",
       "      <td>0.0</td>\n",
       "      <td>31.03</td>\n",
       "      <td>0.0</td>\n",
       "      <td>0.0</td>\n",
       "      <td>0.0</td>\n",
       "      <td>8.0</td>\n",
       "      <td>0.0</td>\n",
       "      <td>0.0</td>\n",
       "      <td>0.0</td>\n",
       "      <td>0.0</td>\n",
       "      <td>0.0</td>\n",
       "      <td>10.0</td>\n",
       "      <td>0.0</td>\n",
       "      <td>0.0</td>\n",
       "      <td>47.84</td>\n",
       "      <td>0.0</td>\n",
       "      <td>0.0</td>\n",
       "    </tr>\n",
       "  </tbody>\n",
       "</table>\n",
       "</div>"
      ],
      "text/plain": [
       "   aPosLS  hPosLS  hGD5  aSpent  aPtsPG  hSPG  hGCPG  aPos  aSTPG  aGSPG  \\\n",
       "0      18      18   0.0   18.07     0.0   0.0    0.0  13.0    0.0    0.0   \n",
       "1       9       5   0.0    8.92     0.0   0.0    0.0  20.0    0.0    0.0   \n",
       "2      12      14   0.0   29.52     0.0   0.0    0.0  15.0    0.0    0.0   \n",
       "3      15      16   0.0    0.00     0.0   0.0    0.0  17.0    0.0    0.0   \n",
       "4      13       3   0.0   31.03     0.0   0.0    0.0   8.0    0.0    0.0   \n",
       "\n",
       "   hSTPG  aSPG  aGD7  hPos  aGD5  hPtsPG  hSpent  aPTSPG7  hGD7  \n",
       "0    0.0   0.0   0.0   4.0   0.0     0.0   18.72      0.0   0.0  \n",
       "1    0.0   0.0   0.0   5.0   0.0     0.0   47.15      0.0   0.0  \n",
       "2    0.0   0.0   0.0   6.0   0.0     0.0   17.10      0.0   0.0  \n",
       "3    0.0   0.0   0.0   7.0   0.0     0.0   11.99      0.0   0.0  \n",
       "4    0.0   0.0   0.0  10.0   0.0     0.0   47.84      0.0   0.0  "
      ]
     },
     "execution_count": 4,
     "metadata": {},
     "output_type": "execute_result"
    }
   ],
   "source": [
    "X_train.head()"
   ]
  },
  {
   "cell_type": "code",
   "execution_count": 5,
   "metadata": {},
   "outputs": [
    {
     "name": "stdout",
     "output_type": "stream",
     "text": [
      "(4180, 19)\n"
     ]
    },
    {
     "data": {
      "text/plain": [
       "array([ 0.20521545,  0.24625854, -0.00820862,  0.16622452,  0.05294559,\n",
       "        0.51131482,  0.03940137,  0.49251709,  0.21720004,  0.05294559,\n",
       "        0.2685039 ,  0.4446198 ,  0.04104309,  0.16417236,  0.03283447,\n",
       "        0.07018369,  0.        ,  0.08208618,  0.00586916])"
      ]
     },
     "execution_count": 5,
     "metadata": {},
     "output_type": "execute_result"
    }
   ],
   "source": [
    "print(X_train.shape)\n",
    "X_train_norm = tf.keras.utils.normalize(X_train.values,axis=1)\n",
    "X_test_norm = tf.keras.utils.normalize(X_test.values,axis=1)\n",
    "X_train_norm[1000]"
   ]
  },
  {
   "cell_type": "code",
   "execution_count": 6,
   "metadata": {},
   "outputs": [
    {
     "data": {
      "text/plain": [
       "2    1971\n",
       "0    1120\n",
       "1    1089\n",
       "Name: target, dtype: int64"
      ]
     },
     "execution_count": 6,
     "metadata": {},
     "output_type": "execute_result"
    }
   ],
   "source": [
    "y_train.value_counts()"
   ]
  },
  {
   "cell_type": "code",
   "execution_count": 7,
   "metadata": {},
   "outputs": [
    {
     "name": "stdout",
     "output_type": "stream",
     "text": [
      "1,1.8099173553719008,1.7598214285714286\n"
     ]
    }
   ],
   "source": [
    "whome = 1\n",
    "wdraw = 1971/1089\n",
    "waway = 1971/1120\n",
    "print(\"{},{},{}\".format(whome,wdraw,waway))"
   ]
  },
  {
   "cell_type": "code",
   "execution_count": 8,
   "metadata": {},
   "outputs": [],
   "source": [
    "class_weights = {0:1.7598,\n",
    "                 1:1.8099,\n",
    "                 2:1}"
   ]
  },
  {
   "cell_type": "code",
   "execution_count": 9,
   "metadata": {},
   "outputs": [],
   "source": [
    "model = tf.keras.models.Sequential()\n",
    "#model.add(tf.keras.layers.Flatten())\n",
    "model.add(tf.keras.layers.Dense(12, activation = tf.nn.relu))\n",
    "model.add(tf.keras.layers.Dense(12, activation = tf.nn.relu))\n",
    "model.add(tf.keras.layers.Dense(3, activation = tf.nn.softmax))"
   ]
  },
  {
   "cell_type": "code",
   "execution_count": 10,
   "metadata": {},
   "outputs": [],
   "source": [
    "model.compile(optimizer='adam',\n",
    "             loss='sparse_categorical_crossentropy',\n",
    "             metrics=['accuracy'])"
   ]
  },
  {
   "cell_type": "code",
   "execution_count": 11,
   "metadata": {
    "scrolled": true
   },
   "outputs": [
    {
     "name": "stdout",
     "output_type": "stream",
     "text": [
      "Train on 4180 samples, validate on 1520 samples\n",
      "Epoch 1/50\n",
      "4180/4180 [==============================] - 1s 164us/step - loss: 1.0922 - acc: 0.3189 - val_loss: 1.0820 - val_acc: 0.4263\n",
      "Epoch 2/50\n",
      "4180/4180 [==============================] - 0s 78us/step - loss: 1.0749 - acc: 0.4108 - val_loss: 1.0541 - val_acc: 0.4789\n",
      "Epoch 3/50\n",
      "4180/4180 [==============================] - 0s 61us/step - loss: 1.0542 - acc: 0.4634 - val_loss: 1.0221 - val_acc: 0.4980\n",
      "Epoch 4/50\n",
      "4180/4180 [==============================] - 0s 62us/step - loss: 1.0422 - acc: 0.4653 - val_loss: 1.0078 - val_acc: 0.5132\n",
      "Epoch 5/50\n",
      "4180/4180 [==============================] - 0s 64us/step - loss: 1.0378 - acc: 0.4627 - val_loss: 0.9997 - val_acc: 0.5204\n",
      "Epoch 6/50\n",
      "4180/4180 [==============================] - 0s 66us/step - loss: 1.0341 - acc: 0.4780 - val_loss: 1.0056 - val_acc: 0.5138\n",
      "Epoch 7/50\n",
      "4180/4180 [==============================] - 0s 62us/step - loss: 1.0327 - acc: 0.4701 - val_loss: 1.0016 - val_acc: 0.5217\n",
      "Epoch 8/50\n",
      "4180/4180 [==============================] - 0s 71us/step - loss: 1.0316 - acc: 0.4718 - val_loss: 0.9937 - val_acc: 0.5197\n",
      "Epoch 9/50\n",
      "4180/4180 [==============================] - 0s 65us/step - loss: 1.0307 - acc: 0.4751 - val_loss: 0.9985 - val_acc: 0.5178\n",
      "Epoch 10/50\n",
      "4180/4180 [==============================] - 0s 66us/step - loss: 1.0298 - acc: 0.4761 - val_loss: 1.0000 - val_acc: 0.5178\n",
      "Epoch 11/50\n",
      "4180/4180 [==============================] - 0s 82us/step - loss: 1.0286 - acc: 0.4763 - val_loss: 0.9958 - val_acc: 0.5243\n",
      "Epoch 12/50\n",
      "4180/4180 [==============================] - 0s 116us/step - loss: 1.0278 - acc: 0.4782 - val_loss: 1.0026 - val_acc: 0.5125\n",
      "Epoch 13/50\n",
      "4180/4180 [==============================] - 0s 64us/step - loss: 1.0282 - acc: 0.4725 - val_loss: 0.9902 - val_acc: 0.5184\n",
      "Epoch 14/50\n",
      "4180/4180 [==============================] - 0s 68us/step - loss: 1.0271 - acc: 0.4727 - val_loss: 0.9922 - val_acc: 0.5191\n",
      "Epoch 15/50\n",
      "4180/4180 [==============================] - 0s 115us/step - loss: 1.0264 - acc: 0.4782 - val_loss: 0.9947 - val_acc: 0.5217\n",
      "Epoch 16/50\n",
      "4180/4180 [==============================] - 0s 64us/step - loss: 1.0256 - acc: 0.4761 - val_loss: 0.9867 - val_acc: 0.5197\n",
      "Epoch 17/50\n",
      "4180/4180 [==============================] - 0s 99us/step - loss: 1.0260 - acc: 0.4775 - val_loss: 1.0018 - val_acc: 0.5164\n",
      "Epoch 18/50\n",
      "4180/4180 [==============================] - 0s 66us/step - loss: 1.0249 - acc: 0.4789 - val_loss: 0.9944 - val_acc: 0.5211\n",
      "Epoch 19/50\n",
      "4180/4180 [==============================] - 0s 105us/step - loss: 1.0247 - acc: 0.4794 - val_loss: 0.9902 - val_acc: 0.5243\n",
      "Epoch 20/50\n",
      "4180/4180 [==============================] - 0s 63us/step - loss: 1.0245 - acc: 0.4775 - val_loss: 0.9975 - val_acc: 0.5178\n",
      "Epoch 21/50\n",
      "4180/4180 [==============================] - 0s 64us/step - loss: 1.0250 - acc: 0.4770 - val_loss: 0.9921 - val_acc: 0.5197\n",
      "Epoch 22/50\n",
      "4180/4180 [==============================] - 0s 106us/step - loss: 1.0238 - acc: 0.4754 - val_loss: 0.9853 - val_acc: 0.5257\n",
      "Epoch 23/50\n",
      "4180/4180 [==============================] - 0s 66us/step - loss: 1.0239 - acc: 0.4778 - val_loss: 0.9844 - val_acc: 0.5316\n",
      "Epoch 24/50\n",
      "4180/4180 [==============================] - 0s 113us/step - loss: 1.0238 - acc: 0.4797 - val_loss: 0.9931 - val_acc: 0.5217\n",
      "Epoch 25/50\n",
      "4180/4180 [==============================] - 0s 101us/step - loss: 1.0232 - acc: 0.4847 - val_loss: 1.0041 - val_acc: 0.5138\n",
      "Epoch 26/50\n",
      "4180/4180 [==============================] - 0s 85us/step - loss: 1.0242 - acc: 0.4780 - val_loss: 1.0018 - val_acc: 0.5132\n",
      "Epoch 27/50\n",
      "4180/4180 [==============================] - 0s 76us/step - loss: 1.0217 - acc: 0.4722 - val_loss: 0.9837 - val_acc: 0.5296\n",
      "Epoch 28/50\n",
      "4180/4180 [==============================] - 0s 99us/step - loss: 1.0225 - acc: 0.4854 - val_loss: 1.0035 - val_acc: 0.5171\n",
      "Epoch 29/50\n",
      "4180/4180 [==============================] - 0s 72us/step - loss: 1.0222 - acc: 0.4801 - val_loss: 0.9962 - val_acc: 0.5151\n",
      "Epoch 30/50\n",
      "4180/4180 [==============================] - 0s 102us/step - loss: 1.0220 - acc: 0.4763 - val_loss: 0.9885 - val_acc: 0.5178\n",
      "Epoch 31/50\n",
      "4180/4180 [==============================] - 0s 76us/step - loss: 1.0218 - acc: 0.4780 - val_loss: 0.9859 - val_acc: 0.5283\n",
      "Epoch 32/50\n",
      "4180/4180 [==============================] - 0s 106us/step - loss: 1.0208 - acc: 0.4835 - val_loss: 0.9891 - val_acc: 0.5184\n",
      "Epoch 33/50\n",
      "4180/4180 [==============================] - 0s 70us/step - loss: 1.0216 - acc: 0.4801 - val_loss: 1.0005 - val_acc: 0.5138\n",
      "Epoch 34/50\n",
      "4180/4180 [==============================] - 0s 101us/step - loss: 1.0218 - acc: 0.4775 - val_loss: 0.9969 - val_acc: 0.5171\n",
      "Epoch 35/50\n",
      "4180/4180 [==============================] - 0s 64us/step - loss: 1.0210 - acc: 0.4766 - val_loss: 0.9921 - val_acc: 0.5217\n",
      "Epoch 36/50\n",
      "4180/4180 [==============================] - 0s 109us/step - loss: 1.0202 - acc: 0.4785 - val_loss: 0.9946 - val_acc: 0.5178\n",
      "Epoch 37/50\n",
      "4180/4180 [==============================] - 0s 97us/step - loss: 1.0208 - acc: 0.4821 - val_loss: 0.9917 - val_acc: 0.5217\n",
      "Epoch 38/50\n",
      "4180/4180 [==============================] - 0s 68us/step - loss: 1.0201 - acc: 0.4763 - val_loss: 0.9995 - val_acc: 0.5184\n",
      "Epoch 39/50\n",
      "4180/4180 [==============================] - 0s 98us/step - loss: 1.0209 - acc: 0.4780 - val_loss: 0.9967 - val_acc: 0.5211\n",
      "Epoch 40/50\n",
      "4180/4180 [==============================] - 0s 91us/step - loss: 1.0195 - acc: 0.4804 - val_loss: 0.9997 - val_acc: 0.5217\n",
      "Epoch 41/50\n",
      "4180/4180 [==============================] - 0s 76us/step - loss: 1.0197 - acc: 0.4799 - val_loss: 0.9892 - val_acc: 0.5171\n",
      "Epoch 42/50\n",
      "4180/4180 [==============================] - 0s 100us/step - loss: 1.0200 - acc: 0.4775 - val_loss: 0.9864 - val_acc: 0.5270\n",
      "Epoch 43/50\n",
      "4180/4180 [==============================] - 0s 84us/step - loss: 1.0190 - acc: 0.4885 - val_loss: 0.9921 - val_acc: 0.5171\n",
      "Epoch 44/50\n",
      "4180/4180 [==============================] - 0s 77us/step - loss: 1.0194 - acc: 0.4778 - val_loss: 0.9976 - val_acc: 0.5270\n",
      "Epoch 45/50\n",
      "4180/4180 [==============================] - 0s 105us/step - loss: 1.0193 - acc: 0.4780 - val_loss: 0.9878 - val_acc: 0.5211\n",
      "Epoch 46/50\n",
      "4180/4180 [==============================] - 0s 99us/step - loss: 1.0200 - acc: 0.4844 - val_loss: 0.9922 - val_acc: 0.5224\n",
      "Epoch 47/50\n",
      "4180/4180 [==============================] - 0s 93us/step - loss: 1.0184 - acc: 0.4732 - val_loss: 0.9825 - val_acc: 0.5309\n",
      "Epoch 48/50\n",
      "4180/4180 [==============================] - 0s 80us/step - loss: 1.0200 - acc: 0.4854 - val_loss: 0.9961 - val_acc: 0.5224\n",
      "Epoch 49/50\n",
      "4180/4180 [==============================] - 0s 101us/step - loss: 1.0189 - acc: 0.4830 - val_loss: 0.9917 - val_acc: 0.5184\n",
      "Epoch 50/50\n",
      "4180/4180 [==============================] - 0s 92us/step - loss: 1.0190 - acc: 0.4821 - val_loss: 0.9894 - val_acc: 0.5270\n"
     ]
    },
    {
     "data": {
      "text/plain": [
       "<tensorflow.python.keras.callbacks.History at 0x7f32509bacc0>"
      ]
     },
     "execution_count": 11,
     "metadata": {},
     "output_type": "execute_result"
    }
   ],
   "source": [
    "model.fit(X_train_norm, y_train.values, epochs=50, validation_data=(X_test_norm,y_test), class_weight=class_weights)"
   ]
  },
  {
   "cell_type": "code",
   "execution_count": 12,
   "metadata": {},
   "outputs": [
    {
     "name": "stdout",
     "output_type": "stream",
     "text": [
      "1520/1520 [==============================] - 0s 53us/step\n",
      "0.9893782465081465 0.5269736842105263\n"
     ]
    }
   ],
   "source": [
    "val_loss, val_acc = model.evaluate(X_test_norm, y_test)\n",
    "print(val_loss, val_acc)"
   ]
  },
  {
   "cell_type": "code",
   "execution_count": 13,
   "metadata": {},
   "outputs": [
    {
     "data": {
      "text/plain": [
       "2    688\n",
       "0    502\n",
       "1    330\n",
       "dtype: int64"
      ]
     },
     "execution_count": 13,
     "metadata": {},
     "output_type": "execute_result"
    }
   ],
   "source": [
    "predictions = model.predict_classes(X_test_norm)\n",
    "preds = list(predictions)\n",
    "pd.Series(list(predictions)).value_counts()"
   ]
  },
  {
   "cell_type": "code",
   "execution_count": 14,
   "metadata": {},
   "outputs": [
    {
     "data": {
      "text/plain": [
       "2"
      ]
     },
     "execution_count": 14,
     "metadata": {},
     "output_type": "execute_result"
    }
   ],
   "source": [
    "predictions[0]"
   ]
  },
  {
   "cell_type": "code",
   "execution_count": 15,
   "metadata": {},
   "outputs": [
    {
     "data": {
      "text/plain": [
       "{0: 258, 1: 109, 2: 434}"
      ]
     },
     "execution_count": 15,
     "metadata": {},
     "output_type": "execute_result"
    }
   ],
   "source": [
    "correct_pred_dict = {0:0,1:0,2:0}\n",
    "for i in range(len(preds)):\n",
    "    pred = preds[i]\n",
    "    real = y_test[i]\n",
    "    if pred == real:\n",
    "        correct_pred_dict[pred] += 1\n",
    "correct_pred_dict"
   ]
  },
  {
   "cell_type": "code",
   "execution_count": 16,
   "metadata": {},
   "outputs": [
    {
     "data": {
      "text/plain": [
       "{0: 202, 1: 263, 2: 254}"
      ]
     },
     "execution_count": 16,
     "metadata": {},
     "output_type": "execute_result"
    }
   ],
   "source": [
    "outcomes_incorrectly_caught_dict = {0:0,1:0,2:0}\n",
    "for i in range(len(preds)):\n",
    "    pred = preds[i]\n",
    "    real = y_test[i]\n",
    "    if pred != real:\n",
    "        outcomes_incorrectly_caught_dict[real] += 1\n",
    "outcomes_incorrectly_caught_dict"
   ]
  },
  {
   "cell_type": "code",
   "execution_count": null,
   "metadata": {},
   "outputs": [],
   "source": []
  },
  {
   "cell_type": "code",
   "execution_count": null,
   "metadata": {},
   "outputs": [],
   "source": []
  }
 ],
 "metadata": {
  "kernelspec": {
   "display_name": "Python 3",
   "language": "python",
   "name": "python3"
  },
  "language_info": {
   "codemirror_mode": {
    "name": "ipython",
    "version": 3
   },
   "file_extension": ".py",
   "mimetype": "text/x-python",
   "name": "python",
   "nbconvert_exporter": "python",
   "pygments_lexer": "ipython3",
   "version": "3.6.7"
  }
 },
 "nbformat": 4,
 "nbformat_minor": 2
}
