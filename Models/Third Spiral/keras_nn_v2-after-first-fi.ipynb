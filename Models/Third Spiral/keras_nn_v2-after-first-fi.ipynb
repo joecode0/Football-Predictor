{
 "cells": [
  {
   "cell_type": "code",
   "execution_count": 1,
   "metadata": {},
   "outputs": [
    {
     "name": "stderr",
     "output_type": "stream",
     "text": [
      "Using TensorFlow backend.\n"
     ]
    }
   ],
   "source": [
    "import tensorflow as tf\n",
    "import pandas as pd\n",
    "import keras\n",
    "train = pd.read_csv(\"dataset_train_set.csv\")\n",
    "test = pd.read_csv(\"dataset_dev_set.csv\")"
   ]
  },
  {
   "cell_type": "code",
   "execution_count": 2,
   "metadata": {},
   "outputs": [],
   "source": [
    "X_train = train.drop('target',axis=1)\n",
    "y_train = train['target']\n",
    "X_test = test.drop('target',axis=1)\n",
    "y_test = test['target']"
   ]
  },
  {
   "cell_type": "code",
   "execution_count": 3,
   "metadata": {},
   "outputs": [],
   "source": [
    "X_train.drop(['aPosLS','hPosLS'],inplace=True,axis=1)\n",
    "X_test.drop(['aPosLS','hPosLS'],inplace=True,axis=1)"
   ]
  },
  {
   "cell_type": "code",
   "execution_count": 4,
   "metadata": {},
   "outputs": [
    {
     "data": {
      "text/html": [
       "<div>\n",
       "<style scoped>\n",
       "    .dataframe tbody tr th:only-of-type {\n",
       "        vertical-align: middle;\n",
       "    }\n",
       "\n",
       "    .dataframe tbody tr th {\n",
       "        vertical-align: top;\n",
       "    }\n",
       "\n",
       "    .dataframe thead th {\n",
       "        text-align: right;\n",
       "    }\n",
       "</style>\n",
       "<table border=\"1\" class=\"dataframe\">\n",
       "  <thead>\n",
       "    <tr style=\"text-align: right;\">\n",
       "      <th></th>\n",
       "      <th>hPos</th>\n",
       "      <th>hGSPG</th>\n",
       "      <th>hGCPG</th>\n",
       "      <th>hCSPG</th>\n",
       "      <th>hPtsPG</th>\n",
       "      <th>aPos</th>\n",
       "      <th>aGSPG</th>\n",
       "      <th>aGCPG</th>\n",
       "      <th>aCSPG</th>\n",
       "      <th>aPtsPG</th>\n",
       "      <th>...</th>\n",
       "      <th>aPTSPG7</th>\n",
       "      <th>aGD3</th>\n",
       "      <th>aGD5</th>\n",
       "      <th>aGD7</th>\n",
       "      <th>hSpent</th>\n",
       "      <th>hIncome</th>\n",
       "      <th>hNet</th>\n",
       "      <th>aSpent</th>\n",
       "      <th>aIncome</th>\n",
       "      <th>aNet</th>\n",
       "    </tr>\n",
       "  </thead>\n",
       "  <tbody>\n",
       "    <tr>\n",
       "      <th>0</th>\n",
       "      <td>4.0</td>\n",
       "      <td>0.0</td>\n",
       "      <td>0.0</td>\n",
       "      <td>0.0</td>\n",
       "      <td>0.0</td>\n",
       "      <td>13.0</td>\n",
       "      <td>0.0</td>\n",
       "      <td>0.0</td>\n",
       "      <td>0.0</td>\n",
       "      <td>0.0</td>\n",
       "      <td>...</td>\n",
       "      <td>0.0</td>\n",
       "      <td>0.0</td>\n",
       "      <td>0.0</td>\n",
       "      <td>0.0</td>\n",
       "      <td>18.72</td>\n",
       "      <td>0.479</td>\n",
       "      <td>-18.241</td>\n",
       "      <td>18.07</td>\n",
       "      <td>1.320</td>\n",
       "      <td>-16.750</td>\n",
       "    </tr>\n",
       "    <tr>\n",
       "      <th>1</th>\n",
       "      <td>5.0</td>\n",
       "      <td>0.0</td>\n",
       "      <td>0.0</td>\n",
       "      <td>0.0</td>\n",
       "      <td>0.0</td>\n",
       "      <td>20.0</td>\n",
       "      <td>0.0</td>\n",
       "      <td>0.0</td>\n",
       "      <td>0.0</td>\n",
       "      <td>0.0</td>\n",
       "      <td>...</td>\n",
       "      <td>0.0</td>\n",
       "      <td>0.0</td>\n",
       "      <td>0.0</td>\n",
       "      <td>0.0</td>\n",
       "      <td>47.15</td>\n",
       "      <td>34.830</td>\n",
       "      <td>-12.320</td>\n",
       "      <td>8.92</td>\n",
       "      <td>38.160</td>\n",
       "      <td>29.240</td>\n",
       "    </tr>\n",
       "    <tr>\n",
       "      <th>2</th>\n",
       "      <td>6.0</td>\n",
       "      <td>0.0</td>\n",
       "      <td>0.0</td>\n",
       "      <td>0.0</td>\n",
       "      <td>0.0</td>\n",
       "      <td>15.0</td>\n",
       "      <td>0.0</td>\n",
       "      <td>0.0</td>\n",
       "      <td>0.0</td>\n",
       "      <td>0.0</td>\n",
       "      <td>...</td>\n",
       "      <td>0.0</td>\n",
       "      <td>0.0</td>\n",
       "      <td>0.0</td>\n",
       "      <td>0.0</td>\n",
       "      <td>17.10</td>\n",
       "      <td>23.650</td>\n",
       "      <td>6.550</td>\n",
       "      <td>29.52</td>\n",
       "      <td>9.000</td>\n",
       "      <td>-20.520</td>\n",
       "    </tr>\n",
       "    <tr>\n",
       "      <th>3</th>\n",
       "      <td>7.0</td>\n",
       "      <td>0.0</td>\n",
       "      <td>0.0</td>\n",
       "      <td>0.0</td>\n",
       "      <td>0.0</td>\n",
       "      <td>17.0</td>\n",
       "      <td>0.0</td>\n",
       "      <td>0.0</td>\n",
       "      <td>0.0</td>\n",
       "      <td>0.0</td>\n",
       "      <td>...</td>\n",
       "      <td>0.0</td>\n",
       "      <td>0.0</td>\n",
       "      <td>0.0</td>\n",
       "      <td>0.0</td>\n",
       "      <td>11.99</td>\n",
       "      <td>6.260</td>\n",
       "      <td>-5.730</td>\n",
       "      <td>0.00</td>\n",
       "      <td>0.131</td>\n",
       "      <td>0.131</td>\n",
       "    </tr>\n",
       "    <tr>\n",
       "      <th>4</th>\n",
       "      <td>10.0</td>\n",
       "      <td>0.0</td>\n",
       "      <td>0.0</td>\n",
       "      <td>0.0</td>\n",
       "      <td>0.0</td>\n",
       "      <td>8.0</td>\n",
       "      <td>0.0</td>\n",
       "      <td>0.0</td>\n",
       "      <td>0.0</td>\n",
       "      <td>0.0</td>\n",
       "      <td>...</td>\n",
       "      <td>0.0</td>\n",
       "      <td>0.0</td>\n",
       "      <td>0.0</td>\n",
       "      <td>0.0</td>\n",
       "      <td>47.84</td>\n",
       "      <td>10.920</td>\n",
       "      <td>-36.920</td>\n",
       "      <td>31.03</td>\n",
       "      <td>32.000</td>\n",
       "      <td>0.970</td>\n",
       "    </tr>\n",
       "  </tbody>\n",
       "</table>\n",
       "<p>5 rows × 34 columns</p>\n",
       "</div>"
      ],
      "text/plain": [
       "   hPos  hGSPG  hGCPG  hCSPG  hPtsPG  aPos  aGSPG  aGCPG  aCSPG  aPtsPG  \\\n",
       "0   4.0    0.0    0.0    0.0     0.0  13.0    0.0    0.0    0.0     0.0   \n",
       "1   5.0    0.0    0.0    0.0     0.0  20.0    0.0    0.0    0.0     0.0   \n",
       "2   6.0    0.0    0.0    0.0     0.0  15.0    0.0    0.0    0.0     0.0   \n",
       "3   7.0    0.0    0.0    0.0     0.0  17.0    0.0    0.0    0.0     0.0   \n",
       "4  10.0    0.0    0.0    0.0     0.0   8.0    0.0    0.0    0.0     0.0   \n",
       "\n",
       "    ...    aPTSPG7  aGD3  aGD5  aGD7  hSpent  hIncome    hNet  aSpent  \\\n",
       "0   ...        0.0   0.0   0.0   0.0   18.72    0.479 -18.241   18.07   \n",
       "1   ...        0.0   0.0   0.0   0.0   47.15   34.830 -12.320    8.92   \n",
       "2   ...        0.0   0.0   0.0   0.0   17.10   23.650   6.550   29.52   \n",
       "3   ...        0.0   0.0   0.0   0.0   11.99    6.260  -5.730    0.00   \n",
       "4   ...        0.0   0.0   0.0   0.0   47.84   10.920 -36.920   31.03   \n",
       "\n",
       "   aIncome    aNet  \n",
       "0    1.320 -16.750  \n",
       "1   38.160  29.240  \n",
       "2    9.000 -20.520  \n",
       "3    0.131   0.131  \n",
       "4   32.000   0.970  \n",
       "\n",
       "[5 rows x 34 columns]"
      ]
     },
     "execution_count": 4,
     "metadata": {},
     "output_type": "execute_result"
    }
   ],
   "source": [
    "X_train.head()"
   ]
  },
  {
   "cell_type": "code",
   "execution_count": 5,
   "metadata": {},
   "outputs": [
    {
     "name": "stdout",
     "output_type": "stream",
     "text": [
      "(4180, 34)\n"
     ]
    },
    {
     "data": {
      "text/plain": [
       "array([ 0.03925603,  0.01678195,  0.00942145,  0.00412188,  0.01678195,\n",
       "        0.11776808,  0.01266007,  0.01187495,  0.00323862,  0.01266007,\n",
       "        0.1222629 ,  0.06420323,  0.10631514,  0.05193572,  0.00081456,\n",
       "        0.0009814 ,  0.00981401,  0.00785121,  0.01121741,  0.00326806,\n",
       "       -0.0019628 ,  0.0014034 ,  0.01308207,  0.01962801,  0.01962801,\n",
       "        0.00326806,  0.00785121,  0.00981401,  0.        ,  0.01854847,\n",
       "        0.01854847,  0.03974673,  0.7075899 ,  0.66784317])"
      ]
     },
     "execution_count": 5,
     "metadata": {},
     "output_type": "execute_result"
    }
   ],
   "source": [
    "print(X_train.shape)\n",
    "X_train_norm = tf.keras.utils.normalize(X_train.values,axis=1)\n",
    "X_test_norm = tf.keras.utils.normalize(X_test.values,axis=1)\n",
    "X_train_norm[1000]"
   ]
  },
  {
   "cell_type": "code",
   "execution_count": 6,
   "metadata": {},
   "outputs": [
    {
     "data": {
      "text/plain": [
       "2    1971\n",
       "0    1120\n",
       "1    1089\n",
       "Name: target, dtype: int64"
      ]
     },
     "execution_count": 6,
     "metadata": {},
     "output_type": "execute_result"
    }
   ],
   "source": [
    "y_train.value_counts()"
   ]
  },
  {
   "cell_type": "code",
   "execution_count": 7,
   "metadata": {},
   "outputs": [
    {
     "name": "stdout",
     "output_type": "stream",
     "text": [
      "1,1.8099173553719008,1.7598214285714286\n"
     ]
    }
   ],
   "source": [
    "whome = 1\n",
    "wdraw = 1971/1089\n",
    "waway = 1971/1120\n",
    "print(\"{},{},{}\".format(whome,wdraw,waway))"
   ]
  },
  {
   "cell_type": "code",
   "execution_count": 8,
   "metadata": {},
   "outputs": [],
   "source": [
    "class_weights = {0:1.7598,\n",
    "                 1:1.8099,\n",
    "                 2:1}"
   ]
  },
  {
   "cell_type": "code",
   "execution_count": 9,
   "metadata": {},
   "outputs": [],
   "source": [
    "model = tf.keras.models.Sequential()\n",
    "#model.add(tf.keras.layers.Flatten())\n",
    "model.add(tf.keras.layers.Dense(12, activation = tf.nn.relu))\n",
    "#model.add(tf.keras.layers.Dense(12, activation = tf.nn.relu))\n",
    "model.add(tf.keras.layers.Dense(3, activation = tf.nn.softmax))"
   ]
  },
  {
   "cell_type": "code",
   "execution_count": 10,
   "metadata": {},
   "outputs": [],
   "source": [
    "model.compile(optimizer='adam',\n",
    "             loss='sparse_categorical_crossentropy',\n",
    "             metrics=['accuracy'])"
   ]
  },
  {
   "cell_type": "code",
   "execution_count": 11,
   "metadata": {
    "scrolled": true
   },
   "outputs": [
    {
     "name": "stdout",
     "output_type": "stream",
     "text": [
      "Train on 4180 samples, validate on 1520 samples\n",
      "Epoch 1/15\n",
      "4180/4180 [==============================] - 1s 176us/step - loss: 1.0879 - acc: 0.3751 - val_loss: 1.0633 - val_acc: 0.4803\n",
      "Epoch 2/15\n",
      "4180/4180 [==============================] - 0s 60us/step - loss: 1.0775 - acc: 0.4409 - val_loss: 1.0582 - val_acc: 0.4836\n",
      "Epoch 3/15\n",
      "4180/4180 [==============================] - 0s 62us/step - loss: 1.0701 - acc: 0.4462 - val_loss: 1.0458 - val_acc: 0.4921\n",
      "Epoch 4/15\n",
      "4180/4180 [==============================] - 0s 89us/step - loss: 1.0632 - acc: 0.4462 - val_loss: 1.0336 - val_acc: 0.4875\n",
      "Epoch 5/15\n",
      "4180/4180 [==============================] - 0s 55us/step - loss: 1.0587 - acc: 0.4548 - val_loss: 1.0312 - val_acc: 0.4921\n",
      "Epoch 6/15\n",
      "4180/4180 [==============================] - 0s 54us/step - loss: 1.0554 - acc: 0.4603 - val_loss: 1.0313 - val_acc: 0.4928\n",
      "Epoch 7/15\n",
      "4180/4180 [==============================] - 0s 54us/step - loss: 1.0523 - acc: 0.4593 - val_loss: 1.0326 - val_acc: 0.4895\n",
      "Epoch 8/15\n",
      "4180/4180 [==============================] - 0s 62us/step - loss: 1.0510 - acc: 0.4629 - val_loss: 1.0303 - val_acc: 0.4842\n",
      "Epoch 9/15\n",
      "4180/4180 [==============================] - 0s 98us/step - loss: 1.0490 - acc: 0.4624 - val_loss: 1.0253 - val_acc: 0.4928\n",
      "Epoch 10/15\n",
      "4180/4180 [==============================] - 0s 51us/step - loss: 1.0478 - acc: 0.4646 - val_loss: 1.0229 - val_acc: 0.4928\n",
      "Epoch 11/15\n",
      "4180/4180 [==============================] - 0s 81us/step - loss: 1.0464 - acc: 0.4708 - val_loss: 1.0261 - val_acc: 0.4875\n",
      "Epoch 12/15\n",
      "4180/4180 [==============================] - 0s 68us/step - loss: 1.0451 - acc: 0.4591 - val_loss: 1.0189 - val_acc: 0.4993\n",
      "Epoch 13/15\n",
      "4180/4180 [==============================] - 0s 92us/step - loss: 1.0449 - acc: 0.4672 - val_loss: 1.0156 - val_acc: 0.5020\n",
      "Epoch 14/15\n",
      "4180/4180 [==============================] - 0s 60us/step - loss: 1.0445 - acc: 0.4737 - val_loss: 1.0198 - val_acc: 0.4947\n",
      "Epoch 15/15\n",
      "4180/4180 [==============================] - 0s 113us/step - loss: 1.0437 - acc: 0.4653 - val_loss: 1.0218 - val_acc: 0.4895\n"
     ]
    },
    {
     "data": {
      "text/plain": [
       "<tensorflow.python.keras.callbacks.History at 0x7f9405315e10>"
      ]
     },
     "execution_count": 11,
     "metadata": {},
     "output_type": "execute_result"
    }
   ],
   "source": [
    "model.fit(X_train_norm, y_train.values, epochs=15, validation_data=(X_test_norm,y_test), class_weight=class_weights)"
   ]
  },
  {
   "cell_type": "code",
   "execution_count": 12,
   "metadata": {},
   "outputs": [
    {
     "name": "stdout",
     "output_type": "stream",
     "text": [
      "1520/1520 [==============================] - 0s 29us/step\n",
      "1.0217756472135846 0.48947368421052634\n"
     ]
    }
   ],
   "source": [
    "val_loss, val_acc = model.evaluate(X_test_norm, y_test)\n",
    "print(val_loss, val_acc)"
   ]
  },
  {
   "cell_type": "code",
   "execution_count": 13,
   "metadata": {},
   "outputs": [
    {
     "data": {
      "text/plain": [
       "0    740\n",
       "2    703\n",
       "1     77\n",
       "dtype: int64"
      ]
     },
     "execution_count": 13,
     "metadata": {},
     "output_type": "execute_result"
    }
   ],
   "source": [
    "predictions = model.predict_classes(X_test_norm)\n",
    "preds = list(predictions)\n",
    "pd.Series(list(predictions)).value_counts()"
   ]
  },
  {
   "cell_type": "code",
   "execution_count": 14,
   "metadata": {},
   "outputs": [
    {
     "data": {
      "text/plain": [
       "2"
      ]
     },
     "execution_count": 14,
     "metadata": {},
     "output_type": "execute_result"
    }
   ],
   "source": [
    "predictions[0]"
   ]
  },
  {
   "cell_type": "code",
   "execution_count": 15,
   "metadata": {},
   "outputs": [
    {
     "data": {
      "text/plain": [
       "{0: 308, 1: 20, 2: 416}"
      ]
     },
     "execution_count": 15,
     "metadata": {},
     "output_type": "execute_result"
    }
   ],
   "source": [
    "correct_pred_dict = {0:0,1:0,2:0}\n",
    "for i in range(len(preds)):\n",
    "    pred = preds[i]\n",
    "    real = y_test[i]\n",
    "    if pred == real:\n",
    "        correct_pred_dict[pred] += 1\n",
    "correct_pred_dict"
   ]
  },
  {
   "cell_type": "code",
   "execution_count": 16,
   "metadata": {},
   "outputs": [
    {
     "data": {
      "text/plain": [
       "{0: 152, 1: 352, 2: 272}"
      ]
     },
     "execution_count": 16,
     "metadata": {},
     "output_type": "execute_result"
    }
   ],
   "source": [
    "outcomes_incorrectly_caught_dict = {0:0,1:0,2:0}\n",
    "for i in range(len(preds)):\n",
    "    pred = preds[i]\n",
    "    real = y_test[i]\n",
    "    if pred != real:\n",
    "        outcomes_incorrectly_caught_dict[real] += 1\n",
    "outcomes_incorrectly_caught_dict"
   ]
  },
  {
   "cell_type": "code",
   "execution_count": null,
   "metadata": {},
   "outputs": [],
   "source": []
  },
  {
   "cell_type": "code",
   "execution_count": null,
   "metadata": {},
   "outputs": [],
   "source": []
  }
 ],
 "metadata": {
  "kernelspec": {
   "display_name": "Python 3",
   "language": "python",
   "name": "python3"
  },
  "language_info": {
   "codemirror_mode": {
    "name": "ipython",
    "version": 3
   },
   "file_extension": ".py",
   "mimetype": "text/x-python",
   "name": "python",
   "nbconvert_exporter": "python",
   "pygments_lexer": "ipython3",
   "version": "3.6.7"
  }
 },
 "nbformat": 4,
 "nbformat_minor": 2
}
