{
 "cells": [
  {
   "cell_type": "code",
   "execution_count": 1,
   "metadata": {},
   "outputs": [],
   "source": [
    "import tensorflow as tf\n",
    "import pandas as pd\n",
    "df = pd.read_csv(\"initial_dataset_main_sets.csv\")\n",
    "#df.head(100)"
   ]
  },
  {
   "cell_type": "code",
   "execution_count": 2,
   "metadata": {},
   "outputs": [],
   "source": [
    "df2 = df.query(\"season > 11\")\n",
    "df2.reset_index(inplace=True,drop=True)\n",
    "#df2.head(100)"
   ]
  },
  {
   "cell_type": "code",
   "execution_count": 3,
   "metadata": {},
   "outputs": [],
   "source": [
    "from sklearn.model_selection import StratifiedShuffleSplit\n",
    "\n",
    "def get_train_test_split(data):\n",
    "    split = StratifiedShuffleSplit(n_splits=1, test_size=0.2, random_state=42)\n",
    "    for train_index, test_index in split.split(data, data[\"target\"]):\n",
    "        data_train = data.loc[train_index]\n",
    "        data_test = data.loc[test_index]\n",
    "    return data_train, data_test\n",
    "\n",
    "train,test = get_train_test_split(df2)\n",
    "\n",
    "X_train = train.drop('target',axis=1)\n",
    "y_train = train['target']\n",
    "X_test = test.drop('target',axis=1)\n",
    "y_test = test['target']"
   ]
  },
  {
   "cell_type": "code",
   "execution_count": 4,
   "metadata": {},
   "outputs": [
    {
     "data": {
      "text/html": [
       "<div>\n",
       "<style scoped>\n",
       "    .dataframe tbody tr th:only-of-type {\n",
       "        vertical-align: middle;\n",
       "    }\n",
       "\n",
       "    .dataframe tbody tr th {\n",
       "        vertical-align: top;\n",
       "    }\n",
       "\n",
       "    .dataframe thead th {\n",
       "        text-align: right;\n",
       "    }\n",
       "</style>\n",
       "<table border=\"1\" class=\"dataframe\">\n",
       "  <thead>\n",
       "    <tr style=\"text-align: right;\">\n",
       "      <th></th>\n",
       "      <th>season</th>\n",
       "      <th>hPos</th>\n",
       "      <th>hGSPG</th>\n",
       "      <th>hGCPG</th>\n",
       "      <th>hCSPG</th>\n",
       "      <th>hPtsPG</th>\n",
       "      <th>aPos</th>\n",
       "      <th>aGSPG</th>\n",
       "      <th>aGCPG</th>\n",
       "      <th>aCSPG</th>\n",
       "      <th>aPtsPG</th>\n",
       "    </tr>\n",
       "  </thead>\n",
       "  <tbody>\n",
       "    <tr>\n",
       "      <th>3072</th>\n",
       "      <td>20</td>\n",
       "      <td>2.0</td>\n",
       "      <td>4.00</td>\n",
       "      <td>1.00</td>\n",
       "      <td>0.33</td>\n",
       "      <td>3.00</td>\n",
       "      <td>8.0</td>\n",
       "      <td>1.00</td>\n",
       "      <td>0.33</td>\n",
       "      <td>0.67</td>\n",
       "      <td>1.67</td>\n",
       "    </tr>\n",
       "    <tr>\n",
       "      <th>162</th>\n",
       "      <td>12</td>\n",
       "      <td>7.0</td>\n",
       "      <td>1.38</td>\n",
       "      <td>1.25</td>\n",
       "      <td>0.25</td>\n",
       "      <td>1.44</td>\n",
       "      <td>5.0</td>\n",
       "      <td>1.56</td>\n",
       "      <td>1.25</td>\n",
       "      <td>0.38</td>\n",
       "      <td>1.50</td>\n",
       "    </tr>\n",
       "    <tr>\n",
       "      <th>4350</th>\n",
       "      <td>23</td>\n",
       "      <td>6.0</td>\n",
       "      <td>1.76</td>\n",
       "      <td>1.24</td>\n",
       "      <td>0.29</td>\n",
       "      <td>1.59</td>\n",
       "      <td>16.0</td>\n",
       "      <td>1.18</td>\n",
       "      <td>1.88</td>\n",
       "      <td>0.18</td>\n",
       "      <td>1.00</td>\n",
       "    </tr>\n",
       "    <tr>\n",
       "      <th>2818</th>\n",
       "      <td>19</td>\n",
       "      <td>12.0</td>\n",
       "      <td>1.13</td>\n",
       "      <td>1.27</td>\n",
       "      <td>0.33</td>\n",
       "      <td>1.27</td>\n",
       "      <td>16.0</td>\n",
       "      <td>1.13</td>\n",
       "      <td>1.60</td>\n",
       "      <td>0.27</td>\n",
       "      <td>1.13</td>\n",
       "    </tr>\n",
       "    <tr>\n",
       "      <th>4549</th>\n",
       "      <td>23</td>\n",
       "      <td>3.0</td>\n",
       "      <td>1.86</td>\n",
       "      <td>0.97</td>\n",
       "      <td>0.33</td>\n",
       "      <td>1.97</td>\n",
       "      <td>16.0</td>\n",
       "      <td>0.83</td>\n",
       "      <td>1.39</td>\n",
       "      <td>0.33</td>\n",
       "      <td>1.03</td>\n",
       "    </tr>\n",
       "  </tbody>\n",
       "</table>\n",
       "</div>"
      ],
      "text/plain": [
       "      season  hPos  hGSPG  hGCPG  hCSPG  hPtsPG  aPos  aGSPG  aGCPG  aCSPG  \\\n",
       "3072      20   2.0   4.00   1.00   0.33    3.00   8.0   1.00   0.33   0.67   \n",
       "162       12   7.0   1.38   1.25   0.25    1.44   5.0   1.56   1.25   0.38   \n",
       "4350      23   6.0   1.76   1.24   0.29    1.59  16.0   1.18   1.88   0.18   \n",
       "2818      19  12.0   1.13   1.27   0.33    1.27  16.0   1.13   1.60   0.27   \n",
       "4549      23   3.0   1.86   0.97   0.33    1.97  16.0   0.83   1.39   0.33   \n",
       "\n",
       "      aPtsPG  \n",
       "3072    1.67  \n",
       "162     1.50  \n",
       "4350    1.00  \n",
       "2818    1.13  \n",
       "4549    1.03  "
      ]
     },
     "execution_count": 4,
     "metadata": {},
     "output_type": "execute_result"
    }
   ],
   "source": [
    "X_train.head()"
   ]
  },
  {
   "cell_type": "code",
   "execution_count": 5,
   "metadata": {},
   "outputs": [
    {
     "name": "stdout",
     "output_type": "stream",
     "text": [
      "(4256, 11)\n"
     ]
    },
    {
     "data": {
      "text/plain": [
       "array([0.89581175, 0.08958118, 0.17916235, 0.04479059, 0.01478089,\n",
       "       0.13437176, 0.3583247 , 0.04479059, 0.01478089, 0.03000969,\n",
       "       0.07480028])"
      ]
     },
     "execution_count": 5,
     "metadata": {},
     "output_type": "execute_result"
    }
   ],
   "source": [
    "print(X_train.shape)\n",
    "X_train_norm = tf.keras.utils.normalize(X_train.values,axis=1)\n",
    "X_train_norm[0]"
   ]
  },
  {
   "cell_type": "code",
   "execution_count": 6,
   "metadata": {},
   "outputs": [],
   "source": [
    "X_test_norm = tf.keras.utils.normalize(X_test.values,axis=1)"
   ]
  },
  {
   "cell_type": "code",
   "execution_count": 7,
   "metadata": {},
   "outputs": [],
   "source": [
    "model = tf.keras.models.Sequential()\n",
    "#model.add(tf.keras.layers.Flatten())\n",
    "model.add(tf.keras.layers.Dense(12, activation = tf.nn.relu))\n",
    "#model.add(tf.keras.layers.Dropout(0.5))\n",
    "model.add(tf.keras.layers.Dense(12, activation = tf.nn.relu))\n",
    "model.add(tf.keras.layers.Dense(12, activation = tf.nn.relu))\n",
    "#model.add(tf.keras.layers.Dropout(0.5))\n",
    "# model.add(tf.keras.layers.Dense(12, activation = tf.nn.relu))\n",
    "model.add(tf.keras.layers.Dense(3, activation = tf.nn.softmax))"
   ]
  },
  {
   "cell_type": "code",
   "execution_count": 8,
   "metadata": {},
   "outputs": [],
   "source": [
    "#sgd = tf.keras.optimizers.SGD(lr=0.01,momentum=0.8,decay=0.00025)\n",
    "#adadelta = tf.keras.optimizers.Adadelta()\n",
    "model.compile(optimizer='adam',\n",
    "             loss='sparse_categorical_crossentropy',\n",
    "             metrics=['accuracy'])\n",
    "\n",
    "class_weight = {0: 1.688,\n",
    "                1: 1.747,\n",
    "                2: 1}"
   ]
  },
  {
   "cell_type": "code",
   "execution_count": 9,
   "metadata": {
    "scrolled": true
   },
   "outputs": [
    {
     "name": "stdout",
     "output_type": "stream",
     "text": [
      "Train on 4256 samples, validate on 1064 samples\n",
      "Epoch 1/15\n",
      "4256/4256 [==============================] - 1s 202us/step - loss: 1.0866 - acc: 0.4908 - val_loss: 1.0714 - val_acc: 0.4765\n",
      "Epoch 2/15\n",
      "4256/4256 [==============================] - 0s 71us/step - loss: 1.0635 - acc: 0.4737 - val_loss: 1.0264 - val_acc: 0.4934\n",
      "Epoch 3/15\n",
      "4256/4256 [==============================] - 0s 69us/step - loss: 1.0530 - acc: 0.4843 - val_loss: 1.0553 - val_acc: 0.4539\n",
      "Epoch 4/15\n",
      "4256/4256 [==============================] - 0s 66us/step - loss: 1.0491 - acc: 0.4774 - val_loss: 1.0672 - val_acc: 0.4445\n",
      "Epoch 5/15\n",
      "4256/4256 [==============================] - 0s 62us/step - loss: 1.0486 - acc: 0.4789 - val_loss: 1.0396 - val_acc: 0.4746\n",
      "Epoch 6/15\n",
      "4256/4256 [==============================] - 0s 70us/step - loss: 1.0476 - acc: 0.4793 - val_loss: 1.0344 - val_acc: 0.4690\n",
      "Epoch 7/15\n",
      "4256/4256 [==============================] - 0s 69us/step - loss: 1.0467 - acc: 0.4760 - val_loss: 1.0648 - val_acc: 0.4492\n",
      "Epoch 8/15\n",
      "4256/4256 [==============================] - 0s 60us/step - loss: 1.0474 - acc: 0.4756 - val_loss: 1.0193 - val_acc: 0.4906\n",
      "Epoch 9/15\n",
      "4256/4256 [==============================] - 0s 61us/step - loss: 1.0462 - acc: 0.4720 - val_loss: 1.0457 - val_acc: 0.4624\n",
      "Epoch 10/15\n",
      "4256/4256 [==============================] - 0s 71us/step - loss: 1.0449 - acc: 0.4709 - val_loss: 1.0194 - val_acc: 0.4887\n",
      "Epoch 11/15\n",
      "4256/4256 [==============================] - 0s 67us/step - loss: 1.0455 - acc: 0.4723 - val_loss: 1.0360 - val_acc: 0.4643\n",
      "Epoch 12/15\n",
      "4256/4256 [==============================] - 0s 64us/step - loss: 1.0447 - acc: 0.4718 - val_loss: 1.0389 - val_acc: 0.4474\n",
      "Epoch 13/15\n",
      "4256/4256 [==============================] - 0s 62us/step - loss: 1.0439 - acc: 0.4652 - val_loss: 1.0280 - val_acc: 0.4699\n",
      "Epoch 14/15\n",
      "4256/4256 [==============================] - 0s 68us/step - loss: 1.0435 - acc: 0.4688 - val_loss: 1.0372 - val_acc: 0.4539\n",
      "Epoch 15/15\n",
      "4256/4256 [==============================] - 0s 68us/step - loss: 1.0432 - acc: 0.4751 - val_loss: 1.0300 - val_acc: 0.4568\n"
     ]
    }
   ],
   "source": [
    "p = model.fit(X_train_norm, y_train.values, epochs=15, validation_data=(X_test_norm,y_test), class_weight = class_weight)"
   ]
  },
  {
   "cell_type": "code",
   "execution_count": 10,
   "metadata": {},
   "outputs": [
    {
     "name": "stdout",
     "output_type": "stream",
     "text": [
      "<tensorflow.python.keras.callbacks.History object at 0x7feecc716c88>\n"
     ]
    }
   ],
   "source": [
    "print(p)"
   ]
  },
  {
   "cell_type": "code",
   "execution_count": 11,
   "metadata": {},
   "outputs": [
    {
     "name": "stdout",
     "output_type": "stream",
     "text": [
      "preds: {0: 1809, 1: 597, 2: 1850}\n",
      "real: {0: 1194, 1: 1088, 2: 1974}\n",
      "[[ 743  480  586]\n",
      " [ 156  172  269]\n",
      " [ 295  436 1119]]\n"
     ]
    }
   ],
   "source": [
    "train_pred = model.predict_classes(X_train_norm)\n",
    "test_pred = model.predict_classes(X_test_norm)\n",
    "\n",
    "import numpy as np\n",
    "\n",
    "unique, counts = np.unique(train_pred, return_counts=True)\n",
    "print(\"preds: \" + str(dict(zip(unique, counts))))\n",
    "\n",
    "unique, counts = np.unique(y_train.values, return_counts=True)\n",
    "print(\"real: \" + str(dict(zip(unique, counts))))\n",
    "\n",
    "from sklearn.metrics import confusion_matrix as conf_matrix\n",
    "\n",
    "print(conf_matrix(train_pred,y_train.values,labels=[0,1,2]))"
   ]
  },
  {
   "cell_type": "code",
   "execution_count": 12,
   "metadata": {},
   "outputs": [
    {
     "name": "stdout",
     "output_type": "stream",
     "text": [
      "[[175 118 156]\n",
      " [ 48  45  71]\n",
      " [ 76 109 266]]\n"
     ]
    }
   ],
   "source": [
    "print(conf_matrix(test_pred,y_test.values))"
   ]
  },
  {
   "cell_type": "code",
   "execution_count": 13,
   "metadata": {},
   "outputs": [
    {
     "name": "stdout",
     "output_type": "stream",
     "text": [
      "Home: 1, Away: 1.688, Draw: 1.747\n"
     ]
    }
   ],
   "source": [
    "df_home_wins = df.query(\"target == 2\")\n",
    "df_away_wins = df.query(\"target == 0\")\n",
    "df_draws = df.query(\"target == 1\")\n",
    "home_wins_amount = len(df_home_wins)\n",
    "draw_ratio = round(home_wins_amount/len(df_draws),3)\n",
    "away_win_ratio = round(home_wins_amount/len(df_away_wins),3)\n",
    "home_win_ratio = 1\n",
    "print(\"Home: {}, Away: {}, Draw: {}\".format(home_win_ratio,away_win_ratio,draw_ratio))"
   ]
  },
  {
   "cell_type": "code",
   "execution_count": null,
   "metadata": {},
   "outputs": [],
   "source": []
  }
 ],
 "metadata": {
  "kernelspec": {
   "display_name": "Python 3",
   "language": "python",
   "name": "python3"
  },
  "language_info": {
   "codemirror_mode": {
    "name": "ipython",
    "version": 3
   },
   "file_extension": ".py",
   "mimetype": "text/x-python",
   "name": "python",
   "nbconvert_exporter": "python",
   "pygments_lexer": "ipython3",
   "version": "3.6.7"
  }
 },
 "nbformat": 4,
 "nbformat_minor": 2
}
