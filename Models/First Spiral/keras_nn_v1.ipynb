{
 "cells": [
  {
   "cell_type": "code",
   "execution_count": 1,
   "metadata": {},
   "outputs": [],
   "source": [
    "import tensorflow as tf\n",
    "import pandas as pd\n",
    "train = pd.read_csv(\"dataset_train_set.csv\")\n",
    "test = pd.read_csv(\"dataset_dev_set.csv\")"
   ]
  },
  {
   "cell_type": "code",
   "execution_count": 2,
   "metadata": {},
   "outputs": [],
   "source": [
    "X_train = train.drop('target',axis=1)\n",
    "y_train = train['target']\n",
    "X_test = test.drop('target',axis=1)\n",
    "y_test = test['target']"
   ]
  },
  {
   "cell_type": "code",
   "execution_count": 3,
   "metadata": {},
   "outputs": [
    {
     "data": {
      "text/html": [
       "<div>\n",
       "<style scoped>\n",
       "    .dataframe tbody tr th:only-of-type {\n",
       "        vertical-align: middle;\n",
       "    }\n",
       "\n",
       "    .dataframe tbody tr th {\n",
       "        vertical-align: top;\n",
       "    }\n",
       "\n",
       "    .dataframe thead th {\n",
       "        text-align: right;\n",
       "    }\n",
       "</style>\n",
       "<table border=\"1\" class=\"dataframe\">\n",
       "  <thead>\n",
       "    <tr style=\"text-align: right;\">\n",
       "      <th></th>\n",
       "      <th>hPos</th>\n",
       "      <th>hGSPG</th>\n",
       "      <th>hGCPG</th>\n",
       "      <th>hCSPG</th>\n",
       "      <th>hPtsPG</th>\n",
       "      <th>aPos</th>\n",
       "      <th>aGSPG</th>\n",
       "      <th>aGCPG</th>\n",
       "      <th>aCSPG</th>\n",
       "      <th>aPtsPG</th>\n",
       "    </tr>\n",
       "  </thead>\n",
       "  <tbody>\n",
       "    <tr>\n",
       "      <th>0</th>\n",
       "      <td>1.0</td>\n",
       "      <td>0.0</td>\n",
       "      <td>0.0</td>\n",
       "      <td>0.0</td>\n",
       "      <td>0.0</td>\n",
       "      <td>14.0</td>\n",
       "      <td>0.0</td>\n",
       "      <td>0.0</td>\n",
       "      <td>0.0</td>\n",
       "      <td>0.0</td>\n",
       "    </tr>\n",
       "    <tr>\n",
       "      <th>1</th>\n",
       "      <td>4.0</td>\n",
       "      <td>0.0</td>\n",
       "      <td>0.0</td>\n",
       "      <td>0.0</td>\n",
       "      <td>0.0</td>\n",
       "      <td>16.0</td>\n",
       "      <td>0.0</td>\n",
       "      <td>0.0</td>\n",
       "      <td>0.0</td>\n",
       "      <td>0.0</td>\n",
       "    </tr>\n",
       "    <tr>\n",
       "      <th>2</th>\n",
       "      <td>5.0</td>\n",
       "      <td>0.0</td>\n",
       "      <td>0.0</td>\n",
       "      <td>0.0</td>\n",
       "      <td>0.0</td>\n",
       "      <td>13.0</td>\n",
       "      <td>0.0</td>\n",
       "      <td>0.0</td>\n",
       "      <td>0.0</td>\n",
       "      <td>0.0</td>\n",
       "    </tr>\n",
       "    <tr>\n",
       "      <th>3</th>\n",
       "      <td>6.0</td>\n",
       "      <td>0.0</td>\n",
       "      <td>0.0</td>\n",
       "      <td>0.0</td>\n",
       "      <td>0.0</td>\n",
       "      <td>3.0</td>\n",
       "      <td>0.0</td>\n",
       "      <td>0.0</td>\n",
       "      <td>0.0</td>\n",
       "      <td>0.0</td>\n",
       "    </tr>\n",
       "    <tr>\n",
       "      <th>4</th>\n",
       "      <td>7.0</td>\n",
       "      <td>0.0</td>\n",
       "      <td>0.0</td>\n",
       "      <td>0.0</td>\n",
       "      <td>0.0</td>\n",
       "      <td>19.0</td>\n",
       "      <td>0.0</td>\n",
       "      <td>0.0</td>\n",
       "      <td>0.0</td>\n",
       "      <td>0.0</td>\n",
       "    </tr>\n",
       "  </tbody>\n",
       "</table>\n",
       "</div>"
      ],
      "text/plain": [
       "   hPos  hGSPG  hGCPG  hCSPG  hPtsPG  aPos  aGSPG  aGCPG  aCSPG  aPtsPG\n",
       "0   1.0    0.0    0.0    0.0     0.0  14.0    0.0    0.0    0.0     0.0\n",
       "1   4.0    0.0    0.0    0.0     0.0  16.0    0.0    0.0    0.0     0.0\n",
       "2   5.0    0.0    0.0    0.0     0.0  13.0    0.0    0.0    0.0     0.0\n",
       "3   6.0    0.0    0.0    0.0     0.0   3.0    0.0    0.0    0.0     0.0\n",
       "4   7.0    0.0    0.0    0.0     0.0  19.0    0.0    0.0    0.0     0.0"
      ]
     },
     "execution_count": 3,
     "metadata": {},
     "output_type": "execute_result"
    }
   ],
   "source": [
    "X_train.head()"
   ]
  },
  {
   "cell_type": "code",
   "execution_count": 4,
   "metadata": {},
   "outputs": [
    {
     "name": "stdout",
     "output_type": "stream",
     "text": [
      "(7086, 10)\n"
     ]
    },
    {
     "data": {
      "text/plain": [
       "array([0.55175298, 0.03941093, 0.03941093, 0.02246423, 0.04492846,\n",
       "       0.82762948, 0.02246423, 0.06187516, 0.01142917, 0.02246423])"
      ]
     },
     "execution_count": 4,
     "metadata": {},
     "output_type": "execute_result"
    }
   ],
   "source": [
    "print(X_train.shape)\n",
    "X_train_norm = tf.keras.utils.normalize(X_train.values,axis=1)\n",
    "X_train_norm[1000]"
   ]
  },
  {
   "cell_type": "code",
   "execution_count": 5,
   "metadata": {},
   "outputs": [],
   "source": [
    "X_test_norm = tf.keras.utils.normalize(X_test.values,axis=1)"
   ]
  },
  {
   "cell_type": "code",
   "execution_count": 6,
   "metadata": {},
   "outputs": [],
   "source": [
    "model = tf.keras.models.Sequential()\n",
    "#model.add(tf.keras.layers.Flatten())\n",
    "model.add(tf.keras.layers.Dense(12, activation = tf.nn.relu))\n",
    "# model.add(tf.keras.layers.Dense(128, activation = tf.nn.relu))\n",
    "model.add(tf.keras.layers.Dense(3, activation = tf.nn.softmax))"
   ]
  },
  {
   "cell_type": "code",
   "execution_count": 7,
   "metadata": {},
   "outputs": [],
   "source": [
    "model.compile(optimizer='adam',\n",
    "             loss='sparse_categorical_crossentropy',\n",
    "             metrics=['accuracy'])"
   ]
  },
  {
   "cell_type": "code",
   "execution_count": 8,
   "metadata": {
    "scrolled": true
   },
   "outputs": [
    {
     "name": "stdout",
     "output_type": "stream",
     "text": [
      "Train on 7086 samples, validate on 2280 samples\n",
      "Epoch 1/15\n",
      "7086/7086 [==============================] - 1s 121us/step - loss: 1.0707 - acc: 0.4407 - val_loss: 1.0468 - val_acc: 0.4539\n",
      "Epoch 2/15\n",
      "7086/7086 [==============================] - 1s 76us/step - loss: 1.0389 - acc: 0.4860 - val_loss: 1.0350 - val_acc: 0.4671\n",
      "Epoch 3/15\n",
      "7086/7086 [==============================] - 0s 69us/step - loss: 1.0307 - acc: 0.4883 - val_loss: 1.0257 - val_acc: 0.4842\n",
      "Epoch 4/15\n",
      "7086/7086 [==============================] - 0s 59us/step - loss: 1.0277 - acc: 0.4877 - val_loss: 1.0246 - val_acc: 0.4842\n",
      "Epoch 5/15\n",
      "7086/7086 [==============================] - 0s 60us/step - loss: 1.0257 - acc: 0.4855 - val_loss: 1.0253 - val_acc: 0.4868\n",
      "Epoch 6/15\n",
      "7086/7086 [==============================] - 0s 58us/step - loss: 1.0248 - acc: 0.4874 - val_loss: 1.0237 - val_acc: 0.4851\n",
      "Epoch 7/15\n",
      "7086/7086 [==============================] - 0s 59us/step - loss: 1.0246 - acc: 0.4853 - val_loss: 1.0235 - val_acc: 0.4846\n",
      "Epoch 8/15\n",
      "7086/7086 [==============================] - 0s 60us/step - loss: 1.0241 - acc: 0.4845 - val_loss: 1.0249 - val_acc: 0.4868\n",
      "Epoch 9/15\n",
      "7086/7086 [==============================] - 0s 68us/step - loss: 1.0238 - acc: 0.4856 - val_loss: 1.0231 - val_acc: 0.4842\n",
      "Epoch 10/15\n",
      "7086/7086 [==============================] - 0s 59us/step - loss: 1.0237 - acc: 0.4869 - val_loss: 1.0215 - val_acc: 0.4846\n",
      "Epoch 11/15\n",
      "7086/7086 [==============================] - 0s 69us/step - loss: 1.0234 - acc: 0.4891 - val_loss: 1.0216 - val_acc: 0.4851\n",
      "Epoch 12/15\n",
      "7086/7086 [==============================] - 1s 73us/step - loss: 1.0232 - acc: 0.4887 - val_loss: 1.0221 - val_acc: 0.4855\n",
      "Epoch 13/15\n",
      "7086/7086 [==============================] - 1s 80us/step - loss: 1.0229 - acc: 0.4865 - val_loss: 1.0221 - val_acc: 0.4851\n",
      "Epoch 14/15\n",
      "7086/7086 [==============================] - 1s 91us/step - loss: 1.0226 - acc: 0.4886 - val_loss: 1.0227 - val_acc: 0.4868\n",
      "Epoch 15/15\n",
      "7086/7086 [==============================] - 1s 90us/step - loss: 1.0225 - acc: 0.4907 - val_loss: 1.0224 - val_acc: 0.4855\n"
     ]
    },
    {
     "data": {
      "text/plain": [
       "<tensorflow.python.keras.callbacks.History at 0x7f6779388b38>"
      ]
     },
     "execution_count": 8,
     "metadata": {},
     "output_type": "execute_result"
    }
   ],
   "source": [
    "model.fit(X_train_norm, y_train.values, epochs=15, validation_data=(X_test_norm,y_test))"
   ]
  },
  {
   "cell_type": "code",
   "execution_count": 9,
   "metadata": {},
   "outputs": [
    {
     "name": "stdout",
     "output_type": "stream",
     "text": [
      "2280/2280 [==============================] - 0s 46us/step\n",
      "1.0224464933077495 0.4855263157894737\n"
     ]
    }
   ],
   "source": [
    "val_loss, val_acc = model.evaluate(X_test_norm, y_test)\n",
    "print(val_loss, val_acc)"
   ]
  },
  {
   "cell_type": "code",
   "execution_count": 10,
   "metadata": {},
   "outputs": [],
   "source": [
    "# 10 neurons, 15 epochs: 1.0258, 0.4895\n",
    "# 8, 15: 1.02149, 0.4908\n",
    "# 12, 15: 1.0203: 0.4895"
   ]
  },
  {
   "cell_type": "code",
   "execution_count": 13,
   "metadata": {},
   "outputs": [
    {
     "data": {
      "text/plain": [
       "2    1823\n",
       "0     457\n",
       "dtype: int64"
      ]
     },
     "execution_count": 13,
     "metadata": {},
     "output_type": "execute_result"
    }
   ],
   "source": [
    "preds = model.predict_classes(X_test_norm)\n",
    "pd.Series(list(preds)).value_counts()"
   ]
  },
  {
   "cell_type": "code",
   "execution_count": 14,
   "metadata": {},
   "outputs": [
    {
     "data": {
      "text/plain": [
       "0.7995614035087719"
      ]
     },
     "execution_count": 14,
     "metadata": {},
     "output_type": "execute_result"
    }
   ],
   "source": [
    "1823/(1823+457)"
   ]
  },
  {
   "cell_type": "code",
   "execution_count": null,
   "metadata": {},
   "outputs": [],
   "source": []
  }
 ],
 "metadata": {
  "kernelspec": {
   "display_name": "Python 3",
   "language": "python",
   "name": "python3"
  },
  "language_info": {
   "codemirror_mode": {
    "name": "ipython",
    "version": 3
   },
   "file_extension": ".py",
   "mimetype": "text/x-python",
   "name": "python",
   "nbconvert_exporter": "python",
   "pygments_lexer": "ipython3",
   "version": "3.6.7"
  }
 },
 "nbformat": 4,
 "nbformat_minor": 2
}
