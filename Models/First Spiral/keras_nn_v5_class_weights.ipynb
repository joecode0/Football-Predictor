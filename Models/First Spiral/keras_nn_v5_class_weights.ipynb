{
 "cells": [
  {
   "cell_type": "code",
   "execution_count": 1,
   "metadata": {},
   "outputs": [
    {
     "name": "stderr",
     "output_type": "stream",
     "text": [
      "Using TensorFlow backend.\n"
     ]
    }
   ],
   "source": [
    "import tensorflow as tf\n",
    "import pandas as pd\n",
    "import keras\n",
    "from keras import regularizers\n",
    "train = pd.read_csv(\"dataset_train_set.csv\")\n",
    "test = pd.read_csv(\"dataset_dev_set.csv\")"
   ]
  },
  {
   "cell_type": "code",
   "execution_count": 2,
   "metadata": {},
   "outputs": [],
   "source": [
    "X_train = train.drop('target',axis=1)\n",
    "y_train = train['target']\n",
    "X_test = test.drop('target',axis=1)\n",
    "y_test = test['target']"
   ]
  },
  {
   "cell_type": "code",
   "execution_count": 3,
   "metadata": {},
   "outputs": [
    {
     "data": {
      "text/html": [
       "<div>\n",
       "<style scoped>\n",
       "    .dataframe tbody tr th:only-of-type {\n",
       "        vertical-align: middle;\n",
       "    }\n",
       "\n",
       "    .dataframe tbody tr th {\n",
       "        vertical-align: top;\n",
       "    }\n",
       "\n",
       "    .dataframe thead th {\n",
       "        text-align: right;\n",
       "    }\n",
       "</style>\n",
       "<table border=\"1\" class=\"dataframe\">\n",
       "  <thead>\n",
       "    <tr style=\"text-align: right;\">\n",
       "      <th></th>\n",
       "      <th>hPos</th>\n",
       "      <th>hGSPG</th>\n",
       "      <th>hGCPG</th>\n",
       "      <th>hCSPG</th>\n",
       "      <th>hPtsPG</th>\n",
       "      <th>aPos</th>\n",
       "      <th>aGSPG</th>\n",
       "      <th>aGCPG</th>\n",
       "      <th>aCSPG</th>\n",
       "      <th>aPtsPG</th>\n",
       "    </tr>\n",
       "  </thead>\n",
       "  <tbody>\n",
       "    <tr>\n",
       "      <th>0</th>\n",
       "      <td>1.0</td>\n",
       "      <td>0.0</td>\n",
       "      <td>0.0</td>\n",
       "      <td>0.0</td>\n",
       "      <td>0.0</td>\n",
       "      <td>14.0</td>\n",
       "      <td>0.0</td>\n",
       "      <td>0.0</td>\n",
       "      <td>0.0</td>\n",
       "      <td>0.0</td>\n",
       "    </tr>\n",
       "    <tr>\n",
       "      <th>1</th>\n",
       "      <td>4.0</td>\n",
       "      <td>0.0</td>\n",
       "      <td>0.0</td>\n",
       "      <td>0.0</td>\n",
       "      <td>0.0</td>\n",
       "      <td>16.0</td>\n",
       "      <td>0.0</td>\n",
       "      <td>0.0</td>\n",
       "      <td>0.0</td>\n",
       "      <td>0.0</td>\n",
       "    </tr>\n",
       "    <tr>\n",
       "      <th>2</th>\n",
       "      <td>5.0</td>\n",
       "      <td>0.0</td>\n",
       "      <td>0.0</td>\n",
       "      <td>0.0</td>\n",
       "      <td>0.0</td>\n",
       "      <td>13.0</td>\n",
       "      <td>0.0</td>\n",
       "      <td>0.0</td>\n",
       "      <td>0.0</td>\n",
       "      <td>0.0</td>\n",
       "    </tr>\n",
       "    <tr>\n",
       "      <th>3</th>\n",
       "      <td>6.0</td>\n",
       "      <td>0.0</td>\n",
       "      <td>0.0</td>\n",
       "      <td>0.0</td>\n",
       "      <td>0.0</td>\n",
       "      <td>3.0</td>\n",
       "      <td>0.0</td>\n",
       "      <td>0.0</td>\n",
       "      <td>0.0</td>\n",
       "      <td>0.0</td>\n",
       "    </tr>\n",
       "    <tr>\n",
       "      <th>4</th>\n",
       "      <td>7.0</td>\n",
       "      <td>0.0</td>\n",
       "      <td>0.0</td>\n",
       "      <td>0.0</td>\n",
       "      <td>0.0</td>\n",
       "      <td>19.0</td>\n",
       "      <td>0.0</td>\n",
       "      <td>0.0</td>\n",
       "      <td>0.0</td>\n",
       "      <td>0.0</td>\n",
       "    </tr>\n",
       "  </tbody>\n",
       "</table>\n",
       "</div>"
      ],
      "text/plain": [
       "   hPos  hGSPG  hGCPG  hCSPG  hPtsPG  aPos  aGSPG  aGCPG  aCSPG  aPtsPG\n",
       "0   1.0    0.0    0.0    0.0     0.0  14.0    0.0    0.0    0.0     0.0\n",
       "1   4.0    0.0    0.0    0.0     0.0  16.0    0.0    0.0    0.0     0.0\n",
       "2   5.0    0.0    0.0    0.0     0.0  13.0    0.0    0.0    0.0     0.0\n",
       "3   6.0    0.0    0.0    0.0     0.0   3.0    0.0    0.0    0.0     0.0\n",
       "4   7.0    0.0    0.0    0.0     0.0  19.0    0.0    0.0    0.0     0.0"
      ]
     },
     "execution_count": 3,
     "metadata": {},
     "output_type": "execute_result"
    }
   ],
   "source": [
    "X_train.head()"
   ]
  },
  {
   "cell_type": "code",
   "execution_count": 4,
   "metadata": {},
   "outputs": [
    {
     "name": "stdout",
     "output_type": "stream",
     "text": [
      "(7086, 10)\n"
     ]
    },
    {
     "data": {
      "text/plain": [
       "array([0.55175298, 0.03941093, 0.03941093, 0.02246423, 0.04492846,\n",
       "       0.82762948, 0.02246423, 0.06187516, 0.01142917, 0.02246423])"
      ]
     },
     "execution_count": 4,
     "metadata": {},
     "output_type": "execute_result"
    }
   ],
   "source": [
    "print(X_train.shape)\n",
    "X_train_norm = tf.keras.utils.normalize(X_train.values,axis=1)\n",
    "X_train_norm[1000]"
   ]
  },
  {
   "cell_type": "code",
   "execution_count": 5,
   "metadata": {},
   "outputs": [],
   "source": [
    "X_test_norm = tf.keras.utils.normalize(X_test.values,axis=1)"
   ]
  },
  {
   "cell_type": "code",
   "execution_count": 6,
   "metadata": {},
   "outputs": [
    {
     "data": {
      "text/plain": [
       "2    3291\n",
       "1    1903\n",
       "0    1892\n",
       "Name: target, dtype: int64"
      ]
     },
     "execution_count": 6,
     "metadata": {},
     "output_type": "execute_result"
    }
   ],
   "source": [
    "y_train.value_counts()"
   ]
  },
  {
   "cell_type": "code",
   "execution_count": 7,
   "metadata": {},
   "outputs": [
    {
     "name": "stdout",
     "output_type": "stream",
     "text": [
      "1,1.7293746715712033,1.7394291754756872\n"
     ]
    }
   ],
   "source": [
    "whome = 1\n",
    "wdraw = 3291/1903\n",
    "waway = 3291/1892\n",
    "print(\"{},{},{}\".format(whome,wdraw,waway))"
   ]
  },
  {
   "cell_type": "code",
   "execution_count": 8,
   "metadata": {},
   "outputs": [],
   "source": [
    "class_weights = {0:1.7394,1:1.7294,2:1}"
   ]
  },
  {
   "cell_type": "code",
   "execution_count": 9,
   "metadata": {},
   "outputs": [],
   "source": [
    "model = tf.keras.models.Sequential()\n",
    "#model.add(tf.keras.layers.Flatten())\n",
    "model.add(tf.keras.layers.Dense(8, activation = tf.nn.relu))\n",
    "model.add(tf.keras.layers.Dense(8, activation = tf.nn.relu))\n",
    "model.add(tf.keras.layers.Dense(3, activation = tf.nn.softmax))"
   ]
  },
  {
   "cell_type": "code",
   "execution_count": 10,
   "metadata": {},
   "outputs": [],
   "source": [
    "model.compile(optimizer='adam',\n",
    "             loss='sparse_categorical_crossentropy',\n",
    "             metrics=['accuracy'])"
   ]
  },
  {
   "cell_type": "code",
   "execution_count": 11,
   "metadata": {
    "scrolled": true
   },
   "outputs": [
    {
     "name": "stdout",
     "output_type": "stream",
     "text": [
      "Train on 7086 samples, validate on 2280 samples\n",
      "Epoch 1/50\n",
      "7086/7086 [==============================] - 1s 134us/step - loss: 1.0831 - acc: 0.3844 - val_loss: 1.0595 - val_acc: 0.4675\n",
      "Epoch 2/50\n",
      "7086/7086 [==============================] - 0s 61us/step - loss: 1.0690 - acc: 0.4625 - val_loss: 1.0520 - val_acc: 0.4680\n",
      "Epoch 3/50\n",
      "7086/7086 [==============================] - 0s 58us/step - loss: 1.0659 - acc: 0.4539 - val_loss: 1.0496 - val_acc: 0.4684\n",
      "Epoch 4/50\n",
      "7086/7086 [==============================] - 0s 61us/step - loss: 1.0636 - acc: 0.4579 - val_loss: 1.0579 - val_acc: 0.4522\n",
      "Epoch 5/50\n",
      "7086/7086 [==============================] - 0s 58us/step - loss: 1.0635 - acc: 0.4474 - val_loss: 1.0538 - val_acc: 0.4588\n",
      "Epoch 6/50\n",
      "7086/7086 [==============================] - 0s 59us/step - loss: 1.0643 - acc: 0.4447 - val_loss: 1.0446 - val_acc: 0.4711\n",
      "Epoch 7/50\n",
      "7086/7086 [==============================] - 0s 58us/step - loss: 1.0631 - acc: 0.4531 - val_loss: 1.0509 - val_acc: 0.4610\n",
      "Epoch 8/50\n",
      "7086/7086 [==============================] - 0s 70us/step - loss: 1.0634 - acc: 0.4488 - val_loss: 1.0509 - val_acc: 0.4583\n",
      "Epoch 9/50\n",
      "7086/7086 [==============================] - 0s 64us/step - loss: 1.0631 - acc: 0.4450 - val_loss: 1.0519 - val_acc: 0.4583\n",
      "Epoch 10/50\n",
      "7086/7086 [==============================] - 1s 150us/step - loss: 1.0623 - acc: 0.4437 - val_loss: 1.0434 - val_acc: 0.4689\n",
      "Epoch 11/50\n",
      "7086/7086 [==============================] - 1s 104us/step - loss: 1.0627 - acc: 0.4491 - val_loss: 1.0442 - val_acc: 0.4689\n",
      "Epoch 12/50\n",
      "7086/7086 [==============================] - 0s 55us/step - loss: 1.0622 - acc: 0.4437 - val_loss: 1.0511 - val_acc: 0.4579\n",
      "Epoch 13/50\n",
      "7086/7086 [==============================] - 0s 45us/step - loss: 1.0624 - acc: 0.4509 - val_loss: 1.0421 - val_acc: 0.4737\n",
      "Epoch 14/50\n",
      "7086/7086 [==============================] - 0s 45us/step - loss: 1.0620 - acc: 0.4491 - val_loss: 1.0518 - val_acc: 0.4539\n",
      "Epoch 15/50\n",
      "7086/7086 [==============================] - 0s 57us/step - loss: 1.0619 - acc: 0.4512 - val_loss: 1.0587 - val_acc: 0.4439\n",
      "Epoch 16/50\n",
      "7086/7086 [==============================] - 0s 53us/step - loss: 1.0619 - acc: 0.4440 - val_loss: 1.0494 - val_acc: 0.4601\n",
      "Epoch 17/50\n",
      "7086/7086 [==============================] - 0s 45us/step - loss: 1.0616 - acc: 0.4471 - val_loss: 1.0415 - val_acc: 0.4675\n",
      "Epoch 18/50\n",
      "7086/7086 [==============================] - 0s 50us/step - loss: 1.0615 - acc: 0.4486 - val_loss: 1.0495 - val_acc: 0.4601\n",
      "Epoch 19/50\n",
      "7086/7086 [==============================] - 0s 45us/step - loss: 1.0614 - acc: 0.4502 - val_loss: 1.0513 - val_acc: 0.4522\n",
      "Epoch 20/50\n",
      "7086/7086 [==============================] - 0s 47us/step - loss: 1.0617 - acc: 0.4430 - val_loss: 1.0473 - val_acc: 0.4614\n",
      "Epoch 21/50\n",
      "7086/7086 [==============================] - 0s 47us/step - loss: 1.0617 - acc: 0.4455 - val_loss: 1.0426 - val_acc: 0.4680\n",
      "Epoch 22/50\n",
      "7086/7086 [==============================] - 0s 47us/step - loss: 1.0611 - acc: 0.4531 - val_loss: 1.0436 - val_acc: 0.4706\n",
      "Epoch 23/50\n",
      "7086/7086 [==============================] - 0s 47us/step - loss: 1.0611 - acc: 0.4517 - val_loss: 1.0445 - val_acc: 0.4583\n",
      "Epoch 24/50\n",
      "7086/7086 [==============================] - 0s 51us/step - loss: 1.0612 - acc: 0.4459 - val_loss: 1.0484 - val_acc: 0.4623\n",
      "Epoch 25/50\n",
      "7086/7086 [==============================] - 0s 50us/step - loss: 1.0610 - acc: 0.4461 - val_loss: 1.0397 - val_acc: 0.4693\n",
      "Epoch 26/50\n",
      "7086/7086 [==============================] - 0s 46us/step - loss: 1.0612 - acc: 0.4523 - val_loss: 1.0541 - val_acc: 0.4482\n",
      "Epoch 27/50\n",
      "7086/7086 [==============================] - 0s 50us/step - loss: 1.0608 - acc: 0.4426 - val_loss: 1.0450 - val_acc: 0.4645\n",
      "Epoch 28/50\n",
      "7086/7086 [==============================] - 0s 49us/step - loss: 1.0609 - acc: 0.4469 - val_loss: 1.0450 - val_acc: 0.4610\n",
      "Epoch 29/50\n",
      "7086/7086 [==============================] - 0s 49us/step - loss: 1.0603 - acc: 0.4526 - val_loss: 1.0482 - val_acc: 0.4539\n",
      "Epoch 30/50\n",
      "7086/7086 [==============================] - 0s 61us/step - loss: 1.0605 - acc: 0.4455 - val_loss: 1.0506 - val_acc: 0.4614\n",
      "Epoch 31/50\n",
      "7086/7086 [==============================] - 1s 97us/step - loss: 1.0604 - acc: 0.4491 - val_loss: 1.0422 - val_acc: 0.4658\n",
      "Epoch 32/50\n",
      "7086/7086 [==============================] - 1s 123us/step - loss: 1.0604 - acc: 0.4465 - val_loss: 1.0408 - val_acc: 0.4658\n",
      "Epoch 33/50\n",
      "7086/7086 [==============================] - 0s 49us/step - loss: 1.0606 - acc: 0.4467 - val_loss: 1.0492 - val_acc: 0.4623\n",
      "Epoch 34/50\n",
      "7086/7086 [==============================] - 1s 79us/step - loss: 1.0601 - acc: 0.4522 - val_loss: 1.0494 - val_acc: 0.4513\n",
      "Epoch 35/50\n",
      "7086/7086 [==============================] - 1s 110us/step - loss: 1.0604 - acc: 0.4506 - val_loss: 1.0526 - val_acc: 0.4526\n",
      "Epoch 36/50\n",
      "7086/7086 [==============================] - 1s 100us/step - loss: 1.0605 - acc: 0.4469 - val_loss: 1.0454 - val_acc: 0.4636\n",
      "Epoch 37/50\n",
      "7086/7086 [==============================] - 0s 45us/step - loss: 1.0598 - acc: 0.4499 - val_loss: 1.0439 - val_acc: 0.4610\n",
      "Epoch 38/50\n",
      "7086/7086 [==============================] - 0s 45us/step - loss: 1.0594 - acc: 0.4502 - val_loss: 1.0408 - val_acc: 0.4509\n",
      "Epoch 39/50\n",
      "7086/7086 [==============================] - 0s 45us/step - loss: 1.0607 - acc: 0.4503 - val_loss: 1.0452 - val_acc: 0.4697\n",
      "Epoch 40/50\n",
      "7086/7086 [==============================] - 0s 44us/step - loss: 1.0597 - acc: 0.4565 - val_loss: 1.0499 - val_acc: 0.4596\n",
      "Epoch 41/50\n",
      "7086/7086 [==============================] - 0s 43us/step - loss: 1.0598 - acc: 0.4506 - val_loss: 1.0479 - val_acc: 0.4548\n",
      "Epoch 42/50\n",
      "7086/7086 [==============================] - 0s 49us/step - loss: 1.0598 - acc: 0.4539 - val_loss: 1.0475 - val_acc: 0.4491\n",
      "Epoch 43/50\n",
      "7086/7086 [==============================] - 0s 48us/step - loss: 1.0600 - acc: 0.4479 - val_loss: 1.0498 - val_acc: 0.4596\n",
      "Epoch 44/50\n",
      "7086/7086 [==============================] - 0s 43us/step - loss: 1.0596 - acc: 0.4547 - val_loss: 1.0452 - val_acc: 0.4504\n",
      "Epoch 45/50\n",
      "7086/7086 [==============================] - 0s 42us/step - loss: 1.0600 - acc: 0.4498 - val_loss: 1.0461 - val_acc: 0.4636\n",
      "Epoch 46/50\n",
      "7086/7086 [==============================] - 0s 42us/step - loss: 1.0599 - acc: 0.4499 - val_loss: 1.0390 - val_acc: 0.4592\n",
      "Epoch 47/50\n",
      "7086/7086 [==============================] - 0s 44us/step - loss: 1.0592 - acc: 0.4509 - val_loss: 1.0431 - val_acc: 0.4654\n",
      "Epoch 48/50\n",
      "7086/7086 [==============================] - 0s 48us/step - loss: 1.0594 - acc: 0.4558 - val_loss: 1.0434 - val_acc: 0.4667\n",
      "Epoch 49/50\n",
      "7086/7086 [==============================] - 0s 45us/step - loss: 1.0597 - acc: 0.4534 - val_loss: 1.0427 - val_acc: 0.4610\n",
      "Epoch 50/50\n",
      "7086/7086 [==============================] - 0s 44us/step - loss: 1.0595 - acc: 0.4534 - val_loss: 1.0491 - val_acc: 0.4579\n"
     ]
    },
    {
     "data": {
      "text/plain": [
       "<tensorflow.python.keras.callbacks.History at 0x7f0b0179c2e8>"
      ]
     },
     "execution_count": 11,
     "metadata": {},
     "output_type": "execute_result"
    }
   ],
   "source": [
    "model.fit(X_train_norm, y_train.values, epochs=50, validation_data=(X_test_norm,y_test), class_weight=class_weights)"
   ]
  },
  {
   "cell_type": "code",
   "execution_count": 12,
   "metadata": {},
   "outputs": [
    {
     "name": "stdout",
     "output_type": "stream",
     "text": [
      "2280/2280 [==============================] - 0s 16us/step\n",
      "1.0491427066033348 0.45789473684210524\n"
     ]
    }
   ],
   "source": [
    "val_loss, val_acc = model.evaluate(X_test_norm, y_test)\n",
    "print(val_loss, val_acc)"
   ]
  },
  {
   "cell_type": "code",
   "execution_count": 13,
   "metadata": {},
   "outputs": [
    {
     "data": {
      "text/plain": [
       "2    979\n",
       "0    933\n",
       "1    368\n",
       "dtype: int64"
      ]
     },
     "execution_count": 13,
     "metadata": {},
     "output_type": "execute_result"
    }
   ],
   "source": [
    "predictions = model.predict_classes(X_test_norm)\n",
    "pd.Series(list(predictions)).value_counts()"
   ]
  },
  {
   "cell_type": "code",
   "execution_count": 14,
   "metadata": {},
   "outputs": [
    {
     "data": {
      "text/plain": [
       "2"
      ]
     },
     "execution_count": 14,
     "metadata": {},
     "output_type": "execute_result"
    }
   ],
   "source": [
    "predictions[0]"
   ]
  },
  {
   "cell_type": "code",
   "execution_count": null,
   "metadata": {},
   "outputs": [],
   "source": []
  }
 ],
 "metadata": {
  "kernelspec": {
   "display_name": "Python 3",
   "language": "python",
   "name": "python3"
  },
  "language_info": {
   "codemirror_mode": {
    "name": "ipython",
    "version": 3
   },
   "file_extension": ".py",
   "mimetype": "text/x-python",
   "name": "python",
   "nbconvert_exporter": "python",
   "pygments_lexer": "ipython3",
   "version": "3.6.7"
  }
 },
 "nbformat": 4,
 "nbformat_minor": 2
}
