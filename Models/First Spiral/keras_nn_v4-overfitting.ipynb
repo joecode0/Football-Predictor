{
 "cells": [
  {
   "cell_type": "code",
   "execution_count": 1,
   "metadata": {},
   "outputs": [
    {
     "name": "stderr",
     "output_type": "stream",
     "text": [
      "Using TensorFlow backend.\n"
     ]
    }
   ],
   "source": [
    "import tensorflow as tf\n",
    "import pandas as pd\n",
    "import keras\n",
    "from keras import regularizers\n",
    "train = pd.read_csv(\"dataset_train_set.csv\")\n",
    "test = pd.read_csv(\"dataset_dev_set.csv\")"
   ]
  },
  {
   "cell_type": "code",
   "execution_count": 2,
   "metadata": {},
   "outputs": [],
   "source": [
    "X_train = train.drop('target',axis=1)\n",
    "y_train = train['target']\n",
    "X_test = test.drop('target',axis=1)\n",
    "y_test = test['target']"
   ]
  },
  {
   "cell_type": "code",
   "execution_count": 3,
   "metadata": {},
   "outputs": [
    {
     "data": {
      "text/html": [
       "<div>\n",
       "<style scoped>\n",
       "    .dataframe tbody tr th:only-of-type {\n",
       "        vertical-align: middle;\n",
       "    }\n",
       "\n",
       "    .dataframe tbody tr th {\n",
       "        vertical-align: top;\n",
       "    }\n",
       "\n",
       "    .dataframe thead th {\n",
       "        text-align: right;\n",
       "    }\n",
       "</style>\n",
       "<table border=\"1\" class=\"dataframe\">\n",
       "  <thead>\n",
       "    <tr style=\"text-align: right;\">\n",
       "      <th></th>\n",
       "      <th>hPos</th>\n",
       "      <th>hGSPG</th>\n",
       "      <th>hGCPG</th>\n",
       "      <th>hCSPG</th>\n",
       "      <th>hPtsPG</th>\n",
       "      <th>aPos</th>\n",
       "      <th>aGSPG</th>\n",
       "      <th>aGCPG</th>\n",
       "      <th>aCSPG</th>\n",
       "      <th>aPtsPG</th>\n",
       "    </tr>\n",
       "  </thead>\n",
       "  <tbody>\n",
       "    <tr>\n",
       "      <th>0</th>\n",
       "      <td>1.0</td>\n",
       "      <td>0.0</td>\n",
       "      <td>0.0</td>\n",
       "      <td>0.0</td>\n",
       "      <td>0.0</td>\n",
       "      <td>14.0</td>\n",
       "      <td>0.0</td>\n",
       "      <td>0.0</td>\n",
       "      <td>0.0</td>\n",
       "      <td>0.0</td>\n",
       "    </tr>\n",
       "    <tr>\n",
       "      <th>1</th>\n",
       "      <td>4.0</td>\n",
       "      <td>0.0</td>\n",
       "      <td>0.0</td>\n",
       "      <td>0.0</td>\n",
       "      <td>0.0</td>\n",
       "      <td>16.0</td>\n",
       "      <td>0.0</td>\n",
       "      <td>0.0</td>\n",
       "      <td>0.0</td>\n",
       "      <td>0.0</td>\n",
       "    </tr>\n",
       "    <tr>\n",
       "      <th>2</th>\n",
       "      <td>5.0</td>\n",
       "      <td>0.0</td>\n",
       "      <td>0.0</td>\n",
       "      <td>0.0</td>\n",
       "      <td>0.0</td>\n",
       "      <td>13.0</td>\n",
       "      <td>0.0</td>\n",
       "      <td>0.0</td>\n",
       "      <td>0.0</td>\n",
       "      <td>0.0</td>\n",
       "    </tr>\n",
       "    <tr>\n",
       "      <th>3</th>\n",
       "      <td>6.0</td>\n",
       "      <td>0.0</td>\n",
       "      <td>0.0</td>\n",
       "      <td>0.0</td>\n",
       "      <td>0.0</td>\n",
       "      <td>3.0</td>\n",
       "      <td>0.0</td>\n",
       "      <td>0.0</td>\n",
       "      <td>0.0</td>\n",
       "      <td>0.0</td>\n",
       "    </tr>\n",
       "    <tr>\n",
       "      <th>4</th>\n",
       "      <td>7.0</td>\n",
       "      <td>0.0</td>\n",
       "      <td>0.0</td>\n",
       "      <td>0.0</td>\n",
       "      <td>0.0</td>\n",
       "      <td>19.0</td>\n",
       "      <td>0.0</td>\n",
       "      <td>0.0</td>\n",
       "      <td>0.0</td>\n",
       "      <td>0.0</td>\n",
       "    </tr>\n",
       "  </tbody>\n",
       "</table>\n",
       "</div>"
      ],
      "text/plain": [
       "   hPos  hGSPG  hGCPG  hCSPG  hPtsPG  aPos  aGSPG  aGCPG  aCSPG  aPtsPG\n",
       "0   1.0    0.0    0.0    0.0     0.0  14.0    0.0    0.0    0.0     0.0\n",
       "1   4.0    0.0    0.0    0.0     0.0  16.0    0.0    0.0    0.0     0.0\n",
       "2   5.0    0.0    0.0    0.0     0.0  13.0    0.0    0.0    0.0     0.0\n",
       "3   6.0    0.0    0.0    0.0     0.0   3.0    0.0    0.0    0.0     0.0\n",
       "4   7.0    0.0    0.0    0.0     0.0  19.0    0.0    0.0    0.0     0.0"
      ]
     },
     "execution_count": 3,
     "metadata": {},
     "output_type": "execute_result"
    }
   ],
   "source": [
    "X_train.head()"
   ]
  },
  {
   "cell_type": "code",
   "execution_count": 4,
   "metadata": {},
   "outputs": [
    {
     "name": "stdout",
     "output_type": "stream",
     "text": [
      "(7086, 10)\n"
     ]
    },
    {
     "data": {
      "text/plain": [
       "array([0.55175298, 0.03941093, 0.03941093, 0.02246423, 0.04492846,\n",
       "       0.82762948, 0.02246423, 0.06187516, 0.01142917, 0.02246423])"
      ]
     },
     "execution_count": 4,
     "metadata": {},
     "output_type": "execute_result"
    }
   ],
   "source": [
    "print(X_train.shape)\n",
    "X_train_norm = tf.keras.utils.normalize(X_train.values,axis=1)\n",
    "X_train_norm[1000]"
   ]
  },
  {
   "cell_type": "code",
   "execution_count": 5,
   "metadata": {},
   "outputs": [],
   "source": [
    "X_test_norm = tf.keras.utils.normalize(X_test.values,axis=1)"
   ]
  },
  {
   "cell_type": "code",
   "execution_count": 6,
   "metadata": {},
   "outputs": [],
   "source": [
    "model = tf.keras.models.Sequential()\n",
    "#model.add(tf.keras.layers.Flatten())\n",
    "model.add(tf.keras.layers.Dense(8, kernel_regularizer=regularizers.l2(0.1), activation = tf.nn.relu))\n",
    "model.add(tf.keras.layers.Dense(8, kernel_regularizer=regularizers.l2(0.1), activation = tf.nn.relu))\n",
    "model.add(tf.keras.layers.Dense(3, activation = tf.nn.softmax))"
   ]
  },
  {
   "cell_type": "code",
   "execution_count": 7,
   "metadata": {},
   "outputs": [],
   "source": [
    "model.compile(optimizer='adam',\n",
    "             loss='sparse_categorical_crossentropy',\n",
    "             metrics=['accuracy'])"
   ]
  },
  {
   "cell_type": "code",
   "execution_count": 8,
   "metadata": {
    "scrolled": true
   },
   "outputs": [
    {
     "name": "stdout",
     "output_type": "stream",
     "text": [
      "Train on 7086 samples, validate on 2280 samples\n",
      "Epoch 1/20\n",
      "7086/7086 [==============================] - 1s 152us/step - loss: 2.1282 - acc: 0.4447 - val_loss: 1.6169 - val_acc: 0.4491\n",
      "Epoch 2/20\n",
      "7086/7086 [==============================] - 1s 71us/step - loss: 1.3733 - acc: 0.4644 - val_loss: 1.2160 - val_acc: 0.4491\n",
      "Epoch 3/20\n",
      "7086/7086 [==============================] - 0s 68us/step - loss: 1.1389 - acc: 0.4644 - val_loss: 1.1013 - val_acc: 0.4491\n",
      "Epoch 4/20\n",
      "7086/7086 [==============================] - 1s 85us/step - loss: 1.0770 - acc: 0.4644 - val_loss: 1.0753 - val_acc: 0.4491\n",
      "Epoch 5/20\n",
      "7086/7086 [==============================] - 1s 86us/step - loss: 1.0644 - acc: 0.4644 - val_loss: 1.0714 - val_acc: 0.4491\n",
      "Epoch 6/20\n",
      "7086/7086 [==============================] - 1s 96us/step - loss: 1.0624 - acc: 0.4644 - val_loss: 1.0707 - val_acc: 0.4491\n",
      "Epoch 7/20\n",
      "7086/7086 [==============================] - 1s 77us/step - loss: 1.0620 - acc: 0.4644 - val_loss: 1.0704 - val_acc: 0.4491\n",
      "Epoch 8/20\n",
      "7086/7086 [==============================] - 1s 82us/step - loss: 1.0621 - acc: 0.4644 - val_loss: 1.0702 - val_acc: 0.4491\n",
      "Epoch 9/20\n",
      "7086/7086 [==============================] - 1s 126us/step - loss: 1.0620 - acc: 0.4644 - val_loss: 1.0704 - val_acc: 0.4491\n",
      "Epoch 10/20\n",
      "7086/7086 [==============================] - 1s 76us/step - loss: 1.0620 - acc: 0.4644 - val_loss: 1.0700 - val_acc: 0.4491\n",
      "Epoch 11/20\n",
      "7086/7086 [==============================] - 1s 88us/step - loss: 1.0621 - acc: 0.4644 - val_loss: 1.0701 - val_acc: 0.4491\n",
      "Epoch 12/20\n",
      "7086/7086 [==============================] - 1s 130us/step - loss: 1.0620 - acc: 0.4644 - val_loss: 1.0703 - val_acc: 0.4491\n",
      "Epoch 13/20\n",
      "7086/7086 [==============================] - 1s 133us/step - loss: 1.0621 - acc: 0.4644 - val_loss: 1.0705 - val_acc: 0.4491\n",
      "Epoch 14/20\n",
      "7086/7086 [==============================] - 0s 68us/step - loss: 1.0621 - acc: 0.4644 - val_loss: 1.0700 - val_acc: 0.4491\n",
      "Epoch 15/20\n",
      "7086/7086 [==============================] - 1s 117us/step - loss: 1.0622 - acc: 0.4644 - val_loss: 1.0702 - val_acc: 0.4491\n",
      "Epoch 16/20\n",
      "7086/7086 [==============================] - 1s 150us/step - loss: 1.0620 - acc: 0.4644 - val_loss: 1.0709 - val_acc: 0.4491\n",
      "Epoch 17/20\n",
      "7086/7086 [==============================] - 0s 67us/step - loss: 1.0620 - acc: 0.4644 - val_loss: 1.0704 - val_acc: 0.4491\n",
      "Epoch 18/20\n",
      "7086/7086 [==============================] - 1s 145us/step - loss: 1.0621 - acc: 0.4644 - val_loss: 1.0706 - val_acc: 0.4491\n",
      "Epoch 19/20\n",
      "7086/7086 [==============================] - 0s 63us/step - loss: 1.0621 - acc: 0.4644 - val_loss: 1.0707 - val_acc: 0.4491\n",
      "Epoch 20/20\n",
      "7086/7086 [==============================] - 1s 126us/step - loss: 1.0620 - acc: 0.4644 - val_loss: 1.0702 - val_acc: 0.4491\n"
     ]
    },
    {
     "data": {
      "text/plain": [
       "<tensorflow.python.keras.callbacks.History at 0x7f9da253bda0>"
      ]
     },
     "execution_count": 8,
     "metadata": {},
     "output_type": "execute_result"
    }
   ],
   "source": [
    "model.fit(X_train_norm, y_train.values, epochs=20, validation_data=(X_test_norm,y_test))"
   ]
  },
  {
   "cell_type": "code",
   "execution_count": 9,
   "metadata": {},
   "outputs": [
    {
     "name": "stdout",
     "output_type": "stream",
     "text": [
      "2280/2280 [==============================] - 0s 24us/step\n",
      "1.0701616142925463 0.44912280701754387\n"
     ]
    }
   ],
   "source": [
    "val_loss, val_acc = model.evaluate(X_test_norm, y_test)\n",
    "print(val_loss, val_acc)"
   ]
  },
  {
   "cell_type": "code",
   "execution_count": 10,
   "metadata": {},
   "outputs": [
    {
     "data": {
      "text/plain": [
       "2    2280\n",
       "dtype: int64"
      ]
     },
     "execution_count": 10,
     "metadata": {},
     "output_type": "execute_result"
    }
   ],
   "source": [
    "predictions = model.predict_classes(X_test_norm)\n",
    "pd.Series(list(predictions)).value_counts()"
   ]
  },
  {
   "cell_type": "code",
   "execution_count": 11,
   "metadata": {},
   "outputs": [
    {
     "data": {
      "text/plain": [
       "2"
      ]
     },
     "execution_count": 11,
     "metadata": {},
     "output_type": "execute_result"
    }
   ],
   "source": [
    "predictions[0]"
   ]
  },
  {
   "cell_type": "code",
   "execution_count": null,
   "metadata": {},
   "outputs": [],
   "source": []
  }
 ],
 "metadata": {
  "kernelspec": {
   "display_name": "Python 3",
   "language": "python",
   "name": "python3"
  },
  "language_info": {
   "codemirror_mode": {
    "name": "ipython",
    "version": 3
   },
   "file_extension": ".py",
   "mimetype": "text/x-python",
   "name": "python",
   "nbconvert_exporter": "python",
   "pygments_lexer": "ipython3",
   "version": "3.6.7"
  }
 },
 "nbformat": 4,
 "nbformat_minor": 2
}
