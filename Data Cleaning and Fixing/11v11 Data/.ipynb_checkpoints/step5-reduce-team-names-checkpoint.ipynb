{
 "cells": [
  {
   "cell_type": "code",
   "execution_count": 8,
   "metadata": {},
   "outputs": [],
   "source": [
    "import pandas as pd"
   ]
  },
  {
   "cell_type": "code",
   "execution_count": 13,
   "metadata": {},
   "outputs": [],
   "source": [
    "df = pd.read_csv(\"all_match_data_fix4.csv\")"
   ]
  },
  {
   "cell_type": "code",
   "execution_count": 14,
   "metadata": {},
   "outputs": [
    {
     "data": {
      "text/plain": [
       "49"
      ]
     },
     "execution_count": 14,
     "metadata": {},
     "output_type": "execute_result"
    }
   ],
   "source": [
    "len(set(df['Home Team'].tolist()))"
   ]
  },
  {
   "cell_type": "code",
   "execution_count": 15,
   "metadata": {},
   "outputs": [],
   "source": [
    "def replace_names(row,col):\n",
    "    team = row[col]\n",
    "    if team == \"afc bournemouth\":\n",
    "        return \"bournemouth\"\n",
    "    elif team == \"birmingham city\":\n",
    "        return \"birmingham\"\n",
    "    elif team == \"blackburn rovers\":\n",
    "        return \"blackburn\"\n",
    "    elif team == \"bolton wanderers\":\n",
    "        return \"bolton\"\n",
    "    elif team == \"bradford city\":\n",
    "        return \"bradford\"\n",
    "    elif team == \"brighton and hove albion\":\n",
    "        return \"brighton\"\n",
    "    elif team == \"cardiff city\":\n",
    "        return \"cardiff\"\n",
    "    elif team == \"charlton athletic\":\n",
    "        return \"charlton\"\n",
    "    elif team == \"coventry city\":\n",
    "        return \"coventry\"\n",
    "    elif team == \"derby county\":\n",
    "        return \"derby\"\n",
    "    elif team == \"huddersfield town\":\n",
    "        return \"huddersfield\"\n",
    "    elif team == \"hull city\":\n",
    "        return \"hull\"\n",
    "    elif team == \"ipswich town\":\n",
    "        return \"ipswich\"\n",
    "    elif team == \"leeds united\":\n",
    "        return \"leeds\"\n",
    "    elif team == \"leicester city\":\n",
    "        return \"leicester\"\n",
    "    elif team == \"manchester city\":\n",
    "        return \"man city\"\n",
    "    elif team == \"manchester united\":\n",
    "        return \"man utd\"\n",
    "    elif team == \"newcastle united\":\n",
    "        return \"newcastle\"\n",
    "    elif team == \"norwich city\":\n",
    "        return \"norwich\"\n",
    "    elif team == \"oldham athletic\":\n",
    "        return \"oldham\"\n",
    "    elif team == \"queens park rangers\":\n",
    "        return \"qpr\"\n",
    "    elif team == \"sheffield united\":\n",
    "        return \"sheffield utd\"\n",
    "    elif team == \"sheffield wednesday\":\n",
    "        return \"sheffield wed\"\n",
    "    elif team == \"stoke city\":\n",
    "        return \"stoke\"\n",
    "    elif team == \"swansea city\":\n",
    "        return \"swansea\"\n",
    "    elif team == \"swindon town\":\n",
    "        return \"swindon\"\n",
    "    elif team == \"tottenham hotspur\":\n",
    "        return \"spurs\"\n",
    "    elif team == \"west bromwich albion\":\n",
    "        return \"west brom\"\n",
    "    elif team == \"west ham united\":\n",
    "        return \"west ham\"\n",
    "    elif team == \"wigan athletic\":\n",
    "        return \"wigan\"\n",
    "    elif team == \"wolverhampton wanderers\":\n",
    "        return \"wolves\"\n",
    "    else:\n",
    "        return team"
   ]
  },
  {
   "cell_type": "code",
   "execution_count": 16,
   "metadata": {},
   "outputs": [
    {
     "data": {
      "text/plain": [
       "49"
      ]
     },
     "execution_count": 16,
     "metadata": {},
     "output_type": "execute_result"
    }
   ],
   "source": [
    "df['Home Team'] = df.apply(replace_names,args=('Home Team',),axis=1)\n",
    "df['Away Team'] = df.apply(replace_names,args=('Away Team',),axis=1)\n",
    "len(set(df['Home Team'].tolist()))"
   ]
  },
  {
   "cell_type": "code",
   "execution_count": 17,
   "metadata": {},
   "outputs": [
    {
     "data": {
      "text/html": [
       "<div>\n",
       "<style scoped>\n",
       "    .dataframe tbody tr th:only-of-type {\n",
       "        vertical-align: middle;\n",
       "    }\n",
       "\n",
       "    .dataframe tbody tr th {\n",
       "        vertical-align: top;\n",
       "    }\n",
       "\n",
       "    .dataframe thead th {\n",
       "        text-align: right;\n",
       "    }\n",
       "</style>\n",
       "<table border=\"1\" class=\"dataframe\">\n",
       "  <thead>\n",
       "    <tr style=\"text-align: right;\">\n",
       "      <th></th>\n",
       "      <th>11v11 ID</th>\n",
       "      <th>Date</th>\n",
       "      <th>Home Team</th>\n",
       "      <th>Away Team</th>\n",
       "      <th>Stadium</th>\n",
       "      <th>Referee</th>\n",
       "      <th>Home Players</th>\n",
       "      <th>Away Players</th>\n",
       "      <th>Home Scorers</th>\n",
       "      <th>Away Scorers</th>\n",
       "    </tr>\n",
       "  </thead>\n",
       "  <tbody>\n",
       "    <tr>\n",
       "      <th>0</th>\n",
       "      <td>20787</td>\n",
       "      <td>15081992</td>\n",
       "      <td>arsenal</td>\n",
       "      <td>norwich</td>\n",
       "      <td>highbury</td>\n",
       "      <td>alan gunn</td>\n",
       "      <td>['5(90)', '14(90)', '31(90)', '484(90)', '20(9...</td>\n",
       "      <td>['38002(90)', '24730(90)', '26985(90)', '4690(...</td>\n",
       "      <td>['196', '484']</td>\n",
       "      <td>['511', '2266', '2266', '38680']</td>\n",
       "    </tr>\n",
       "    <tr>\n",
       "      <th>1</th>\n",
       "      <td>20788</td>\n",
       "      <td>15081992</td>\n",
       "      <td>chelsea</td>\n",
       "      <td>oldham</td>\n",
       "      <td>stamford bridge</td>\n",
       "      <td>jim borrett</td>\n",
       "      <td>['4048(90)', '35852(90)', '24035(90)', '4755(9...</td>\n",
       "      <td>['1388(90)', '34467(90)', '76(90)', '1550(90)'...</td>\n",
       "      <td>['37518']</td>\n",
       "      <td>['1427']</td>\n",
       "    </tr>\n",
       "    <tr>\n",
       "      <th>2</th>\n",
       "      <td>20789</td>\n",
       "      <td>15081992</td>\n",
       "      <td>coventry</td>\n",
       "      <td>middlesbrough</td>\n",
       "      <td>highfield road</td>\n",
       "      <td>howard king</td>\n",
       "      <td>['151(90)', '6177(90)', '25821(90)', '25248(90...</td>\n",
       "      <td>['25259(90)', '3723(90)', '34052(90)', '3471(9...</td>\n",
       "      <td>['1062', '5386']</td>\n",
       "      <td>['11296']</td>\n",
       "    </tr>\n",
       "    <tr>\n",
       "      <th>3</th>\n",
       "      <td>20790</td>\n",
       "      <td>15081992</td>\n",
       "      <td>crystal palace</td>\n",
       "      <td>blackburn</td>\n",
       "      <td>selhurst park</td>\n",
       "      <td>roger milford</td>\n",
       "      <td>['234(90)', '34632(90)', '36445(90)', '995(81)...</td>\n",
       "      <td>['5223(90)', '27669(90)', '3482(90)', '302(90)...</td>\n",
       "      <td>['43', '2074', '37263']</td>\n",
       "      <td>['362', '362', '448']</td>\n",
       "    </tr>\n",
       "    <tr>\n",
       "      <th>4</th>\n",
       "      <td>20791</td>\n",
       "      <td>15081992</td>\n",
       "      <td>everton</td>\n",
       "      <td>sheffield wed</td>\n",
       "      <td>goodison park</td>\n",
       "      <td>kelvin morton</td>\n",
       "      <td>['2448(90)', '32094(90)', '4172(90)', '188(90)...</td>\n",
       "      <td>['25058(90)', '25496(90)', '15912(90)', '34286...</td>\n",
       "      <td>['400']</td>\n",
       "      <td>['34286']</td>\n",
       "    </tr>\n",
       "  </tbody>\n",
       "</table>\n",
       "</div>"
      ],
      "text/plain": [
       "   11v11 ID      Date       Home Team      Away Team          Stadium  \\\n",
       "0     20787  15081992         arsenal        norwich         highbury   \n",
       "1     20788  15081992         chelsea         oldham  stamford bridge   \n",
       "2     20789  15081992        coventry  middlesbrough   highfield road   \n",
       "3     20790  15081992  crystal palace      blackburn    selhurst park   \n",
       "4     20791  15081992         everton  sheffield wed    goodison park   \n",
       "\n",
       "         Referee                                       Home Players  \\\n",
       "0      alan gunn  ['5(90)', '14(90)', '31(90)', '484(90)', '20(9...   \n",
       "1    jim borrett  ['4048(90)', '35852(90)', '24035(90)', '4755(9...   \n",
       "2    howard king  ['151(90)', '6177(90)', '25821(90)', '25248(90...   \n",
       "3  roger milford  ['234(90)', '34632(90)', '36445(90)', '995(81)...   \n",
       "4  kelvin morton  ['2448(90)', '32094(90)', '4172(90)', '188(90)...   \n",
       "\n",
       "                                        Away Players             Home Scorers  \\\n",
       "0  ['38002(90)', '24730(90)', '26985(90)', '4690(...           ['196', '484']   \n",
       "1  ['1388(90)', '34467(90)', '76(90)', '1550(90)'...                ['37518']   \n",
       "2  ['25259(90)', '3723(90)', '34052(90)', '3471(9...         ['1062', '5386']   \n",
       "3  ['5223(90)', '27669(90)', '3482(90)', '302(90)...  ['43', '2074', '37263']   \n",
       "4  ['25058(90)', '25496(90)', '15912(90)', '34286...                  ['400']   \n",
       "\n",
       "                       Away Scorers  \n",
       "0  ['511', '2266', '2266', '38680']  \n",
       "1                          ['1427']  \n",
       "2                         ['11296']  \n",
       "3             ['362', '362', '448']  \n",
       "4                         ['34286']  "
      ]
     },
     "execution_count": 17,
     "metadata": {},
     "output_type": "execute_result"
    }
   ],
   "source": [
    "df.head()"
   ]
  },
  {
   "cell_type": "code",
   "execution_count": 18,
   "metadata": {},
   "outputs": [],
   "source": [
    "df.to_csv(\"all_match_data_fix5.csv\",index=False)"
   ]
  },
  {
   "cell_type": "code",
   "execution_count": null,
   "metadata": {},
   "outputs": [],
   "source": []
  }
 ],
 "metadata": {
  "kernelspec": {
   "display_name": "Python 3",
   "language": "python",
   "name": "python3"
  },
  "language_info": {
   "codemirror_mode": {
    "name": "ipython",
    "version": 3
   },
   "file_extension": ".py",
   "mimetype": "text/x-python",
   "name": "python",
   "nbconvert_exporter": "python",
   "pygments_lexer": "ipython3",
   "version": "3.6.5"
  }
 },
 "nbformat": 4,
 "nbformat_minor": 2
}
