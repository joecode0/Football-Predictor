{
 "cells": [
  {
   "cell_type": "code",
   "execution_count": 1,
   "metadata": {},
   "outputs": [],
   "source": [
    "import pandas as pd\n",
    "import numpy as np"
   ]
  },
  {
   "cell_type": "code",
   "execution_count": 2,
   "metadata": {},
   "outputs": [],
   "source": [
    "df = pd.read_csv(\"all_match_data_fix3.csv\")"
   ]
  },
  {
   "cell_type": "code",
   "execution_count": 7,
   "metadata": {},
   "outputs": [],
   "source": [
    "def lower_case(row):\n",
    "    s = row['Stadium']\n",
    "    return s.lower()"
   ]
  },
  {
   "cell_type": "code",
   "execution_count": 8,
   "metadata": {},
   "outputs": [],
   "source": [
    "df['Stadium'] = df.apply(lower_case,axis=1)"
   ]
  },
  {
   "cell_type": "code",
   "execution_count": 9,
   "metadata": {},
   "outputs": [],
   "source": [
    "def lower_case2(row):\n",
    "    r = row['Referee']\n",
    "    return r.lower()"
   ]
  },
  {
   "cell_type": "code",
   "execution_count": 10,
   "metadata": {},
   "outputs": [],
   "source": [
    "df['Referee'] = df.apply(lower_case2,axis=1)"
   ]
  },
  {
   "cell_type": "code",
   "execution_count": 11,
   "metadata": {},
   "outputs": [
    {
     "data": {
      "text/html": [
       "<div>\n",
       "<style scoped>\n",
       "    .dataframe tbody tr th:only-of-type {\n",
       "        vertical-align: middle;\n",
       "    }\n",
       "\n",
       "    .dataframe tbody tr th {\n",
       "        vertical-align: top;\n",
       "    }\n",
       "\n",
       "    .dataframe thead th {\n",
       "        text-align: right;\n",
       "    }\n",
       "</style>\n",
       "<table border=\"1\" class=\"dataframe\">\n",
       "  <thead>\n",
       "    <tr style=\"text-align: right;\">\n",
       "      <th></th>\n",
       "      <th>11v11 ID</th>\n",
       "      <th>Date</th>\n",
       "      <th>Home Team</th>\n",
       "      <th>Away Team</th>\n",
       "      <th>Stadium</th>\n",
       "      <th>Referee</th>\n",
       "      <th>Home Players</th>\n",
       "      <th>Away Players</th>\n",
       "      <th>Home Scorers</th>\n",
       "      <th>Away Scorers</th>\n",
       "    </tr>\n",
       "  </thead>\n",
       "  <tbody>\n",
       "    <tr>\n",
       "      <th>0</th>\n",
       "      <td>20787</td>\n",
       "      <td>15081992</td>\n",
       "      <td>arsenal</td>\n",
       "      <td>norwich city</td>\n",
       "      <td>highbury</td>\n",
       "      <td>alan gunn</td>\n",
       "      <td>['5(90)', '14(90)', '31(90)', '484(90)', '20(9...</td>\n",
       "      <td>['38002(90)', '24730(90)', '26985(90)', '4690(...</td>\n",
       "      <td>['196', '484']</td>\n",
       "      <td>['511', '2266', '2266', '38680']</td>\n",
       "    </tr>\n",
       "    <tr>\n",
       "      <th>1</th>\n",
       "      <td>20788</td>\n",
       "      <td>15081992</td>\n",
       "      <td>chelsea</td>\n",
       "      <td>oldham athletic</td>\n",
       "      <td>stamford bridge</td>\n",
       "      <td>jim borrett</td>\n",
       "      <td>['4048(90)', '35852(90)', '24035(90)', '4755(9...</td>\n",
       "      <td>['1388(90)', '34467(90)', '76(90)', '1550(90)'...</td>\n",
       "      <td>['37518']</td>\n",
       "      <td>['1427']</td>\n",
       "    </tr>\n",
       "    <tr>\n",
       "      <th>2</th>\n",
       "      <td>20789</td>\n",
       "      <td>15081992</td>\n",
       "      <td>coventry city</td>\n",
       "      <td>middlesbrough</td>\n",
       "      <td>highfield road</td>\n",
       "      <td>howard king</td>\n",
       "      <td>['151(90)', '6177(90)', '25821(90)', '25248(90...</td>\n",
       "      <td>['25259(90)', '3723(90)', '34052(90)', '3471(9...</td>\n",
       "      <td>['1062', '5386']</td>\n",
       "      <td>['11296']</td>\n",
       "    </tr>\n",
       "    <tr>\n",
       "      <th>3</th>\n",
       "      <td>20790</td>\n",
       "      <td>15081992</td>\n",
       "      <td>crystal palace</td>\n",
       "      <td>blackburn rovers</td>\n",
       "      <td>selhurst park</td>\n",
       "      <td>roger milford</td>\n",
       "      <td>['234(90)', '34632(90)', '36445(90)', '995(81)...</td>\n",
       "      <td>['5223(90)', '27669(90)', '3482(90)', '302(90)...</td>\n",
       "      <td>['43', '2074', '37263']</td>\n",
       "      <td>['362', '362', '448']</td>\n",
       "    </tr>\n",
       "    <tr>\n",
       "      <th>4</th>\n",
       "      <td>20791</td>\n",
       "      <td>15081992</td>\n",
       "      <td>everton</td>\n",
       "      <td>sheffield wednesday</td>\n",
       "      <td>goodison park</td>\n",
       "      <td>kelvin morton</td>\n",
       "      <td>['2448(90)', '32094(90)', '4172(90)', '188(90)...</td>\n",
       "      <td>['25058(90)', '25496(90)', '15912(90)', '34286...</td>\n",
       "      <td>['400']</td>\n",
       "      <td>['34286']</td>\n",
       "    </tr>\n",
       "  </tbody>\n",
       "</table>\n",
       "</div>"
      ],
      "text/plain": [
       "   11v11 ID      Date       Home Team            Away Team          Stadium  \\\n",
       "0     20787  15081992         arsenal         norwich city         highbury   \n",
       "1     20788  15081992         chelsea      oldham athletic  stamford bridge   \n",
       "2     20789  15081992   coventry city        middlesbrough   highfield road   \n",
       "3     20790  15081992  crystal palace     blackburn rovers    selhurst park   \n",
       "4     20791  15081992         everton  sheffield wednesday    goodison park   \n",
       "\n",
       "         Referee                                       Home Players  \\\n",
       "0      alan gunn  ['5(90)', '14(90)', '31(90)', '484(90)', '20(9...   \n",
       "1    jim borrett  ['4048(90)', '35852(90)', '24035(90)', '4755(9...   \n",
       "2    howard king  ['151(90)', '6177(90)', '25821(90)', '25248(90...   \n",
       "3  roger milford  ['234(90)', '34632(90)', '36445(90)', '995(81)...   \n",
       "4  kelvin morton  ['2448(90)', '32094(90)', '4172(90)', '188(90)...   \n",
       "\n",
       "                                        Away Players             Home Scorers  \\\n",
       "0  ['38002(90)', '24730(90)', '26985(90)', '4690(...           ['196', '484']   \n",
       "1  ['1388(90)', '34467(90)', '76(90)', '1550(90)'...                ['37518']   \n",
       "2  ['25259(90)', '3723(90)', '34052(90)', '3471(9...         ['1062', '5386']   \n",
       "3  ['5223(90)', '27669(90)', '3482(90)', '302(90)...  ['43', '2074', '37263']   \n",
       "4  ['25058(90)', '25496(90)', '15912(90)', '34286...                  ['400']   \n",
       "\n",
       "                       Away Scorers  \n",
       "0  ['511', '2266', '2266', '38680']  \n",
       "1                          ['1427']  \n",
       "2                         ['11296']  \n",
       "3             ['362', '362', '448']  \n",
       "4                         ['34286']  "
      ]
     },
     "execution_count": 11,
     "metadata": {},
     "output_type": "execute_result"
    }
   ],
   "source": [
    "df.head()"
   ]
  },
  {
   "cell_type": "code",
   "execution_count": 12,
   "metadata": {},
   "outputs": [],
   "source": [
    "df.to_csv(\"all_match_data_fix4.csv\",index=False)"
   ]
  },
  {
   "cell_type": "code",
   "execution_count": null,
   "metadata": {},
   "outputs": [],
   "source": []
  }
 ],
 "metadata": {
  "kernelspec": {
   "display_name": "Python 3",
   "language": "python",
   "name": "python3"
  },
  "language_info": {
   "codemirror_mode": {
    "name": "ipython",
    "version": 3
   },
   "file_extension": ".py",
   "mimetype": "text/x-python",
   "name": "python",
   "nbconvert_exporter": "python",
   "pygments_lexer": "ipython3",
   "version": "3.6.5"
  }
 },
 "nbformat": 4,
 "nbformat_minor": 2
}
