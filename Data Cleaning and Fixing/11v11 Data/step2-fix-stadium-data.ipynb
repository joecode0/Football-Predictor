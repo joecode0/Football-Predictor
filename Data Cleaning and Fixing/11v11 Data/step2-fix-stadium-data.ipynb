{
 "cells": [
  {
   "cell_type": "code",
   "execution_count": 15,
   "metadata": {},
   "outputs": [],
   "source": [
    "import pandas as pd\n",
    "import numpy as np"
   ]
  },
  {
   "cell_type": "code",
   "execution_count": 16,
   "metadata": {},
   "outputs": [],
   "source": [
    "df = pd.read_csv(\"all_match_data_fix1.csv\")"
   ]
  },
  {
   "cell_type": "code",
   "execution_count": 17,
   "metadata": {},
   "outputs": [],
   "source": [
    "stadiums = df['Stadium'].tolist()\n",
    "stadiums = sorted(set(stadiums))"
   ]
  },
  {
   "cell_type": "code",
   "execution_count": 18,
   "metadata": {},
   "outputs": [
    {
     "data": {
      "text/plain": [
       "303"
      ]
     },
     "execution_count": 18,
     "metadata": {},
     "output_type": "execute_result"
    }
   ],
   "source": [
    "def isNumber(s):\n",
    "    for val in [str(i) for i in range(10)]:\n",
    "        if val in s:\n",
    "            return True\n",
    "    return False\n",
    "\n",
    "nums = 0\n",
    "for s in stadiums:\n",
    "    if isNumber(s):\n",
    "        nums += 1\n",
    "nums"
   ]
  },
  {
   "cell_type": "code",
   "execution_count": 19,
   "metadata": {},
   "outputs": [],
   "source": [
    "def replace_stadiums(row):\n",
    "    stadium = row['Stadium']\n",
    "    if stadium == \"St James' Park Stadium\" or stadium == \"Sports Direct Arena\":\n",
    "        return \"St James' Park\"\n",
    "    elif stadium == \"Loftus Road\":\n",
    "        return \"Craven Cottage\"\n",
    "    elif stadium == \"JJB Stadium\":\n",
    "        return \"DW Stadium\"\n",
    "    elif stadium == \"City of Manchester Stadium\":\n",
    "        return \"Etihad Stadium\"\n",
    "    elif stadium == \"Friends Provident St Mary's Stadium\":\n",
    "        return \"St Mary's Stadium\"\n",
    "    elif stadium == \"Walkers Stadium\":\n",
    "        return \"King Power Stadium\"\n",
    "    elif stadium == \"KCOM Stadium\":\n",
    "        return \"KC Stadium\"\n",
    "    else:\n",
    "        return stadium"
   ]
  },
  {
   "cell_type": "code",
   "execution_count": 20,
   "metadata": {},
   "outputs": [],
   "source": [
    "df['Stadium'] = df.apply(replace_stadiums,axis=1)"
   ]
  },
  {
   "cell_type": "code",
   "execution_count": 21,
   "metadata": {},
   "outputs": [],
   "source": [
    "def select_home_team(match):\n",
    "    homeTeam = match[0]\n",
    "    if match[1] == 'v':\n",
    "        return homeTeam\n",
    "    elif match[2] == 'v':\n",
    "        return homeTeam + \" \" + match[1]\n",
    "    elif match[3] == 'v':\n",
    "        return homeTeam + \" \" + match[1] + \" \" + match[2]\n",
    "    elif match[4] == 'v':\n",
    "        return homeTeam + \" \" + match[1] + \" \" + match[2] + \" \" + match[3]\n",
    "    else:\n",
    "        print(\"Error? : {}\".format(match))"
   ]
  },
  {
   "cell_type": "code",
   "execution_count": 22,
   "metadata": {},
   "outputs": [
    {
     "name": "stdout",
     "output_type": "stream",
     "text": [
      "['26', 'august', '1995']: Changed from Ayresome Park, Middlesbrough -> Riverside Stadium\n",
      "['30', 'august', '1997']: Changed from Baseball Ground -> Pride Park\n",
      "['01', 'september', '1997']: Changed from Burnden Park, Bolton -> Reebok Stadium\n",
      "['10', 'august', '1999']: Changed from Roker Park -> Stadium of Light\n",
      "['25', 'august', '2001']: Changed from The Dell -> St Mary's Stadium\n",
      "['16', 'august', '2003']: Changed from Filbert Street -> King Power Stadium\n",
      "['23', 'august', '2003']: Changed from Maine Road -> Etihad Stadium\n",
      "['19', 'august', '2006']: Changed from Highbury -> Emirates Stadium\n",
      "['21', 'august', '2016']: Changed from Upton Park -> London Stadium\n",
      "['20', 'august', '2017']: Changed from White Hart Lane -> Wembley Stadium\n"
     ]
    }
   ],
   "source": [
    "team_stadium_dict = dict()\n",
    "data_links = df['Data Link'].tolist()\n",
    "homeTeams = [select_home_team(x.split(\"/\")[2].split(\"-\")) for x in data_links]\n",
    "stadiums = df['Stadium'].tolist()\n",
    "\n",
    "for i in range(len(df)):\n",
    "    team = homeTeams[i]\n",
    "    s = stadiums[i]\n",
    "    prev_s = team_stadium_dict.get(team)\n",
    "    if isNumber(s):\n",
    "        stadiums[i] = prev_s\n",
    "    else:\n",
    "        date = data_links[i].split(\"/\")[2].split(\"-\")[-4:-1]\n",
    "        if s != prev_s and prev_s != None:\n",
    "            print(\"{}: Changed from {} -> {}\".format(date,prev_s,s))\n",
    "        team_stadium_dict[team] = s"
   ]
  },
  {
   "cell_type": "code",
   "execution_count": 23,
   "metadata": {},
   "outputs": [],
   "source": [
    "# Now manually check each stadium change, and ensure all games of the new stadium year are correctly the new stadium\n",
    "# Firstly need to write out above changes\n",
    "df['Stadium'] = stadiums\n",
    "df.to_csv(\"all_match_data_temp_fix_stadiums.csv\",index=False)"
   ]
  },
  {
   "cell_type": "code",
   "execution_count": 24,
   "metadata": {},
   "outputs": [
    {
     "data": {
      "text/plain": [
       "0"
      ]
     },
     "execution_count": 24,
     "metadata": {},
     "output_type": "execute_result"
    }
   ],
   "source": [
    "# All good\n",
    "df = pd.read_csv(\"all_match_data_temp_fix_stadiums.csv\")\n",
    "stadiums = df['Stadium'].tolist()\n",
    "nums = 0\n",
    "for s in stadiums:\n",
    "    if isNumber(s):\n",
    "        nums += 1\n",
    "nums"
   ]
  },
  {
   "cell_type": "code",
   "execution_count": 25,
   "metadata": {},
   "outputs": [
    {
     "data": {
      "text/plain": [
       "{'AMEX Stadium',\n",
       " 'Anfield',\n",
       " 'Ayresome Park, Middlesbrough',\n",
       " 'Baseball Ground',\n",
       " 'Bloomfield Road',\n",
       " 'Boundary Park',\n",
       " 'Bradford and Bingley Stadium',\n",
       " 'Bramall Lane',\n",
       " 'Britannia Stadium',\n",
       " 'Burnden Park, Bolton',\n",
       " 'Cardiff City Stadium',\n",
       " 'Carrow Road',\n",
       " 'City Ground',\n",
       " 'County Ground',\n",
       " 'Craven Cottage',\n",
       " 'DW Stadium',\n",
       " 'Elland Road',\n",
       " 'Emirates Stadium',\n",
       " 'Etihad Stadium',\n",
       " 'Ewood Park',\n",
       " 'Filbert Street',\n",
       " 'Fratton Park',\n",
       " 'Goodison Park',\n",
       " 'Highbury',\n",
       " 'Highfield Road',\n",
       " 'Hillsborough',\n",
       " \"John Smith's Stadium\",\n",
       " 'KC Stadium',\n",
       " 'King Power Stadium',\n",
       " 'Liberty Stadium',\n",
       " 'London Stadium',\n",
       " 'Madejski Stadium',\n",
       " 'Maine Road',\n",
       " 'Molineux',\n",
       " 'Oakwell',\n",
       " 'Old Trafford',\n",
       " 'Portman Road',\n",
       " 'Pride Park',\n",
       " 'Reebok Stadium',\n",
       " 'Riverside Stadium',\n",
       " 'Roker Park',\n",
       " 'Selhurst Park',\n",
       " \"St Andrew's\",\n",
       " \"St James' Park\",\n",
       " \"St Mary's Stadium\",\n",
       " 'Stadium of Light',\n",
       " 'Stamford Bridge',\n",
       " 'The Dell',\n",
       " 'The Hawthorns',\n",
       " 'The Valley',\n",
       " 'Turf Moor',\n",
       " 'Upton Park',\n",
       " 'Vicarage Road',\n",
       " 'Villa Park',\n",
       " 'Vitality Stadium',\n",
       " 'Wembley Stadium',\n",
       " 'White Hart Lane'}"
      ]
     },
     "execution_count": 25,
     "metadata": {},
     "output_type": "execute_result"
    }
   ],
   "source": [
    "set(stadiums)"
   ]
  },
  {
   "cell_type": "code",
   "execution_count": 28,
   "metadata": {},
   "outputs": [],
   "source": [
    "def shorten_stadium_names(row):\n",
    "    s = row['Stadium']\n",
    "    if s == \"Burnden Park, Bolton\":\n",
    "        return \"Burnden Park\"\n",
    "    elif s == \"Ayresome Park, Middlesbrough\":\n",
    "        return \"Ayresome Park\"\n",
    "    elif s == \"Bradford and Bingley Stadium\":\n",
    "        return \"Valley Parade\"\n",
    "    else:\n",
    "        return s"
   ]
  },
  {
   "cell_type": "code",
   "execution_count": 29,
   "metadata": {},
   "outputs": [],
   "source": [
    "df['Stadium'] = df.apply(shorten_stadium_names,axis=1)\n",
    "df.to_csv(\"all_match_data_fix2.csv\",index=False)"
   ]
  },
  {
   "cell_type": "code",
   "execution_count": null,
   "metadata": {},
   "outputs": [],
   "source": []
  }
 ],
 "metadata": {
  "kernelspec": {
   "display_name": "Python 3",
   "language": "python",
   "name": "python3"
  },
  "language_info": {
   "codemirror_mode": {
    "name": "ipython",
    "version": 3
   },
   "file_extension": ".py",
   "mimetype": "text/x-python",
   "name": "python",
   "nbconvert_exporter": "python",
   "pygments_lexer": "ipython3",
   "version": "3.6.5"
  }
 },
 "nbformat": 4,
 "nbformat_minor": 2
}
