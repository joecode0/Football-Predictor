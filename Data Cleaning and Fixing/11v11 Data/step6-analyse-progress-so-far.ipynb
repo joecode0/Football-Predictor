{
 "cells": [
  {
   "cell_type": "code",
   "execution_count": 1,
   "metadata": {},
   "outputs": [],
   "source": [
    "import pandas as pd\n",
    "df = pd.read_csv(\"5-data_all_match_data.csv\")"
   ]
  },
  {
   "cell_type": "code",
   "execution_count": 2,
   "metadata": {},
   "outputs": [
    {
     "data": {
      "text/plain": [
       "{'amex stadium',\n",
       " 'anfield',\n",
       " 'ayresome park',\n",
       " 'baseball ground',\n",
       " 'bloomfield road',\n",
       " 'boundary park',\n",
       " 'bramall lane',\n",
       " 'britannia stadium',\n",
       " 'burnden park',\n",
       " 'cardiff city stadium',\n",
       " 'carrow road',\n",
       " 'city ground',\n",
       " 'county ground',\n",
       " 'craven cottage',\n",
       " 'dw stadium',\n",
       " 'elland road',\n",
       " 'emirates stadium',\n",
       " 'etihad stadium',\n",
       " 'ewood park',\n",
       " 'filbert street',\n",
       " 'fratton park',\n",
       " 'goodison park',\n",
       " 'highbury',\n",
       " 'highfield road',\n",
       " 'hillsborough',\n",
       " \"john smith's stadium\",\n",
       " 'kc stadium',\n",
       " 'king power stadium',\n",
       " 'liberty stadium',\n",
       " 'london stadium',\n",
       " 'madejski stadium',\n",
       " 'maine road',\n",
       " 'molineux',\n",
       " 'oakwell',\n",
       " 'old trafford',\n",
       " 'portman road',\n",
       " 'pride park',\n",
       " 'reebok stadium',\n",
       " 'riverside stadium',\n",
       " 'roker park',\n",
       " 'selhurst park',\n",
       " \"st andrew's\",\n",
       " \"st james' park\",\n",
       " \"st mary's stadium\",\n",
       " 'stadium of light',\n",
       " 'stamford bridge',\n",
       " 'the dell',\n",
       " 'the hawthorns',\n",
       " 'the valley',\n",
       " 'turf moor',\n",
       " 'upton park',\n",
       " 'valley parade',\n",
       " 'vicarage road',\n",
       " 'villa park',\n",
       " 'vitality stadium',\n",
       " 'wembley stadium',\n",
       " 'white hart lane'}"
      ]
     },
     "execution_count": 2,
     "metadata": {},
     "output_type": "execute_result"
    }
   ],
   "source": [
    "set(df['Stadium'])"
   ]
  },
  {
   "cell_type": "code",
   "execution_count": 3,
   "metadata": {},
   "outputs": [
    {
     "data": {
      "text/plain": [
       "['11v11 ID',\n",
       " 'Date',\n",
       " 'Home Team',\n",
       " 'Away Team',\n",
       " 'Stadium',\n",
       " 'Referee',\n",
       " 'Home Players',\n",
       " 'Away Players',\n",
       " 'Home Scorers',\n",
       " 'Away Scorers']"
      ]
     },
     "execution_count": 3,
     "metadata": {},
     "output_type": "execute_result"
    }
   ],
   "source": [
    "list(df.columns.values)"
   ]
  },
  {
   "cell_type": "code",
   "execution_count": 4,
   "metadata": {},
   "outputs": [
    {
     "data": {
      "text/plain": [
       "{'alan gunn',\n",
       " 'alan wiley',\n",
       " 'alan wilkie',\n",
       " 'alf buksh',\n",
       " 'andre marriner',\n",
       " \"andy d' urso\",\n",
       " 'andy madley',\n",
       " 'anthony taylor',\n",
       " 'barry knight',\n",
       " 'bob hamer',\n",
       " 'bob nixon',\n",
       " 'bobby madley',\n",
       " 'brian hill',\n",
       " 'chris foy',\n",
       " 'chris kavanagh',\n",
       " 'clive wilkes',\n",
       " 'craig pawson',\n",
       " 'david allison',\n",
       " 'david coote',\n",
       " 'david crick',\n",
       " 'david elleray',\n",
       " 'david frampton',\n",
       " 'david pugh',\n",
       " 'dermot gallagher',\n",
       " 'eddie wolstenholme',\n",
       " 'frazer stretton',\n",
       " 'gary willard',\n",
       " 'gerald ashby',\n",
       " 'graham barber',\n",
       " 'graham poll',\n",
       " 'graham scott',\n",
       " 'howard king',\n",
       " 'howard webb',\n",
       " 'i mitchell',\n",
       " 'jeff winter',\n",
       " 'jim borrett',\n",
       " 'joe worrall',\n",
       " 'john e martin',\n",
       " 'john key',\n",
       " 'john lloyd',\n",
       " 'jonathan moss',\n",
       " 'keith burge',\n",
       " 'keith cooper',\n",
       " 'keith hackett',\n",
       " 'keith stroud',\n",
       " 'kelvin morton',\n",
       " 'ken redfern',\n",
       " 'keren barratt',\n",
       " 'kevin friend',\n",
       " 'lee mason',\n",
       " 'lee probert',\n",
       " 'mark clattenburg',\n",
       " 'mark halsey',\n",
       " 'martin atkinson',\n",
       " 'martin bodenham',\n",
       " 'matt messias',\n",
       " 'michael jones',\n",
       " 'michael oliver',\n",
       " 'mike dean',\n",
       " 'mike peck',\n",
       " 'mike reed',\n",
       " 'mike riley',\n",
       " 'neale barry',\n",
       " 'neil swarbrick',\n",
       " 'paul alcock',\n",
       " 'paul danson',\n",
       " 'paul durkin',\n",
       " 'paul taylor',\n",
       " 'paul tierney',\n",
       " 'peter foakes',\n",
       " 'peter jones',\n",
       " 'peter walton',\n",
       " 'phil crossley',\n",
       " 'phil dowd',\n",
       " 'philip don',\n",
       " 'philip wright',\n",
       " 'ray bigger',\n",
       " 'ray lewis',\n",
       " 'richard beeby',\n",
       " 'rob harris',\n",
       " 'rob styles',\n",
       " 'robbie hart',\n",
       " 'rodger gifford',\n",
       " 'roger dilkes',\n",
       " 'roger east',\n",
       " 'roger milford',\n",
       " 'ron groves',\n",
       " 'simon hooper',\n",
       " 'steve bennett',\n",
       " 'steve dunn',\n",
       " 'steve lodge',\n",
       " 'steve tanner',\n",
       " 'stuart attwell',\n",
       " 't lloyd',\n",
       " 'terry holbrook',\n",
       " 'tony ward',\n",
       " 'uriah rennie',\n",
       " 'vic callow'}"
      ]
     },
     "execution_count": 4,
     "metadata": {},
     "output_type": "execute_result"
    }
   ],
   "source": [
    "set(df['Referee'])"
   ]
  },
  {
   "cell_type": "code",
   "execution_count": 6,
   "metadata": {},
   "outputs": [
    {
     "data": {
      "text/plain": [
       "\"['4048(90)', '35852(90)', '24035(90)', '4755(90)', '31866(90)', '38546(90)', '31113(76)', '2473(90)', '2557(90)', '29164(90)', '37518(90)', '2012(14)']\""
      ]
     },
     "execution_count": 6,
     "metadata": {},
     "output_type": "execute_result"
    }
   ],
   "source": [
    "df.iloc[1]['Home Players']"
   ]
  },
  {
   "cell_type": "code",
   "execution_count": 7,
   "metadata": {},
   "outputs": [
    {
     "name": "stdout",
     "output_type": "stream",
     "text": [
      "10126\n"
     ]
    }
   ],
   "source": [
    "print(len(df))"
   ]
  },
  {
   "cell_type": "code",
   "execution_count": 8,
   "metadata": {},
   "outputs": [
    {
     "name": "stdout",
     "output_type": "stream",
     "text": [
      "{'everton': 1000, 'west brom': 456, 'bradford': 76, 'swindon': 42, 'watford': 190, 'cardiff': 38, 'ipswich': 202, 'sunderland': 608, 'blackburn': 696, 'middlesbrough': 574, 'aston villa': 924, 'nottingham forest': 198, 'crystal palace': 350, 'stoke': 380, 'fulham': 494, 'blackpool': 38, 'leeds': 468, 'sheffield utd': 122, 'west ham': 844, 'norwich': 316, 'sheffield wed': 316, 'newcastle': 882, 'reading': 114, 'bournemouth': 114, 'burnley': 152, 'wimbledon': 316, 'man city': 810, 'oldham': 84, 'bolton': 494, 'coventry': 354, 'liverpool': 1000, 'hull': 190, 'wigan': 304, 'brighton': 38, 'portsmouth': 266, 'southampton': 734, 'leicester': 460, 'man utd': 1000, 'arsenal': 1000, 'qpr': 278, 'wolves': 152, 'swansea': 266, 'huddersfield': 38, 'derby': 266, 'spurs': 1000, 'chelsea': 1000, 'charlton': 304, 'birmingham': 266, 'barnsley': 38}\n"
     ]
    }
   ],
   "source": [
    "all_teams = set(df['Home Team'].tolist())\n",
    "all_teams_dict = {}\n",
    "for team in all_teams:\n",
    "    all_teams_dict[team] = 0\n",
    "for i in range(len(df)):\n",
    "    row = df.iloc[i]\n",
    "    hteam = row['Home Team']\n",
    "    ateam = row['Away Team']\n",
    "    all_teams_dict[hteam] += 1\n",
    "    all_teams_dict[ateam] += 1\n",
    "print(all_teams_dict)"
   ]
  },
  {
   "cell_type": "code",
   "execution_count": null,
   "metadata": {},
   "outputs": [],
   "source": []
  }
 ],
 "metadata": {
  "kernelspec": {
   "display_name": "Python 3",
   "language": "python",
   "name": "python3"
  },
  "language_info": {
   "codemirror_mode": {
    "name": "ipython",
    "version": 3
   },
   "file_extension": ".py",
   "mimetype": "text/x-python",
   "name": "python",
   "nbconvert_exporter": "python",
   "pygments_lexer": "ipython3",
   "version": "3.6.7"
  }
 },
 "nbformat": 4,
 "nbformat_minor": 2
}
