{
 "cells": [
  {
   "cell_type": "code",
   "execution_count": 69,
   "metadata": {},
   "outputs": [],
   "source": [
    "import pandas as pd\n",
    "import time\n",
    "import numpy as np"
   ]
  },
  {
   "cell_type": "code",
   "execution_count": 102,
   "metadata": {},
   "outputs": [],
   "source": [
    "df = pd.read_csv(\"all_prem_data_original.csv\")"
   ]
  },
  {
   "cell_type": "code",
   "execution_count": 103,
   "metadata": {},
   "outputs": [
    {
     "name": "stdout",
     "output_type": "stream",
     "text": [
      "10709\n",
      "10652\n"
     ]
    }
   ],
   "source": [
    "non_prem_teams = ['real betis','sutton united', 'torquay united', 'real madrid', 'fc porto', 'crawley town']\n",
    "non_prem_teams += ['sk rapid wien', 'az', 'torino', 'lyon', 'dartford', 'besiktas', 'standard liège', 'fc bayern münchen']\n",
    "non_prem_teams += ['viktoria plzen', 'olympiakos', 'borussia mönchengladbach', 'apollon limassol', 'bsc young boys', 'eintracht frankfurt', 'hereford united', 'oxford united', 'benfica', 'alfreton town', 'mansfield town', 'luton town', 'pandurii targu jiu', 'fc st. gallen']\n",
    "non_prem_teams += ['fc københavn', 'krc genk', 'boreham wood', 'lazio', 'gillingham', 'exeter city']\n",
    "non_prem_teams += ['biggleswade town', 'real sociedad', 'scunthorpe united', 'ajax', 'stourbridge']\n",
    "non_prem_teams += ['vitória guimarães', 'villarreal', 'psv eindhoven','apoel nicosia']\n",
    "non_prem_teams += ['fc thun', 'dover athletic', 'accrington stanley', 'brentford', 'marseille', 'gloucester city', 'fc zürich', 'fc schalke 04', 'corby town']\n",
    "non_prem_teams += ['steaua bucharest', 'hednesford town', 'valencia cf', 'burton albion', 'rsc anderlecht']\n",
    "non_prem_teams += ['tamworth', 'legia warsaw', 'shakhtar donetsk', 'slovan liberec', 'shortwood united', 'sevilla']\n",
    "non_prem_teams += ['paços de ferreira', 'paris saint germain', 'braintree town', 'fk austria wien', 'gateshead']\n",
    "non_prem_teams += ['hnk rijeka','tromsø', 'asteras tripolis', 'atlético de madrid', 'kuban krasnodar', 'paok salonika', 'esbjerg fb', 'port vale']\n",
    "non_prem_teams += ['astra giurgiu','galatasaray', 'celtic', 'juventus','cambridge united','bordeaux', 'fiorentina']\n",
    "non_prem_teams += ['staines town', 'welling united','sport-club freiburg', 'fc halifax town', 'milan']\n",
    "non_prem_teams += ['wrexham', 'southport', 'trabzonspor', 'barnet','maccabi tel aviv']\n",
    "non_prem_teams += ['vfl wolfsburg', 'bury', 'fc red bull salzburg', 'mk dons', 'fc barcelona', 'bayer 04 leverkusen', 'dnipro dnipropetrovsk']\n",
    "non_prem_teams += ['if elfsborg', 'st albans city', 'stevenage', 'grimsby town', 'anzhi makhachkala', 'dynamo kyiv', 'sheriff tiraspol', 'brackley town', 'rochdale', 'fleetwood town', 'hjk helsinki', 'estoril praia', 'dinamo zagreb', 'nk maribor', 'ludogorets razgrad', 'yeovil town', \"bishop's stortford\", 'newport county']\n",
    "non_prem_teams += ['chornomorets odesa','kidderminster harriers','napoli', 'tranmere rovers', 'rotherham united', 'shakhter karagandy', 'maccabi haifa', 'doncaster rovers']\n",
    "non_prem_teams += ['daventry town','dagenham and redbridge', 'internazionale', 'rubin kazan']\n",
    "non_prem_teams += ['sv zulte waregem', 'club brugge', 'salisbury city','zenit st petersburg','fc basel', 'cska moscow', 'slovan bratislava']\n",
    "non_prem_teams += ['borussia dortmund','cheltenham town','chesterfield','colchester united']\n",
    "non_prem_teams += ['crewe alexandra','hartlepool united','leyton orient','lincoln city','macclesfield town']\n",
    "non_prem_teams += ['morecambe','notts county','peterborough united','plymouth argyle','preston north end']\n",
    "non_prem_teams += ['shrewsbury town','southend united','walsall','wycombe wanderers','york city']\n",
    "non_prem_teams += ['bristol city','bristol rovers','carlisle united','millwall']\n",
    "\n",
    "non_prem_teams = set(non_prem_teams)\n",
    "\n",
    "\n",
    "def check_prem_teams(row):\n",
    "    if row['Home Team'] in non_prem_teams:\n",
    "        return False\n",
    "    if row['Away Team'] in non_prem_teams:\n",
    "        return False\n",
    "    return True\n",
    "\n",
    "print(len(df))\n",
    "df['Valid'] = df.apply(check_prem_teams,axis=1)\n",
    "df.query(\"Valid == True\",inplace=True)\n",
    "df.drop('Valid',inplace=True,axis=1)\n",
    "df=df.fillna({'Home Team':\"\",'Away Team':\"\"})\n",
    "print(len(df))"
   ]
  },
  {
   "cell_type": "code",
   "execution_count": 104,
   "metadata": {},
   "outputs": [],
   "source": [
    "def rename_team_name(row,col):\n",
    "    team = row[col]\n",
    "    if team == \"afc bournemouth\":\n",
    "        return \"bournemouth\"\n",
    "    elif team == np.nan:\n",
    "        return \"None\"\n",
    "    elif team == \"afc wimbledon\":\n",
    "        return \"wimbledon\"\n",
    "    elif team == \"birmingham city\":\n",
    "        return \"birmingham\"\n",
    "    elif team == \"blackburn rovers\":\n",
    "        return \"blackburn\"\n",
    "    elif team == \"bolton wanderers\":\n",
    "        return \"bolton\"\n",
    "    elif team == \"bradford city\":\n",
    "        return \"bradford\"\n",
    "    elif team == \"brighton and hove albion\":\n",
    "        return \"brighton\"\n",
    "    elif team == \"brighton & hove albion\":\n",
    "        return \"brighton\"\n",
    "    elif team == \"cardiff city\":\n",
    "        return \"cardiff\"\n",
    "    elif team == \"charlton athletic\":\n",
    "        return \"charlton\"\n",
    "    elif team == \"coventry city\":\n",
    "        return \"coventry\"\n",
    "    elif team == \"derby county\":\n",
    "        return \"derby\"\n",
    "    elif team == \"huddersfield town\":\n",
    "        return \"huddersfield\"\n",
    "    elif team == \"hull city\":\n",
    "        return \"hull\"\n",
    "    elif team == \"ipswich town\":\n",
    "        return \"ipswich\"\n",
    "    elif team == \"leeds united\":\n",
    "        return \"leeds\"\n",
    "    elif team == \"leicester city\":\n",
    "        return \"leicester\"\n",
    "    elif team == \"manchester city\":\n",
    "        return \"man city\"\n",
    "    elif team == \"manchester united\":\n",
    "        return \"man utd\"\n",
    "    elif team == \"newcastle united\":\n",
    "        return \"newcastle\"\n",
    "    elif team == \"norwich city\":\n",
    "        return \"norwich\"\n",
    "    elif team == \"oldham athletic\":\n",
    "        return \"oldham\"\n",
    "    elif team == \"queens park rangers\":\n",
    "        return \"qpr\"\n",
    "    elif team == \"sheffield united\":\n",
    "        return \"sheffield utd\"\n",
    "    elif team == \"sheffield wednesday\":\n",
    "        return \"sheffield wed\"\n",
    "    elif team == \"stoke city\":\n",
    "        return \"stoke\"\n",
    "    elif team == \"swansea city\":\n",
    "        return \"swansea\"\n",
    "    elif team == \"swindon town\":\n",
    "        return \"swindon\"\n",
    "    elif team == \"tottenham hotspur\":\n",
    "        return \"spurs\"\n",
    "    elif team == \"west bromwich albion\":\n",
    "        return \"west brom\"\n",
    "    elif team == \"west ham united\":\n",
    "        return \"west ham\"\n",
    "    elif team == \"wigan athletic\":\n",
    "        return \"wigan\"\n",
    "    elif team == \"wolverhampton wanderers\":\n",
    "        return \"wolves\"\n",
    "    else:\n",
    "        return team\n",
    "\n",
    "df['Home Team'] = df.apply(rename_team_name,args=('Home Team',),axis=1)\n",
    "df['Away Team'] = df.apply(rename_team_name,args=('Away Team',),axis=1)"
   ]
  },
  {
   "cell_type": "code",
   "execution_count": 105,
   "metadata": {},
   "outputs": [
    {
     "name": "stdout",
     "output_type": "stream",
     "text": [
      "arsenal - \n",
      "aston villa - arsenal\n",
      "barnsley - aston villa\n",
      "birmingham - barnsley\n",
      "blackburn - birmingham\n",
      "blackpool - blackburn\n",
      "bolton - blackpool\n",
      "bournemouth - bolton\n",
      "bradford - bournemouth\n",
      "brighton - bradford\n",
      "burnley - brighton\n",
      "cardiff - burnley\n",
      "charlton - cardiff\n",
      "chelsea - charlton\n",
      "coventry - chelsea\n",
      "crystal palace - coventry\n",
      "derby - crystal palace\n",
      "everton - derby\n",
      "fulham - everton\n",
      "huddersfield - fulham\n",
      "hull - huddersfield\n",
      "ipswich - hull\n",
      "leeds - ipswich\n",
      "leicester - leeds\n",
      "liverpool - leicester\n",
      "man city - liverpool\n",
      "man utd - man city\n",
      "middlesbrough - man utd\n",
      "newcastle - middlesbrough\n",
      "norwich - newcastle\n",
      "nottingham forest - norwich\n",
      "oldham - nottingham forest\n",
      "portsmouth - oldham\n",
      "qpr - portsmouth\n",
      "reading - qpr\n",
      "sheffield utd - reading\n",
      "sheffield wed - sheffield utd\n",
      "southampton - sheffield wed\n",
      "spurs - southampton\n",
      "stoke - spurs\n",
      "sunderland - stoke\n",
      "swansea - sunderland\n",
      "swindon - swansea\n",
      "watford - swindon\n",
      "west brom - watford\n",
      "west ham - west brom\n",
      "wigan - west ham\n",
      "wimbledon - wigan\n",
      "wolves - wimbledon\n",
      "   - wolves\n"
     ]
    }
   ],
   "source": [
    "home_teams = df['Home Team'].tolist()\n",
    "away_teams = df['Away Team'].tolist()\n",
    "prem_teams_set = set(home_teams + away_teams)\n",
    "\n",
    "df_11v11 = pd.read_csv(\"all_match_data_fix5.csv\")\n",
    "teams = set(df_11v11['Home Team'].tolist() + df_11v11['Away Team'].tolist())\n",
    "\n",
    "#print(prem_teams_set)\n",
    "prem_teams = sorted(list(prem_teams_set))\n",
    "eleven_teams = sorted(list(teams))\n",
    "\n",
    "\n",
    "for i in range(len(eleven_teams)):\n",
    "    print(\"{} - {}\".format(eleven_teams[i],prem_teams[i]))\n",
    "for i in range(len(prem_teams)-len(eleven_teams)):\n",
    "    print(\"   - {}\".format(prem_teams[len(eleven_teams)+i]))"
   ]
  },
  {
   "cell_type": "code",
   "execution_count": 106,
   "metadata": {},
   "outputs": [],
   "source": [
    "df.to_csv(\"all_prem_data_fix_games1.csv\",index=False)"
   ]
  },
  {
   "cell_type": "code",
   "execution_count": 107,
   "metadata": {},
   "outputs": [
    {
     "data": {
      "text/plain": [
       "10652"
      ]
     },
     "execution_count": 107,
     "metadata": {},
     "output_type": "execute_result"
    }
   ],
   "source": [
    "len(df)"
   ]
  },
  {
   "cell_type": "code",
   "execution_count": 108,
   "metadata": {},
   "outputs": [
    {
     "data": {
      "text/plain": [
       "10126"
      ]
     },
     "execution_count": 108,
     "metadata": {},
     "output_type": "execute_result"
    }
   ],
   "source": [
    "len(df_11v11)"
   ]
  },
  {
   "cell_type": "code",
   "execution_count": null,
   "metadata": {},
   "outputs": [],
   "source": []
  }
 ],
 "metadata": {
  "kernelspec": {
   "display_name": "Python 3",
   "language": "python",
   "name": "python3"
  },
  "language_info": {
   "codemirror_mode": {
    "name": "ipython",
    "version": 3
   },
   "file_extension": ".py",
   "mimetype": "text/x-python",
   "name": "python",
   "nbconvert_exporter": "python",
   "pygments_lexer": "ipython3",
   "version": "3.6.7"
  }
 },
 "nbformat": 4,
 "nbformat_minor": 2
}
